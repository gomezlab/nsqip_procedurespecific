{
 "cells": [
  {
   "cell_type": "code",
   "execution_count": 1,
   "metadata": {},
   "outputs": [
    {
     "name": "stdout",
     "output_type": "stream",
     "text": [
      "WARNING:tensorflow:From /home/kchen/.local/lib/python3.9/site-packages/tensorflow/python/compat/v2_compat.py:101: disable_resource_variables (from tensorflow.python.ops.variable_scope) is deprecated and will be removed in a future version.\n",
      "Instructions for updating:\n",
      "non-resource variables are not supported in the long term\n"
     ]
    }
   ],
   "source": [
    "import numpy as np\n",
    "import pandas as pd\n",
    "from sklearn.metrics import confusion_matrix, roc_auc_score, roc_curve, accuracy_score, auc, precision_recall_curve\n",
    "from sklearn.model_selection import train_test_split\n",
    "import tensorflow as tf\n",
    "import shap\n",
    "tf.compat.v1.disable_v2_behavior()\n"
   ]
  },
  {
   "cell_type": "code",
   "execution_count": 2,
   "metadata": {},
   "outputs": [],
   "source": [
    "pd.options.display.max_rows = 20\n",
    "pd.options.display.max_columns = 200\n",
    "data = pd.read_csv('clean_pan.csv', index_col='CASEID')\n",
    "data = data.drop(['Unnamed: 0'], axis=1)\n"
   ]
  },
  {
   "cell_type": "code",
   "execution_count": 3,
   "metadata": {},
   "outputs": [],
   "source": [
    "cat_names = ['PAN_JAUNDICE', 'PAN_BILIARYSTENT', 'PAN_CHEMO', 'PAN_RADIO', 'PAN_INTRA_ANTIBIOTICS',  'PAN_DUCTSIZE', 'PAN_GLANDTEXT', 'PAN_RECONSTRUCTION',  'PAN_DRAINS', 'PAN_DRAINS_TYPE', 'PAN_DRAINSYS_TYPE', 'PAN_DRAINSYS_SUCTN', 'PAN_RESECTION']\n",
    "\n",
    "cont_names = ['PAN_AMYLASE_POD1']\n",
    "y_names=['PAN_FISTULA']\n",
    "\n",
    "features = cat_names + cont_names + y_names\n",
    "data = data[features]\n",
    "\n",
    "columns = {'PAN_JAUNDICE':'Jaundice', 'PAN_BILIARYSTENT':'Biliary stent', 'PAN_CHEMO':'Chemotherapy', 'PAN_RADIO':'Radiation therapy', 'PAN_INTRA_ANTIBIOTICS':'Antibiotic',  'PAN_DUCTSIZE':'Duct size', 'PAN_GLANDTEXT':'Gland texture', 'PAN_RECONSTRUCTION':'Reconstruction',  'PAN_DRAINS':'Drains', 'PAN_DRAINS_TYPE':'Drain location', 'PAN_DRAINSYS_TYPE':'Drain type', 'PAN_DRAINSYS_SUCTN':'Drain suction', 'PAN_RESECTION':'Vascular resection','PAN_AMYLASE_POD1':'Drain amylase (POD1)'}\n"
   ]
  },
  {
   "cell_type": "markdown",
   "metadata": {},
   "source": [
    "col = {value : key for key, value in columns.items()}\n"
   ]
  },
  {
   "cell_type": "code",
   "execution_count": 4,
   "metadata": {},
   "outputs": [],
   "source": [
    "data.rename(columns=columns, errors='raise', inplace=True)"
   ]
  },
  {
   "cell_type": "code",
   "execution_count": 5,
   "metadata": {},
   "outputs": [],
   "source": [
    "X = data.drop(['PAN_FISTULA'], axis=1)\n",
    "y = data['PAN_FISTULA']"
   ]
  },
  {
   "cell_type": "code",
   "execution_count": 6,
   "metadata": {},
   "outputs": [],
   "source": [
    "\n",
    "X_train, X_valid, y_train, y_valid = train_test_split(X, y, train_size=0.8, test_size=0.2, random_state=0)"
   ]
  },
  {
   "cell_type": "code",
   "execution_count": 7,
   "metadata": {},
   "outputs": [
    {
     "name": "stdout",
     "output_type": "stream",
     "text": [
      "WARNING:tensorflow:From /home/kchen/.local/lib/python3.9/site-packages/keras/layers/normalization/batch_normalization.py:520: _colocate_with (from tensorflow.python.framework.ops) is deprecated and will be removed in a future version.\n",
      "Instructions for updating:\n",
      "Colocations handled automatically by placer.\n",
      "Train on 18586 samples, validate on 4647 samples\n",
      "Epoch 1/200\n",
      "16384/18586 [=========================>....] - ETA: 0s - loss: 0.7778 - Sensitivity: 0.3349 - tn: 9761.0000 - auc: 0.5455 - prc: 0.1853"
     ]
    },
    {
     "name": "stderr",
     "output_type": "stream",
     "text": [
      "`Model.state_updates` will be removed in a future version. This property should not be used in TensorFlow 2.0, as `updates` are applied automatically.\n"
     ]
    },
    {
     "name": "stdout",
     "output_type": "stream",
     "text": [
      "18586/18586 [==============================] - 1s 66us/sample - loss: 0.7621 - Sensitivity: 0.3177 - tn: 11343.0000 - auc: 0.5477 - prc: 0.1866 - val_loss: 0.6056 - val_Sensitivity: 0.1591 - val_tn: 3725.0000 - val_auc: 0.6807 - val_prc: 0.2964\n",
      "Epoch 2/200\n",
      "18586/18586 [==============================] - 0s 10us/sample - loss: 0.6284 - Sensitivity: 0.1436 - tn: 14056.0000 - auc: 0.5798 - prc: 0.2109 - val_loss: 0.5473 - val_Sensitivity: 0.1110 - val_tn: 3803.0000 - val_auc: 0.6889 - val_prc: 0.3042\n",
      "Epoch 3/200\n",
      "18586/18586 [==============================] - 0s 9us/sample - loss: 0.6170 - Sensitivity: 0.1452 - tn: 14225.0000 - auc: 0.5918 - prc: 0.2241 - val_loss: 0.5399 - val_Sensitivity: 0.1003 - val_tn: 3812.0000 - val_auc: 0.6931 - val_prc: 0.3077\n",
      "Epoch 4/200\n",
      "18586/18586 [==============================] - 0s 9us/sample - loss: 0.6017 - Sensitivity: 0.1507 - tn: 14202.0000 - auc: 0.6015 - prc: 0.2305 - val_loss: 0.5344 - val_Sensitivity: 0.0909 - val_tn: 3822.0000 - val_auc: 0.6843 - val_prc: 0.2989\n",
      "Epoch 5/200\n",
      "18586/18586 [==============================] - 0s 9us/sample - loss: 0.5922 - Sensitivity: 0.1371 - tn: 14230.0000 - auc: 0.5960 - prc: 0.2216 - val_loss: 0.5247 - val_Sensitivity: 0.0816 - val_tn: 3834.0000 - val_auc: 0.6830 - val_prc: 0.2970\n",
      "Epoch 6/200\n",
      "18586/18586 [==============================] - 0s 9us/sample - loss: 0.5806 - Sensitivity: 0.1371 - tn: 14232.0000 - auc: 0.5941 - prc: 0.2238 - val_loss: 0.5195 - val_Sensitivity: 0.0695 - val_tn: 3843.0000 - val_auc: 0.6801 - val_prc: 0.2929\n",
      "Epoch 7/200\n",
      "18586/18586 [==============================] - 0s 10us/sample - loss: 0.5723 - Sensitivity: 0.1404 - tn: 14238.0000 - auc: 0.5993 - prc: 0.2254 - val_loss: 0.5112 - val_Sensitivity: 0.0709 - val_tn: 3841.0000 - val_auc: 0.6807 - val_prc: 0.2940\n",
      "Epoch 8/200\n",
      "18586/18586 [==============================] - 0s 10us/sample - loss: 0.5611 - Sensitivity: 0.1218 - tn: 14328.0000 - auc: 0.6061 - prc: 0.2283 - val_loss: 0.5006 - val_Sensitivity: 0.0695 - val_tn: 3847.0000 - val_auc: 0.6815 - val_prc: 0.2928\n",
      "Epoch 9/200\n",
      "18586/18586 [==============================] - 0s 10us/sample - loss: 0.5571 - Sensitivity: 0.1290 - tn: 14400.0000 - auc: 0.6034 - prc: 0.2263 - val_loss: 0.4990 - val_Sensitivity: 0.0695 - val_tn: 3849.0000 - val_auc: 0.6805 - val_prc: 0.2911\n",
      "Epoch 10/200\n",
      "18586/18586 [==============================] - 0s 9us/sample - loss: 0.5412 - Sensitivity: 0.1228 - tn: 14512.0000 - auc: 0.6124 - prc: 0.2352 - val_loss: 0.5011 - val_Sensitivity: 0.0762 - val_tn: 3834.0000 - val_auc: 0.6841 - val_prc: 0.2952\n",
      "Epoch 11/200\n",
      "18586/18586 [==============================] - 0s 9us/sample - loss: 0.5420 - Sensitivity: 0.1257 - tn: 14500.0000 - auc: 0.6100 - prc: 0.2311 - val_loss: 0.4968 - val_Sensitivity: 0.0775 - val_tn: 3836.0000 - val_auc: 0.6838 - val_prc: 0.2935\n",
      "Epoch 12/200\n",
      "18586/18586 [==============================] - 0s 9us/sample - loss: 0.5262 - Sensitivity: 0.1095 - tn: 14585.0000 - auc: 0.6155 - prc: 0.2341 - val_loss: 0.5016 - val_Sensitivity: 0.0909 - val_tn: 3824.0000 - val_auc: 0.6864 - val_prc: 0.2973\n",
      "Epoch 13/200\n",
      "18586/18586 [==============================] - 0s 10us/sample - loss: 0.5219 - Sensitivity: 0.0968 - tn: 14643.0000 - auc: 0.6121 - prc: 0.2270 - val_loss: 0.4963 - val_Sensitivity: 0.0922 - val_tn: 3819.0000 - val_auc: 0.6885 - val_prc: 0.2985\n",
      "Epoch 14/200\n",
      "18586/18586 [==============================] - 0s 11us/sample - loss: 0.5140 - Sensitivity: 0.1040 - tn: 14635.0000 - auc: 0.6196 - prc: 0.2383 - val_loss: 0.4957 - val_Sensitivity: 0.0936 - val_tn: 3822.0000 - val_auc: 0.6881 - val_prc: 0.2980\n",
      "Epoch 15/200\n",
      "18586/18586 [==============================] - 0s 11us/sample - loss: 0.5127 - Sensitivity: 0.0897 - tn: 14743.0000 - auc: 0.6113 - prc: 0.2283 - val_loss: 0.4910 - val_Sensitivity: 0.0936 - val_tn: 3819.0000 - val_auc: 0.6899 - val_prc: 0.2993\n",
      "Epoch 16/200\n",
      "18586/18586 [==============================] - 0s 11us/sample - loss: 0.5003 - Sensitivity: 0.0936 - tn: 14797.0000 - auc: 0.6169 - prc: 0.2352 - val_loss: 0.4918 - val_Sensitivity: 0.1043 - val_tn: 3801.0000 - val_auc: 0.6894 - val_prc: 0.2999\n",
      "Epoch 17/200\n",
      "18586/18586 [==============================] - 0s 11us/sample - loss: 0.4936 - Sensitivity: 0.0910 - tn: 14829.0000 - auc: 0.6243 - prc: 0.2393 - val_loss: 0.4878 - val_Sensitivity: 0.1136 - val_tn: 3787.0000 - val_auc: 0.6911 - val_prc: 0.3009\n",
      "Epoch 18/200\n",
      "18586/18586 [==============================] - 0s 11us/sample - loss: 0.4913 - Sensitivity: 0.0858 - tn: 14806.0000 - auc: 0.6246 - prc: 0.2348 - val_loss: 0.4851 - val_Sensitivity: 0.1163 - val_tn: 3785.0000 - val_auc: 0.6906 - val_prc: 0.3002\n",
      "Epoch 19/200\n",
      "18586/18586 [==============================] - 0s 11us/sample - loss: 0.4816 - Sensitivity: 0.0767 - tn: 14976.0000 - auc: 0.6355 - prc: 0.2447 - val_loss: 0.4763 - val_Sensitivity: 0.1176 - val_tn: 3795.0000 - val_auc: 0.6950 - val_prc: 0.3052\n",
      "Epoch 20/200\n",
      "18586/18586 [==============================] - 0s 11us/sample - loss: 0.4825 - Sensitivity: 0.0754 - tn: 15042.0000 - auc: 0.6288 - prc: 0.2435 - val_loss: 0.4811 - val_Sensitivity: 0.1230 - val_tn: 3780.0000 - val_auc: 0.6904 - val_prc: 0.2999\n",
      "Epoch 21/200\n",
      "18586/18586 [==============================] - 0s 11us/sample - loss: 0.4745 - Sensitivity: 0.0663 - tn: 15006.0000 - auc: 0.6343 - prc: 0.2416 - val_loss: 0.4736 - val_Sensitivity: 0.1190 - val_tn: 3790.0000 - val_auc: 0.6948 - val_prc: 0.3034\n",
      "Epoch 22/200\n",
      "18586/18586 [==============================] - 0s 12us/sample - loss: 0.4682 - Sensitivity: 0.0660 - tn: 15086.0000 - auc: 0.6347 - prc: 0.2468 - val_loss: 0.4789 - val_Sensitivity: 0.1297 - val_tn: 3766.0000 - val_auc: 0.6936 - val_prc: 0.3041\n",
      "Epoch 23/200\n",
      "18586/18586 [==============================] - 0s 12us/sample - loss: 0.4663 - Sensitivity: 0.0705 - tn: 15107.0000 - auc: 0.6372 - prc: 0.2540 - val_loss: 0.4734 - val_Sensitivity: 0.1350 - val_tn: 3764.0000 - val_auc: 0.6934 - val_prc: 0.3025\n",
      "Epoch 24/200\n",
      "18586/18586 [==============================] - 0s 12us/sample - loss: 0.4562 - Sensitivity: 0.0715 - tn: 15201.0000 - auc: 0.6485 - prc: 0.2695 - val_loss: 0.4697 - val_Sensitivity: 0.1230 - val_tn: 3787.0000 - val_auc: 0.6950 - val_prc: 0.3046\n",
      "Epoch 25/200\n",
      "18586/18586 [==============================] - 0s 11us/sample - loss: 0.4618 - Sensitivity: 0.0517 - tn: 15189.0000 - auc: 0.6347 - prc: 0.2471 - val_loss: 0.4752 - val_Sensitivity: 0.1270 - val_tn: 3785.0000 - val_auc: 0.6916 - val_prc: 0.3035\n",
      "Epoch 26/200\n",
      "18586/18586 [==============================] - 0s 12us/sample - loss: 0.4587 - Sensitivity: 0.0565 - tn: 15207.0000 - auc: 0.6384 - prc: 0.2547 - val_loss: 0.4658 - val_Sensitivity: 0.1163 - val_tn: 3797.0000 - val_auc: 0.6944 - val_prc: 0.3063\n",
      "Epoch 27/200\n",
      "18586/18586 [==============================] - 0s 11us/sample - loss: 0.4542 - Sensitivity: 0.0565 - tn: 15230.0000 - auc: 0.6450 - prc: 0.2621 - val_loss: 0.4694 - val_Sensitivity: 0.1190 - val_tn: 3791.0000 - val_auc: 0.6947 - val_prc: 0.3078\n",
      "Epoch 28/200\n",
      "18586/18586 [==============================] - 0s 12us/sample - loss: 0.4479 - Sensitivity: 0.0539 - tn: 15291.0000 - auc: 0.6492 - prc: 0.2661 - val_loss: 0.4720 - val_Sensitivity: 0.1230 - val_tn: 3790.0000 - val_auc: 0.6918 - val_prc: 0.3044\n",
      "Epoch 29/200\n",
      "18586/18586 [==============================] - 0s 11us/sample - loss: 0.4495 - Sensitivity: 0.0432 - tn: 15304.0000 - auc: 0.6447 - prc: 0.2571 - val_loss: 0.4672 - val_Sensitivity: 0.1176 - val_tn: 3796.0000 - val_auc: 0.6925 - val_prc: 0.3051\n",
      "Epoch 30/200\n",
      "18586/18586 [==============================] - 0s 11us/sample - loss: 0.4491 - Sensitivity: 0.0409 - tn: 15327.0000 - auc: 0.6464 - prc: 0.2614 - val_loss: 0.4684 - val_Sensitivity: 0.1150 - val_tn: 3799.0000 - val_auc: 0.6939 - val_prc: 0.3052\n",
      "Epoch 31/200\n",
      "18586/18586 [==============================] - 0s 11us/sample - loss: 0.4417 - Sensitivity: 0.0458 - tn: 15330.0000 - auc: 0.6536 - prc: 0.2720 - val_loss: 0.4675 - val_Sensitivity: 0.1110 - val_tn: 3800.0000 - val_auc: 0.6936 - val_prc: 0.3047\n",
      "Epoch 32/200\n",
      "18586/18586 [==============================] - 0s 11us/sample - loss: 0.4404 - Sensitivity: 0.0315 - tn: 15366.0000 - auc: 0.6528 - prc: 0.2617 - val_loss: 0.4705 - val_Sensitivity: 0.1176 - val_tn: 3796.0000 - val_auc: 0.6929 - val_prc: 0.3040\n",
      "Epoch 33/200\n",
      "18586/18586 [==============================] - 0s 10us/sample - loss: 0.4441 - Sensitivity: 0.0416 - tn: 15347.0000 - auc: 0.6428 - prc: 0.2641 - val_loss: 0.4684 - val_Sensitivity: 0.1150 - val_tn: 3803.0000 - val_auc: 0.6944 - val_prc: 0.3060\n",
      "Epoch 34/200\n",
      "18586/18586 [==============================] - 0s 10us/sample - loss: 0.4355 - Sensitivity: 0.0419 - tn: 15372.0000 - auc: 0.6589 - prc: 0.2780 - val_loss: 0.4650 - val_Sensitivity: 0.1123 - val_tn: 3806.0000 - val_auc: 0.6954 - val_prc: 0.3071\n",
      "Epoch 35/200\n",
      "18586/18586 [==============================] - 0s 10us/sample - loss: 0.4339 - Sensitivity: 0.0406 - tn: 15391.0000 - auc: 0.6626 - prc: 0.2806 - val_loss: 0.4661 - val_Sensitivity: 0.1123 - val_tn: 3806.0000 - val_auc: 0.6937 - val_prc: 0.3057\n",
      "Epoch 36/200\n",
      "18586/18586 [==============================] - 0s 10us/sample - loss: 0.4362 - Sensitivity: 0.0351 - tn: 15402.0000 - auc: 0.6536 - prc: 0.2704 - val_loss: 0.4677 - val_Sensitivity: 0.1150 - val_tn: 3802.0000 - val_auc: 0.6927 - val_prc: 0.3044\n",
      "Epoch 37/200\n",
      "18586/18586 [==============================] - 0s 10us/sample - loss: 0.4340 - Sensitivity: 0.0374 - tn: 15393.0000 - auc: 0.6640 - prc: 0.2824 - val_loss: 0.4647 - val_Sensitivity: 0.1096 - val_tn: 3805.0000 - val_auc: 0.6938 - val_prc: 0.3058\n",
      "Epoch 38/200\n",
      "18586/18586 [==============================] - 0s 10us/sample - loss: 0.4324 - Sensitivity: 0.0341 - tn: 15415.0000 - auc: 0.6650 - prc: 0.2794 - val_loss: 0.4651 - val_Sensitivity: 0.1110 - val_tn: 3807.0000 - val_auc: 0.6947 - val_prc: 0.3060\n",
      "Epoch 39/200\n",
      "18586/18586 [==============================] - 0s 11us/sample - loss: 0.4311 - Sensitivity: 0.0338 - tn: 15420.0000 - auc: 0.6692 - prc: 0.2877 - val_loss: 0.4655 - val_Sensitivity: 0.1096 - val_tn: 3810.0000 - val_auc: 0.6960 - val_prc: 0.3073\n",
      "Epoch 40/200\n",
      "18586/18586 [==============================] - 0s 10us/sample - loss: 0.4297 - Sensitivity: 0.0309 - tn: 15430.0000 - auc: 0.6643 - prc: 0.2823 - val_loss: 0.4679 - val_Sensitivity: 0.1056 - val_tn: 3812.0000 - val_auc: 0.6936 - val_prc: 0.3058\n",
      "Epoch 41/200\n",
      "18586/18586 [==============================] - 0s 10us/sample - loss: 0.4285 - Sensitivity: 0.0283 - tn: 15441.0000 - auc: 0.6686 - prc: 0.2859 - val_loss: 0.4676 - val_Sensitivity: 0.1029 - val_tn: 3817.0000 - val_auc: 0.6930 - val_prc: 0.3054\n",
      "Epoch 42/200\n",
      "18586/18586 [==============================] - 0s 11us/sample - loss: 0.4272 - Sensitivity: 0.0305 - tn: 15449.0000 - auc: 0.6673 - prc: 0.2885 - val_loss: 0.4693 - val_Sensitivity: 0.1070 - val_tn: 3815.0000 - val_auc: 0.6921 - val_prc: 0.3041\n",
      "Epoch 43/200\n",
      "18586/18586 [==============================] - 0s 11us/sample - loss: 0.4277 - Sensitivity: 0.0318 - tn: 15438.0000 - auc: 0.6666 - prc: 0.2872 - val_loss: 0.4686 - val_Sensitivity: 0.1056 - val_tn: 3813.0000 - val_auc: 0.6910 - val_prc: 0.3035\n",
      "Epoch 44/200\n",
      "18586/18586 [==============================] - 0s 10us/sample - loss: 0.4267 - Sensitivity: 0.0253 - tn: 15448.0000 - auc: 0.6688 - prc: 0.2852 - val_loss: 0.4658 - val_Sensitivity: 0.1029 - val_tn: 3817.0000 - val_auc: 0.6920 - val_prc: 0.3062\n",
      "Epoch 45/200\n",
      "18586/18586 [==============================] - 0s 11us/sample - loss: 0.4249 - Sensitivity: 0.0322 - tn: 15436.0000 - auc: 0.6723 - prc: 0.2941 - val_loss: 0.4648 - val_Sensitivity: 0.1003 - val_tn: 3817.0000 - val_auc: 0.6908 - val_prc: 0.3047\n",
      "Epoch 46/200\n",
      "18586/18586 [==============================] - 0s 10us/sample - loss: 0.4249 - Sensitivity: 0.0296 - tn: 15440.0000 - auc: 0.6759 - prc: 0.2978 - val_loss: 0.4639 - val_Sensitivity: 0.1003 - val_tn: 3816.0000 - val_auc: 0.6913 - val_prc: 0.3047\n",
      "Epoch 47/200\n",
      "18586/18586 [==============================] - 0s 10us/sample - loss: 0.4242 - Sensitivity: 0.0266 - tn: 15444.0000 - auc: 0.6757 - prc: 0.2950 - val_loss: 0.4658 - val_Sensitivity: 0.1029 - val_tn: 3817.0000 - val_auc: 0.6909 - val_prc: 0.3042\n",
      "Epoch 48/200\n",
      "18586/18586 [==============================] - 0s 10us/sample - loss: 0.4225 - Sensitivity: 0.0299 - tn: 15436.0000 - auc: 0.6776 - prc: 0.2925 - val_loss: 0.4645 - val_Sensitivity: 0.1016 - val_tn: 3818.0000 - val_auc: 0.6920 - val_prc: 0.3055\n",
      "Epoch 49/200\n",
      "18586/18586 [==============================] - 0s 11us/sample - loss: 0.4238 - Sensitivity: 0.0227 - tn: 15453.0000 - auc: 0.6762 - prc: 0.2947 - val_loss: 0.4618 - val_Sensitivity: 0.1003 - val_tn: 3819.0000 - val_auc: 0.6919 - val_prc: 0.3057\n",
      "Epoch 50/200\n",
      "18586/18586 [==============================] - 0s 10us/sample - loss: 0.4238 - Sensitivity: 0.0286 - tn: 15439.0000 - auc: 0.6729 - prc: 0.2928 - val_loss: 0.4653 - val_Sensitivity: 0.1029 - val_tn: 3818.0000 - val_auc: 0.6904 - val_prc: 0.3051\n",
      "Epoch 51/200\n",
      "18586/18586 [==============================] - 0s 10us/sample - loss: 0.4215 - Sensitivity: 0.0270 - tn: 15443.0000 - auc: 0.6800 - prc: 0.2985 - val_loss: 0.4609 - val_Sensitivity: 0.1003 - val_tn: 3819.0000 - val_auc: 0.6924 - val_prc: 0.3062\n",
      "Epoch 52/200\n",
      "18586/18586 [==============================] - 0s 10us/sample - loss: 0.4219 - Sensitivity: 0.0296 - tn: 15434.0000 - auc: 0.6790 - prc: 0.2967 - val_loss: 0.4610 - val_Sensitivity: 0.1016 - val_tn: 3817.0000 - val_auc: 0.6922 - val_prc: 0.3075\n",
      "Epoch 53/200\n",
      "18586/18586 [==============================] - 0s 10us/sample - loss: 0.4214 - Sensitivity: 0.0296 - tn: 15435.0000 - auc: 0.6790 - prc: 0.2999 - val_loss: 0.4608 - val_Sensitivity: 0.1029 - val_tn: 3817.0000 - val_auc: 0.6918 - val_prc: 0.3061\n",
      "Epoch 54/200\n",
      "18586/18586 [==============================] - 0s 10us/sample - loss: 0.4215 - Sensitivity: 0.0335 - tn: 15444.0000 - auc: 0.6772 - prc: 0.3029 - val_loss: 0.4627 - val_Sensitivity: 0.1029 - val_tn: 3818.0000 - val_auc: 0.6914 - val_prc: 0.3072\n",
      "Epoch 55/200\n",
      "18586/18586 [==============================] - 0s 10us/sample - loss: 0.4205 - Sensitivity: 0.0273 - tn: 15446.0000 - auc: 0.6819 - prc: 0.3048 - val_loss: 0.4578 - val_Sensitivity: 0.0976 - val_tn: 3820.0000 - val_auc: 0.6925 - val_prc: 0.3065\n",
      "Epoch 56/200\n",
      "18586/18586 [==============================] - 0s 9us/sample - loss: 0.4208 - Sensitivity: 0.0263 - tn: 15445.0000 - auc: 0.6811 - prc: 0.3033 - val_loss: 0.4617 - val_Sensitivity: 0.1029 - val_tn: 3818.0000 - val_auc: 0.6909 - val_prc: 0.3068\n",
      "Epoch 57/200\n",
      "18586/18586 [==============================] - 0s 10us/sample - loss: 0.4191 - Sensitivity: 0.0309 - tn: 15442.0000 - auc: 0.6869 - prc: 0.3042 - val_loss: 0.4576 - val_Sensitivity: 0.0976 - val_tn: 3822.0000 - val_auc: 0.6931 - val_prc: 0.3076\n",
      "Epoch 58/200\n",
      "18586/18586 [==============================] - 0s 10us/sample - loss: 0.4195 - Sensitivity: 0.0234 - tn: 15449.0000 - auc: 0.6852 - prc: 0.3008 - val_loss: 0.4586 - val_Sensitivity: 0.1003 - val_tn: 3822.0000 - val_auc: 0.6933 - val_prc: 0.3093\n",
      "Epoch 59/200\n",
      "18586/18586 [==============================] - 0s 10us/sample - loss: 0.4209 - Sensitivity: 0.0344 - tn: 15422.0000 - auc: 0.6803 - prc: 0.3025 - val_loss: 0.4589 - val_Sensitivity: 0.1029 - val_tn: 3819.0000 - val_auc: 0.6924 - val_prc: 0.3077\n",
      "Epoch 60/200\n",
      "18586/18586 [==============================] - 0s 11us/sample - loss: 0.4191 - Sensitivity: 0.0273 - tn: 15450.0000 - auc: 0.6864 - prc: 0.3095 - val_loss: 0.4549 - val_Sensitivity: 0.0949 - val_tn: 3823.0000 - val_auc: 0.6939 - val_prc: 0.3088\n",
      "Epoch 61/200\n",
      "18586/18586 [==============================] - 0s 11us/sample - loss: 0.4201 - Sensitivity: 0.0260 - tn: 15445.0000 - auc: 0.6830 - prc: 0.3021 - val_loss: 0.4589 - val_Sensitivity: 0.0976 - val_tn: 3823.0000 - val_auc: 0.6925 - val_prc: 0.3085\n",
      "Epoch 62/200\n",
      "18586/18586 [==============================] - 0s 11us/sample - loss: 0.4195 - Sensitivity: 0.0309 - tn: 15440.0000 - auc: 0.6848 - prc: 0.3020 - val_loss: 0.4556 - val_Sensitivity: 0.0963 - val_tn: 3823.0000 - val_auc: 0.6929 - val_prc: 0.3080\n",
      "Epoch 63/200\n",
      "18586/18586 [==============================] - 0s 10us/sample - loss: 0.4198 - Sensitivity: 0.0172 - tn: 15457.0000 - auc: 0.6845 - prc: 0.3036 - val_loss: 0.4543 - val_Sensitivity: 0.0963 - val_tn: 3824.0000 - val_auc: 0.6936 - val_prc: 0.3093\n",
      "Epoch 64/200\n",
      "18586/18586 [==============================] - 0s 11us/sample - loss: 0.4158 - Sensitivity: 0.0309 - tn: 15444.0000 - auc: 0.6940 - prc: 0.3109 - val_loss: 0.4546 - val_Sensitivity: 0.0989 - val_tn: 3822.0000 - val_auc: 0.6937 - val_prc: 0.3091\n",
      "Epoch 65/200\n",
      "18586/18586 [==============================] - 0s 11us/sample - loss: 0.4186 - Sensitivity: 0.0240 - tn: 15447.0000 - auc: 0.6846 - prc: 0.3016 - val_loss: 0.4516 - val_Sensitivity: 0.0976 - val_tn: 3823.0000 - val_auc: 0.6944 - val_prc: 0.3095\n",
      "Epoch 66/200\n",
      "18586/18586 [==============================] - 0s 11us/sample - loss: 0.4170 - Sensitivity: 0.0309 - tn: 15451.0000 - auc: 0.6900 - prc: 0.3074 - val_loss: 0.4528 - val_Sensitivity: 0.1003 - val_tn: 3820.0000 - val_auc: 0.6936 - val_prc: 0.3104\n",
      "Epoch 67/200\n",
      "18586/18586 [==============================] - 0s 10us/sample - loss: 0.4156 - Sensitivity: 0.0302 - tn: 15442.0000 - auc: 0.6931 - prc: 0.3132 - val_loss: 0.4535 - val_Sensitivity: 0.1016 - val_tn: 3817.0000 - val_auc: 0.6934 - val_prc: 0.3091\n",
      "Epoch 68/200\n",
      "18586/18586 [==============================] - 0s 11us/sample - loss: 0.4193 - Sensitivity: 0.0335 - tn: 15429.0000 - auc: 0.6851 - prc: 0.3077 - val_loss: 0.4552 - val_Sensitivity: 0.1016 - val_tn: 3817.0000 - val_auc: 0.6920 - val_prc: 0.3078\n",
      "Epoch 69/200\n",
      "18586/18586 [==============================] - 0s 11us/sample - loss: 0.4169 - Sensitivity: 0.0286 - tn: 15442.0000 - auc: 0.6903 - prc: 0.3166 - val_loss: 0.4522 - val_Sensitivity: 0.1016 - val_tn: 3818.0000 - val_auc: 0.6936 - val_prc: 0.3087\n",
      "Epoch 70/200\n",
      "18586/18586 [==============================] - 0s 10us/sample - loss: 0.4174 - Sensitivity: 0.0302 - tn: 15441.0000 - auc: 0.6904 - prc: 0.3137 - val_loss: 0.4521 - val_Sensitivity: 0.0976 - val_tn: 3819.0000 - val_auc: 0.6924 - val_prc: 0.3086\n",
      "Epoch 71/200\n",
      "18586/18586 [==============================] - 0s 10us/sample - loss: 0.4188 - Sensitivity: 0.0325 - tn: 15433.0000 - auc: 0.6863 - prc: 0.3062 - val_loss: 0.4515 - val_Sensitivity: 0.0989 - val_tn: 3818.0000 - val_auc: 0.6931 - val_prc: 0.3096\n",
      "Epoch 72/200\n",
      "18586/18586 [==============================] - 0s 11us/sample - loss: 0.4152 - Sensitivity: 0.0270 - tn: 15446.0000 - auc: 0.6958 - prc: 0.3153 - val_loss: 0.4498 - val_Sensitivity: 0.0976 - val_tn: 3822.0000 - val_auc: 0.6932 - val_prc: 0.3095\n",
      "Epoch 73/200\n",
      "18586/18586 [==============================] - 0s 11us/sample - loss: 0.4166 - Sensitivity: 0.0305 - tn: 15445.0000 - auc: 0.6903 - prc: 0.3116 - val_loss: 0.4516 - val_Sensitivity: 0.0989 - val_tn: 3820.0000 - val_auc: 0.6931 - val_prc: 0.3093\n",
      "Epoch 74/200\n",
      "18586/18586 [==============================] - 0s 10us/sample - loss: 0.4162 - Sensitivity: 0.0296 - tn: 15443.0000 - auc: 0.6941 - prc: 0.3134 - val_loss: 0.4489 - val_Sensitivity: 0.0976 - val_tn: 3820.0000 - val_auc: 0.6952 - val_prc: 0.3111\n",
      "Epoch 75/200\n",
      "18586/18586 [==============================] - 0s 11us/sample - loss: 0.4162 - Sensitivity: 0.0315 - tn: 15443.0000 - auc: 0.6906 - prc: 0.3173 - val_loss: 0.4526 - val_Sensitivity: 0.1056 - val_tn: 3814.0000 - val_auc: 0.6932 - val_prc: 0.3092\n",
      "Epoch 76/200\n",
      "18586/18586 [==============================] - 0s 10us/sample - loss: 0.4159 - Sensitivity: 0.0341 - tn: 15436.0000 - auc: 0.6936 - prc: 0.3150 - val_loss: 0.4505 - val_Sensitivity: 0.1043 - val_tn: 3814.0000 - val_auc: 0.6931 - val_prc: 0.3105\n",
      "Epoch 77/200\n",
      "18586/18586 [==============================] - 0s 10us/sample - loss: 0.4160 - Sensitivity: 0.0374 - tn: 15431.0000 - auc: 0.6914 - prc: 0.3146 - val_loss: 0.4504 - val_Sensitivity: 0.1043 - val_tn: 3816.0000 - val_auc: 0.6930 - val_prc: 0.3097\n",
      "Epoch 78/200\n",
      "18586/18586 [==============================] - 0s 12us/sample - loss: 0.4173 - Sensitivity: 0.0357 - tn: 15434.0000 - auc: 0.6897 - prc: 0.3152 - val_loss: 0.4515 - val_Sensitivity: 0.1043 - val_tn: 3815.0000 - val_auc: 0.6912 - val_prc: 0.3088\n",
      "Epoch 79/200\n",
      "18586/18586 [==============================] - 0s 11us/sample - loss: 0.4176 - Sensitivity: 0.0370 - tn: 15429.0000 - auc: 0.6888 - prc: 0.3131 - val_loss: 0.4512 - val_Sensitivity: 0.1043 - val_tn: 3814.0000 - val_auc: 0.6920 - val_prc: 0.3096\n",
      "Epoch 80/200\n",
      "18586/18586 [==============================] - 0s 9us/sample - loss: 0.4172 - Sensitivity: 0.0305 - tn: 15425.0000 - auc: 0.6893 - prc: 0.3089 - val_loss: 0.4471 - val_Sensitivity: 0.0976 - val_tn: 3819.0000 - val_auc: 0.6936 - val_prc: 0.3101\n",
      "Epoch 81/200\n",
      "18586/18586 [==============================] - 0s 10us/sample - loss: 0.4164 - Sensitivity: 0.0309 - tn: 15435.0000 - auc: 0.6924 - prc: 0.3131 - val_loss: 0.4487 - val_Sensitivity: 0.1029 - val_tn: 3817.0000 - val_auc: 0.6950 - val_prc: 0.3112\n",
      "Epoch 82/200\n",
      "18586/18586 [==============================] - 0s 10us/sample - loss: 0.4171 - Sensitivity: 0.0328 - tn: 15426.0000 - auc: 0.6918 - prc: 0.3127 - val_loss: 0.4464 - val_Sensitivity: 0.1029 - val_tn: 3818.0000 - val_auc: 0.6948 - val_prc: 0.3110\n",
      "Epoch 83/200\n",
      "18586/18586 [==============================] - 0s 10us/sample - loss: 0.4164 - Sensitivity: 0.0338 - tn: 15422.0000 - auc: 0.6924 - prc: 0.3108 - val_loss: 0.4470 - val_Sensitivity: 0.0989 - val_tn: 3819.0000 - val_auc: 0.6942 - val_prc: 0.3109\n",
      "Epoch 84/200\n",
      "18586/18586 [==============================] - 0s 10us/sample - loss: 0.4160 - Sensitivity: 0.0247 - tn: 15451.0000 - auc: 0.6932 - prc: 0.3121 - val_loss: 0.4460 - val_Sensitivity: 0.0936 - val_tn: 3823.0000 - val_auc: 0.6936 - val_prc: 0.3107\n",
      "Epoch 85/200\n",
      "18586/18586 [==============================] - 0s 10us/sample - loss: 0.4164 - Sensitivity: 0.0221 - tn: 15455.0000 - auc: 0.6919 - prc: 0.3134 - val_loss: 0.4463 - val_Sensitivity: 0.0976 - val_tn: 3819.0000 - val_auc: 0.6940 - val_prc: 0.3096\n",
      "Epoch 86/200\n",
      "18586/18586 [==============================] - 0s 11us/sample - loss: 0.4149 - Sensitivity: 0.0322 - tn: 15443.0000 - auc: 0.6956 - prc: 0.3152 - val_loss: 0.4435 - val_Sensitivity: 0.1016 - val_tn: 3816.0000 - val_auc: 0.6932 - val_prc: 0.3117\n",
      "Epoch 87/200\n",
      "18586/18586 [==============================] - 0s 10us/sample - loss: 0.4158 - Sensitivity: 0.0409 - tn: 15428.0000 - auc: 0.6934 - prc: 0.3174 - val_loss: 0.4464 - val_Sensitivity: 0.1003 - val_tn: 3818.0000 - val_auc: 0.6914 - val_prc: 0.3093\n",
      "Epoch 88/200\n",
      "18586/18586 [==============================] - 0s 10us/sample - loss: 0.4157 - Sensitivity: 0.0276 - tn: 15442.0000 - auc: 0.6943 - prc: 0.3136 - val_loss: 0.4457 - val_Sensitivity: 0.0976 - val_tn: 3818.0000 - val_auc: 0.6929 - val_prc: 0.3090\n",
      "Epoch 89/200\n",
      "18586/18586 [==============================] - 0s 10us/sample - loss: 0.4154 - Sensitivity: 0.0325 - tn: 15429.0000 - auc: 0.6940 - prc: 0.3142 - val_loss: 0.4433 - val_Sensitivity: 0.0989 - val_tn: 3816.0000 - val_auc: 0.6920 - val_prc: 0.3110\n",
      "Epoch 90/200\n",
      "18586/18586 [==============================] - 0s 10us/sample - loss: 0.4142 - Sensitivity: 0.0299 - tn: 15439.0000 - auc: 0.6984 - prc: 0.3186 - val_loss: 0.4429 - val_Sensitivity: 0.0976 - val_tn: 3818.0000 - val_auc: 0.6922 - val_prc: 0.3085\n",
      "Epoch 91/200\n",
      "18586/18586 [==============================] - 0s 10us/sample - loss: 0.4148 - Sensitivity: 0.0309 - tn: 15442.0000 - auc: 0.6957 - prc: 0.3124 - val_loss: 0.4430 - val_Sensitivity: 0.1003 - val_tn: 3816.0000 - val_auc: 0.6932 - val_prc: 0.3095\n",
      "Epoch 92/200\n",
      "18586/18586 [==============================] - 0s 10us/sample - loss: 0.4134 - Sensitivity: 0.0322 - tn: 15427.0000 - auc: 0.7009 - prc: 0.3215 - val_loss: 0.4436 - val_Sensitivity: 0.0976 - val_tn: 3818.0000 - val_auc: 0.6922 - val_prc: 0.3095\n",
      "Epoch 93/200\n",
      "18586/18586 [==============================] - 0s 10us/sample - loss: 0.4150 - Sensitivity: 0.0296 - tn: 15448.0000 - auc: 0.6953 - prc: 0.3151 - val_loss: 0.4427 - val_Sensitivity: 0.0989 - val_tn: 3816.0000 - val_auc: 0.6937 - val_prc: 0.3093\n",
      "Epoch 94/200\n",
      "18586/18586 [==============================] - 0s 10us/sample - loss: 0.4146 - Sensitivity: 0.0299 - tn: 15433.0000 - auc: 0.6966 - prc: 0.3163 - val_loss: 0.4423 - val_Sensitivity: 0.1003 - val_tn: 3818.0000 - val_auc: 0.6942 - val_prc: 0.3104\n",
      "Epoch 95/200\n",
      "18586/18586 [==============================] - 0s 10us/sample - loss: 0.4153 - Sensitivity: 0.0403 - tn: 15440.0000 - auc: 0.6935 - prc: 0.3201 - val_loss: 0.4429 - val_Sensitivity: 0.1043 - val_tn: 3812.0000 - val_auc: 0.6940 - val_prc: 0.3102\n",
      "Epoch 96/200\n",
      "18586/18586 [==============================] - 0s 10us/sample - loss: 0.4147 - Sensitivity: 0.0328 - tn: 15426.0000 - auc: 0.6974 - prc: 0.3178 - val_loss: 0.4430 - val_Sensitivity: 0.1029 - val_tn: 3812.0000 - val_auc: 0.6944 - val_prc: 0.3106\n",
      "Epoch 97/200\n",
      "18586/18586 [==============================] - 0s 10us/sample - loss: 0.4155 - Sensitivity: 0.0338 - tn: 15425.0000 - auc: 0.6953 - prc: 0.3174 - val_loss: 0.4419 - val_Sensitivity: 0.0976 - val_tn: 3817.0000 - val_auc: 0.6934 - val_prc: 0.3098\n",
      "Epoch 98/200\n",
      "18586/18586 [==============================] - 0s 10us/sample - loss: 0.4151 - Sensitivity: 0.0247 - tn: 15457.0000 - auc: 0.6948 - prc: 0.3184 - val_loss: 0.4452 - val_Sensitivity: 0.0963 - val_tn: 3818.0000 - val_auc: 0.6923 - val_prc: 0.3094\n",
      "Epoch 99/200\n",
      "18586/18586 [==============================] - 0s 10us/sample - loss: 0.4134 - Sensitivity: 0.0348 - tn: 15438.0000 - auc: 0.7000 - prc: 0.3213 - val_loss: 0.4433 - val_Sensitivity: 0.0976 - val_tn: 3817.0000 - val_auc: 0.6933 - val_prc: 0.3101\n",
      "Epoch 100/200\n",
      "18586/18586 [==============================] - 0s 10us/sample - loss: 0.4152 - Sensitivity: 0.0257 - tn: 15444.0000 - auc: 0.6941 - prc: 0.3122 - val_loss: 0.4436 - val_Sensitivity: 0.1016 - val_tn: 3817.0000 - val_auc: 0.6935 - val_prc: 0.3101\n",
      "Epoch 101/200\n",
      "18586/18586 [==============================] - 0s 10us/sample - loss: 0.4154 - Sensitivity: 0.0416 - tn: 15417.0000 - auc: 0.6947 - prc: 0.3156 - val_loss: 0.4429 - val_Sensitivity: 0.1003 - val_tn: 3818.0000 - val_auc: 0.6942 - val_prc: 0.3108\n",
      "Epoch 102/200\n",
      "18586/18586 [==============================] - 0s 10us/sample - loss: 0.4137 - Sensitivity: 0.0276 - tn: 15445.0000 - auc: 0.6981 - prc: 0.3192 - val_loss: 0.4430 - val_Sensitivity: 0.0976 - val_tn: 3819.0000 - val_auc: 0.6941 - val_prc: 0.3113\n",
      "Epoch 103/200\n",
      "18586/18586 [==============================] - 0s 10us/sample - loss: 0.4132 - Sensitivity: 0.0322 - tn: 15429.0000 - auc: 0.7008 - prc: 0.3185 - val_loss: 0.4430 - val_Sensitivity: 0.1003 - val_tn: 3817.0000 - val_auc: 0.6948 - val_prc: 0.3113\n",
      "Epoch 104/200\n",
      "18586/18586 [==============================] - 0s 10us/sample - loss: 0.4147 - Sensitivity: 0.0387 - tn: 15415.0000 - auc: 0.6969 - prc: 0.3174 - val_loss: 0.4416 - val_Sensitivity: 0.1003 - val_tn: 3816.0000 - val_auc: 0.6945 - val_prc: 0.3109\n",
      "Epoch 105/200\n",
      "18586/18586 [==============================] - 0s 10us/sample - loss: 0.4138 - Sensitivity: 0.0302 - tn: 15429.0000 - auc: 0.6992 - prc: 0.3141 - val_loss: 0.4424 - val_Sensitivity: 0.0976 - val_tn: 3819.0000 - val_auc: 0.6940 - val_prc: 0.3107\n",
      "Epoch 106/200\n",
      "18586/18586 [==============================] - 0s 11us/sample - loss: 0.4146 - Sensitivity: 0.0335 - tn: 15430.0000 - auc: 0.6953 - prc: 0.3186 - val_loss: 0.4430 - val_Sensitivity: 0.1016 - val_tn: 3818.0000 - val_auc: 0.6924 - val_prc: 0.3100\n",
      "Epoch 107/200\n",
      "18586/18586 [==============================] - 0s 10us/sample - loss: 0.4144 - Sensitivity: 0.0305 - tn: 15437.0000 - auc: 0.6975 - prc: 0.3149 - val_loss: 0.4423 - val_Sensitivity: 0.1016 - val_tn: 3818.0000 - val_auc: 0.6942 - val_prc: 0.3105\n",
      "Epoch 108/200\n",
      "18586/18586 [==============================] - 0s 10us/sample - loss: 0.4151 - Sensitivity: 0.0208 - tn: 15460.0000 - auc: 0.6966 - prc: 0.3138 - val_loss: 0.4412 - val_Sensitivity: 0.1016 - val_tn: 3818.0000 - val_auc: 0.6938 - val_prc: 0.3103\n",
      "Epoch 109/200\n",
      "18586/18586 [==============================] - 0s 10us/sample - loss: 0.4135 - Sensitivity: 0.0344 - tn: 15419.0000 - auc: 0.7019 - prc: 0.3195 - val_loss: 0.4421 - val_Sensitivity: 0.1043 - val_tn: 3810.0000 - val_auc: 0.6940 - val_prc: 0.3102\n",
      "Epoch 110/200\n",
      "18586/18586 [==============================] - 0s 11us/sample - loss: 0.4129 - Sensitivity: 0.0315 - tn: 15438.0000 - auc: 0.7020 - prc: 0.3191 - val_loss: 0.4398 - val_Sensitivity: 0.0989 - val_tn: 3818.0000 - val_auc: 0.6954 - val_prc: 0.3114\n",
      "Epoch 111/200\n",
      "18586/18586 [==============================] - 0s 10us/sample - loss: 0.4129 - Sensitivity: 0.0286 - tn: 15450.0000 - auc: 0.7016 - prc: 0.3191 - val_loss: 0.4401 - val_Sensitivity: 0.0989 - val_tn: 3818.0000 - val_auc: 0.6965 - val_prc: 0.3121\n",
      "Epoch 112/200\n",
      "18586/18586 [==============================] - 0s 10us/sample - loss: 0.4143 - Sensitivity: 0.0338 - tn: 15435.0000 - auc: 0.6974 - prc: 0.3181 - val_loss: 0.4403 - val_Sensitivity: 0.0989 - val_tn: 3819.0000 - val_auc: 0.6959 - val_prc: 0.3110\n",
      "Epoch 113/200\n",
      "18586/18586 [==============================] - 0s 10us/sample - loss: 0.4151 - Sensitivity: 0.0240 - tn: 15447.0000 - auc: 0.6961 - prc: 0.3128 - val_loss: 0.4416 - val_Sensitivity: 0.0976 - val_tn: 3821.0000 - val_auc: 0.6945 - val_prc: 0.3106\n",
      "Epoch 114/200\n",
      "18586/18586 [==============================] - 0s 10us/sample - loss: 0.4147 - Sensitivity: 0.0341 - tn: 15438.0000 - auc: 0.6963 - prc: 0.3162 - val_loss: 0.4435 - val_Sensitivity: 0.1003 - val_tn: 3816.0000 - val_auc: 0.6939 - val_prc: 0.3097\n",
      "Epoch 115/200\n",
      "18586/18586 [==============================] - 0s 10us/sample - loss: 0.4138 - Sensitivity: 0.0367 - tn: 15424.0000 - auc: 0.6991 - prc: 0.3193 - val_loss: 0.4403 - val_Sensitivity: 0.0989 - val_tn: 3817.0000 - val_auc: 0.6953 - val_prc: 0.3112\n",
      "Epoch 116/200\n",
      "18586/18586 [==============================] - 0s 11us/sample - loss: 0.4144 - Sensitivity: 0.0244 - tn: 15446.0000 - auc: 0.6987 - prc: 0.3186 - val_loss: 0.4411 - val_Sensitivity: 0.0949 - val_tn: 3824.0000 - val_auc: 0.6942 - val_prc: 0.3102\n",
      "Epoch 117/200\n",
      "18586/18586 [==============================] - 0s 11us/sample - loss: 0.4126 - Sensitivity: 0.0286 - tn: 15441.0000 - auc: 0.7004 - prc: 0.3235 - val_loss: 0.4397 - val_Sensitivity: 0.1016 - val_tn: 3820.0000 - val_auc: 0.6949 - val_prc: 0.3105\n",
      "Epoch 118/200\n",
      "18586/18586 [==============================] - 0s 10us/sample - loss: 0.4120 - Sensitivity: 0.0338 - tn: 15426.0000 - auc: 0.7032 - prc: 0.3227 - val_loss: 0.4391 - val_Sensitivity: 0.1016 - val_tn: 3819.0000 - val_auc: 0.6952 - val_prc: 0.3107\n",
      "Epoch 119/200\n",
      "18586/18586 [==============================] - 0s 11us/sample - loss: 0.4125 - Sensitivity: 0.0344 - tn: 15419.0000 - auc: 0.7022 - prc: 0.3234 - val_loss: 0.4359 - val_Sensitivity: 0.1016 - val_tn: 3819.0000 - val_auc: 0.6950 - val_prc: 0.3104\n",
      "Epoch 120/200\n",
      "18586/18586 [==============================] - 0s 10us/sample - loss: 0.4127 - Sensitivity: 0.0299 - tn: 15439.0000 - auc: 0.7019 - prc: 0.3200 - val_loss: 0.4388 - val_Sensitivity: 0.1043 - val_tn: 3815.0000 - val_auc: 0.6940 - val_prc: 0.3103\n",
      "Epoch 121/200\n",
      "18586/18586 [==============================] - 0s 10us/sample - loss: 0.4149 - Sensitivity: 0.0396 - tn: 15407.0000 - auc: 0.6984 - prc: 0.3159 - val_loss: 0.4385 - val_Sensitivity: 0.1029 - val_tn: 3817.0000 - val_auc: 0.6939 - val_prc: 0.3098\n",
      "Epoch 122/200\n",
      "18586/18586 [==============================] - 0s 10us/sample - loss: 0.4147 - Sensitivity: 0.0309 - tn: 15448.0000 - auc: 0.6976 - prc: 0.3185 - val_loss: 0.4371 - val_Sensitivity: 0.1043 - val_tn: 3815.0000 - val_auc: 0.6953 - val_prc: 0.3115\n",
      "Epoch 123/200\n",
      "18586/18586 [==============================] - 0s 10us/sample - loss: 0.4152 - Sensitivity: 0.0406 - tn: 15420.0000 - auc: 0.6964 - prc: 0.3200 - val_loss: 0.4393 - val_Sensitivity: 0.1043 - val_tn: 3812.0000 - val_auc: 0.6952 - val_prc: 0.3115\n",
      "Epoch 124/200\n",
      "18586/18586 [==============================] - 0s 10us/sample - loss: 0.4134 - Sensitivity: 0.0406 - tn: 15411.0000 - auc: 0.7006 - prc: 0.3199 - val_loss: 0.4377 - val_Sensitivity: 0.1043 - val_tn: 3814.0000 - val_auc: 0.6944 - val_prc: 0.3107\n",
      "Epoch 125/200\n",
      "18586/18586 [==============================] - 0s 11us/sample - loss: 0.4127 - Sensitivity: 0.0296 - tn: 15433.0000 - auc: 0.7017 - prc: 0.3172 - val_loss: 0.4374 - val_Sensitivity: 0.0963 - val_tn: 3819.0000 - val_auc: 0.6955 - val_prc: 0.3115\n",
      "Epoch 126/200\n",
      "18586/18586 [==============================] - 0s 11us/sample - loss: 0.4130 - Sensitivity: 0.0266 - tn: 15442.0000 - auc: 0.7013 - prc: 0.3188 - val_loss: 0.4380 - val_Sensitivity: 0.0936 - val_tn: 3821.0000 - val_auc: 0.6937 - val_prc: 0.3098\n",
      "Epoch 127/200\n",
      "18586/18586 [==============================] - 0s 10us/sample - loss: 0.4140 - Sensitivity: 0.0279 - tn: 15439.0000 - auc: 0.6986 - prc: 0.3143 - val_loss: 0.4372 - val_Sensitivity: 0.0963 - val_tn: 3819.0000 - val_auc: 0.6947 - val_prc: 0.3104\n",
      "Epoch 128/200\n",
      "18586/18586 [==============================] - 0s 10us/sample - loss: 0.4137 - Sensitivity: 0.0335 - tn: 15430.0000 - auc: 0.6994 - prc: 0.3177 - val_loss: 0.4383 - val_Sensitivity: 0.1003 - val_tn: 3816.0000 - val_auc: 0.6944 - val_prc: 0.3105\n",
      "Epoch 129/200\n",
      "18586/18586 [==============================] - 0s 18us/sample - loss: 0.4129 - Sensitivity: 0.0367 - tn: 15415.0000 - auc: 0.7029 - prc: 0.3219 - val_loss: 0.4372 - val_Sensitivity: 0.0976 - val_tn: 3821.0000 - val_auc: 0.6938 - val_prc: 0.3091\n"
     ]
    },
    {
     "data": {
      "text/plain": [
       "<keras.callbacks.History at 0x7fcb78e75f70>"
      ]
     },
     "execution_count": 7,
     "metadata": {},
     "output_type": "execute_result"
    }
   ],
   "source": [
    "input_shape = [X.shape[1]]\n",
    "model4 = tf.keras.models.Sequential()\n",
    "model4.add(tf.keras.layers.Flatten(input_shape=input_shape))\n",
    "model4.add(tf.keras.layers.BatchNormalization())\n",
    "for _ in range(2):\n",
    "    model4.add(tf.keras.layers.Dense(1000))\n",
    "    model4.add(tf.keras.layers.BatchNormalization())\n",
    "    model4.add(tf.keras.layers.Dropout(0.8))\n",
    "    model4.add(tf.keras.layers.Activation(\"relu\"))\n",
    "model4.add(tf.keras.layers.Dense(1, activation=\"sigmoid\"))\n",
    "\n",
    "opt = tf.keras.optimizers.Adam(learning_rate=3e-4)\n",
    "\n",
    "metrics = [tf.keras.metrics.Recall(name='Sensitivity'), tf.keras.metrics.TrueNegatives(name='tn'), tf.keras.metrics.AUC(name='auc'), tf.keras.metrics.AUC(name='prc', curve='PR')]\n",
    "\n",
    "model4.compile(\n",
    "    optimizer=opt,\n",
    "    loss=tf.keras.losses.BinaryCrossentropy(from_logits=False),\n",
    "    metrics=metrics,)\n",
    "\n",
    "early_stopping = tf.keras.callbacks.EarlyStopping(\n",
    "    patience=10,\n",
    "    min_delta=0.00001,\n",
    "    restore_best_weights=True,)\n",
    "model4.fit(X_train, y_train,\n",
    "    validation_data=(X_valid, y_valid),\n",
    "    batch_size=1024,\n",
    "    epochs=200,\n",
    "    callbacks=[early_stopping])\n"
   ]
  },
  {
   "cell_type": "code",
   "execution_count": 8,
   "metadata": {},
   "outputs": [
    {
     "data": {
      "text/plain": [
       "(18586, 14)"
      ]
     },
     "execution_count": 8,
     "metadata": {},
     "output_type": "execute_result"
    }
   ],
   "source": [
    "X_train.shape"
   ]
  },
  {
   "cell_type": "code",
   "execution_count": 9,
   "metadata": {},
   "outputs": [
    {
     "data": {
      "text/plain": [
       "(4647, 14)"
      ]
     },
     "execution_count": 9,
     "metadata": {},
     "output_type": "execute_result"
    }
   ],
   "source": [
    "X_valid.shape"
   ]
  },
  {
   "cell_type": "code",
   "execution_count": 10,
   "metadata": {},
   "outputs": [
    {
     "name": "stderr",
     "output_type": "stream",
     "text": [
      "keras is no longer supported, please use tf.keras instead.\n"
     ]
    },
    {
     "name": "stdout",
     "output_type": "stream",
     "text": [
      "WARNING:tensorflow:From /home/kchen/.local/lib/python3.9/site-packages/shap/explainers/tf_utils.py:28: The name tf.keras.backend.get_session is deprecated. Please use tf.compat.v1.keras.backend.get_session instead.\n",
      "\n"
     ]
    },
    {
     "data": {
      "image/png": "[encoded data removed]",
      "text/plain": [
       "<Figure size 576x511.2 with 1 Axes>"
      ]
     },
     "metadata": {
      "needs_background": "light"
     },
     "output_type": "display_data"
    }
   ],
   "source": [
    "import shap\n",
    "tf.config.list_physical_devices('GPU')\n",
    "explainer = shap.DeepExplainer(model4, X_train.sample(n=4000))\n",
    "shap_values = explainer.shap_values(X_valid.sample(n=4000).values)\n",
    "shap.summary_plot(shap_values, X_valid.sample(n=4000))"
   ]
  },
  {
   "cell_type": "code",
   "execution_count": 11,
   "metadata": {},
   "outputs": [
    {
     "data": {
      "text/html": [
       "<div>\n",
       "<style scoped>\n",
       "    .dataframe tbody tr th:only-of-type {\n",
       "        vertical-align: middle;\n",
       "    }\n",
       "\n",
       "    .dataframe tbody tr th {\n",
       "        vertical-align: top;\n",
       "    }\n",
       "\n",
       "    .dataframe thead th {\n",
       "        text-align: right;\n",
       "    }\n",
       "</style>\n",
       "<table border=\"1\" class=\"dataframe\">\n",
       "  <thead>\n",
       "    <tr style=\"text-align: right;\">\n",
       "      <th></th>\n",
       "      <th>col_name</th>\n",
       "      <th>feature_importance_vals</th>\n",
       "    </tr>\n",
       "  </thead>\n",
       "  <tbody>\n",
       "    <tr>\n",
       "      <th>6</th>\n",
       "      <td>Gland texture</td>\n",
       "      <td>0.061181</td>\n",
       "    </tr>\n",
       "    <tr>\n",
       "      <th>13</th>\n",
       "      <td>Drain amylase (POD1)</td>\n",
       "      <td>0.035899</td>\n",
       "    </tr>\n",
       "    <tr>\n",
       "      <th>9</th>\n",
       "      <td>Drain location</td>\n",
       "      <td>0.023997</td>\n",
       "    </tr>\n",
       "    <tr>\n",
       "      <th>10</th>\n",
       "      <td>Drain type</td>\n",
       "      <td>0.015578</td>\n",
       "    </tr>\n",
       "    <tr>\n",
       "      <th>2</th>\n",
       "      <td>Chemotherapy</td>\n",
       "      <td>0.012203</td>\n",
       "    </tr>\n",
       "    <tr>\n",
       "      <th>4</th>\n",
       "      <td>Antibiotic</td>\n",
       "      <td>0.010177</td>\n",
       "    </tr>\n",
       "    <tr>\n",
       "      <th>7</th>\n",
       "      <td>Reconstruction</td>\n",
       "      <td>0.009652</td>\n",
       "    </tr>\n",
       "    <tr>\n",
       "      <th>5</th>\n",
       "      <td>Duct size</td>\n",
       "      <td>0.007254</td>\n",
       "    </tr>\n",
       "    <tr>\n",
       "      <th>11</th>\n",
       "      <td>Drain suction</td>\n",
       "      <td>0.006629</td>\n",
       "    </tr>\n",
       "    <tr>\n",
       "      <th>1</th>\n",
       "      <td>Biliary stent</td>\n",
       "      <td>0.006484</td>\n",
       "    </tr>\n",
       "  </tbody>\n",
       "</table>\n",
       "</div>"
      ],
      "text/plain": [
       "                col_name  feature_importance_vals\n",
       "6          Gland texture                 0.061181\n",
       "13  Drain amylase (POD1)                 0.035899\n",
       "9         Drain location                 0.023997\n",
       "10            Drain type                 0.015578\n",
       "2           Chemotherapy                 0.012203\n",
       "4             Antibiotic                 0.010177\n",
       "7         Reconstruction                 0.009652\n",
       "5              Duct size                 0.007254\n",
       "11         Drain suction                 0.006629\n",
       "1          Biliary stent                 0.006484"
      ]
     },
     "execution_count": 11,
     "metadata": {},
     "output_type": "execute_result"
    }
   ],
   "source": [
    "shap_values[0].shape\n",
    "vals = np.abs(shap_values[0]).mean(0)\n",
    "feature_names = X_train.columns\n",
    "feature_importance = pd.DataFrame(list(zip(feature_names, vals)),\n",
    "                                  columns=['col_name','feature_importance_vals'])\n",
    "feature_importance.sort_values(by=['feature_importance_vals'],\n",
    "                               ascending=False, inplace=True)\n",
    "feature_importance.head(10)"
   ]
  },
  {
   "cell_type": "code",
   "execution_count": 12,
   "metadata": {},
   "outputs": [],
   "source": [
    "pan_feature_importance = feature_importance[feature_importance['col_name'].str.contains('PAN')]"
   ]
  },
  {
   "cell_type": "markdown",
   "metadata": {},
   "source": [
    "cat_names = ['PAN_JAUNDICE', 'PAN_BILIARYSTENT', 'PAN_CHEMO', 'PAN_RADIO', 'PAN_INTRA_ANTIBIOTICS',  'PAN_DUCTSIZE', 'PAN_GLANDTEXT', 'PAN_RECONSTRUCTION',  'PAN_DRAINS', 'PAN_DRAINS_TYPE', 'PAN_DRAINSYS_TYPE', 'PAN_DRAINSYS_SUCTN', 'PAN_RESECTION', \n",
    "            ]\n",
    "cont_names = ['PAN_AMYLASE_POD1']\n",
    "\n",
    "features = cat_names + cont_names\n"
   ]
  },
  {
   "cell_type": "code",
   "execution_count": 13,
   "metadata": {},
   "outputs": [
    {
     "data": {
      "text/html": [
       "<div>\n",
       "<style scoped>\n",
       "    .dataframe tbody tr th:only-of-type {\n",
       "        vertical-align: middle;\n",
       "    }\n",
       "\n",
       "    .dataframe tbody tr th {\n",
       "        vertical-align: top;\n",
       "    }\n",
       "\n",
       "    .dataframe thead th {\n",
       "        text-align: right;\n",
       "    }\n",
       "</style>\n",
       "<table border=\"1\" class=\"dataframe\">\n",
       "  <thead>\n",
       "    <tr style=\"text-align: right;\">\n",
       "      <th></th>\n",
       "      <th>col_name</th>\n",
       "      <th>feature_importance_vals</th>\n",
       "    </tr>\n",
       "  </thead>\n",
       "  <tbody>\n",
       "  </tbody>\n",
       "</table>\n",
       "</div>"
      ],
      "text/plain": [
       "Empty DataFrame\n",
       "Columns: [col_name, feature_importance_vals]\n",
       "Index: []"
      ]
     },
     "execution_count": 13,
     "metadata": {},
     "output_type": "execute_result"
    }
   ],
   "source": [
    "pan_feature_importance.head(20)"
   ]
  },
  {
   "cell_type": "markdown",
   "metadata": {},
   "source": [
    "names = {value : key for key, value in columns.items()}"
   ]
  },
  {
   "cell_type": "markdown",
   "metadata": {},
   "source": [
    "mapping = {'PAN_JAUNDICE':'Jaundice', 'PAN_BILIARYSTENT':'Biliary stent', 'PAN_CHEMO':'Chemotherapy', 'PAN_RADIO':'Radiation therapy', 'PAN_INTRA_ANTIBIOTICS':'Antibiotic',  'PAN_DUCTSIZE':'Duct size', 'PAN_GLANDTEXT':'Gland texture', 'PAN_RECONSTRUCTION':'Reconstruction',  'PAN_DRAINS':'Drains', 'PAN_DRAINS_TYPE':'Drain location', 'PAN_DRAINSYS_TYPE':'Drain type', 'PAN_DRAINSYS_SUCTN':'Drain suction', 'PAN_RESECTION':'Vascular resection','PAN_AMYLASE_POD1':'Drain amylase (POD1)'}\n"
   ]
  },
  {
   "cell_type": "markdown",
   "metadata": {},
   "source": [
    "f= lambda x: mapping.get(x, x)"
   ]
  },
  {
   "cell_type": "markdown",
   "metadata": {},
   "source": [
    "mapping = {'PAN_JAUNDICE':'Jaundice', 'PAN_BILIARYSTENT':'Biliary stent', 'PAN_CHEMO':'Chemotherapy', 'PAN_RADIO':'Radiation therapy', 'PAN_INTRA_ANTIBIOTICS':'Antibiotic',  'PAN_DUCTSIZE':'Duct size', 'PAN_GLANDTEXT':'Gland texture', 'PAN_RECONSTRUCTION':'Reconstruction',  'PAN_DRAINS':'Drains', 'PAN_DRAINS_TYPE':'Drain location', 'PAN_DRAINSYS_TYPE':'Drain type', 'PAN_DRAINSYS_SUCTN':'Drain suction', 'PAN_RESECTION':'Vascular resection','PAN_AMYLASE_POD1':'Drain amylase (POD1)'}\n",
    "\n",
    "hep_feature_importance = feature_importance[feature_importance['col_name'].str.contains('HEP')]\n",
    "hep_feature_importance.head(20)\n"
   ]
  },
  {
   "cell_type": "code",
   "execution_count": 16,
   "metadata": {},
   "outputs": [],
   "source": [
    "feature_importance.to_excel('shap_pan.xlsx')\n"
   ]
  },
  {
   "cell_type": "code",
   "execution_count": 18,
   "metadata": {},
   "outputs": [],
   "source": [
    "from sklearn.linear_model import LogisticRegression\n",
    "lr = LogisticRegression()\n",
    "lr.fit(X_train, y_train)\n",
    "\n",
    "coef = lr.coef_\n",
    "coef.shape\n",
    "ors = np.exp(coef)\n",
    "ors = ors.squeeze()\n"
   ]
  },
  {
   "cell_type": "code",
   "execution_count": 23,
   "metadata": {},
   "outputs": [
    {
     "data": {
      "text/html": [
       "<div>\n",
       "<style scoped>\n",
       "    .dataframe tbody tr th:only-of-type {\n",
       "        vertical-align: middle;\n",
       "    }\n",
       "\n",
       "    .dataframe tbody tr th {\n",
       "        vertical-align: top;\n",
       "    }\n",
       "\n",
       "    .dataframe thead th {\n",
       "        text-align: right;\n",
       "    }\n",
       "</style>\n",
       "<table border=\"1\" class=\"dataframe\">\n",
       "  <thead>\n",
       "    <tr style=\"text-align: right;\">\n",
       "      <th></th>\n",
       "      <th>col_name</th>\n",
       "      <th>odds ratio</th>\n",
       "      <th>diff</th>\n",
       "    </tr>\n",
       "  </thead>\n",
       "  <tbody>\n",
       "    <tr>\n",
       "      <th>6</th>\n",
       "      <td>Gland texture</td>\n",
       "      <td>1.374893</td>\n",
       "      <td>0.374893</td>\n",
       "    </tr>\n",
       "    <tr>\n",
       "      <th>2</th>\n",
       "      <td>Chemotherapy</td>\n",
       "      <td>0.765040</td>\n",
       "      <td>0.234960</td>\n",
       "    </tr>\n",
       "    <tr>\n",
       "      <th>9</th>\n",
       "      <td>Drain location</td>\n",
       "      <td>0.782095</td>\n",
       "      <td>0.217905</td>\n",
       "    </tr>\n",
       "    <tr>\n",
       "      <th>12</th>\n",
       "      <td>Vascular resection</td>\n",
       "      <td>0.835935</td>\n",
       "      <td>0.164065</td>\n",
       "    </tr>\n",
       "    <tr>\n",
       "      <th>10</th>\n",
       "      <td>Drain type</td>\n",
       "      <td>0.862717</td>\n",
       "      <td>0.137283</td>\n",
       "    </tr>\n",
       "    <tr>\n",
       "      <th>3</th>\n",
       "      <td>Radiation therapy</td>\n",
       "      <td>0.876673</td>\n",
       "      <td>0.123327</td>\n",
       "    </tr>\n",
       "    <tr>\n",
       "      <th>4</th>\n",
       "      <td>Antibiotic</td>\n",
       "      <td>0.884218</td>\n",
       "      <td>0.115782</td>\n",
       "    </tr>\n",
       "    <tr>\n",
       "      <th>5</th>\n",
       "      <td>Duct size</td>\n",
       "      <td>0.913628</td>\n",
       "      <td>0.086372</td>\n",
       "    </tr>\n",
       "    <tr>\n",
       "      <th>0</th>\n",
       "      <td>Jaundice</td>\n",
       "      <td>0.920526</td>\n",
       "      <td>0.079474</td>\n",
       "    </tr>\n",
       "    <tr>\n",
       "      <th>8</th>\n",
       "      <td>Drains</td>\n",
       "      <td>0.954089</td>\n",
       "      <td>0.045911</td>\n",
       "    </tr>\n",
       "  </tbody>\n",
       "</table>\n",
       "</div>"
      ],
      "text/plain": [
       "              col_name  odds ratio      diff\n",
       "6        Gland texture    1.374893  0.374893\n",
       "2         Chemotherapy    0.765040  0.234960\n",
       "9       Drain location    0.782095  0.217905\n",
       "12  Vascular resection    0.835935  0.164065\n",
       "10          Drain type    0.862717  0.137283\n",
       "3    Radiation therapy    0.876673  0.123327\n",
       "4           Antibiotic    0.884218  0.115782\n",
       "5            Duct size    0.913628  0.086372\n",
       "0             Jaundice    0.920526  0.079474\n",
       "8               Drains    0.954089  0.045911"
      ]
     },
     "execution_count": 23,
     "metadata": {},
     "output_type": "execute_result"
    }
   ],
   "source": [
    "or_df = pd.DataFrame(list(zip(feature_names, ors)),columns=['col_name','odds ratio'])\n",
    "or_df['diff'] = abs(1 - or_df['odds ratio'])\n",
    "pan_ors = or_df.sort_values(by='diff', ascending=False)\n",
    "pan_ors.head(10)"
   ]
  },
  {
   "cell_type": "code",
   "execution_count": 25,
   "metadata": {},
   "outputs": [],
   "source": [
    "pan_ors.to_excel('ors_pan.xlsx')"
   ]
  }
 ],
 "metadata": {
  "interpreter": {
   "hash": "916dbcbb3f70747c44a77c7bcd40155683ae19c65e1c03b4aa3499c5328201f1"
  },
  "kernelspec": {
   "display_name": "Python 3.9.5 64-bit",
   "name": "python3"
  },
  "language_info": {
   "codemirror_mode": {
    "name": "ipython",
    "version": 3
   },
   "file_extension": ".py",
   "mimetype": "text/x-python",
   "name": "python",
   "nbconvert_exporter": "python",
   "pygments_lexer": "ipython3",
   "version": "3.9.5"
  },
  "orig_nbformat": 4
 },
 "nbformat": 4,
 "nbformat_minor": 2
}
