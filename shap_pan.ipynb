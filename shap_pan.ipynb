{
 "cells": [
  {
   "cell_type": "code",
   "execution_count": 1,
   "metadata": {},
   "outputs": [
    {
     "name": "stdout",
     "output_type": "stream",
     "text": [
      "WARNING:tensorflow:From /home/kchen/.local/lib/python3.9/site-packages/tensorflow/python/compat/v2_compat.py:101: disable_resource_variables (from tensorflow.python.ops.variable_scope) is deprecated and will be removed in a future version.\n",
      "Instructions for updating:\n",
      "non-resource variables are not supported in the long term\n"
     ]
    }
   ],
   "source": [
    "import numpy as np\n",
    "import pandas as pd\n",
    "from sklearn.metrics import confusion_matrix, roc_auc_score, roc_curve, accuracy_score, auc, precision_recall_curve\n",
    "from sklearn.model_selection import train_test_split\n",
    "import tensorflow as tf\n",
    "import shap\n",
    "tf.compat.v1.disable_v2_behavior()\n"
   ]
  },
  {
   "cell_type": "code",
   "execution_count": 4,
   "metadata": {},
   "outputs": [],
   "source": [
    "pd.options.display.max_rows = 20\n",
    "pd.options.display.max_columns = 200\n",
    "data = pd.read_csv('clean_pan.csv', index_col='CASEID')\n",
    "data = data.drop(['Unnamed: 0'], axis=1)\n"
   ]
  },
  {
   "cell_type": "code",
   "execution_count": 5,
   "metadata": {},
   "outputs": [],
   "source": [
    "cat_names = ['PAN_JAUNDICE', 'PAN_BILIARYSTENT', 'PAN_CHEMO', 'PAN_RADIO', 'PAN_INTRA_ANTIBIOTICS',  'PAN_DUCTSIZE', 'PAN_GLANDTEXT', 'PAN_RECONSTRUCTION',  'PAN_DRAINS', 'PAN_DRAINS_TYPE', 'PAN_DRAINSYS_TYPE', 'PAN_DRAINSYS_SUCTN', 'PAN_RESECTION', \n",
    "            ]\n",
    "cont_names = ['PAN_AMYLASE_POD1']\n",
    "y_names=['PAN_FISTULA']\n",
    "\n",
    "features = cat_names + cont_names + y_names\n",
    "data = data[features]\n",
    "\n",
    "columns = {'PAN_JAUNDICE':'Jaundice', 'PAN_BILIARYSTENT':'Biliary stent', 'PAN_CHEMO':'Chemotherapy', 'PAN_RADIO':'Radiation therapy', 'PAN_INTRA_ANTIBIOTICS':'Antibiotic',  'PAN_DUCTSIZE':'Duct size', 'PAN_GLANDTEXT':'Gland texture', 'PAN_RECONSTRUCTION':'Reconstruction',  'PAN_DRAINS':'Drains', 'PAN_DRAINS_TYPE':'Drain location', 'PAN_DRAINSYS_TYPE':'Drain type', 'PAN_DRAINSYS_SUCTN':'Drain suction', 'PAN_RESECTION':'Vascular resection','PAN_AMYLASE_POD1':'Drain amylase (POD1)'}\n"
   ]
  },
  {
   "cell_type": "markdown",
   "metadata": {},
   "source": [
    "col = {value : key for key, value in columns.items()}\n"
   ]
  },
  {
   "cell_type": "code",
   "execution_count": 7,
   "metadata": {},
   "outputs": [],
   "source": [
    "data.rename(columns=columns, errors='raise', inplace=True)"
   ]
  },
  {
   "cell_type": "code",
   "execution_count": 9,
   "metadata": {},
   "outputs": [],
   "source": [
    "X = data.drop(['PAN_FISTULA'], axis=1)\n",
    "y = data['PAN_FISTULA']"
   ]
  },
  {
   "cell_type": "code",
   "execution_count": 10,
   "metadata": {},
   "outputs": [],
   "source": [
    "\n",
    "X_train, X_valid, y_train, y_valid = train_test_split(X, y, train_size=0.8, test_size=0.2, random_state=0)\n"
   ]
  },
  {
   "cell_type": "code",
   "execution_count": 13,
   "metadata": {},
   "outputs": [
    {
     "name": "stdout",
     "output_type": "stream",
     "text": [
      "Train on 18586 samples, validate on 4647 samples\n",
      "Epoch 1/200\n",
      "18586/18586 [==============================] - 1s 39us/sample - loss: 0.7432 - Sensitivity: 0.2586 - tn: 11896.0000 - auc: 0.5340 - prc: 0.1800 - val_loss: 0.5651 - val_Sensitivity: 0.1257 - val_tn: 3790.0000 - val_auc: 0.6749 - val_prc: 0.2958\n",
      "Epoch 2/200\n",
      "18586/18586 [==============================] - 0s 10us/sample - loss: 0.6228 - Sensitivity: 0.1485 - tn: 14161.0000 - auc: 0.5856 - prc: 0.2219 - val_loss: 0.5546 - val_Sensitivity: 0.1297 - val_tn: 3783.0000 - val_auc: 0.6782 - val_prc: 0.2973\n",
      "Epoch 3/200\n",
      "18586/18586 [==============================] - 0s 11us/sample - loss: 0.6104 - Sensitivity: 0.1420 - tn: 14214.0000 - auc: 0.6015 - prc: 0.2274 - val_loss: 0.5444 - val_Sensitivity: 0.1136 - val_tn: 3797.0000 - val_auc: 0.6804 - val_prc: 0.2972\n",
      "Epoch 4/200\n",
      "18586/18586 [==============================] - 0s 11us/sample - loss: 0.5932 - Sensitivity: 0.1530 - tn: 14211.0000 - auc: 0.6004 - prc: 0.2343 - val_loss: 0.5284 - val_Sensitivity: 0.0896 - val_tn: 3824.0000 - val_auc: 0.6752 - val_prc: 0.2926\n",
      "Epoch 5/200\n",
      "18586/18586 [==============================] - 0s 10us/sample - loss: 0.5836 - Sensitivity: 0.1326 - tn: 14240.0000 - auc: 0.6019 - prc: 0.2237 - val_loss: 0.5301 - val_Sensitivity: 0.0936 - val_tn: 3813.0000 - val_auc: 0.6790 - val_prc: 0.2943\n",
      "Epoch 6/200\n",
      "18586/18586 [==============================] - 0s 11us/sample - loss: 0.5629 - Sensitivity: 0.1429 - tn: 14312.0000 - auc: 0.6111 - prc: 0.2312 - val_loss: 0.5284 - val_Sensitivity: 0.0896 - val_tn: 3809.0000 - val_auc: 0.6758 - val_prc: 0.2884\n",
      "Epoch 7/200\n",
      "18586/18586 [==============================] - 0s 10us/sample - loss: 0.5643 - Sensitivity: 0.1309 - tn: 14394.0000 - auc: 0.6015 - prc: 0.2272 - val_loss: 0.5198 - val_Sensitivity: 0.0829 - val_tn: 3825.0000 - val_auc: 0.6800 - val_prc: 0.2906\n",
      "Epoch 8/200\n",
      "18586/18586 [==============================] - 0s 11us/sample - loss: 0.5606 - Sensitivity: 0.1277 - tn: 14349.0000 - auc: 0.6004 - prc: 0.2245 - val_loss: 0.5166 - val_Sensitivity: 0.0802 - val_tn: 3829.0000 - val_auc: 0.6823 - val_prc: 0.2919\n",
      "Epoch 9/200\n",
      "18586/18586 [==============================] - 0s 10us/sample - loss: 0.5444 - Sensitivity: 0.1368 - tn: 14425.0000 - auc: 0.6144 - prc: 0.2355 - val_loss: 0.5168 - val_Sensitivity: 0.0842 - val_tn: 3821.0000 - val_auc: 0.6806 - val_prc: 0.2910\n",
      "Epoch 10/200\n",
      "18586/18586 [==============================] - 0s 11us/sample - loss: 0.5382 - Sensitivity: 0.1332 - tn: 14517.0000 - auc: 0.6086 - prc: 0.2337 - val_loss: 0.5191 - val_Sensitivity: 0.1043 - val_tn: 3783.0000 - val_auc: 0.6791 - val_prc: 0.2874\n",
      "Epoch 11/200\n",
      "18586/18586 [==============================] - 0s 10us/sample - loss: 0.5352 - Sensitivity: 0.1088 - tn: 14556.0000 - auc: 0.6081 - prc: 0.2304 - val_loss: 0.5093 - val_Sensitivity: 0.1003 - val_tn: 3800.0000 - val_auc: 0.6836 - val_prc: 0.2925\n",
      "Epoch 12/200\n",
      "18586/18586 [==============================] - 0s 10us/sample - loss: 0.5224 - Sensitivity: 0.1137 - tn: 14636.0000 - auc: 0.6156 - prc: 0.2389 - val_loss: 0.5110 - val_Sensitivity: 0.1083 - val_tn: 3785.0000 - val_auc: 0.6831 - val_prc: 0.2921\n",
      "Epoch 13/200\n",
      "18586/18586 [==============================] - 0s 11us/sample - loss: 0.5174 - Sensitivity: 0.1014 - tn: 14696.0000 - auc: 0.6096 - prc: 0.2349 - val_loss: 0.5133 - val_Sensitivity: 0.1230 - val_tn: 3765.0000 - val_auc: 0.6867 - val_prc: 0.2944\n",
      "Epoch 14/200\n",
      "18586/18586 [==============================] - 0s 12us/sample - loss: 0.5070 - Sensitivity: 0.1072 - tn: 14725.0000 - auc: 0.6193 - prc: 0.2419 - val_loss: 0.4982 - val_Sensitivity: 0.1083 - val_tn: 3784.0000 - val_auc: 0.6876 - val_prc: 0.2956\n",
      "Epoch 15/200\n",
      "18586/18586 [==============================] - 0s 12us/sample - loss: 0.5014 - Sensitivity: 0.1001 - tn: 14810.0000 - auc: 0.6205 - prc: 0.2430 - val_loss: 0.4948 - val_Sensitivity: 0.1123 - val_tn: 3785.0000 - val_auc: 0.6870 - val_prc: 0.2956\n",
      "Epoch 16/200\n",
      "18586/18586 [==============================] - 0s 12us/sample - loss: 0.4977 - Sensitivity: 0.0991 - tn: 14833.0000 - auc: 0.6199 - prc: 0.2424 - val_loss: 0.4933 - val_Sensitivity: 0.1163 - val_tn: 3776.0000 - val_auc: 0.6883 - val_prc: 0.2978\n",
      "Epoch 17/200\n",
      "18586/18586 [==============================] - 0s 12us/sample - loss: 0.4912 - Sensitivity: 0.0760 - tn: 14941.0000 - auc: 0.6220 - prc: 0.2394 - val_loss: 0.4906 - val_Sensitivity: 0.1150 - val_tn: 3774.0000 - val_auc: 0.6871 - val_prc: 0.2959\n",
      "Epoch 18/200\n",
      "18586/18586 [==============================] - 0s 11us/sample - loss: 0.4783 - Sensitivity: 0.0793 - tn: 14947.0000 - auc: 0.6341 - prc: 0.2480 - val_loss: 0.4895 - val_Sensitivity: 0.1136 - val_tn: 3783.0000 - val_auc: 0.6862 - val_prc: 0.2942\n",
      "Epoch 19/200\n",
      "18586/18586 [==============================] - 0s 11us/sample - loss: 0.4832 - Sensitivity: 0.0682 - tn: 14985.0000 - auc: 0.6216 - prc: 0.2375 - val_loss: 0.4821 - val_Sensitivity: 0.1123 - val_tn: 3788.0000 - val_auc: 0.6885 - val_prc: 0.2976\n",
      "Epoch 20/200\n",
      "18586/18586 [==============================] - 0s 11us/sample - loss: 0.4735 - Sensitivity: 0.0682 - tn: 15045.0000 - auc: 0.6328 - prc: 0.2419 - val_loss: 0.4791 - val_Sensitivity: 0.1123 - val_tn: 3794.0000 - val_auc: 0.6900 - val_prc: 0.3001\n",
      "Epoch 21/200\n",
      "18586/18586 [==============================] - 0s 10us/sample - loss: 0.4724 - Sensitivity: 0.0650 - tn: 15094.0000 - auc: 0.6257 - prc: 0.2421 - val_loss: 0.4839 - val_Sensitivity: 0.1257 - val_tn: 3774.0000 - val_auc: 0.6893 - val_prc: 0.2994\n",
      "Epoch 22/200\n",
      "18586/18586 [==============================] - 0s 10us/sample - loss: 0.4612 - Sensitivity: 0.0640 - tn: 15151.0000 - auc: 0.6401 - prc: 0.2535 - val_loss: 0.4818 - val_Sensitivity: 0.1270 - val_tn: 3776.0000 - val_auc: 0.6916 - val_prc: 0.3021\n",
      "Epoch 23/200\n",
      "18586/18586 [==============================] - 0s 10us/sample - loss: 0.4592 - Sensitivity: 0.0673 - tn: 15165.0000 - auc: 0.6399 - prc: 0.2592 - val_loss: 0.4826 - val_Sensitivity: 0.1350 - val_tn: 3754.0000 - val_auc: 0.6907 - val_prc: 0.3013\n",
      "Epoch 24/200\n",
      "18586/18586 [==============================] - 0s 10us/sample - loss: 0.4603 - Sensitivity: 0.0582 - tn: 15184.0000 - auc: 0.6375 - prc: 0.2504 - val_loss: 0.4804 - val_Sensitivity: 0.1364 - val_tn: 3757.0000 - val_auc: 0.6897 - val_prc: 0.3002\n",
      "Epoch 25/200\n",
      "18586/18586 [==============================] - 0s 10us/sample - loss: 0.4536 - Sensitivity: 0.0546 - tn: 15235.0000 - auc: 0.6407 - prc: 0.2565 - val_loss: 0.4819 - val_Sensitivity: 0.1350 - val_tn: 3762.0000 - val_auc: 0.6898 - val_prc: 0.3002\n",
      "Epoch 26/200\n",
      "18586/18586 [==============================] - 0s 11us/sample - loss: 0.4535 - Sensitivity: 0.0491 - tn: 15273.0000 - auc: 0.6419 - prc: 0.2580 - val_loss: 0.4775 - val_Sensitivity: 0.1270 - val_tn: 3778.0000 - val_auc: 0.6912 - val_prc: 0.3019\n",
      "Epoch 27/200\n",
      "18586/18586 [==============================] - 0s 10us/sample - loss: 0.4465 - Sensitivity: 0.0481 - tn: 15299.0000 - auc: 0.6531 - prc: 0.2663 - val_loss: 0.4785 - val_Sensitivity: 0.1203 - val_tn: 3783.0000 - val_auc: 0.6908 - val_prc: 0.3025\n",
      "Epoch 28/200\n",
      "18586/18586 [==============================] - 0s 11us/sample - loss: 0.4466 - Sensitivity: 0.0500 - tn: 15275.0000 - auc: 0.6465 - prc: 0.2641 - val_loss: 0.4750 - val_Sensitivity: 0.1176 - val_tn: 3790.0000 - val_auc: 0.6917 - val_prc: 0.3036\n",
      "Epoch 29/200\n",
      "18586/18586 [==============================] - 0s 11us/sample - loss: 0.4440 - Sensitivity: 0.0432 - tn: 15348.0000 - auc: 0.6533 - prc: 0.2725 - val_loss: 0.4712 - val_Sensitivity: 0.1110 - val_tn: 3800.0000 - val_auc: 0.6917 - val_prc: 0.3031\n",
      "Epoch 30/200\n",
      "18586/18586 [==============================] - 0s 11us/sample - loss: 0.4461 - Sensitivity: 0.0409 - tn: 15319.0000 - auc: 0.6411 - prc: 0.2543 - val_loss: 0.4726 - val_Sensitivity: 0.1136 - val_tn: 3798.0000 - val_auc: 0.6899 - val_prc: 0.3015\n",
      "Epoch 31/200\n",
      "18586/18586 [==============================] - 0s 11us/sample - loss: 0.4379 - Sensitivity: 0.0409 - tn: 15369.0000 - auc: 0.6546 - prc: 0.2734 - val_loss: 0.4718 - val_Sensitivity: 0.1150 - val_tn: 3795.0000 - val_auc: 0.6893 - val_prc: 0.3015\n",
      "Epoch 32/200\n",
      "18586/18586 [==============================] - 0s 11us/sample - loss: 0.4399 - Sensitivity: 0.0419 - tn: 15384.0000 - auc: 0.6501 - prc: 0.2709 - val_loss: 0.4722 - val_Sensitivity: 0.1123 - val_tn: 3797.0000 - val_auc: 0.6893 - val_prc: 0.3020\n",
      "Epoch 33/200\n",
      "18586/18586 [==============================] - 0s 12us/sample - loss: 0.4358 - Sensitivity: 0.0374 - tn: 15386.0000 - auc: 0.6565 - prc: 0.2748 - val_loss: 0.4704 - val_Sensitivity: 0.1110 - val_tn: 3804.0000 - val_auc: 0.6892 - val_prc: 0.3049\n",
      "Epoch 34/200\n",
      "18586/18586 [==============================] - 0s 11us/sample - loss: 0.4357 - Sensitivity: 0.0318 - tn: 15389.0000 - auc: 0.6580 - prc: 0.2730 - val_loss: 0.4716 - val_Sensitivity: 0.1110 - val_tn: 3803.0000 - val_auc: 0.6897 - val_prc: 0.3058\n",
      "Epoch 35/200\n",
      "18586/18586 [==============================] - 0s 11us/sample - loss: 0.4334 - Sensitivity: 0.0380 - tn: 15393.0000 - auc: 0.6600 - prc: 0.2782 - val_loss: 0.4728 - val_Sensitivity: 0.1123 - val_tn: 3800.0000 - val_auc: 0.6901 - val_prc: 0.3038\n",
      "Epoch 36/200\n",
      "18586/18586 [==============================] - 0s 12us/sample - loss: 0.4317 - Sensitivity: 0.0354 - tn: 15413.0000 - auc: 0.6666 - prc: 0.2786 - val_loss: 0.4698 - val_Sensitivity: 0.1110 - val_tn: 3804.0000 - val_auc: 0.6887 - val_prc: 0.3046\n",
      "Epoch 37/200\n",
      "18586/18586 [==============================] - 0s 11us/sample - loss: 0.4327 - Sensitivity: 0.0351 - tn: 15414.0000 - auc: 0.6582 - prc: 0.2807 - val_loss: 0.4752 - val_Sensitivity: 0.1176 - val_tn: 3800.0000 - val_auc: 0.6870 - val_prc: 0.3035\n",
      "Epoch 38/200\n",
      "18586/18586 [==============================] - 0s 12us/sample - loss: 0.4291 - Sensitivity: 0.0380 - tn: 15423.0000 - auc: 0.6619 - prc: 0.2864 - val_loss: 0.4698 - val_Sensitivity: 0.1110 - val_tn: 3807.0000 - val_auc: 0.6891 - val_prc: 0.3044\n",
      "Epoch 39/200\n",
      "18586/18586 [==============================] - 0s 11us/sample - loss: 0.4286 - Sensitivity: 0.0351 - tn: 15419.0000 - auc: 0.6659 - prc: 0.2850 - val_loss: 0.4700 - val_Sensitivity: 0.1150 - val_tn: 3804.0000 - val_auc: 0.6878 - val_prc: 0.3046\n",
      "Epoch 40/200\n",
      "18586/18586 [==============================] - 0s 12us/sample - loss: 0.4273 - Sensitivity: 0.0331 - tn: 15423.0000 - auc: 0.6678 - prc: 0.2865 - val_loss: 0.4684 - val_Sensitivity: 0.1123 - val_tn: 3806.0000 - val_auc: 0.6890 - val_prc: 0.3043\n",
      "Epoch 41/200\n",
      "18586/18586 [==============================] - 0s 11us/sample - loss: 0.4275 - Sensitivity: 0.0338 - tn: 15423.0000 - auc: 0.6702 - prc: 0.2862 - val_loss: 0.4680 - val_Sensitivity: 0.1110 - val_tn: 3806.0000 - val_auc: 0.6884 - val_prc: 0.3039\n",
      "Epoch 42/200\n",
      "18586/18586 [==============================] - 0s 10us/sample - loss: 0.4266 - Sensitivity: 0.0364 - tn: 15438.0000 - auc: 0.6685 - prc: 0.2905 - val_loss: 0.4732 - val_Sensitivity: 0.1136 - val_tn: 3802.0000 - val_auc: 0.6838 - val_prc: 0.3000\n",
      "Epoch 43/200\n",
      "18586/18586 [==============================] - 0s 10us/sample - loss: 0.4248 - Sensitivity: 0.0387 - tn: 15412.0000 - auc: 0.6741 - prc: 0.2955 - val_loss: 0.4692 - val_Sensitivity: 0.1110 - val_tn: 3806.0000 - val_auc: 0.6849 - val_prc: 0.3041\n",
      "Epoch 44/200\n",
      "18586/18586 [==============================] - 0s 11us/sample - loss: 0.4257 - Sensitivity: 0.0273 - tn: 15426.0000 - auc: 0.6716 - prc: 0.2899 - val_loss: 0.4670 - val_Sensitivity: 0.1096 - val_tn: 3814.0000 - val_auc: 0.6882 - val_prc: 0.3050\n",
      "Epoch 45/200\n",
      "18586/18586 [==============================] - 0s 12us/sample - loss: 0.4236 - Sensitivity: 0.0312 - tn: 15427.0000 - auc: 0.6749 - prc: 0.2917 - val_loss: 0.4692 - val_Sensitivity: 0.1083 - val_tn: 3814.0000 - val_auc: 0.6842 - val_prc: 0.3020\n",
      "Epoch 46/200\n",
      "18586/18586 [==============================] - 0s 11us/sample - loss: 0.4237 - Sensitivity: 0.0250 - tn: 15443.0000 - auc: 0.6767 - prc: 0.2914 - val_loss: 0.4644 - val_Sensitivity: 0.1043 - val_tn: 3816.0000 - val_auc: 0.6842 - val_prc: 0.3030\n",
      "Epoch 47/200\n",
      "18586/18586 [==============================] - 0s 11us/sample - loss: 0.4227 - Sensitivity: 0.0234 - tn: 15459.0000 - auc: 0.6767 - prc: 0.2977 - val_loss: 0.4650 - val_Sensitivity: 0.1029 - val_tn: 3817.0000 - val_auc: 0.6841 - val_prc: 0.3028\n",
      "Epoch 48/200\n",
      "18586/18586 [==============================] - 0s 10us/sample - loss: 0.4219 - Sensitivity: 0.0270 - tn: 15454.0000 - auc: 0.6775 - prc: 0.2938 - val_loss: 0.4663 - val_Sensitivity: 0.1043 - val_tn: 3815.0000 - val_auc: 0.6835 - val_prc: 0.3018\n",
      "Epoch 49/200\n",
      "18586/18586 [==============================] - 0s 12us/sample - loss: 0.4223 - Sensitivity: 0.0302 - tn: 15436.0000 - auc: 0.6752 - prc: 0.2934 - val_loss: 0.4626 - val_Sensitivity: 0.1029 - val_tn: 3818.0000 - val_auc: 0.6857 - val_prc: 0.3039\n",
      "Epoch 50/200\n",
      "18586/18586 [==============================] - 0s 11us/sample - loss: 0.4228 - Sensitivity: 0.0224 - tn: 15450.0000 - auc: 0.6781 - prc: 0.2967 - val_loss: 0.4627 - val_Sensitivity: 0.1070 - val_tn: 3816.0000 - val_auc: 0.6869 - val_prc: 0.3041\n",
      "Epoch 51/200\n",
      "18586/18586 [==============================] - 0s 11us/sample - loss: 0.4200 - Sensitivity: 0.0328 - tn: 15425.0000 - auc: 0.6811 - prc: 0.3025 - val_loss: 0.4618 - val_Sensitivity: 0.1070 - val_tn: 3816.0000 - val_auc: 0.6859 - val_prc: 0.3034\n",
      "Epoch 52/200\n",
      "18586/18586 [==============================] - 0s 11us/sample - loss: 0.4213 - Sensitivity: 0.0276 - tn: 15452.0000 - auc: 0.6787 - prc: 0.2984 - val_loss: 0.4624 - val_Sensitivity: 0.1056 - val_tn: 3816.0000 - val_auc: 0.6848 - val_prc: 0.3026\n",
      "Epoch 53/200\n",
      "18586/18586 [==============================] - 0s 11us/sample - loss: 0.4193 - Sensitivity: 0.0296 - tn: 15439.0000 - auc: 0.6851 - prc: 0.3010 - val_loss: 0.4631 - val_Sensitivity: 0.1083 - val_tn: 3814.0000 - val_auc: 0.6856 - val_prc: 0.3045\n",
      "Epoch 54/200\n",
      "18586/18586 [==============================] - 0s 11us/sample - loss: 0.4193 - Sensitivity: 0.0302 - tn: 15448.0000 - auc: 0.6835 - prc: 0.3046 - val_loss: 0.4602 - val_Sensitivity: 0.1070 - val_tn: 3816.0000 - val_auc: 0.6878 - val_prc: 0.3058\n",
      "Epoch 55/200\n",
      "18586/18586 [==============================] - 0s 12us/sample - loss: 0.4176 - Sensitivity: 0.0309 - tn: 15445.0000 - auc: 0.6884 - prc: 0.3103 - val_loss: 0.4596 - val_Sensitivity: 0.1083 - val_tn: 3816.0000 - val_auc: 0.6876 - val_prc: 0.3054\n",
      "Epoch 56/200\n",
      "18586/18586 [==============================] - 0s 12us/sample - loss: 0.4200 - Sensitivity: 0.0305 - tn: 15435.0000 - auc: 0.6829 - prc: 0.3034 - val_loss: 0.4591 - val_Sensitivity: 0.1056 - val_tn: 3815.0000 - val_auc: 0.6868 - val_prc: 0.3046\n",
      "Epoch 57/200\n",
      "18586/18586 [==============================] - 0s 11us/sample - loss: 0.4198 - Sensitivity: 0.0348 - tn: 15442.0000 - auc: 0.6838 - prc: 0.3086 - val_loss: 0.4612 - val_Sensitivity: 0.1083 - val_tn: 3815.0000 - val_auc: 0.6862 - val_prc: 0.3044\n",
      "Epoch 58/200\n",
      "18586/18586 [==============================] - 0s 11us/sample - loss: 0.4202 - Sensitivity: 0.0292 - tn: 15451.0000 - auc: 0.6813 - prc: 0.3031 - val_loss: 0.4587 - val_Sensitivity: 0.1029 - val_tn: 3817.0000 - val_auc: 0.6872 - val_prc: 0.3050\n",
      "Epoch 59/200\n",
      "18586/18586 [==============================] - 0s 12us/sample - loss: 0.4184 - Sensitivity: 0.0292 - tn: 15442.0000 - auc: 0.6867 - prc: 0.3052 - val_loss: 0.4608 - val_Sensitivity: 0.1070 - val_tn: 3815.0000 - val_auc: 0.6856 - val_prc: 0.3045\n",
      "Epoch 60/200\n",
      "18586/18586 [==============================] - 0s 11us/sample - loss: 0.4169 - Sensitivity: 0.0312 - tn: 15438.0000 - auc: 0.6882 - prc: 0.3144 - val_loss: 0.4585 - val_Sensitivity: 0.1083 - val_tn: 3815.0000 - val_auc: 0.6856 - val_prc: 0.3040\n",
      "Epoch 61/200\n",
      "18586/18586 [==============================] - 0s 11us/sample - loss: 0.4186 - Sensitivity: 0.0286 - tn: 15441.0000 - auc: 0.6877 - prc: 0.3070 - val_loss: 0.4577 - val_Sensitivity: 0.1056 - val_tn: 3816.0000 - val_auc: 0.6862 - val_prc: 0.3057\n",
      "Epoch 62/200\n",
      "18586/18586 [==============================] - 0s 11us/sample - loss: 0.4189 - Sensitivity: 0.0351 - tn: 15431.0000 - auc: 0.6855 - prc: 0.3071 - val_loss: 0.4588 - val_Sensitivity: 0.1083 - val_tn: 3816.0000 - val_auc: 0.6865 - val_prc: 0.3062\n",
      "Epoch 63/200\n",
      "18586/18586 [==============================] - 0s 11us/sample - loss: 0.4173 - Sensitivity: 0.0253 - tn: 15451.0000 - auc: 0.6901 - prc: 0.3101 - val_loss: 0.4535 - val_Sensitivity: 0.1003 - val_tn: 3818.0000 - val_auc: 0.6882 - val_prc: 0.3066\n",
      "Epoch 64/200\n",
      "18586/18586 [==============================] - 0s 10us/sample - loss: 0.4178 - Sensitivity: 0.0273 - tn: 15443.0000 - auc: 0.6880 - prc: 0.3095 - val_loss: 0.4558 - val_Sensitivity: 0.1043 - val_tn: 3816.0000 - val_auc: 0.6883 - val_prc: 0.3063\n",
      "Epoch 65/200\n",
      "18586/18586 [==============================] - 0s 11us/sample - loss: 0.4165 - Sensitivity: 0.0257 - tn: 15465.0000 - auc: 0.6874 - prc: 0.3157 - val_loss: 0.4542 - val_Sensitivity: 0.1029 - val_tn: 3817.0000 - val_auc: 0.6884 - val_prc: 0.3064\n",
      "Epoch 66/200\n",
      "18586/18586 [==============================] - 0s 11us/sample - loss: 0.4185 - Sensitivity: 0.0312 - tn: 15439.0000 - auc: 0.6868 - prc: 0.3062 - val_loss: 0.4550 - val_Sensitivity: 0.1083 - val_tn: 3814.0000 - val_auc: 0.6880 - val_prc: 0.3059\n",
      "Epoch 67/200\n",
      "18586/18586 [==============================] - 0s 12us/sample - loss: 0.4188 - Sensitivity: 0.0299 - tn: 15433.0000 - auc: 0.6872 - prc: 0.3052 - val_loss: 0.4525 - val_Sensitivity: 0.1043 - val_tn: 3817.0000 - val_auc: 0.6867 - val_prc: 0.3052\n",
      "Epoch 68/200\n",
      "18586/18586 [==============================] - 0s 12us/sample - loss: 0.4183 - Sensitivity: 0.0328 - tn: 15430.0000 - auc: 0.6861 - prc: 0.3130 - val_loss: 0.4531 - val_Sensitivity: 0.1070 - val_tn: 3815.0000 - val_auc: 0.6875 - val_prc: 0.3067\n",
      "Epoch 69/200\n",
      "18586/18586 [==============================] - 0s 11us/sample - loss: 0.4179 - Sensitivity: 0.0244 - tn: 15462.0000 - auc: 0.6879 - prc: 0.3090 - val_loss: 0.4532 - val_Sensitivity: 0.1029 - val_tn: 3819.0000 - val_auc: 0.6882 - val_prc: 0.3063\n",
      "Epoch 70/200\n",
      "18586/18586 [==============================] - 0s 11us/sample - loss: 0.4184 - Sensitivity: 0.0276 - tn: 15439.0000 - auc: 0.6870 - prc: 0.3051 - val_loss: 0.4524 - val_Sensitivity: 0.1043 - val_tn: 3819.0000 - val_auc: 0.6878 - val_prc: 0.3067\n",
      "Epoch 71/200\n",
      "18586/18586 [==============================] - 0s 11us/sample - loss: 0.4168 - Sensitivity: 0.0198 - tn: 15451.0000 - auc: 0.6926 - prc: 0.3085 - val_loss: 0.4537 - val_Sensitivity: 0.1029 - val_tn: 3817.0000 - val_auc: 0.6867 - val_prc: 0.3057\n",
      "Epoch 72/200\n",
      "18586/18586 [==============================] - 0s 11us/sample - loss: 0.4162 - Sensitivity: 0.0299 - tn: 15443.0000 - auc: 0.6914 - prc: 0.3138 - val_loss: 0.4534 - val_Sensitivity: 0.1043 - val_tn: 3816.0000 - val_auc: 0.6868 - val_prc: 0.3060\n",
      "Epoch 73/200\n",
      "18586/18586 [==============================] - 0s 10us/sample - loss: 0.4176 - Sensitivity: 0.0328 - tn: 15425.0000 - auc: 0.6887 - prc: 0.3120 - val_loss: 0.4527 - val_Sensitivity: 0.1043 - val_tn: 3816.0000 - val_auc: 0.6882 - val_prc: 0.3061\n",
      "Epoch 74/200\n",
      "18586/18586 [==============================] - 0s 11us/sample - loss: 0.4159 - Sensitivity: 0.0318 - tn: 15437.0000 - auc: 0.6941 - prc: 0.3182 - val_loss: 0.4511 - val_Sensitivity: 0.1029 - val_tn: 3817.0000 - val_auc: 0.6889 - val_prc: 0.3058\n",
      "Epoch 75/200\n",
      "18586/18586 [==============================] - 0s 11us/sample - loss: 0.4169 - Sensitivity: 0.0296 - tn: 15426.0000 - auc: 0.6913 - prc: 0.3111 - val_loss: 0.4517 - val_Sensitivity: 0.1056 - val_tn: 3816.0000 - val_auc: 0.6879 - val_prc: 0.3065\n",
      "Epoch 76/200\n",
      "18586/18586 [==============================] - 0s 11us/sample - loss: 0.4170 - Sensitivity: 0.0338 - tn: 15441.0000 - auc: 0.6895 - prc: 0.3121 - val_loss: 0.4507 - val_Sensitivity: 0.1070 - val_tn: 3816.0000 - val_auc: 0.6889 - val_prc: 0.3069\n",
      "Epoch 77/200\n",
      "18586/18586 [==============================] - 0s 12us/sample - loss: 0.4160 - Sensitivity: 0.0344 - tn: 15421.0000 - auc: 0.6937 - prc: 0.3103 - val_loss: 0.4513 - val_Sensitivity: 0.1083 - val_tn: 3813.0000 - val_auc: 0.6864 - val_prc: 0.3051\n",
      "Epoch 78/200\n",
      "18586/18586 [==============================] - 0s 12us/sample - loss: 0.4153 - Sensitivity: 0.0286 - tn: 15431.0000 - auc: 0.6961 - prc: 0.3112 - val_loss: 0.4502 - val_Sensitivity: 0.1016 - val_tn: 3817.0000 - val_auc: 0.6868 - val_prc: 0.3060\n",
      "Epoch 79/200\n",
      "18586/18586 [==============================] - 0s 11us/sample - loss: 0.4158 - Sensitivity: 0.0266 - tn: 15443.0000 - auc: 0.6936 - prc: 0.3113 - val_loss: 0.4495 - val_Sensitivity: 0.1029 - val_tn: 3817.0000 - val_auc: 0.6877 - val_prc: 0.3070\n",
      "Epoch 80/200\n",
      "18586/18586 [==============================] - 0s 11us/sample - loss: 0.4164 - Sensitivity: 0.0286 - tn: 15434.0000 - auc: 0.6917 - prc: 0.3124 - val_loss: 0.4518 - val_Sensitivity: 0.1070 - val_tn: 3813.0000 - val_auc: 0.6863 - val_prc: 0.3059\n",
      "Epoch 81/200\n",
      "18586/18586 [==============================] - 0s 11us/sample - loss: 0.4161 - Sensitivity: 0.0315 - tn: 15438.0000 - auc: 0.6921 - prc: 0.3154 - val_loss: 0.4479 - val_Sensitivity: 0.1029 - val_tn: 3816.0000 - val_auc: 0.6870 - val_prc: 0.3062\n",
      "Epoch 82/200\n",
      "18586/18586 [==============================] - 0s 10us/sample - loss: 0.4145 - Sensitivity: 0.0305 - tn: 15431.0000 - auc: 0.6956 - prc: 0.3147 - val_loss: 0.4484 - val_Sensitivity: 0.1016 - val_tn: 3819.0000 - val_auc: 0.6866 - val_prc: 0.3058\n",
      "Epoch 83/200\n",
      "18586/18586 [==============================] - 0s 11us/sample - loss: 0.4171 - Sensitivity: 0.0257 - tn: 15443.0000 - auc: 0.6900 - prc: 0.3089 - val_loss: 0.4457 - val_Sensitivity: 0.1003 - val_tn: 3819.0000 - val_auc: 0.6895 - val_prc: 0.3074\n",
      "Epoch 84/200\n",
      "18586/18586 [==============================] - 0s 11us/sample - loss: 0.4161 - Sensitivity: 0.0253 - tn: 15449.0000 - auc: 0.6933 - prc: 0.3104 - val_loss: 0.4486 - val_Sensitivity: 0.1029 - val_tn: 3818.0000 - val_auc: 0.6885 - val_prc: 0.3068\n",
      "Epoch 85/200\n",
      "18586/18586 [==============================] - 0s 11us/sample - loss: 0.4154 - Sensitivity: 0.0305 - tn: 15433.0000 - auc: 0.6954 - prc: 0.3136 - val_loss: 0.4476 - val_Sensitivity: 0.1016 - val_tn: 3817.0000 - val_auc: 0.6879 - val_prc: 0.3061\n",
      "Epoch 86/200\n",
      "18586/18586 [==============================] - 0s 10us/sample - loss: 0.4156 - Sensitivity: 0.0292 - tn: 15436.0000 - auc: 0.6945 - prc: 0.3148 - val_loss: 0.4465 - val_Sensitivity: 0.1029 - val_tn: 3818.0000 - val_auc: 0.6899 - val_prc: 0.3078\n",
      "Epoch 87/200\n",
      "18586/18586 [==============================] - 0s 11us/sample - loss: 0.4147 - Sensitivity: 0.0335 - tn: 15437.0000 - auc: 0.6966 - prc: 0.3182 - val_loss: 0.4462 - val_Sensitivity: 0.1029 - val_tn: 3819.0000 - val_auc: 0.6885 - val_prc: 0.3076\n",
      "Epoch 88/200\n",
      "18586/18586 [==============================] - 0s 11us/sample - loss: 0.4162 - Sensitivity: 0.0305 - tn: 15448.0000 - auc: 0.6930 - prc: 0.3178 - val_loss: 0.4484 - val_Sensitivity: 0.1056 - val_tn: 3816.0000 - val_auc: 0.6887 - val_prc: 0.3067\n",
      "Epoch 89/200\n",
      "18586/18586 [==============================] - 0s 11us/sample - loss: 0.4159 - Sensitivity: 0.0383 - tn: 15435.0000 - auc: 0.6924 - prc: 0.3197 - val_loss: 0.4463 - val_Sensitivity: 0.1070 - val_tn: 3812.0000 - val_auc: 0.6893 - val_prc: 0.3077\n",
      "Epoch 90/200\n",
      "18586/18586 [==============================] - 0s 11us/sample - loss: 0.4142 - Sensitivity: 0.0348 - tn: 15423.0000 - auc: 0.6968 - prc: 0.3202 - val_loss: 0.4453 - val_Sensitivity: 0.1070 - val_tn: 3813.0000 - val_auc: 0.6909 - val_prc: 0.3078\n",
      "Epoch 91/200\n",
      "18586/18586 [==============================] - 0s 12us/sample - loss: 0.4145 - Sensitivity: 0.0374 - tn: 15414.0000 - auc: 0.6971 - prc: 0.3180 - val_loss: 0.4456 - val_Sensitivity: 0.1043 - val_tn: 3814.0000 - val_auc: 0.6887 - val_prc: 0.3069\n",
      "Epoch 92/200\n",
      "18586/18586 [==============================] - 0s 11us/sample - loss: 0.4153 - Sensitivity: 0.0299 - tn: 15440.0000 - auc: 0.6953 - prc: 0.3147 - val_loss: 0.4452 - val_Sensitivity: 0.1083 - val_tn: 3812.0000 - val_auc: 0.6889 - val_prc: 0.3064\n",
      "Epoch 93/200\n",
      "18586/18586 [==============================] - 0s 11us/sample - loss: 0.4150 - Sensitivity: 0.0335 - tn: 15425.0000 - auc: 0.6965 - prc: 0.3141 - val_loss: 0.4439 - val_Sensitivity: 0.1056 - val_tn: 3812.0000 - val_auc: 0.6905 - val_prc: 0.3076\n",
      "Epoch 94/200\n",
      "18586/18586 [==============================] - 0s 11us/sample - loss: 0.4157 - Sensitivity: 0.0348 - tn: 15431.0000 - auc: 0.6946 - prc: 0.3152 - val_loss: 0.4460 - val_Sensitivity: 0.1056 - val_tn: 3812.0000 - val_auc: 0.6896 - val_prc: 0.3081\n",
      "Epoch 95/200\n",
      "18586/18586 [==============================] - 0s 11us/sample - loss: 0.4157 - Sensitivity: 0.0325 - tn: 15408.0000 - auc: 0.6949 - prc: 0.3119 - val_loss: 0.4476 - val_Sensitivity: 0.1056 - val_tn: 3814.0000 - val_auc: 0.6886 - val_prc: 0.3076\n",
      "Epoch 96/200\n",
      "18586/18586 [==============================] - 0s 12us/sample - loss: 0.4152 - Sensitivity: 0.0283 - tn: 15457.0000 - auc: 0.6958 - prc: 0.3176 - val_loss: 0.4448 - val_Sensitivity: 0.1029 - val_tn: 3815.0000 - val_auc: 0.6897 - val_prc: 0.3068\n",
      "Epoch 97/200\n",
      "18586/18586 [==============================] - 0s 10us/sample - loss: 0.4143 - Sensitivity: 0.0325 - tn: 15428.0000 - auc: 0.6966 - prc: 0.3173 - val_loss: 0.4450 - val_Sensitivity: 0.1029 - val_tn: 3815.0000 - val_auc: 0.6900 - val_prc: 0.3075\n",
      "Epoch 98/200\n",
      "18586/18586 [==============================] - 0s 11us/sample - loss: 0.4139 - Sensitivity: 0.0312 - tn: 15405.0000 - auc: 0.6986 - prc: 0.3137 - val_loss: 0.4462 - val_Sensitivity: 0.1029 - val_tn: 3816.0000 - val_auc: 0.6901 - val_prc: 0.3072\n",
      "Epoch 99/200\n",
      "18586/18586 [==============================] - 0s 12us/sample - loss: 0.4140 - Sensitivity: 0.0341 - tn: 15432.0000 - auc: 0.6961 - prc: 0.3199 - val_loss: 0.4428 - val_Sensitivity: 0.1029 - val_tn: 3817.0000 - val_auc: 0.6910 - val_prc: 0.3079\n",
      "Epoch 100/200\n",
      "18586/18586 [==============================] - 0s 12us/sample - loss: 0.4138 - Sensitivity: 0.0309 - tn: 15445.0000 - auc: 0.6986 - prc: 0.3202 - val_loss: 0.4429 - val_Sensitivity: 0.1029 - val_tn: 3817.0000 - val_auc: 0.6915 - val_prc: 0.3079\n",
      "Epoch 101/200\n",
      "18586/18586 [==============================] - 0s 11us/sample - loss: 0.4149 - Sensitivity: 0.0302 - tn: 15428.0000 - auc: 0.6972 - prc: 0.3146 - val_loss: 0.4415 - val_Sensitivity: 0.1016 - val_tn: 3818.0000 - val_auc: 0.6911 - val_prc: 0.3080\n",
      "Epoch 102/200\n",
      "18586/18586 [==============================] - 0s 11us/sample - loss: 0.4138 - Sensitivity: 0.0257 - tn: 15451.0000 - auc: 0.6989 - prc: 0.3205 - val_loss: 0.4429 - val_Sensitivity: 0.1029 - val_tn: 3818.0000 - val_auc: 0.6902 - val_prc: 0.3076\n",
      "Epoch 103/200\n",
      "18586/18586 [==============================] - 0s 11us/sample - loss: 0.4141 - Sensitivity: 0.0367 - tn: 15428.0000 - auc: 0.6965 - prc: 0.3191 - val_loss: 0.4453 - val_Sensitivity: 0.1043 - val_tn: 3817.0000 - val_auc: 0.6890 - val_prc: 0.3075\n",
      "Epoch 104/200\n",
      "18586/18586 [==============================] - 0s 11us/sample - loss: 0.4146 - Sensitivity: 0.0292 - tn: 15439.0000 - auc: 0.6970 - prc: 0.3170 - val_loss: 0.4416 - val_Sensitivity: 0.1043 - val_tn: 3818.0000 - val_auc: 0.6910 - val_prc: 0.3088\n",
      "Epoch 105/200\n",
      "18586/18586 [==============================] - 0s 11us/sample - loss: 0.4142 - Sensitivity: 0.0403 - tn: 15406.0000 - auc: 0.6984 - prc: 0.3183 - val_loss: 0.4439 - val_Sensitivity: 0.1056 - val_tn: 3816.0000 - val_auc: 0.6914 - val_prc: 0.3088\n",
      "Epoch 106/200\n",
      "18586/18586 [==============================] - 0s 12us/sample - loss: 0.4131 - Sensitivity: 0.0305 - tn: 15443.0000 - auc: 0.7015 - prc: 0.3195 - val_loss: 0.4414 - val_Sensitivity: 0.1056 - val_tn: 3818.0000 - val_auc: 0.6907 - val_prc: 0.3081\n",
      "Epoch 107/200\n",
      "18586/18586 [==============================] - 0s 11us/sample - loss: 0.4143 - Sensitivity: 0.0387 - tn: 15431.0000 - auc: 0.6972 - prc: 0.3189 - val_loss: 0.4415 - val_Sensitivity: 0.1056 - val_tn: 3816.0000 - val_auc: 0.6905 - val_prc: 0.3077\n",
      "Epoch 108/200\n",
      "18586/18586 [==============================] - 0s 12us/sample - loss: 0.4138 - Sensitivity: 0.0344 - tn: 15430.0000 - auc: 0.6993 - prc: 0.3194 - val_loss: 0.4405 - val_Sensitivity: 0.1016 - val_tn: 3818.0000 - val_auc: 0.6912 - val_prc: 0.3081\n",
      "Epoch 109/200\n",
      "18586/18586 [==============================] - 0s 11us/sample - loss: 0.4136 - Sensitivity: 0.0341 - tn: 15436.0000 - auc: 0.7003 - prc: 0.3262 - val_loss: 0.4403 - val_Sensitivity: 0.1029 - val_tn: 3818.0000 - val_auc: 0.6912 - val_prc: 0.3080\n",
      "Epoch 110/200\n",
      "18586/18586 [==============================] - 0s 11us/sample - loss: 0.4145 - Sensitivity: 0.0312 - tn: 15441.0000 - auc: 0.6971 - prc: 0.3187 - val_loss: 0.4399 - val_Sensitivity: 0.1029 - val_tn: 3818.0000 - val_auc: 0.6930 - val_prc: 0.3091\n",
      "Epoch 111/200\n",
      "18586/18586 [==============================] - 0s 11us/sample - loss: 0.4143 - Sensitivity: 0.0367 - tn: 15420.0000 - auc: 0.6992 - prc: 0.3184 - val_loss: 0.4402 - val_Sensitivity: 0.1056 - val_tn: 3815.0000 - val_auc: 0.6918 - val_prc: 0.3092\n",
      "Epoch 112/200\n",
      "18586/18586 [==============================] - 0s 11us/sample - loss: 0.4147 - Sensitivity: 0.0315 - tn: 15436.0000 - auc: 0.6977 - prc: 0.3147 - val_loss: 0.4400 - val_Sensitivity: 0.1029 - val_tn: 3818.0000 - val_auc: 0.6928 - val_prc: 0.3109\n",
      "Epoch 113/200\n",
      "18586/18586 [==============================] - 0s 12us/sample - loss: 0.4147 - Sensitivity: 0.0266 - tn: 15437.0000 - auc: 0.6972 - prc: 0.3163 - val_loss: 0.4411 - val_Sensitivity: 0.1003 - val_tn: 3819.0000 - val_auc: 0.6911 - val_prc: 0.3091\n",
      "Epoch 114/200\n",
      "18586/18586 [==============================] - 0s 12us/sample - loss: 0.4143 - Sensitivity: 0.0354 - tn: 15433.0000 - auc: 0.6990 - prc: 0.3189 - val_loss: 0.4413 - val_Sensitivity: 0.1070 - val_tn: 3817.0000 - val_auc: 0.6902 - val_prc: 0.3091\n",
      "Epoch 115/200\n",
      "18586/18586 [==============================] - 0s 11us/sample - loss: 0.4135 - Sensitivity: 0.0305 - tn: 15415.0000 - auc: 0.6990 - prc: 0.3154 - val_loss: 0.4392 - val_Sensitivity: 0.1070 - val_tn: 3817.0000 - val_auc: 0.6928 - val_prc: 0.3103\n",
      "Epoch 116/200\n",
      "18586/18586 [==============================] - 0s 12us/sample - loss: 0.4126 - Sensitivity: 0.0289 - tn: 15452.0000 - auc: 0.7011 - prc: 0.3235 - val_loss: 0.4371 - val_Sensitivity: 0.1056 - val_tn: 3817.0000 - val_auc: 0.6937 - val_prc: 0.3110\n",
      "Epoch 117/200\n",
      "18586/18586 [==============================] - 0s 11us/sample - loss: 0.4126 - Sensitivity: 0.0367 - tn: 15409.0000 - auc: 0.7020 - prc: 0.3223 - val_loss: 0.4407 - val_Sensitivity: 0.1070 - val_tn: 3813.0000 - val_auc: 0.6925 - val_prc: 0.3094\n",
      "Epoch 118/200\n",
      "18586/18586 [==============================] - 0s 12us/sample - loss: 0.4143 - Sensitivity: 0.0309 - tn: 15425.0000 - auc: 0.6986 - prc: 0.3169 - val_loss: 0.4401 - val_Sensitivity: 0.1029 - val_tn: 3817.0000 - val_auc: 0.6931 - val_prc: 0.3105\n",
      "Epoch 119/200\n",
      "18586/18586 [==============================] - 0s 11us/sample - loss: 0.4141 - Sensitivity: 0.0266 - tn: 15440.0000 - auc: 0.6998 - prc: 0.3156 - val_loss: 0.4423 - val_Sensitivity: 0.1043 - val_tn: 3817.0000 - val_auc: 0.6901 - val_prc: 0.3077\n",
      "Epoch 120/200\n",
      "18586/18586 [==============================] - 0s 10us/sample - loss: 0.4140 - Sensitivity: 0.0328 - tn: 15421.0000 - auc: 0.6989 - prc: 0.3189 - val_loss: 0.4411 - val_Sensitivity: 0.1029 - val_tn: 3818.0000 - val_auc: 0.6909 - val_prc: 0.3095\n",
      "Epoch 121/200\n",
      "18586/18586 [==============================] - 0s 11us/sample - loss: 0.4138 - Sensitivity: 0.0335 - tn: 15428.0000 - auc: 0.7001 - prc: 0.3192 - val_loss: 0.4397 - val_Sensitivity: 0.1056 - val_tn: 3816.0000 - val_auc: 0.6919 - val_prc: 0.3087\n",
      "Epoch 122/200\n",
      "18586/18586 [==============================] - 0s 11us/sample - loss: 0.4127 - Sensitivity: 0.0257 - tn: 15436.0000 - auc: 0.7029 - prc: 0.3178 - val_loss: 0.4373 - val_Sensitivity: 0.1003 - val_tn: 3819.0000 - val_auc: 0.6925 - val_prc: 0.3095\n",
      "Epoch 123/200\n",
      "18586/18586 [==============================] - 0s 11us/sample - loss: 0.4138 - Sensitivity: 0.0318 - tn: 15432.0000 - auc: 0.7001 - prc: 0.3186 - val_loss: 0.4394 - val_Sensitivity: 0.0989 - val_tn: 3820.0000 - val_auc: 0.6937 - val_prc: 0.3100\n",
      "Epoch 124/200\n",
      "18586/18586 [==============================] - 0s 11us/sample - loss: 0.4125 - Sensitivity: 0.0299 - tn: 15449.0000 - auc: 0.7026 - prc: 0.3214 - val_loss: 0.4393 - val_Sensitivity: 0.1056 - val_tn: 3816.0000 - val_auc: 0.6907 - val_prc: 0.3085\n",
      "Epoch 125/200\n",
      "18586/18586 [==============================] - 0s 11us/sample - loss: 0.4121 - Sensitivity: 0.0390 - tn: 15402.0000 - auc: 0.7035 - prc: 0.3215 - val_loss: 0.4389 - val_Sensitivity: 0.1056 - val_tn: 3816.0000 - val_auc: 0.6929 - val_prc: 0.3097\n",
      "Epoch 126/200\n",
      "18586/18586 [==============================] - 0s 19us/sample - loss: 0.4129 - Sensitivity: 0.0325 - tn: 15440.0000 - auc: 0.7015 - prc: 0.3220 - val_loss: 0.4377 - val_Sensitivity: 0.0989 - val_tn: 3820.0000 - val_auc: 0.6936 - val_prc: 0.3107\n"
     ]
    },
    {
     "data": {
      "text/plain": [
       "<keras.callbacks.History at 0x7efa6870f670>"
      ]
     },
     "execution_count": 13,
     "metadata": {},
     "output_type": "execute_result"
    }
   ],
   "source": [
    "input_shape = [X.shape[1]]\n",
    "model4 = tf.keras.models.Sequential()\n",
    "model4.add(tf.keras.layers.Flatten(input_shape=input_shape))\n",
    "model4.add(tf.keras.layers.BatchNormalization())\n",
    "for _ in range(2):\n",
    "    model4.add(tf.keras.layers.Dense(1000))\n",
    "    model4.add(tf.keras.layers.BatchNormalization())\n",
    "    model4.add(tf.keras.layers.Dropout(0.8))\n",
    "    model4.add(tf.keras.layers.Activation(\"relu\"))\n",
    "model4.add(tf.keras.layers.Dense(1, activation=\"sigmoid\"))\n",
    "\n",
    "opt = tf.keras.optimizers.Adam(learning_rate=3e-4)\n",
    "\n",
    "metrics = [tf.keras.metrics.Recall(name='Sensitivity'), tf.keras.metrics.TrueNegatives(name='tn'), tf.keras.metrics.AUC(name='auc'), tf.keras.metrics.AUC(name='prc', curve='PR')]\n",
    "\n",
    "model4.compile(\n",
    "    optimizer=opt,\n",
    "    loss=tf.keras.losses.BinaryCrossentropy(from_logits=False),\n",
    "    metrics=metrics,)\n",
    "\n",
    "early_stopping = tf.keras.callbacks.EarlyStopping(\n",
    "    patience=10,\n",
    "    min_delta=0.00001,\n",
    "    restore_best_weights=True,)\n",
    "model4.fit(X_train, y_train,\n",
    "    validation_data=(X_valid, y_valid),\n",
    "    batch_size=1024,\n",
    "    epochs=200,\n",
    "    callbacks=[early_stopping])\n"
   ]
  },
  {
   "cell_type": "code",
   "execution_count": 14,
   "metadata": {},
   "outputs": [
    {
     "data": {
      "text/plain": [
       "(18586, 14)"
      ]
     },
     "execution_count": 14,
     "metadata": {},
     "output_type": "execute_result"
    }
   ],
   "source": [
    "X_train.shape"
   ]
  },
  {
   "cell_type": "code",
   "execution_count": 15,
   "metadata": {},
   "outputs": [
    {
     "data": {
      "text/plain": [
       "(4647, 14)"
      ]
     },
     "execution_count": 15,
     "metadata": {},
     "output_type": "execute_result"
    }
   ],
   "source": [
    "X_valid.shape"
   ]
  },
  {
   "cell_type": "code",
   "execution_count": 16,
   "metadata": {},
   "outputs": [
    {
     "data": {
      "image/png": "[encoded data removed]",
      "text/plain": [
       "<Figure size 576x511.2 with 1 Axes>"
      ]
     },
     "metadata": {
      "needs_background": "light"
     },
     "output_type": "display_data"
    }
   ],
   "source": [
    "\n",
    "\n",
    "import shap\n",
    "tf.config.list_physical_devices('GPU')\n",
    "explainer = shap.DeepExplainer(model4, X_train.sample(n=4000))\n",
    "shap_values = explainer.shap_values(X_valid.sample(n=4000).values)\n",
    "shap.summary_plot(shap_values, X_valid.sample(n=4000))"
   ]
  },
  {
   "cell_type": "code",
   "execution_count": null,
   "metadata": {},
   "outputs": [],
   "source": []
  }
 ],
 "metadata": {
  "interpreter": {
   "hash": "916dbcbb3f70747c44a77c7bcd40155683ae19c65e1c03b4aa3499c5328201f1"
  },
  "kernelspec": {
   "display_name": "Python 3.9.5 64-bit",
   "name": "python3"
  },
  "language_info": {
   "codemirror_mode": {
    "name": "ipython",
    "version": 3
   },
   "file_extension": ".py",
   "mimetype": "text/x-python",
   "name": "python",
   "nbconvert_exporter": "python",
   "pygments_lexer": "ipython3",
   "version": "3.9.5"
  },
  "orig_nbformat": 4
 },
 "nbformat": 4,
 "nbformat_minor": 2
}
