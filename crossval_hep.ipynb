{
 "cells": [
  {
   "cell_type": "code",
   "execution_count": 39,
   "metadata": {},
   "outputs": [],
   "source": [
    "import numpy as np\n",
    "import pandas as pd\n",
    "from sklearn.metrics import confusion_matrix, roc_auc_score, roc_curve, accuracy_score, auc, precision_recall_curve, average_precision_score\n",
    "from sklearn.model_selection import train_test_split\n",
    "from sklearn.metrics import roc_auc_score\n",
    "from sklearn.model_selection import cross_val_score\n",
    "from sklearn.metrics import recall_score\n",
    "from sklearn.ensemble import RandomForestClassifier\n",
    "from sklearn.model_selection import train_test_split\n",
    "from xgboost.sklearn import XGBClassifier\n",
    "from matplotlib import pyplot as plt\n",
    "from math import sqrt\n",
    "from sklearn.linear_model import LogisticRegression\n",
    "from sklearn.model_selection import StratifiedKFold\n",
    "from scipy import stats as st\n",
    "from random import randrange"
   ]
  },
  {
   "cell_type": "code",
   "execution_count": 40,
   "metadata": {},
   "outputs": [],
   "source": [
    "pd.options.display.max_rows = 20\n",
    "pd.options.display.max_columns = 200\n",
    "data = pd.read_csv('clean_hep.csv', index_col='CASEID')\n"
   ]
  },
  {
   "cell_type": "code",
   "execution_count": 41,
   "metadata": {},
   "outputs": [],
   "source": [
    "data = data.drop(['Unnamed: 0'], axis=1)"
   ]
  },
  {
   "cell_type": "code",
   "execution_count": 42,
   "metadata": {},
   "outputs": [
    {
     "data": {
      "text/plain": [
       "(25403, 70)"
      ]
     },
     "execution_count": 42,
     "metadata": {},
     "output_type": "execute_result"
    }
   ],
   "source": [
    "data.shape"
   ]
  },
  {
   "cell_type": "code",
   "execution_count": 43,
   "metadata": {},
   "outputs": [],
   "source": [
    "y = data['HEP_BILELEAKAGE']\n",
    "X = data.drop(['HEP_BILELEAKAGE'], axis=1)"
   ]
  },
  {
   "cell_type": "code",
   "execution_count": 44,
   "metadata": {},
   "outputs": [],
   "source": [
    "skf = StratifiedKFold(n_splits=5, random_state=0, shuffle=True)\n",
    "fold_no=0\n",
    "for train_index, test_index in skf.split(data, y):\n",
    "    train = data.loc[train_index,:]\n",
    "    test = data.loc[test_index,:]\n",
    "    train_filename = 'train' + str(fold_no) + '.csv'\n",
    "    test_filename = 'test' + str(fold_no) + '.csv' \n",
    "    train.to_csv('splits/' + train_filename, index=False)\n",
    "    test.to_csv('splits/' + test_filename, index=False) \n",
    "    fold_no += 1"
   ]
  },
  {
   "cell_type": "code",
   "execution_count": 45,
   "metadata": {},
   "outputs": [],
   "source": [
    "d = {}\n",
    "for x in range(1,6):\n",
    "    d['train{}'.format(x)] = pd.read_csv('splits/train{}.csv'.format(x), low_memory=False)\n",
    "    d['test{}'.format(x)] = pd.read_csv('splits/test{}.csv'.format(x), low_memory=False)"
   ]
  },
  {
   "cell_type": "code",
   "execution_count": 46,
   "metadata": {},
   "outputs": [
    {
     "name": "stdout",
     "output_type": "stream",
     "text": [
      "5081\n",
      "5081\n",
      "5081\n",
      "5081\n",
      "5081\n"
     ]
    }
   ],
   "source": [
    "for x in range(1,6):\n",
    "    print(len(d['test1']))"
   ]
  },
  {
   "cell_type": "code",
   "execution_count": 47,
   "metadata": {},
   "outputs": [],
   "source": [
    "dX_train = []\n",
    "dy_train = []\n",
    "for x in d:\n",
    "    if 'train' in x:\n",
    "        dX_train.append(d[x].drop(columns=['HEP_BILELEAKAGE'], axis=1))\n",
    "        dy_train.append(d[x]['HEP_BILELEAKAGE'])"
   ]
  },
  {
   "cell_type": "code",
   "execution_count": 48,
   "metadata": {},
   "outputs": [],
   "source": [
    "dX_test = []\n",
    "dy_test = []\n",
    "for x in d:\n",
    "    if 'test' in x:\n",
    "        dX_test.append(d[x].drop(columns=['HEP_BILELEAKAGE'], axis=1))\n",
    "        dy_test.append(d[x]['HEP_BILELEAKAGE'])"
   ]
  },
  {
   "cell_type": "markdown",
   "metadata": {},
   "source": [
    "rfpreds = []\n",
    "xgbpreds = []\n",
    "model = RandomForestClassifier(n_estimators=1250, min_samples_split=2, min_samples_leaf=8, max_features='auto', max_depth=20, bootstrap=True)\n",
    "model2 = XGBClassifier(n_estimators=50, subsample=0.6, min_child_weight=10, max_depth=6, learning_rate=0.1, colsample_bytree=0.8)\n",
    "for X, y, X_test in zip(dX_train, dy_train, dX_test):\n",
    "    model.fit(X, y)\n",
    "    model2.fit(X, y)\n",
    "    rfpreds.append(model.predict_proba(X_test))\n",
    "    xgbpreds.append(model2.predict_proba(X_test))"
   ]
  },
  {
   "cell_type": "markdown",
   "metadata": {},
   "source": [
    "%store rfpreds\n",
    "%store xgbpreds"
   ]
  },
  {
   "cell_type": "markdown",
   "metadata": {},
   "source": [
    "for x in range(1,6):\n",
    "    print(roc_auc_score(dy_test[x], rfpreds[x][:,1]))\n",
    "    "
   ]
  },
  {
   "cell_type": "markdown",
   "metadata": {},
   "source": [
    "for x in range(1,6):\n",
    "    print(roc_auc_score(dy_test[x], xgbpreds[x][:,1]))"
   ]
  },
  {
   "cell_type": "code",
   "execution_count": 49,
   "metadata": {},
   "outputs": [],
   "source": [
    "from tensorflow import keras\n",
    "input_shape = [dX_train[1].shape[1]]\n",
    "model4 = keras.models.Sequential()\n",
    "model4.add(keras.layers.Flatten(input_shape=input_shape))\n",
    "model4.add(keras.layers.BatchNormalization())\n",
    "for _ in range(2):\n",
    "    model4.add(keras.layers.Dense(1000))\n",
    "    model4.add(keras.layers.BatchNormalization())\n",
    "    model4.add(keras.layers.Dropout(0.8))\n",
    "    model4.add(keras.layers.Activation(\"relu\"))\n",
    "model4.add(keras.layers.Dense(1, activation=\"sigmoid\"))\n",
    "\n",
    "opt = keras.optimizers.Adam(learning_rate=3e-4)\n",
    "\n",
    "metrics = [keras.metrics.Recall(name='Sensitivity'), keras.metrics.TrueNegatives(name='tn'), keras.metrics.AUC(name='auc'), keras.metrics.AUC(name='prc', curve='PR')]\n",
    "\n",
    "model4.compile(\n",
    "    optimizer=opt,\n",
    "    loss=keras.losses.BinaryCrossentropy(from_logits=False),\n",
    "    metrics=metrics,)\n",
    "\n",
    "early_stopping = keras.callbacks.EarlyStopping(\n",
    "    patience=10,\n",
    "    min_delta=0.00001,\n",
    "    restore_best_weights=True,)\n"
   ]
  },
  {
   "cell_type": "code",
   "execution_count": 50,
   "metadata": {},
   "outputs": [
    {
     "name": "stdout",
     "output_type": "stream",
     "text": [
      "Epoch 1/200\n",
      "30/30 [==============================] - 2s 30ms/step - loss: 0.4475 - Sensitivity: 0.1922 - tn: 12550.0000 - auc: 0.5167 - prc: 0.0415 - val_loss: 1.4602 - val_Sensitivity: 1.0000 - val_tn: 1.0000 - val_auc: 0.6611 - val_prc: 0.0743\n",
      "Epoch 2/200\n",
      "30/30 [==============================] - 0s 12ms/step - loss: 0.2401 - Sensitivity: 0.0511 - tn: 14386.0000 - auc: 0.5121 - prc: 0.0464 - val_loss: 0.6511 - val_Sensitivity: 0.5879 - val_tn: 3391.0000 - val_auc: 0.6852 - val_prc: 0.0867\n",
      "Epoch 3/200\n",
      "30/30 [==============================] - 0s 13ms/step - loss: 0.2138 - Sensitivity: 0.0317 - tn: 14502.0000 - auc: 0.5722 - prc: 0.0545 - val_loss: 0.5144 - val_Sensitivity: 0.3618 - val_tn: 4309.0000 - val_auc: 0.6969 - val_prc: 0.0911\n",
      "Epoch 4/200\n",
      "30/30 [==============================] - 0s 13ms/step - loss: 0.2140 - Sensitivity: 0.0441 - tn: 14474.0000 - auc: 0.6030 - prc: 0.0602 - val_loss: 0.3916 - val_Sensitivity: 0.2312 - val_tn: 4587.0000 - val_auc: 0.7030 - val_prc: 0.0918\n",
      "Epoch 5/200\n",
      "30/30 [==============================] - 0s 12ms/step - loss: 0.2122 - Sensitivity: 0.0423 - tn: 14512.0000 - auc: 0.5986 - prc: 0.0670 - val_loss: 0.3422 - val_Sensitivity: 0.1910 - val_tn: 4649.0000 - val_auc: 0.7052 - val_prc: 0.0926\n",
      "Epoch 6/200\n",
      "30/30 [==============================] - 0s 13ms/step - loss: 0.1954 - Sensitivity: 0.0582 - tn: 14529.0000 - auc: 0.6407 - prc: 0.0836 - val_loss: 0.3089 - val_Sensitivity: 0.1809 - val_tn: 4665.0000 - val_auc: 0.7133 - val_prc: 0.0968\n",
      "Epoch 7/200\n",
      "30/30 [==============================] - 0s 13ms/step - loss: 0.2029 - Sensitivity: 0.0582 - tn: 14520.0000 - auc: 0.6356 - prc: 0.0781 - val_loss: 0.2916 - val_Sensitivity: 0.1910 - val_tn: 4658.0000 - val_auc: 0.7180 - val_prc: 0.0977\n",
      "Epoch 8/200\n",
      "30/30 [==============================] - 0s 12ms/step - loss: 0.1976 - Sensitivity: 0.0529 - tn: 14521.0000 - auc: 0.6314 - prc: 0.0754 - val_loss: 0.2620 - val_Sensitivity: 0.1859 - val_tn: 4678.0000 - val_auc: 0.7244 - val_prc: 0.1000\n",
      "Epoch 9/200\n",
      "30/30 [==============================] - 0s 13ms/step - loss: 0.1918 - Sensitivity: 0.0370 - tn: 14542.0000 - auc: 0.6416 - prc: 0.0735 - val_loss: 0.2668 - val_Sensitivity: 0.2060 - val_tn: 4631.0000 - val_auc: 0.7287 - val_prc: 0.0989\n",
      "Epoch 10/200\n",
      "30/30 [==============================] - 0s 13ms/step - loss: 0.1932 - Sensitivity: 0.0600 - tn: 14518.0000 - auc: 0.6573 - prc: 0.0785 - val_loss: 0.2529 - val_Sensitivity: 0.2010 - val_tn: 4656.0000 - val_auc: 0.7304 - val_prc: 0.1001\n",
      "Epoch 11/200\n",
      "30/30 [==============================] - 0s 13ms/step - loss: 0.1907 - Sensitivity: 0.0476 - tn: 14540.0000 - auc: 0.6473 - prc: 0.0810 - val_loss: 0.2266 - val_Sensitivity: 0.1759 - val_tn: 4722.0000 - val_auc: 0.7310 - val_prc: 0.1036\n",
      "Epoch 12/200\n",
      "30/30 [==============================] - 0s 13ms/step - loss: 0.1911 - Sensitivity: 0.0353 - tn: 14567.0000 - auc: 0.6259 - prc: 0.0766 - val_loss: 0.2393 - val_Sensitivity: 0.2010 - val_tn: 4664.0000 - val_auc: 0.7325 - val_prc: 0.1009\n",
      "Epoch 13/200\n",
      "30/30 [==============================] - 0s 13ms/step - loss: 0.1901 - Sensitivity: 0.0547 - tn: 14527.0000 - auc: 0.6486 - prc: 0.0748 - val_loss: 0.2400 - val_Sensitivity: 0.2060 - val_tn: 4664.0000 - val_auc: 0.7339 - val_prc: 0.1012\n",
      "Epoch 14/200\n",
      "30/30 [==============================] - 0s 13ms/step - loss: 0.1822 - Sensitivity: 0.0564 - tn: 14568.0000 - auc: 0.6559 - prc: 0.0851 - val_loss: 0.2274 - val_Sensitivity: 0.1508 - val_tn: 4718.0000 - val_auc: 0.7345 - val_prc: 0.1011\n",
      "Epoch 15/200\n",
      "30/30 [==============================] - 0s 13ms/step - loss: 0.1838 - Sensitivity: 0.0423 - tn: 14575.0000 - auc: 0.6608 - prc: 0.0806 - val_loss: 0.2211 - val_Sensitivity: 0.1558 - val_tn: 4723.0000 - val_auc: 0.7353 - val_prc: 0.1054\n",
      "Epoch 16/200\n",
      "30/30 [==============================] - 0s 13ms/step - loss: 0.1771 - Sensitivity: 0.0511 - tn: 14582.0000 - auc: 0.6734 - prc: 0.0981 - val_loss: 0.2323 - val_Sensitivity: 0.1709 - val_tn: 4712.0000 - val_auc: 0.7359 - val_prc: 0.1043\n",
      "Epoch 17/200\n",
      "30/30 [==============================] - 0s 13ms/step - loss: 0.1728 - Sensitivity: 0.0353 - tn: 14582.0000 - auc: 0.6852 - prc: 0.0880 - val_loss: 0.2399 - val_Sensitivity: 0.1859 - val_tn: 4694.0000 - val_auc: 0.7340 - val_prc: 0.1033\n",
      "Epoch 18/200\n",
      "30/30 [==============================] - 0s 13ms/step - loss: 0.1721 - Sensitivity: 0.0459 - tn: 14583.0000 - auc: 0.6842 - prc: 0.0974 - val_loss: 0.2400 - val_Sensitivity: 0.1759 - val_tn: 4694.0000 - val_auc: 0.7310 - val_prc: 0.1006\n",
      "Epoch 19/200\n",
      "30/30 [==============================] - 0s 13ms/step - loss: 0.1692 - Sensitivity: 0.0564 - tn: 14588.0000 - auc: 0.7015 - prc: 0.1039 - val_loss: 0.2287 - val_Sensitivity: 0.1608 - val_tn: 4713.0000 - val_auc: 0.7323 - val_prc: 0.1009\n",
      "Epoch 20/200\n",
      "30/30 [==============================] - 0s 13ms/step - loss: 0.1664 - Sensitivity: 0.0388 - tn: 14597.0000 - auc: 0.7037 - prc: 0.0994 - val_loss: 0.2254 - val_Sensitivity: 0.1457 - val_tn: 4729.0000 - val_auc: 0.7343 - val_prc: 0.1019\n",
      "Epoch 21/200\n",
      "30/30 [==============================] - 0s 13ms/step - loss: 0.1691 - Sensitivity: 0.0529 - tn: 14586.0000 - auc: 0.7005 - prc: 0.0987 - val_loss: 0.2321 - val_Sensitivity: 0.1508 - val_tn: 4712.0000 - val_auc: 0.7324 - val_prc: 0.0993\n",
      "Epoch 22/200\n",
      "30/30 [==============================] - 0s 13ms/step - loss: 0.1632 - Sensitivity: 0.0335 - tn: 14615.0000 - auc: 0.7092 - prc: 0.1031 - val_loss: 0.2334 - val_Sensitivity: 0.1005 - val_tn: 4741.0000 - val_auc: 0.7293 - val_prc: 0.0974\n",
      "Epoch 23/200\n",
      "30/30 [==============================] - 0s 13ms/step - loss: 0.1637 - Sensitivity: 0.0441 - tn: 14604.0000 - auc: 0.7081 - prc: 0.1021 - val_loss: 0.2396 - val_Sensitivity: 0.1055 - val_tn: 4728.0000 - val_auc: 0.7284 - val_prc: 0.0962\n",
      "Epoch 24/200\n",
      "30/30 [==============================] - 0s 13ms/step - loss: 0.1596 - Sensitivity: 0.0370 - tn: 14623.0000 - auc: 0.7148 - prc: 0.1227 - val_loss: 0.2351 - val_Sensitivity: 0.0905 - val_tn: 4741.0000 - val_auc: 0.7271 - val_prc: 0.0959\n",
      "Epoch 25/200\n",
      "30/30 [==============================] - 0s 14ms/step - loss: 0.1620 - Sensitivity: 0.0335 - tn: 14615.0000 - auc: 0.7224 - prc: 0.1114 - val_loss: 0.2318 - val_Sensitivity: 0.0905 - val_tn: 4756.0000 - val_auc: 0.7289 - val_prc: 0.0978\n",
      "Epoch 1/200\n",
      "30/30 [==============================] - 0s 15ms/step - loss: 0.1804 - Sensitivity: 0.0383 - tn: 14572.0000 - auc: 0.6717 - prc: 0.0879 - val_loss: 0.2372 - val_Sensitivity: 0.2318 - val_tn: 4652.0000 - val_auc: 0.7625 - val_prc: 0.1549\n",
      "Epoch 2/200\n",
      "30/30 [==============================] - 0s 13ms/step - loss: 0.1799 - Sensitivity: 0.0365 - tn: 14544.0000 - auc: 0.6715 - prc: 0.0831 - val_loss: 0.2367 - val_Sensitivity: 0.2000 - val_tn: 4678.0000 - val_auc: 0.7606 - val_prc: 0.1490\n",
      "Epoch 3/200\n",
      "30/30 [==============================] - 0s 13ms/step - loss: 0.1750 - Sensitivity: 0.0348 - tn: 14583.0000 - auc: 0.6778 - prc: 0.0939 - val_loss: 0.2503 - val_Sensitivity: 0.2182 - val_tn: 4655.0000 - val_auc: 0.7566 - val_prc: 0.1478\n",
      "Epoch 4/200\n",
      "30/30 [==============================] - 0s 13ms/step - loss: 0.1713 - Sensitivity: 0.0435 - tn: 14578.0000 - auc: 0.6994 - prc: 0.0976 - val_loss: 0.2377 - val_Sensitivity: 0.1500 - val_tn: 4720.0000 - val_auc: 0.7550 - val_prc: 0.1441\n",
      "Epoch 5/200\n",
      "30/30 [==============================] - 0s 13ms/step - loss: 0.1731 - Sensitivity: 0.0226 - tn: 14610.0000 - auc: 0.6856 - prc: 0.0880 - val_loss: 0.2392 - val_Sensitivity: 0.1545 - val_tn: 4708.0000 - val_auc: 0.7551 - val_prc: 0.1403\n",
      "Epoch 6/200\n",
      "30/30 [==============================] - 0s 13ms/step - loss: 0.1695 - Sensitivity: 0.0400 - tn: 14581.0000 - auc: 0.6940 - prc: 0.0922 - val_loss: 0.2372 - val_Sensitivity: 0.1545 - val_tn: 4726.0000 - val_auc: 0.7533 - val_prc: 0.1422\n",
      "Epoch 7/200\n",
      "30/30 [==============================] - 0s 13ms/step - loss: 0.1677 - Sensitivity: 0.0400 - tn: 14610.0000 - auc: 0.6876 - prc: 0.0999 - val_loss: 0.2402 - val_Sensitivity: 0.1727 - val_tn: 4723.0000 - val_auc: 0.7509 - val_prc: 0.1407\n",
      "Epoch 8/200\n",
      "30/30 [==============================] - 0s 13ms/step - loss: 0.1631 - Sensitivity: 0.0400 - tn: 14605.0000 - auc: 0.7164 - prc: 0.1082 - val_loss: 0.2398 - val_Sensitivity: 0.1727 - val_tn: 4699.0000 - val_auc: 0.7494 - val_prc: 0.1347\n",
      "Epoch 9/200\n",
      "30/30 [==============================] - 0s 13ms/step - loss: 0.1642 - Sensitivity: 0.0348 - tn: 14607.0000 - auc: 0.6969 - prc: 0.0990 - val_loss: 0.2360 - val_Sensitivity: 0.1545 - val_tn: 4704.0000 - val_auc: 0.7482 - val_prc: 0.1362\n",
      "Epoch 10/200\n",
      "30/30 [==============================] - 0s 13ms/step - loss: 0.1674 - Sensitivity: 0.0313 - tn: 14611.0000 - auc: 0.6821 - prc: 0.0949 - val_loss: 0.2342 - val_Sensitivity: 0.1500 - val_tn: 4726.0000 - val_auc: 0.7482 - val_prc: 0.1373\n",
      "Epoch 11/200\n",
      "30/30 [==============================] - 0s 13ms/step - loss: 0.1639 - Sensitivity: 0.0313 - tn: 14620.0000 - auc: 0.6994 - prc: 0.0987 - val_loss: 0.2395 - val_Sensitivity: 0.1545 - val_tn: 4715.0000 - val_auc: 0.7458 - val_prc: 0.1350\n",
      "Epoch 12/200\n",
      "30/30 [==============================] - 0s 13ms/step - loss: 0.1611 - Sensitivity: 0.0261 - tn: 14611.0000 - auc: 0.7140 - prc: 0.0964 - val_loss: 0.2356 - val_Sensitivity: 0.1318 - val_tn: 4737.0000 - val_auc: 0.7459 - val_prc: 0.1339\n",
      "Epoch 13/200\n",
      "30/30 [==============================] - 0s 13ms/step - loss: 0.1556 - Sensitivity: 0.0243 - tn: 14633.0000 - auc: 0.7291 - prc: 0.1139 - val_loss: 0.2393 - val_Sensitivity: 0.1591 - val_tn: 4720.0000 - val_auc: 0.7461 - val_prc: 0.1326\n",
      "Epoch 14/200\n",
      "30/30 [==============================] - 0s 13ms/step - loss: 0.1583 - Sensitivity: 0.0330 - tn: 14618.0000 - auc: 0.7275 - prc: 0.1080 - val_loss: 0.2426 - val_Sensitivity: 0.1636 - val_tn: 4704.0000 - val_auc: 0.7449 - val_prc: 0.1313\n",
      "Epoch 15/200\n",
      "30/30 [==============================] - 0s 13ms/step - loss: 0.1592 - Sensitivity: 0.0243 - tn: 14620.0000 - auc: 0.7175 - prc: 0.1095 - val_loss: 0.2378 - val_Sensitivity: 0.1318 - val_tn: 4732.0000 - val_auc: 0.7443 - val_prc: 0.1306\n",
      "Epoch 16/200\n",
      "30/30 [==============================] - 0s 13ms/step - loss: 0.1569 - Sensitivity: 0.0261 - tn: 14628.0000 - auc: 0.7266 - prc: 0.1169 - val_loss: 0.2375 - val_Sensitivity: 0.1182 - val_tn: 4745.0000 - val_auc: 0.7423 - val_prc: 0.1291\n",
      "Epoch 17/200\n",
      "30/30 [==============================] - 0s 13ms/step - loss: 0.1541 - Sensitivity: 0.0087 - tn: 14631.0000 - auc: 0.7356 - prc: 0.1143 - val_loss: 0.2304 - val_Sensitivity: 0.1091 - val_tn: 4761.0000 - val_auc: 0.7438 - val_prc: 0.1318\n",
      "Epoch 18/200\n",
      "30/30 [==============================] - 0s 13ms/step - loss: 0.1519 - Sensitivity: 0.0296 - tn: 14634.0000 - auc: 0.7417 - prc: 0.1191 - val_loss: 0.2265 - val_Sensitivity: 0.1045 - val_tn: 4771.0000 - val_auc: 0.7432 - val_prc: 0.1322\n",
      "Epoch 19/200\n",
      "30/30 [==============================] - 0s 13ms/step - loss: 0.1498 - Sensitivity: 0.0209 - tn: 14629.0000 - auc: 0.7523 - prc: 0.1301 - val_loss: 0.2291 - val_Sensitivity: 0.1091 - val_tn: 4770.0000 - val_auc: 0.7421 - val_prc: 0.1308\n",
      "Epoch 20/200\n",
      "30/30 [==============================] - 0s 13ms/step - loss: 0.1508 - Sensitivity: 0.0174 - tn: 14639.0000 - auc: 0.7419 - prc: 0.1215 - val_loss: 0.2289 - val_Sensitivity: 0.1091 - val_tn: 4771.0000 - val_auc: 0.7424 - val_prc: 0.1317\n",
      "Epoch 21/200\n",
      "30/30 [==============================] - 0s 13ms/step - loss: 0.1509 - Sensitivity: 0.0209 - tn: 14648.0000 - auc: 0.7469 - prc: 0.1311 - val_loss: 0.2295 - val_Sensitivity: 0.1045 - val_tn: 4779.0000 - val_auc: 0.7402 - val_prc: 0.1305\n",
      "Epoch 22/200\n",
      "30/30 [==============================] - 0s 13ms/step - loss: 0.1476 - Sensitivity: 0.0226 - tn: 14642.0000 - auc: 0.7581 - prc: 0.1424 - val_loss: 0.2358 - val_Sensitivity: 0.1182 - val_tn: 4762.0000 - val_auc: 0.7380 - val_prc: 0.1285\n",
      "Epoch 23/200\n",
      "30/30 [==============================] - 0s 13ms/step - loss: 0.1483 - Sensitivity: 0.0226 - tn: 14643.0000 - auc: 0.7469 - prc: 0.1368 - val_loss: 0.2335 - val_Sensitivity: 0.1045 - val_tn: 4770.0000 - val_auc: 0.7380 - val_prc: 0.1259\n",
      "Epoch 24/200\n",
      "30/30 [==============================] - 0s 13ms/step - loss: 0.1528 - Sensitivity: 0.0139 - tn: 14644.0000 - auc: 0.7362 - prc: 0.1102 - val_loss: 0.2326 - val_Sensitivity: 0.1045 - val_tn: 4774.0000 - val_auc: 0.7378 - val_prc: 0.1255\n",
      "Epoch 25/200\n",
      "30/30 [==============================] - 0s 13ms/step - loss: 0.1447 - Sensitivity: 0.0191 - tn: 14646.0000 - auc: 0.7689 - prc: 0.1446 - val_loss: 0.2374 - val_Sensitivity: 0.1182 - val_tn: 4765.0000 - val_auc: 0.7354 - val_prc: 0.1223\n",
      "Epoch 26/200\n",
      "30/30 [==============================] - 0s 13ms/step - loss: 0.1451 - Sensitivity: 0.0191 - tn: 14647.0000 - auc: 0.7682 - prc: 0.1346 - val_loss: 0.2358 - val_Sensitivity: 0.1136 - val_tn: 4763.0000 - val_auc: 0.7349 - val_prc: 0.1207\n",
      "Epoch 27/200\n",
      "30/30 [==============================] - 0s 12ms/step - loss: 0.1454 - Sensitivity: 0.0209 - tn: 14650.0000 - auc: 0.7631 - prc: 0.1529 - val_loss: 0.2284 - val_Sensitivity: 0.1045 - val_tn: 4775.0000 - val_auc: 0.7371 - val_prc: 0.1225\n",
      "Epoch 28/200\n",
      "30/30 [==============================] - 0s 13ms/step - loss: 0.1465 - Sensitivity: 0.0157 - tn: 14644.0000 - auc: 0.7622 - prc: 0.1286 - val_loss: 0.2303 - val_Sensitivity: 0.1136 - val_tn: 4771.0000 - val_auc: 0.7369 - val_prc: 0.1210\n",
      "Epoch 1/200\n",
      "30/30 [==============================] - 0s 15ms/step - loss: 0.1579 - Sensitivity: 0.0086 - tn: 14638.0000 - auc: 0.7164 - prc: 0.1006 - val_loss: 0.2125 - val_Sensitivity: 0.1222 - val_tn: 4849.0000 - val_auc: 0.7737 - val_prc: 0.1553\n",
      "Epoch 2/200\n",
      "30/30 [==============================] - 0s 13ms/step - loss: 0.1560 - Sensitivity: 0.0103 - tn: 14639.0000 - auc: 0.7180 - prc: 0.1094 - val_loss: 0.2196 - val_Sensitivity: 0.1278 - val_tn: 4838.0000 - val_auc: 0.7704 - val_prc: 0.1462\n",
      "Epoch 3/200\n",
      "30/30 [==============================] - 0s 13ms/step - loss: 0.1540 - Sensitivity: 0.0086 - tn: 14650.0000 - auc: 0.7311 - prc: 0.1102 - val_loss: 0.2152 - val_Sensitivity: 0.1111 - val_tn: 4843.0000 - val_auc: 0.7694 - val_prc: 0.1454\n",
      "Epoch 4/200\n",
      "30/30 [==============================] - 0s 13ms/step - loss: 0.1568 - Sensitivity: 0.0017 - tn: 14647.0000 - auc: 0.7185 - prc: 0.0998 - val_loss: 0.2144 - val_Sensitivity: 0.1056 - val_tn: 4849.0000 - val_auc: 0.7677 - val_prc: 0.1452\n",
      "Epoch 5/200\n",
      "30/30 [==============================] - 0s 13ms/step - loss: 0.1527 - Sensitivity: 0.0172 - tn: 14650.0000 - auc: 0.7257 - prc: 0.1260 - val_loss: 0.2182 - val_Sensitivity: 0.1167 - val_tn: 4845.0000 - val_auc: 0.7669 - val_prc: 0.1431\n",
      "Epoch 6/200\n",
      "30/30 [==============================] - 0s 13ms/step - loss: 0.1521 - Sensitivity: 0.0103 - tn: 14649.0000 - auc: 0.7380 - prc: 0.1086 - val_loss: 0.2175 - val_Sensitivity: 0.1111 - val_tn: 4852.0000 - val_auc: 0.7652 - val_prc: 0.1406\n",
      "Epoch 7/200\n",
      "30/30 [==============================] - 0s 13ms/step - loss: 0.1513 - Sensitivity: 0.0103 - tn: 14645.0000 - auc: 0.7475 - prc: 0.1155 - val_loss: 0.2153 - val_Sensitivity: 0.0944 - val_tn: 4856.0000 - val_auc: 0.7649 - val_prc: 0.1386\n",
      "Epoch 8/200\n",
      "30/30 [==============================] - 0s 13ms/step - loss: 0.1491 - Sensitivity: 0.0086 - tn: 14646.0000 - auc: 0.7500 - prc: 0.1191 - val_loss: 0.2222 - val_Sensitivity: 0.1000 - val_tn: 4839.0000 - val_auc: 0.7619 - val_prc: 0.1308\n",
      "Epoch 9/200\n",
      "30/30 [==============================] - 0s 12ms/step - loss: 0.1508 - Sensitivity: 0.0069 - tn: 14646.0000 - auc: 0.7465 - prc: 0.1148 - val_loss: 0.2170 - val_Sensitivity: 0.0944 - val_tn: 4854.0000 - val_auc: 0.7624 - val_prc: 0.1319\n",
      "Epoch 10/200\n",
      "30/30 [==============================] - 0s 13ms/step - loss: 0.1503 - Sensitivity: 0.0017 - tn: 14648.0000 - auc: 0.7476 - prc: 0.1153 - val_loss: 0.2207 - val_Sensitivity: 0.0944 - val_tn: 4850.0000 - val_auc: 0.7592 - val_prc: 0.1286\n",
      "Epoch 11/200\n",
      "30/30 [==============================] - 0s 12ms/step - loss: 0.1514 - Sensitivity: 0.0086 - tn: 14648.0000 - auc: 0.7359 - prc: 0.1181 - val_loss: 0.2231 - val_Sensitivity: 0.0944 - val_tn: 4849.0000 - val_auc: 0.7570 - val_prc: 0.1257\n",
      "Epoch 1/200\n",
      "30/30 [==============================] - 0s 14ms/step - loss: 0.1646 - Sensitivity: 0.0151 - tn: 14622.0000 - auc: 0.7173 - prc: 0.1064 - val_loss: 0.2211 - val_Sensitivity: 0.1341 - val_tn: 4829.0000 - val_auc: 0.7886 - val_prc: 0.1570\n",
      "Epoch 2/200\n",
      "30/30 [==============================] - 0s 13ms/step - loss: 0.1613 - Sensitivity: 0.0117 - tn: 14620.0000 - auc: 0.7133 - prc: 0.1010 - val_loss: 0.2259 - val_Sensitivity: 0.1341 - val_tn: 4820.0000 - val_auc: 0.7845 - val_prc: 0.1482\n",
      "Epoch 3/200\n",
      "30/30 [==============================] - 0s 14ms/step - loss: 0.1620 - Sensitivity: 0.0167 - tn: 14625.0000 - auc: 0.7053 - prc: 0.1079 - val_loss: 0.2211 - val_Sensitivity: 0.0950 - val_tn: 4843.0000 - val_auc: 0.7840 - val_prc: 0.1520\n",
      "Epoch 4/200\n",
      "30/30 [==============================] - 0s 13ms/step - loss: 0.1602 - Sensitivity: 0.0117 - tn: 14628.0000 - auc: 0.7223 - prc: 0.1084 - val_loss: 0.2356 - val_Sensitivity: 0.1229 - val_tn: 4796.0000 - val_auc: 0.7799 - val_prc: 0.1338\n",
      "Epoch 5/200\n",
      "30/30 [==============================] - 0s 13ms/step - loss: 0.1592 - Sensitivity: 0.0067 - tn: 14626.0000 - auc: 0.7240 - prc: 0.1063 - val_loss: 0.2244 - val_Sensitivity: 0.0950 - val_tn: 4825.0000 - val_auc: 0.7796 - val_prc: 0.1384\n",
      "Epoch 6/200\n",
      "30/30 [==============================] - 0s 13ms/step - loss: 0.1557 - Sensitivity: 0.0100 - tn: 14629.0000 - auc: 0.7397 - prc: 0.1189 - val_loss: 0.2241 - val_Sensitivity: 0.0838 - val_tn: 4833.0000 - val_auc: 0.7791 - val_prc: 0.1393\n",
      "Epoch 7/200\n",
      "30/30 [==============================] - 0s 13ms/step - loss: 0.1590 - Sensitivity: 0.0167 - tn: 14623.0000 - auc: 0.7156 - prc: 0.1147 - val_loss: 0.2213 - val_Sensitivity: 0.0782 - val_tn: 4849.0000 - val_auc: 0.7776 - val_prc: 0.1423\n",
      "Epoch 8/200\n",
      "30/30 [==============================] - 0s 14ms/step - loss: 0.1556 - Sensitivity: 0.0117 - tn: 14627.0000 - auc: 0.7377 - prc: 0.1156 - val_loss: 0.2194 - val_Sensitivity: 0.0782 - val_tn: 4853.0000 - val_auc: 0.7772 - val_prc: 0.1391\n",
      "Epoch 9/200\n",
      "30/30 [==============================] - 0s 14ms/step - loss: 0.1532 - Sensitivity: 0.0151 - tn: 14636.0000 - auc: 0.7432 - prc: 0.1335 - val_loss: 0.2178 - val_Sensitivity: 0.0615 - val_tn: 4856.0000 - val_auc: 0.7781 - val_prc: 0.1410\n",
      "Epoch 10/200\n",
      "30/30 [==============================] - 0s 14ms/step - loss: 0.1548 - Sensitivity: 0.0033 - tn: 14632.0000 - auc: 0.7352 - prc: 0.1146 - val_loss: 0.2208 - val_Sensitivity: 0.0726 - val_tn: 4848.0000 - val_auc: 0.7762 - val_prc: 0.1373\n",
      "Epoch 11/200\n",
      "30/30 [==============================] - 0s 12ms/step - loss: 0.1511 - Sensitivity: 0.0117 - tn: 14633.0000 - auc: 0.7521 - prc: 0.1383 - val_loss: 0.2182 - val_Sensitivity: 0.0726 - val_tn: 4853.0000 - val_auc: 0.7758 - val_prc: 0.1392\n",
      "Epoch 12/200\n",
      "30/30 [==============================] - 0s 13ms/step - loss: 0.1535 - Sensitivity: 0.0050 - tn: 14634.0000 - auc: 0.7411 - prc: 0.1253 - val_loss: 0.2226 - val_Sensitivity: 0.0726 - val_tn: 4845.0000 - val_auc: 0.7738 - val_prc: 0.1351\n",
      "Epoch 13/200\n",
      "30/30 [==============================] - 0s 13ms/step - loss: 0.1527 - Sensitivity: 0.0100 - tn: 14629.0000 - auc: 0.7471 - prc: 0.1291 - val_loss: 0.2315 - val_Sensitivity: 0.0838 - val_tn: 4814.0000 - val_auc: 0.7720 - val_prc: 0.1224\n",
      "Epoch 14/200\n",
      "30/30 [==============================] - 0s 13ms/step - loss: 0.1504 - Sensitivity: 0.0100 - tn: 14630.0000 - auc: 0.7530 - prc: 0.1271 - val_loss: 0.2224 - val_Sensitivity: 0.0670 - val_tn: 4830.0000 - val_auc: 0.7713 - val_prc: 0.1239\n",
      "Epoch 15/200\n",
      "30/30 [==============================] - 0s 13ms/step - loss: 0.1533 - Sensitivity: 0.0033 - tn: 14629.0000 - auc: 0.7380 - prc: 0.1210 - val_loss: 0.2200 - val_Sensitivity: 0.0670 - val_tn: 4844.0000 - val_auc: 0.7728 - val_prc: 0.1306\n",
      "Epoch 16/200\n",
      "30/30 [==============================] - 0s 12ms/step - loss: 0.1489 - Sensitivity: 0.0167 - tn: 14633.0000 - auc: 0.7620 - prc: 0.1344 - val_loss: 0.2216 - val_Sensitivity: 0.0782 - val_tn: 4825.0000 - val_auc: 0.7715 - val_prc: 0.1225\n",
      "Epoch 17/200\n",
      "30/30 [==============================] - 0s 12ms/step - loss: 0.1511 - Sensitivity: 0.0084 - tn: 14633.0000 - auc: 0.7546 - prc: 0.1301 - val_loss: 0.2174 - val_Sensitivity: 0.0670 - val_tn: 4830.0000 - val_auc: 0.7724 - val_prc: 0.1241\n",
      "Epoch 18/200\n",
      "30/30 [==============================] - 0s 12ms/step - loss: 0.1485 - Sensitivity: 0.0084 - tn: 14636.0000 - auc: 0.7656 - prc: 0.1349 - val_loss: 0.2190 - val_Sensitivity: 0.0670 - val_tn: 4828.0000 - val_auc: 0.7718 - val_prc: 0.1205\n",
      "Epoch 19/200\n",
      "30/30 [==============================] - 0s 11ms/step - loss: 0.1460 - Sensitivity: 0.0067 - tn: 14638.0000 - auc: 0.7727 - prc: 0.1527 - val_loss: 0.2209 - val_Sensitivity: 0.0782 - val_tn: 4822.0000 - val_auc: 0.7698 - val_prc: 0.1141\n",
      "Epoch 20/200\n",
      "30/30 [==============================] - 0s 13ms/step - loss: 0.1467 - Sensitivity: 0.0151 - tn: 14632.0000 - auc: 0.7729 - prc: 0.1417 - val_loss: 0.2150 - val_Sensitivity: 0.0670 - val_tn: 4832.0000 - val_auc: 0.7708 - val_prc: 0.1184\n",
      "Epoch 21/200\n",
      "30/30 [==============================] - 0s 13ms/step - loss: 0.1489 - Sensitivity: 0.0067 - tn: 14638.0000 - auc: 0.7638 - prc: 0.1371 - val_loss: 0.2141 - val_Sensitivity: 0.0670 - val_tn: 4835.0000 - val_auc: 0.7697 - val_prc: 0.1222\n",
      "Epoch 22/200\n",
      "30/30 [==============================] - 0s 13ms/step - loss: 0.1489 - Sensitivity: 0.0067 - tn: 14635.0000 - auc: 0.7598 - prc: 0.1390 - val_loss: 0.2140 - val_Sensitivity: 0.0670 - val_tn: 4833.0000 - val_auc: 0.7693 - val_prc: 0.1197\n",
      "Epoch 23/200\n",
      "30/30 [==============================] - 0s 13ms/step - loss: 0.1472 - Sensitivity: 0.0067 - tn: 14637.0000 - auc: 0.7724 - prc: 0.1418 - val_loss: 0.2113 - val_Sensitivity: 0.0670 - val_tn: 4837.0000 - val_auc: 0.7691 - val_prc: 0.1277\n",
      "Epoch 24/200\n",
      "30/30 [==============================] - 0s 13ms/step - loss: 0.1467 - Sensitivity: 0.0017 - tn: 14633.0000 - auc: 0.7721 - prc: 0.1467 - val_loss: 0.2118 - val_Sensitivity: 0.0670 - val_tn: 4834.0000 - val_auc: 0.7688 - val_prc: 0.1220\n",
      "Epoch 25/200\n",
      "30/30 [==============================] - 0s 13ms/step - loss: 0.1480 - Sensitivity: 0.0084 - tn: 14629.0000 - auc: 0.7644 - prc: 0.1484 - val_loss: 0.2173 - val_Sensitivity: 0.0670 - val_tn: 4833.0000 - val_auc: 0.7679 - val_prc: 0.1172\n",
      "Epoch 26/200\n",
      "30/30 [==============================] - 0s 13ms/step - loss: 0.1444 - Sensitivity: 0.0017 - tn: 14639.0000 - auc: 0.7783 - prc: 0.1585 - val_loss: 0.2123 - val_Sensitivity: 0.0670 - val_tn: 4848.0000 - val_auc: 0.7673 - val_prc: 0.1251\n",
      "Epoch 27/200\n",
      "30/30 [==============================] - 0s 13ms/step - loss: 0.1444 - Sensitivity: 0.0117 - tn: 14638.0000 - auc: 0.7793 - prc: 0.1783 - val_loss: 0.2151 - val_Sensitivity: 0.0670 - val_tn: 4837.0000 - val_auc: 0.7671 - val_prc: 0.1186\n",
      "Epoch 28/200\n",
      "30/30 [==============================] - 0s 13ms/step - loss: 0.1462 - Sensitivity: 0.0100 - tn: 14633.0000 - auc: 0.7718 - prc: 0.1549 - val_loss: 0.2087 - val_Sensitivity: 0.0615 - val_tn: 4855.0000 - val_auc: 0.7663 - val_prc: 0.1261\n",
      "Epoch 29/200\n",
      "30/30 [==============================] - 0s 13ms/step - loss: 0.1462 - Sensitivity: 0.0134 - tn: 14638.0000 - auc: 0.7720 - prc: 0.1571 - val_loss: 0.2105 - val_Sensitivity: 0.0615 - val_tn: 4847.0000 - val_auc: 0.7643 - val_prc: 0.1247\n",
      "Epoch 30/200\n",
      "30/30 [==============================] - 0s 13ms/step - loss: 0.1449 - Sensitivity: 0.0084 - tn: 14639.0000 - auc: 0.7821 - prc: 0.1647 - val_loss: 0.2119 - val_Sensitivity: 0.0670 - val_tn: 4833.0000 - val_auc: 0.7645 - val_prc: 0.1202\n",
      "Epoch 31/200\n",
      "30/30 [==============================] - 0s 13ms/step - loss: 0.1430 - Sensitivity: 0.0084 - tn: 14637.0000 - auc: 0.7884 - prc: 0.1655 - val_loss: 0.2084 - val_Sensitivity: 0.0559 - val_tn: 4840.0000 - val_auc: 0.7641 - val_prc: 0.1189\n",
      "Epoch 32/200\n",
      "30/30 [==============================] - 0s 13ms/step - loss: 0.1439 - Sensitivity: 0.0033 - tn: 14640.0000 - auc: 0.7845 - prc: 0.1640 - val_loss: 0.2093 - val_Sensitivity: 0.0559 - val_tn: 4837.0000 - val_auc: 0.7648 - val_prc: 0.1170\n",
      "Epoch 33/200\n",
      "30/30 [==============================] - 0s 13ms/step - loss: 0.1433 - Sensitivity: 0.0050 - tn: 14643.0000 - auc: 0.7852 - prc: 0.1657 - val_loss: 0.2145 - val_Sensitivity: 0.0670 - val_tn: 4831.0000 - val_auc: 0.7648 - val_prc: 0.1132\n",
      "Epoch 34/200\n",
      "30/30 [==============================] - 0s 13ms/step - loss: 0.1417 - Sensitivity: 0.0084 - tn: 14635.0000 - auc: 0.7930 - prc: 0.1782 - val_loss: 0.2088 - val_Sensitivity: 0.0615 - val_tn: 4837.0000 - val_auc: 0.7649 - val_prc: 0.1144\n",
      "Epoch 35/200\n",
      "30/30 [==============================] - 0s 13ms/step - loss: 0.1427 - Sensitivity: 0.0100 - tn: 14637.0000 - auc: 0.7927 - prc: 0.1621 - val_loss: 0.2074 - val_Sensitivity: 0.0615 - val_tn: 4837.0000 - val_auc: 0.7642 - val_prc: 0.1167\n",
      "Epoch 36/200\n",
      "30/30 [==============================] - 0s 13ms/step - loss: 0.1452 - Sensitivity: 0.0100 - tn: 14638.0000 - auc: 0.7840 - prc: 0.1539 - val_loss: 0.2124 - val_Sensitivity: 0.0670 - val_tn: 4832.0000 - val_auc: 0.7639 - val_prc: 0.1134\n",
      "Epoch 37/200\n",
      "30/30 [==============================] - 0s 13ms/step - loss: 0.1428 - Sensitivity: 0.0167 - tn: 14639.0000 - auc: 0.7880 - prc: 0.1762 - val_loss: 0.2111 - val_Sensitivity: 0.0615 - val_tn: 4831.0000 - val_auc: 0.7638 - val_prc: 0.1134\n",
      "Epoch 38/200\n",
      "30/30 [==============================] - 0s 14ms/step - loss: 0.1431 - Sensitivity: 0.0033 - tn: 14635.0000 - auc: 0.7914 - prc: 0.1580 - val_loss: 0.2060 - val_Sensitivity: 0.0559 - val_tn: 4836.0000 - val_auc: 0.7641 - val_prc: 0.1152\n",
      "Epoch 39/200\n",
      "30/30 [==============================] - 0s 13ms/step - loss: 0.1432 - Sensitivity: 0.0050 - tn: 14636.0000 - auc: 0.7892 - prc: 0.1564 - val_loss: 0.2025 - val_Sensitivity: 0.0559 - val_tn: 4839.0000 - val_auc: 0.7649 - val_prc: 0.1150\n",
      "Epoch 40/200\n",
      "30/30 [==============================] - 0s 13ms/step - loss: 0.1438 - Sensitivity: 0.0100 - tn: 14638.0000 - auc: 0.7822 - prc: 0.1726 - val_loss: 0.2060 - val_Sensitivity: 0.0559 - val_tn: 4839.0000 - val_auc: 0.7643 - val_prc: 0.1135\n",
      "Epoch 41/200\n",
      "30/30 [==============================] - 0s 14ms/step - loss: 0.1434 - Sensitivity: 0.0067 - tn: 14638.0000 - auc: 0.7924 - prc: 0.1542 - val_loss: 0.2076 - val_Sensitivity: 0.0559 - val_tn: 4839.0000 - val_auc: 0.7653 - val_prc: 0.1131\n",
      "Epoch 42/200\n",
      "30/30 [==============================] - 0s 13ms/step - loss: 0.1415 - Sensitivity: 0.0100 - tn: 14632.0000 - auc: 0.7967 - prc: 0.1696 - val_loss: 0.2094 - val_Sensitivity: 0.0615 - val_tn: 4836.0000 - val_auc: 0.7645 - val_prc: 0.1123\n",
      "Epoch 43/200\n",
      "30/30 [==============================] - 0s 14ms/step - loss: 0.1406 - Sensitivity: 0.0117 - tn: 14639.0000 - auc: 0.7951 - prc: 0.1908 - val_loss: 0.2061 - val_Sensitivity: 0.0559 - val_tn: 4838.0000 - val_auc: 0.7649 - val_prc: 0.1151\n",
      "Epoch 44/200\n",
      "30/30 [==============================] - 0s 13ms/step - loss: 0.1384 - Sensitivity: 0.0167 - tn: 14641.0000 - auc: 0.8123 - prc: 0.1967 - val_loss: 0.2088 - val_Sensitivity: 0.0615 - val_tn: 4835.0000 - val_auc: 0.7635 - val_prc: 0.1118\n",
      "Epoch 45/200\n",
      "30/30 [==============================] - 0s 14ms/step - loss: 0.1402 - Sensitivity: 0.0100 - tn: 14629.0000 - auc: 0.8044 - prc: 0.1800 - val_loss: 0.2071 - val_Sensitivity: 0.0559 - val_tn: 4835.0000 - val_auc: 0.7631 - val_prc: 0.1114\n",
      "Epoch 46/200\n",
      "30/30 [==============================] - 0s 13ms/step - loss: 0.1417 - Sensitivity: 0.0100 - tn: 14638.0000 - auc: 0.7953 - prc: 0.1827 - val_loss: 0.2054 - val_Sensitivity: 0.0559 - val_tn: 4837.0000 - val_auc: 0.7625 - val_prc: 0.1132\n",
      "Epoch 47/200\n",
      "30/30 [==============================] - 0s 14ms/step - loss: 0.1407 - Sensitivity: 0.0117 - tn: 14635.0000 - auc: 0.7995 - prc: 0.1820 - val_loss: 0.2040 - val_Sensitivity: 0.0559 - val_tn: 4839.0000 - val_auc: 0.7615 - val_prc: 0.1136\n",
      "Epoch 48/200\n",
      "30/30 [==============================] - 0s 14ms/step - loss: 0.1373 - Sensitivity: 0.0100 - tn: 14636.0000 - auc: 0.8145 - prc: 0.1995 - val_loss: 0.2044 - val_Sensitivity: 0.0615 - val_tn: 4838.0000 - val_auc: 0.7608 - val_prc: 0.1159\n",
      "Epoch 49/200\n",
      "30/30 [==============================] - 0s 13ms/step - loss: 0.1385 - Sensitivity: 0.0100 - tn: 14639.0000 - auc: 0.8095 - prc: 0.1923 - val_loss: 0.2051 - val_Sensitivity: 0.0615 - val_tn: 4837.0000 - val_auc: 0.7602 - val_prc: 0.1146\n",
      "Epoch 1/200\n",
      "30/30 [==============================] - 0s 16ms/step - loss: 0.1421 - Sensitivity: 0.0084 - tn: 14638.0000 - auc: 0.7895 - prc: 0.1710 - val_loss: 0.2077 - val_Sensitivity: 0.0615 - val_tn: 4837.0000 - val_auc: 0.7643 - val_prc: 0.1131\n",
      "Epoch 2/200\n",
      "30/30 [==============================] - 0s 14ms/step - loss: 0.1410 - Sensitivity: 0.0100 - tn: 14637.0000 - auc: 0.7968 - prc: 0.1750 - val_loss: 0.2102 - val_Sensitivity: 0.0615 - val_tn: 4833.0000 - val_auc: 0.7636 - val_prc: 0.1119\n",
      "Epoch 3/200\n",
      "30/30 [==============================] - 0s 13ms/step - loss: 0.1408 - Sensitivity: 0.0167 - tn: 14640.0000 - auc: 0.8000 - prc: 0.1802 - val_loss: 0.2064 - val_Sensitivity: 0.0559 - val_tn: 4836.0000 - val_auc: 0.7624 - val_prc: 0.1116\n",
      "Epoch 4/200\n",
      "30/30 [==============================] - 0s 13ms/step - loss: 0.1413 - Sensitivity: 0.0100 - tn: 14637.0000 - auc: 0.7995 - prc: 0.1690 - val_loss: 0.2065 - val_Sensitivity: 0.0615 - val_tn: 4830.0000 - val_auc: 0.7627 - val_prc: 0.1110\n",
      "Epoch 5/200\n",
      "30/30 [==============================] - 0s 12ms/step - loss: 0.1400 - Sensitivity: 0.0067 - tn: 14632.0000 - auc: 0.8057 - prc: 0.1784 - val_loss: 0.2009 - val_Sensitivity: 0.0559 - val_tn: 4842.0000 - val_auc: 0.7629 - val_prc: 0.1124\n",
      "Epoch 6/200\n",
      "30/30 [==============================] - 0s 12ms/step - loss: 0.1417 - Sensitivity: 0.0050 - tn: 14642.0000 - auc: 0.7986 - prc: 0.1667 - val_loss: 0.2078 - val_Sensitivity: 0.0615 - val_tn: 4831.0000 - val_auc: 0.7629 - val_prc: 0.1089\n",
      "Epoch 7/200\n",
      "30/30 [==============================] - 0s 12ms/step - loss: 0.1407 - Sensitivity: 0.0167 - tn: 14636.0000 - auc: 0.7957 - prc: 0.1916 - val_loss: 0.2038 - val_Sensitivity: 0.0615 - val_tn: 4839.0000 - val_auc: 0.7617 - val_prc: 0.1116\n",
      "Epoch 8/200\n",
      "30/30 [==============================] - 0s 12ms/step - loss: 0.1392 - Sensitivity: 0.0167 - tn: 14641.0000 - auc: 0.8016 - prc: 0.2053 - val_loss: 0.2058 - val_Sensitivity: 0.0615 - val_tn: 4835.0000 - val_auc: 0.7610 - val_prc: 0.1112\n",
      "Epoch 9/200\n",
      "30/30 [==============================] - 0s 12ms/step - loss: 0.1394 - Sensitivity: 0.0134 - tn: 14633.0000 - auc: 0.8064 - prc: 0.1840 - val_loss: 0.2057 - val_Sensitivity: 0.0615 - val_tn: 4835.0000 - val_auc: 0.7619 - val_prc: 0.1083\n",
      "Epoch 10/200\n",
      "30/30 [==============================] - 0s 12ms/step - loss: 0.1394 - Sensitivity: 0.0167 - tn: 14642.0000 - auc: 0.8056 - prc: 0.1924 - val_loss: 0.2016 - val_Sensitivity: 0.0615 - val_tn: 4838.0000 - val_auc: 0.7604 - val_prc: 0.1151\n",
      "Epoch 11/200\n",
      "30/30 [==============================] - 0s 13ms/step - loss: 0.1381 - Sensitivity: 0.0067 - tn: 14638.0000 - auc: 0.8172 - prc: 0.1886 - val_loss: 0.2014 - val_Sensitivity: 0.0615 - val_tn: 4839.0000 - val_auc: 0.7616 - val_prc: 0.1121\n",
      "Epoch 12/200\n",
      "30/30 [==============================] - 0s 12ms/step - loss: 0.1396 - Sensitivity: 0.0184 - tn: 14637.0000 - auc: 0.8045 - prc: 0.1918 - val_loss: 0.2031 - val_Sensitivity: 0.0615 - val_tn: 4838.0000 - val_auc: 0.7606 - val_prc: 0.1120\n",
      "Epoch 13/200\n",
      "30/30 [==============================] - 0s 12ms/step - loss: 0.1387 - Sensitivity: 0.0117 - tn: 14635.0000 - auc: 0.8085 - prc: 0.1885 - val_loss: 0.2019 - val_Sensitivity: 0.0615 - val_tn: 4839.0000 - val_auc: 0.7601 - val_prc: 0.1181\n",
      "Epoch 14/200\n",
      "30/30 [==============================] - 0s 13ms/step - loss: 0.1379 - Sensitivity: 0.0067 - tn: 14634.0000 - auc: 0.8136 - prc: 0.1810 - val_loss: 0.1996 - val_Sensitivity: 0.0615 - val_tn: 4840.0000 - val_auc: 0.7590 - val_prc: 0.1177\n",
      "Epoch 15/200\n",
      "30/30 [==============================] - 0s 12ms/step - loss: 0.1350 - Sensitivity: 0.0117 - tn: 14637.0000 - auc: 0.8273 - prc: 0.2103 - val_loss: 0.1985 - val_Sensitivity: 0.0559 - val_tn: 4840.0000 - val_auc: 0.7590 - val_prc: 0.1174\n",
      "Epoch 16/200\n",
      "30/30 [==============================] - 0s 12ms/step - loss: 0.1377 - Sensitivity: 0.0134 - tn: 14637.0000 - auc: 0.8161 - prc: 0.1868 - val_loss: 0.1985 - val_Sensitivity: 0.0615 - val_tn: 4848.0000 - val_auc: 0.7587 - val_prc: 0.1172\n",
      "Epoch 17/200\n",
      "30/30 [==============================] - 0s 12ms/step - loss: 0.1381 - Sensitivity: 0.0167 - tn: 14633.0000 - auc: 0.8112 - prc: 0.1979 - val_loss: 0.2043 - val_Sensitivity: 0.0615 - val_tn: 4839.0000 - val_auc: 0.7577 - val_prc: 0.1093\n",
      "Epoch 18/200\n",
      "30/30 [==============================] - 0s 12ms/step - loss: 0.1355 - Sensitivity: 0.0117 - tn: 14630.0000 - auc: 0.8293 - prc: 0.1921 - val_loss: 0.2024 - val_Sensitivity: 0.0615 - val_tn: 4836.0000 - val_auc: 0.7579 - val_prc: 0.1092\n",
      "Epoch 19/200\n",
      "30/30 [==============================] - 0s 12ms/step - loss: 0.1378 - Sensitivity: 0.0184 - tn: 14633.0000 - auc: 0.8103 - prc: 0.1961 - val_loss: 0.1993 - val_Sensitivity: 0.0615 - val_tn: 4841.0000 - val_auc: 0.7573 - val_prc: 0.1142\n",
      "Epoch 20/200\n",
      "30/30 [==============================] - 0s 12ms/step - loss: 0.1384 - Sensitivity: 0.0084 - tn: 14639.0000 - auc: 0.8113 - prc: 0.2003 - val_loss: 0.1958 - val_Sensitivity: 0.0559 - val_tn: 4859.0000 - val_auc: 0.7569 - val_prc: 0.1189\n",
      "Epoch 21/200\n",
      "30/30 [==============================] - 0s 13ms/step - loss: 0.1355 - Sensitivity: 0.0167 - tn: 14627.0000 - auc: 0.8227 - prc: 0.2064 - val_loss: 0.2007 - val_Sensitivity: 0.0670 - val_tn: 4837.0000 - val_auc: 0.7558 - val_prc: 0.1086\n",
      "Epoch 22/200\n",
      "30/30 [==============================] - 0s 13ms/step - loss: 0.1374 - Sensitivity: 0.0117 - tn: 14635.0000 - auc: 0.8145 - prc: 0.1968 - val_loss: 0.2009 - val_Sensitivity: 0.0670 - val_tn: 4834.0000 - val_auc: 0.7561 - val_prc: 0.1076\n",
      "Epoch 23/200\n",
      "30/30 [==============================] - 0s 13ms/step - loss: 0.1366 - Sensitivity: 0.0134 - tn: 14628.0000 - auc: 0.8240 - prc: 0.1864 - val_loss: 0.1971 - val_Sensitivity: 0.0670 - val_tn: 4838.0000 - val_auc: 0.7556 - val_prc: 0.1110\n",
      "Epoch 24/200\n",
      "30/30 [==============================] - 0s 13ms/step - loss: 0.1363 - Sensitivity: 0.0100 - tn: 14639.0000 - auc: 0.8199 - prc: 0.2020 - val_loss: 0.1998 - val_Sensitivity: 0.0670 - val_tn: 4835.0000 - val_auc: 0.7557 - val_prc: 0.1076\n",
      "Epoch 25/200\n",
      "30/30 [==============================] - 0s 13ms/step - loss: 0.1333 - Sensitivity: 0.0184 - tn: 14632.0000 - auc: 0.8307 - prc: 0.2280 - val_loss: 0.1994 - val_Sensitivity: 0.0670 - val_tn: 4834.0000 - val_auc: 0.7556 - val_prc: 0.1078\n",
      "Epoch 26/200\n",
      "30/30 [==============================] - 0s 13ms/step - loss: 0.1328 - Sensitivity: 0.0167 - tn: 14634.0000 - auc: 0.8335 - prc: 0.2292 - val_loss: 0.1933 - val_Sensitivity: 0.0615 - val_tn: 4842.0000 - val_auc: 0.7541 - val_prc: 0.1106\n",
      "Epoch 27/200\n",
      "30/30 [==============================] - 0s 13ms/step - loss: 0.1354 - Sensitivity: 0.0184 - tn: 14635.0000 - auc: 0.8260 - prc: 0.2078 - val_loss: 0.1949 - val_Sensitivity: 0.0670 - val_tn: 4847.0000 - val_auc: 0.7527 - val_prc: 0.1126\n",
      "Epoch 28/200\n",
      "30/30 [==============================] - 0s 13ms/step - loss: 0.1348 - Sensitivity: 0.0201 - tn: 14634.0000 - auc: 0.8286 - prc: 0.2035 - val_loss: 0.1994 - val_Sensitivity: 0.0670 - val_tn: 4838.0000 - val_auc: 0.7529 - val_prc: 0.1072\n",
      "Epoch 29/200\n",
      "30/30 [==============================] - 0s 13ms/step - loss: 0.1343 - Sensitivity: 0.0134 - tn: 14637.0000 - auc: 0.8292 - prc: 0.2102 - val_loss: 0.1959 - val_Sensitivity: 0.0670 - val_tn: 4843.0000 - val_auc: 0.7523 - val_prc: 0.1098\n",
      "Epoch 30/200\n",
      "30/30 [==============================] - 0s 14ms/step - loss: 0.1325 - Sensitivity: 0.0167 - tn: 14635.0000 - auc: 0.8401 - prc: 0.2276 - val_loss: 0.1973 - val_Sensitivity: 0.0670 - val_tn: 4841.0000 - val_auc: 0.7524 - val_prc: 0.1071\n",
      "Epoch 31/200\n",
      "30/30 [==============================] - 0s 13ms/step - loss: 0.1347 - Sensitivity: 0.0134 - tn: 14632.0000 - auc: 0.8285 - prc: 0.2002 - val_loss: 0.1957 - val_Sensitivity: 0.0670 - val_tn: 4843.0000 - val_auc: 0.7507 - val_prc: 0.1091\n",
      "Epoch 32/200\n",
      "30/30 [==============================] - 0s 14ms/step - loss: 0.1328 - Sensitivity: 0.0234 - tn: 14637.0000 - auc: 0.8346 - prc: 0.2319 - val_loss: 0.1954 - val_Sensitivity: 0.0670 - val_tn: 4847.0000 - val_auc: 0.7509 - val_prc: 0.1142\n",
      "Epoch 33/200\n",
      "30/30 [==============================] - 0s 13ms/step - loss: 0.1320 - Sensitivity: 0.0217 - tn: 14634.0000 - auc: 0.8394 - prc: 0.2346 - val_loss: 0.1978 - val_Sensitivity: 0.0726 - val_tn: 4839.0000 - val_auc: 0.7515 - val_prc: 0.1139\n",
      "Epoch 34/200\n",
      "30/30 [==============================] - 0s 13ms/step - loss: 0.1343 - Sensitivity: 0.0201 - tn: 14632.0000 - auc: 0.8309 - prc: 0.2099 - val_loss: 0.1948 - val_Sensitivity: 0.0670 - val_tn: 4862.0000 - val_auc: 0.7521 - val_prc: 0.1209\n",
      "Epoch 35/200\n",
      "30/30 [==============================] - 0s 12ms/step - loss: 0.1345 - Sensitivity: 0.0184 - tn: 14635.0000 - auc: 0.8277 - prc: 0.2089 - val_loss: 0.1940 - val_Sensitivity: 0.0615 - val_tn: 4865.0000 - val_auc: 0.7517 - val_prc: 0.1213\n",
      "Epoch 36/200\n",
      "30/30 [==============================] - 0s 14ms/step - loss: 0.1328 - Sensitivity: 0.0201 - tn: 14637.0000 - auc: 0.8366 - prc: 0.2326 - val_loss: 0.1983 - val_Sensitivity: 0.0726 - val_tn: 4852.0000 - val_auc: 0.7503 - val_prc: 0.1175\n"
     ]
    }
   ],
   "source": [
    "annpreds = []\n",
    "for X, y, X_test in zip(dX_train, dy_train, dX_test):\n",
    "    X_train, X_valid, y_train, y_valid = train_test_split(X, y, train_size=0.75, test_size=0.25, random_state=0)\n",
    "    model4.fit(X_train, y_train,\n",
    "    validation_data=(X_valid, y_valid),\n",
    "    batch_size=512,\n",
    "    epochs=200,\n",
    "    callbacks=[early_stopping])\n",
    "    annpreds.append(model4.predict(X_test))"
   ]
  },
  {
   "cell_type": "code",
   "execution_count": 51,
   "metadata": {},
   "outputs": [
    {
     "data": {
      "text/plain": [
       "[0.740339069862733,\n",
       " 0.7378020747728111,\n",
       " 0.790027628271271,\n",
       " 0.7577701836544609,\n",
       " 0.7550797869751049]"
      ]
     },
     "execution_count": 51,
     "metadata": {},
     "output_type": "execute_result"
    }
   ],
   "source": [
    "ann_score = []\n",
    "for x in range(0,5):\n",
    "    ann_score.append(roc_auc_score(dy_test[x], annpreds[x]))\n",
    "ann_score"
   ]
  },
  {
   "cell_type": "markdown",
   "metadata": {},
   "source": [
    "model.fit(dX_train[0], dy_train[0])\n",
    "def rf_feat_importance(model, X):\n",
    "    return pd.DataFrame({'cols':X.columns, 'imp':model.feature_importances_}\n",
    "                       ).sort_values('imp', ascending=False)\n",
    "fi = rf_feat_importance(model, X)\n",
    "fi[:10]\n",
    "def plot_fi(fi):\n",
    "    return fi.plot('cols', 'imp', 'barh', figsize=(12,7), legend=False)\n",
    "\n",
    "plot_fi(fi[:20]);"
   ]
  },
  {
   "cell_type": "markdown",
   "metadata": {},
   "source": [
    "model2.fit(dX_train[0], dy_train[0])\n",
    "fi = rf_feat_importance(model2, X)\n",
    "plot_fi(fi[:20]);"
   ]
  },
  {
   "cell_type": "code",
   "execution_count": 52,
   "metadata": {},
   "outputs": [
    {
     "name": "stderr",
     "output_type": "stream",
     "text": [
      "/home/kchen/.local/lib/python3.9/site-packages/sklearn/linear_model/_logistic.py:763: ConvergenceWarning: lbfgs failed to converge (status=1):\n",
      "STOP: TOTAL NO. of ITERATIONS REACHED LIMIT.\n",
      "\n",
      "Increase the number of iterations (max_iter) or scale the data as shown in:\n",
      "    https://scikit-learn.org/stable/modules/preprocessing.html\n",
      "Please also refer to the documentation for alternative solver options:\n",
      "    https://scikit-learn.org/stable/modules/linear_model.html#logistic-regression\n",
      "  n_iter_i = _check_optimize_result(\n",
      "/home/kchen/.local/lib/python3.9/site-packages/sklearn/linear_model/_logistic.py:763: ConvergenceWarning: lbfgs failed to converge (status=1):\n",
      "STOP: TOTAL NO. of ITERATIONS REACHED LIMIT.\n",
      "\n",
      "Increase the number of iterations (max_iter) or scale the data as shown in:\n",
      "    https://scikit-learn.org/stable/modules/preprocessing.html\n",
      "Please also refer to the documentation for alternative solver options:\n",
      "    https://scikit-learn.org/stable/modules/linear_model.html#logistic-regression\n",
      "  n_iter_i = _check_optimize_result(\n",
      "/home/kchen/.local/lib/python3.9/site-packages/sklearn/linear_model/_logistic.py:763: ConvergenceWarning: lbfgs failed to converge (status=1):\n",
      "STOP: TOTAL NO. of ITERATIONS REACHED LIMIT.\n",
      "\n",
      "Increase the number of iterations (max_iter) or scale the data as shown in:\n",
      "    https://scikit-learn.org/stable/modules/preprocessing.html\n",
      "Please also refer to the documentation for alternative solver options:\n",
      "    https://scikit-learn.org/stable/modules/linear_model.html#logistic-regression\n",
      "  n_iter_i = _check_optimize_result(\n",
      "/home/kchen/.local/lib/python3.9/site-packages/sklearn/linear_model/_logistic.py:763: ConvergenceWarning: lbfgs failed to converge (status=1):\n",
      "STOP: TOTAL NO. of ITERATIONS REACHED LIMIT.\n",
      "\n",
      "Increase the number of iterations (max_iter) or scale the data as shown in:\n",
      "    https://scikit-learn.org/stable/modules/preprocessing.html\n",
      "Please also refer to the documentation for alternative solver options:\n",
      "    https://scikit-learn.org/stable/modules/linear_model.html#logistic-regression\n",
      "  n_iter_i = _check_optimize_result(\n",
      "/home/kchen/.local/lib/python3.9/site-packages/sklearn/linear_model/_logistic.py:763: ConvergenceWarning: lbfgs failed to converge (status=1):\n",
      "STOP: TOTAL NO. of ITERATIONS REACHED LIMIT.\n",
      "\n",
      "Increase the number of iterations (max_iter) or scale the data as shown in:\n",
      "    https://scikit-learn.org/stable/modules/preprocessing.html\n",
      "Please also refer to the documentation for alternative solver options:\n",
      "    https://scikit-learn.org/stable/modules/linear_model.html#logistic-regression\n",
      "  n_iter_i = _check_optimize_result(\n"
     ]
    }
   ],
   "source": [
    "lrpreds = []\n",
    "model3 = LogisticRegression()\n",
    "for X, y, X_test in zip(dX_train, dy_train, dX_test):\n",
    "    model3.fit(X, y)\n",
    "    lrpreds.append(model3.predict_proba(X_test))"
   ]
  },
  {
   "cell_type": "code",
   "execution_count": 53,
   "metadata": {},
   "outputs": [],
   "source": [
    "lr_score = []\n",
    "for x in range(0,5):\n",
    "    lr_score.append(roc_auc_score(dy_test[x], lrpreds[x][:,1]))"
   ]
  },
  {
   "cell_type": "code",
   "execution_count": 54,
   "metadata": {},
   "outputs": [
    {
     "data": {
      "text/plain": [
       "[0.7035484531858226,\n",
       " 0.7177868295994568,\n",
       " 0.7151693551278628,\n",
       " 0.7417554540842213,\n",
       " 0.7417554540842213]"
      ]
     },
     "execution_count": 54,
     "metadata": {},
     "output_type": "execute_result"
    }
   ],
   "source": [
    "lr_score"
   ]
  },
  {
   "cell_type": "code",
   "execution_count": 55,
   "metadata": {},
   "outputs": [
    {
     "name": "stdout",
     "output_type": "stream",
     "text": [
      "Neural Network: 0.756 (0.73-0.782)\n"
     ]
    }
   ],
   "source": [
    "ann_mean = np.mean(ann_score)\n",
    "ann_confidence = st.t.interval(0.95, len(ann_score)-1, loc=ann_mean, scale=st.sem(ann_score))\n",
    "\n",
    "print('Neural Network:', round(ann_mean,3), '('+str(round(ann_confidence[0],3))+'-'+str(round(ann_confidence[1],3))+')')"
   ]
  },
  {
   "cell_type": "code",
   "execution_count": 56,
   "metadata": {},
   "outputs": [
    {
     "name": "stdout",
     "output_type": "stream",
     "text": [
      "Logistic Regression: 0.724 (0.703-0.745)\n"
     ]
    }
   ],
   "source": [
    "lr_mean = np.mean(lr_score)\n",
    "lr_confidence = st.t.interval(0.95, len(lr_score)-1, loc=lr_mean, scale=st.sem(lr_score))\n",
    "\n",
    "print('Logistic Regression:', round(lr_mean,3), '('+str(round(lr_confidence[0],3))+'-'+str(round(lr_confidence[1],3))+')')"
   ]
  },
  {
   "cell_type": "code",
   "execution_count": 57,
   "metadata": {},
   "outputs": [
    {
     "name": "stdout",
     "output_type": "stream",
     "text": [
      "Neural Network: 0.134 (0.085-0.183)\n"
     ]
    }
   ],
   "source": [
    "ann_prc = []\n",
    "for x in range(0,5):\n",
    "    ann_prc.append(average_precision_score(dy_test[x], annpreds[x]))\n",
    "\n",
    "ann_prc_mean = np.mean(ann_prc)\n",
    "ann_prc_confidence = st.t.interval(0.95, len(ann_prc)-1, loc=ann_prc_mean, scale=st.sem(ann_prc))\n",
    "\n",
    "print('Neural Network:', round(ann_prc_mean,3), '('+str(round(ann_prc_confidence[0],3))+'-'+str(round(ann_prc_confidence[1],3))+')')"
   ]
  },
  {
   "cell_type": "code",
   "execution_count": 58,
   "metadata": {},
   "outputs": [
    {
     "name": "stdout",
     "output_type": "stream",
     "text": [
      "Logistic Regression: 0.097 (0.086-0.108)\n"
     ]
    }
   ],
   "source": [
    "lr_prc = []\n",
    "for x in range(0,5):\n",
    "    lr_prc.append(average_precision_score(dy_test[x], lrpreds[x][:,1]))\n",
    "\n",
    "lr_prc_mean = np.mean(lr_prc)\n",
    "lr_prc_confidence = st.t.interval(0.95, len(lr_prc)-1, loc=lr_prc_mean, scale=st.sem(lr_prc))\n",
    "\n",
    "print('Logistic Regression:', round(lr_prc_mean,3), '('+str(round(lr_prc_confidence[0],3))+'-'+str(round(lr_prc_confidence[1],3))+')')"
   ]
  },
  {
   "cell_type": "code",
   "execution_count": 59,
   "metadata": {},
   "outputs": [],
   "source": [
    "with open('hep_results.txt', 'w') as f:\n",
    "    f.write('Logistic Regression: '+str(round(lr_mean,3))+' ('+str(round(lr_confidence[0],3))+'-'+str(round(lr_confidence[1],3))+')\\n')\n",
    "    f.write('Neural Network: '+str(round(ann_mean,3))+' ('+str(round(ann_confidence[0],3))+'-'+str(round(ann_confidence[1],3))+')\\n')\n",
    "    f.write('AUPRC\\n')\n",
    "    f.write('Logistic Regression: '+str(round(lr_prc_mean,3))+' ('+str(round(lr_prc_confidence[0],3))+'-'+str(round(lr_prc_confidence[1],3))+')\\n')\n",
    "    f.write('Neural Network: '+str(round(ann_prc_mean,3))+' ('+str(round(ann_prc_confidence[0],3))+'-'+str(round(ann_prc_confidence[1],3))+')')"
   ]
  },
  {
   "cell_type": "code",
   "execution_count": 60,
   "metadata": {},
   "outputs": [],
   "source": [
    "hep_ann_tpr = []\n",
    "hep_ann_fpr = []\n",
    "for x in range(0,5):\n",
    "    fpr, tpr, _ = roc_curve(dy_test[x], annpreds[x], drop_intermediate=False)\n",
    "    hep_ann_tpr.append(tpr)\n",
    "    hep_ann_fpr.append(fpr)\n"
   ]
  },
  {
   "cell_type": "code",
   "execution_count": 61,
   "metadata": {},
   "outputs": [
    {
     "name": "stdout",
     "output_type": "stream",
     "text": [
      "5081\n",
      "5080\n",
      "5080\n",
      "5079\n",
      "5080\n"
     ]
    }
   ],
   "source": [
    "for x in range(0,5):\n",
    "    print(len(hep_ann_tpr[x]))"
   ]
  },
  {
   "cell_type": "markdown",
   "metadata": {},
   "source": [
    "for x in range(0,5):\n",
    "    diff = len(hep_ann_tpr[x]) - 310\n",
    "    for _ in range(diff):\n",
    "        ind = randrange(len(hep_ann_tpr[x]))\n",
    "        hep_ann_tpr[x] = np.delete(hep_ann_tpr[x],ind)\n",
    "for x in range(0,5):\n",
    "    diff = len(hep_ann_fpr[x]) - 310\n",
    "    for _ in range(diff):\n",
    "        ind = randrange(len(hep_ann_fpr[x]))\n",
    "        hep_ann_fpr[x] = np.delete(hep_ann_fpr[x],ind)\n"
   ]
  },
  {
   "cell_type": "code",
   "execution_count": 62,
   "metadata": {},
   "outputs": [
    {
     "name": "stdout",
     "output_type": "stream",
     "text": [
      "Stored 'mean_hep_ann_tpr' (list)\n",
      "Stored 'mean_hep_ann_fpr' (list)\n"
     ]
    }
   ],
   "source": [
    "mean_hep_ann_tpr = [np.mean(k) for k in zip(*hep_ann_tpr)]\n",
    "mean_hep_ann_fpr = [np.mean(k) for k in zip(*hep_ann_fpr)]\n",
    "%store mean_hep_ann_tpr\n",
    "%store mean_hep_ann_fpr\n"
   ]
  },
  {
   "cell_type": "code",
   "execution_count": 63,
   "metadata": {},
   "outputs": [
    {
     "name": "stdout",
     "output_type": "stream",
     "text": [
      "Stored 'mean_hep_lr_tpr' (list)\n",
      "Stored 'mean_hep_lr_fpr' (list)\n"
     ]
    }
   ],
   "source": [
    "\n",
    "hep_lr_tpr = []\n",
    "hep_lr_fpr = []\n",
    "for x in range(0,5):\n",
    "    fpr, tpr, _ = roc_curve(dy_test[x], lrpreds[x][:,1])\n",
    "    hep_lr_tpr.append(tpr)\n",
    "    hep_lr_fpr.append(fpr)\n",
    "for x in range(0,5):\n",
    "    diff = len(hep_lr_tpr[x]) - 310\n",
    "    for _ in range(diff):\n",
    "        ind = randrange(len(hep_lr_tpr[x]))\n",
    "        hep_lr_tpr[x] = np.delete(hep_lr_tpr[x],ind)\n",
    "\n",
    "for x in range(0,5):\n",
    "    diff = len(hep_lr_fpr[x]) - 310\n",
    "    for _ in range(diff):\n",
    "        ind = randrange(len(hep_lr_fpr[x]))\n",
    "        hep_lr_fpr[x] = np.delete(hep_lr_fpr[x],ind)\n",
    "\n",
    "\n",
    "mean_hep_lr_tpr = [np.mean(k) for k in zip(*hep_lr_tpr)]\n",
    "mean_hep_lr_fpr = [np.mean(k) for k in zip(*hep_lr_fpr)]\n",
    "%store mean_hep_lr_tpr\n",
    "%store mean_hep_lr_fpr\n"
   ]
  },
  {
   "cell_type": "code",
   "execution_count": 64,
   "metadata": {},
   "outputs": [],
   "source": [
    "\n",
    "hep_lr_rec = []\n",
    "hep_lr_prec = []\n",
    "for x in range(0,5):\n",
    "    prec, rec, _ = precision_recall_curve(dy_test[x], lrpreds[x][:,1])\n",
    "    hep_lr_rec.append(rec)\n",
    "    hep_lr_prec.append(prec)\n"
   ]
  },
  {
   "cell_type": "code",
   "execution_count": 65,
   "metadata": {},
   "outputs": [
    {
     "name": "stdout",
     "output_type": "stream",
     "text": [
      "4970\n",
      "4982\n",
      "4866\n",
      "5047\n",
      "5047\n"
     ]
    }
   ],
   "source": [
    "for x in range(0,5):\n",
    "    print(len(hep_lr_rec[x]))"
   ]
  },
  {
   "cell_type": "code",
   "execution_count": 66,
   "metadata": {},
   "outputs": [
    {
     "name": "stdout",
     "output_type": "stream",
     "text": [
      "Stored 'mean_hep_lr_rec' (list)\n",
      "Stored 'mean_hep_lr_prec' (list)\n"
     ]
    }
   ],
   "source": [
    "\n",
    "for x in range(0,5):\n",
    "    diff = len(hep_lr_rec[x]) - 4800\n",
    "    for _ in range(diff):\n",
    "        ind = randrange(len(hep_lr_rec[x]))\n",
    "        hep_lr_rec[x] = np.delete(hep_lr_rec[x],ind)\n",
    "\n",
    "for x in range(0,5):\n",
    "    diff = len(hep_lr_prec[x]) - 4800\n",
    "    for _ in range(diff):\n",
    "        ind = randrange(len(hep_lr_prec[x]))\n",
    "        hep_lr_prec[x] = np.delete(hep_lr_prec[x],ind)\n",
    "\n",
    "mean_hep_lr_rec = [np.mean(k) for k in zip(*hep_lr_rec)]\n",
    "mean_hep_lr_prec = [np.mean(k) for k in zip(*hep_lr_prec)]\n",
    "%store mean_hep_lr_rec\n",
    "%store mean_hep_lr_prec\n"
   ]
  },
  {
   "cell_type": "code",
   "execution_count": 67,
   "metadata": {},
   "outputs": [],
   "source": [
    "from matplotlib import pyplot as plt"
   ]
  },
  {
   "cell_type": "code",
   "execution_count": 68,
   "metadata": {},
   "outputs": [
    {
     "data": {
      "text/plain": [
       "[<matplotlib.lines.Line2D at 0x7fb12c33d490>]"
      ]
     },
     "execution_count": 68,
     "metadata": {},
     "output_type": "execute_result"
    },
    {
     "data": {
      "image/png": "[encoded data removed]",
      "text/plain": [
       "<Figure size 432x288 with 1 Axes>"
      ]
     },
     "metadata": {
      "needs_background": "light"
     },
     "output_type": "display_data"
    }
   ],
   "source": [
    "plt.plot(mean_hep_lr_rec, mean_hep_lr_prec)"
   ]
  },
  {
   "cell_type": "code",
   "execution_count": 69,
   "metadata": {},
   "outputs": [
    {
     "name": "stdout",
     "output_type": "stream",
     "text": [
      "Stored 'mean_hep_ann_rec' (list)\n",
      "Stored 'mean_hep_ann_prec' (list)\n"
     ]
    }
   ],
   "source": [
    "\n",
    "hep_ann_rec = []\n",
    "hep_ann_prec = []\n",
    "for x in range(0,5):\n",
    "    prec, rec, _ = precision_recall_curve(dy_test[x], annpreds[x])\n",
    "    hep_ann_rec.append(rec)\n",
    "    hep_ann_prec.append(prec)\n",
    "\n",
    "for x in range(0,5):\n",
    "    diff = len(hep_ann_rec[x]) - 4500\n",
    "    for _ in range(diff):\n",
    "        ind = randrange(len(hep_ann_rec[x]))\n",
    "        hep_ann_rec[x] = np.delete(hep_ann_rec[x],ind)\n",
    "\n",
    "for x in range(0,5):\n",
    "    diff = len(hep_ann_prec[x]) - 4500\n",
    "    for _ in range(diff):\n",
    "        ind = randrange(len(hep_ann_prec[x]))\n",
    "        hep_ann_prec[x] = np.delete(hep_ann_prec[x],ind)\n",
    "\n",
    "mean_hep_ann_rec = [np.mean(k) for k in zip(*hep_ann_rec)]\n",
    "mean_hep_ann_prec = [np.mean(k) for k in zip(*hep_ann_prec)]\n",
    "%store mean_hep_ann_rec\n",
    "%store mean_hep_ann_prec"
   ]
  },
  {
   "cell_type": "markdown",
   "metadata": {},
   "source": [
    "hep_ann_tpr = []\n",
    "hep_ann_fpr = []\n",
    "for x in range(0,5):\n",
    "    fpr, tpr, _ = roc_curve(dy_test[x], annpreds[x])\n",
    "    hep_ann_tpr.append(tpr)\n",
    "    hep_ann_fpr.append(fpr)\n",
    "hep_ann_tpr_array = [np.array(x) for x in hep_ann_tpr]\n",
    "mean_hep_ann_tpr = [np.mean(k) for k in zip(*hep_ann_tpr_array)]\n",
    "hep_ann_fpr_array = [np.array(x) for x in hep_ann_fpr]\n",
    "mean_hep_ann_fpr = [np.mean(k) for k in zip(*hep_ann_fpr_array)]\n",
    "%store mean_hep_ann_tpr\n",
    "%store mean_hep_ann_fpr\n",
    "\n",
    "hep_lr_tpr = []\n",
    "hep_lr_fpr = []\n",
    "for x in range(0,5):\n",
    "    fpr, tpr, _ = roc_curve(dy_test[x], lrpreds[x][:,1])\n",
    "    hep_lr_tpr.append(tpr)\n",
    "    hep_lr_fpr.append(fpr)\n",
    "hep_lr_tpr_array = [np.array(x) for x in hep_lr_tpr]\n",
    "mean_hep_lr_tpr = [np.mean(k) for k in zip(*hep_lr_tpr_array)]\n",
    "hep_lr_fpr_array = [np.array(x) for x in hep_lr_fpr]\n",
    "mean_hep_lr_fpr = [np.mean(k) for k in zip(*hep_lr_fpr_array)]\n",
    "%store mean_hep_lr_tpr\n",
    "%store mean_hep_lr_fpr\n",
    "hep_ann_rec = []\n",
    "hep_ann_prec = []\n",
    "for x in range(0,5):\n",
    "    prec, rec, _ = precision_recall_curve(dy_test[x], annpreds[x])\n",
    "    hep_ann_rec.append(rec)\n",
    "    hep_ann_prec.append(prec)\n",
    "hep_ann_rec_array = [np.array(x) for x in hep_ann_rec]\n",
    "mean_hep_ann_rec = [np.mean(k) for k in zip(*hep_ann_rec_array)]\n",
    "hep_ann_prec_array = [np.array(x) for x in hep_ann_prec]\n",
    "mean_hep_ann_prec = [np.mean(k) for k in zip(*hep_ann_prec_array)]\n",
    "%store mean_hep_ann_rec\n",
    "%store mean_hep_ann_prec\n",
    "\n",
    "hep_lr_rec = []\n",
    "hep_lr_prec = []\n",
    "for x in range(0,5):\n",
    "    prec, rec, _ = precision_recall_curve(dy_test[x], lrpreds[x][:,1])\n",
    "    hep_lr_rec.append(rec)\n",
    "    hep_lr_prec.append(prec)\n",
    "hep_lr_rec_array = [np.array(x) for x in hep_lr_rec]\n",
    "mean_hep_lr_rec = [np.mean(k) for k in zip(*hep_lr_rec_array)]\n",
    "hep_lr_prec_array = [np.array(x) for x in hep_lr_prec]\n",
    "mean_hep_lr_prec = [np.mean(k) for k in zip(*hep_lr_prec_array)]\n",
    "%store mean_hep_lr_rec\n",
    "%store mean_hep_lr_prec\n"
   ]
  },
  {
   "cell_type": "code",
   "execution_count": 70,
   "metadata": {},
   "outputs": [
    {
     "data": {
      "image/png": "[encoded data removed]",
      "text/plain": [
       "<Figure size 432x288 with 1 Axes>"
      ]
     },
     "metadata": {
      "needs_background": "light"
     },
     "output_type": "display_data"
    }
   ],
   "source": [
    "from imblearn.metrics import specificity_score\n",
    "thresh = np.arange(0, 1, 0.01)\n",
    "#calculate recall at 10 thresholds\n",
    "annrecall_list = []\n",
    "for i in thresh:\n",
    "    annrecall_list.append(recall_score(dy_test[1], annpreds[1] > i))\n",
    "#calculate spec at 10 thresholds\n",
    "annspec_list = []\n",
    "for i in thresh:\n",
    "    annspec_list.append(specificity_score(dy_test[1], annpreds[1] > i))\n",
    "from matplotlib import pyplot as plt\n",
    "#plot recall vs threshold\n",
    "plt.plot(thresh, annrecall_list, label = 'Sensitivity')\n",
    "plt.plot(thresh, annspec_list, color = 'red', label = 'Specificity')\n",
    "plt.xlabel('Threshold')\n",
    "plt.ylabel('Sensitivity and Specificity')\n",
    "plt.title('Sensitivity and Specificity by Threshold')\n",
    "plt.legend(loc=\"lower right\")\n",
    "plt.show()\n",
    "thresh = np.arange(0, 1, 0.01)\n"
   ]
  },
  {
   "cell_type": "code",
   "execution_count": 71,
   "metadata": {},
   "outputs": [
    {
     "data": {
      "image/png": "[encoded data removed]",
      "text/plain": [
       "<Figure size 432x288 with 1 Axes>"
      ]
     },
     "metadata": {
      "needs_background": "light"
     },
     "output_type": "display_data"
    }
   ],
   "source": [
    "#calculate recall at 10 thresholds\n",
    "lrrecall_list = []\n",
    "for i in thresh:\n",
    "    lrrecall_list.append(recall_score(dy_test[1], lrpreds[1][:,1] > i))\n",
    "#calculate spec at 10 thresholds\n",
    "lrspec_list = []\n",
    "for i in thresh:\n",
    "    lrspec_list.append(specificity_score(dy_test[1], lrpreds[1][:,1] > i))\n",
    "from matplotlib import pyplot as plt\n",
    "#plot recall vs threshold\n",
    "plt.plot(thresh, lrrecall_list, label = 'Sensitivity')\n",
    "plt.plot(thresh, lrspec_list, color = 'red', label = 'Specificity')\n",
    "plt.xlabel('Threshold')\n",
    "plt.ylabel('Sensitivity and Specificity')\n",
    "plt.title('Sensitivity and Specificity by Threshold')\n",
    "plt.legend(loc=\"lower right\")\n",
    "plt.show()\n"
   ]
  },
  {
   "cell_type": "code",
   "execution_count": 72,
   "metadata": {},
   "outputs": [
    {
     "name": "stdout",
     "output_type": "stream",
     "text": [
      "0.7192982456140351\n",
      "0.6008146639511202\n"
     ]
    }
   ],
   "source": [
    "print(recall_score(dy_test[1], lrpreds[1][:,1] > 0.03))\n",
    "print(specificity_score(dy_test[1], lrpreds[1][:,1] > 0.03))\n"
   ]
  },
  {
   "cell_type": "code",
   "execution_count": 73,
   "metadata": {},
   "outputs": [
    {
     "name": "stdout",
     "output_type": "stream",
     "text": [
      "0.7543859649122807\n",
      "0.5869653767820774\n"
     ]
    }
   ],
   "source": [
    "print(recall_score(dy_test[1], annpreds[1] > 0.125))\n",
    "print(specificity_score(dy_test[1], annpreds[1] > 0.125))"
   ]
  },
  {
   "cell_type": "code",
   "execution_count": 74,
   "metadata": {},
   "outputs": [],
   "source": [
    "from matplotlib import pyplot as plt\n",
    "import scipy.stats as st\n",
    "from sklearn import metrics\n",
    "\n",
    "def auc(X, Y):\n",
    "    return 1/(len(X)*len(Y)) * sum([kernel(x, y) for x in X for y in Y])\n",
    "def kernel(X, Y):\n",
    "    return .5 if Y==X else int(Y < X)\n",
    "def structural_components(X, Y):\n",
    "    V10 = [1/len(Y) * sum([kernel(x, y) for y in Y]) for x in X]\n",
    "    V01 = [1/len(X) * sum([kernel(x, y) for x in X]) for y in Y]\n",
    "    return V10, V01\n",
    "    \n",
    "\n",
    "def get_S_entry(V_A, V_B, auc_A, auc_B):\n",
    "    return 1/(len(V_A)-1) * sum([(a-auc_A)*(b-auc_B) for a,b in zip(V_A, V_B)])\n",
    "def z_score(var_A, var_B, covar_AB, auc_A, auc_B):\n",
    "    return (auc_A - auc_B)/((var_A + var_B - 2*covar_AB)**(.5))\n",
    "\n",
    "\n",
    "p = []\n",
    "z = []\n",
    "# Model A (random) vs. \"good\" model B\n",
    "for x in range(0,5):\n",
    "    preds_A = annpreds[x]\n",
    "    preds_B = lrpreds[x][:,1]\n",
    "    actual = dy_test[x]\n",
    "\n",
    "    actual = actual.array\n",
    "\n",
    "    def group_preds_by_label(preds, actual):\n",
    "        X = [p for (p, a) in zip(preds, actual) if a]\n",
    "        Y = [p for (p, a) in zip(preds, actual) if not a]\n",
    "        return X, Y\n",
    "\n",
    "\n",
    "    X_A, Y_A = group_preds_by_label(preds_A, actual)\n",
    "    X_B, Y_B = group_preds_by_label(preds_B, actual)\n",
    "    V_A10, V_A01 = structural_components(X_A, Y_A)\n",
    "    V_B10, V_B01 = structural_components(X_B, Y_B)\n",
    "    auc_A = auc(X_A, Y_A)\n",
    "    auc_B = auc(X_B, Y_B)\n",
    "\n",
    "\n",
    "    # Compute entries of covariance matrix S (covar_AB = covar_BA)\n",
    "    var_A = (get_S_entry(V_A10, V_A10, auc_A, auc_A) * 1/len(V_A10)\n",
    "            + get_S_entry(V_A01, V_A01, auc_A, auc_A) * 1/len(V_A01))\n",
    "    var_B = (get_S_entry(V_B10, V_B10, auc_B, auc_B) * 1/len(V_B10)\n",
    "            + get_S_entry(V_B01, V_B01, auc_B, auc_B) * 1/len(V_B01))\n",
    "    covar_AB = (get_S_entry(V_A10, V_B10, auc_A, auc_B) * 1/len(V_A10)\n",
    "                + get_S_entry(V_A01, V_B01, auc_A, auc_B) * 1/len(V_A01))\n",
    "\n",
    "    # Two tailed test\n",
    "    z.append(z_score(var_A, var_B, covar_AB, auc_A, auc_B))\n",
    "    p.append(st.norm.sf(abs(z[x-1]))*2)\n"
   ]
  },
  {
   "cell_type": "code",
   "execution_count": 75,
   "metadata": {},
   "outputs": [
    {
     "data": {
      "text/plain": [
       "[0.0008414236000672049,\n",
       " 0.0008414236000672049,\n",
       " 0.06992098180299783,\n",
       " 9.733662959044024e-09,\n",
       " 0.1856597792893646]"
      ]
     },
     "execution_count": 75,
     "metadata": {},
     "output_type": "execute_result"
    }
   ],
   "source": [
    "p"
   ]
  },
  {
   "cell_type": "code",
   "execution_count": 76,
   "metadata": {},
   "outputs": [
    {
     "data": {
      "text/plain": [
       "0.05145272360523197"
      ]
     },
     "execution_count": 76,
     "metadata": {},
     "output_type": "execute_result"
    }
   ],
   "source": [
    "sum(p)/(len(p))"
   ]
  },
  {
   "cell_type": "code",
   "execution_count": null,
   "metadata": {},
   "outputs": [],
   "source": []
  }
 ],
 "metadata": {
  "interpreter": {
   "hash": "916dbcbb3f70747c44a77c7bcd40155683ae19c65e1c03b4aa3499c5328201f1"
  },
  "kernelspec": {
   "display_name": "Python 3.9.5 64-bit",
   "language": "python",
   "name": "python3"
  },
  "language_info": {
   "codemirror_mode": {
    "name": "ipython",
    "version": 3
   },
   "file_extension": ".py",
   "mimetype": "text/x-python",
   "name": "python",
   "nbconvert_exporter": "python",
   "pygments_lexer": "ipython3",
   "version": "3.9.5"
  },
  "orig_nbformat": 4
 },
 "nbformat": 4,
 "nbformat_minor": 2
}
