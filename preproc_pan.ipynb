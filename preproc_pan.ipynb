{
 "cells": [
  {
   "cell_type": "code",
   "execution_count": 2,
   "metadata": {},
   "outputs": [],
   "source": [
    "import pandas as pd\n",
    "from pandas.api.types import CategoricalDtype\n",
    "import numpy as np\n",
    "import os"
   ]
  },
  {
   "cell_type": "code",
   "execution_count": 3,
   "metadata": {},
   "outputs": [],
   "source": [
    "from sklearn.preprocessing import LabelEncoder\n",
    "from sklearn.impute import SimpleImputer\n",
    "from sklearn.preprocessing import RobustScaler"
   ]
  },
  {
   "cell_type": "code",
   "execution_count": 3,
   "metadata": {},
   "outputs": [
    {
     "data": {
      "text/html": [
       "<div>\n",
       "<style scoped>\n",
       "    .dataframe tbody tr th:only-of-type {\n",
       "        vertical-align: middle;\n",
       "    }\n",
       "\n",
       "    .dataframe tbody tr th {\n",
       "        vertical-align: top;\n",
       "    }\n",
       "\n",
       "    .dataframe thead th {\n",
       "        text-align: right;\n",
       "    }\n",
       "</style>\n",
       "<table border=\"1\" class=\"dataframe\">\n",
       "  <thead>\n",
       "    <tr style=\"text-align: right;\">\n",
       "      <th></th>\n",
       "      <th>Unnamed: 0</th>\n",
       "      <th>PAN_LAPTHOR</th>\n",
       "      <th>PAN_JAUNDICE</th>\n",
       "      <th>PAN_JAUNDICE_UNK</th>\n",
       "      <th>PAN_BILIARYSTENT</th>\n",
       "      <th>PAN_CHEMO</th>\n",
       "      <th>PAN_CHEMO_UNK</th>\n",
       "      <th>PAN_RADIO</th>\n",
       "      <th>PAN_RADIO_UNK</th>\n",
       "      <th>PAN_INTRA_ANTIBIOTICS</th>\n",
       "      <th>...</th>\n",
       "      <th>NNEURODEF</th>\n",
       "      <th>NEURODEF</th>\n",
       "      <th>DNEURODEF</th>\n",
       "      <th>NOTHGRAFL</th>\n",
       "      <th>OTHGRAFL</th>\n",
       "      <th>DOTHGRAFL</th>\n",
       "      <th>DSDTOHD</th>\n",
       "      <th>READMISSION</th>\n",
       "      <th>UNPLANREADMISSION</th>\n",
       "      <th>REOPERATION</th>\n",
       "    </tr>\n",
       "    <tr>\n",
       "      <th>CASEID</th>\n",
       "      <th></th>\n",
       "      <th></th>\n",
       "      <th></th>\n",
       "      <th></th>\n",
       "      <th></th>\n",
       "      <th></th>\n",
       "      <th></th>\n",
       "      <th></th>\n",
       "      <th></th>\n",
       "      <th></th>\n",
       "      <th></th>\n",
       "      <th></th>\n",
       "      <th></th>\n",
       "      <th></th>\n",
       "      <th></th>\n",
       "      <th></th>\n",
       "      <th></th>\n",
       "      <th></th>\n",
       "      <th></th>\n",
       "      <th></th>\n",
       "      <th></th>\n",
       "    </tr>\n",
       "  </thead>\n",
       "  <tbody>\n",
       "    <tr>\n",
       "      <th>6519196</th>\n",
       "      <td>0</td>\n",
       "      <td>NaN</td>\n",
       "      <td>No</td>\n",
       "      <td>NaN</td>\n",
       "      <td>No stent at time of surgery</td>\n",
       "      <td>No</td>\n",
       "      <td>NaN</td>\n",
       "      <td>No</td>\n",
       "      <td>NaN</td>\n",
       "      <td>2nd or 3rd generation cephalosporin</td>\n",
       "      <td>...</td>\n",
       "      <td>NaN</td>\n",
       "      <td>NaN</td>\n",
       "      <td>NaN</td>\n",
       "      <td>NaN</td>\n",
       "      <td>NaN</td>\n",
       "      <td>NaN</td>\n",
       "      <td>NaN</td>\n",
       "      <td>NaN</td>\n",
       "      <td>NaN</td>\n",
       "      <td>NaN</td>\n",
       "    </tr>\n",
       "    <tr>\n",
       "      <th>6522035</th>\n",
       "      <td>1</td>\n",
       "      <td>NaN</td>\n",
       "      <td>Yes</td>\n",
       "      <td>NaN</td>\n",
       "      <td>No stent at time of surgery</td>\n",
       "      <td>No</td>\n",
       "      <td>NaN</td>\n",
       "      <td>No</td>\n",
       "      <td>NaN</td>\n",
       "      <td>2nd or 3rd generation cephalosporin</td>\n",
       "      <td>...</td>\n",
       "      <td>NaN</td>\n",
       "      <td>NaN</td>\n",
       "      <td>NaN</td>\n",
       "      <td>NaN</td>\n",
       "      <td>NaN</td>\n",
       "      <td>NaN</td>\n",
       "      <td>NaN</td>\n",
       "      <td>NaN</td>\n",
       "      <td>NaN</td>\n",
       "      <td>NaN</td>\n",
       "    </tr>\n",
       "    <tr>\n",
       "      <th>6523494</th>\n",
       "      <td>2</td>\n",
       "      <td>NaN</td>\n",
       "      <td>Yes</td>\n",
       "      <td>NaN</td>\n",
       "      <td>Endoscopic stent</td>\n",
       "      <td>Yes</td>\n",
       "      <td>NaN</td>\n",
       "      <td>No</td>\n",
       "      <td>NaN</td>\n",
       "      <td>1st generation cephalosporin</td>\n",
       "      <td>...</td>\n",
       "      <td>NaN</td>\n",
       "      <td>NaN</td>\n",
       "      <td>NaN</td>\n",
       "      <td>NaN</td>\n",
       "      <td>NaN</td>\n",
       "      <td>NaN</td>\n",
       "      <td>NaN</td>\n",
       "      <td>NaN</td>\n",
       "      <td>NaN</td>\n",
       "      <td>NaN</td>\n",
       "    </tr>\n",
       "    <tr>\n",
       "      <th>6537316</th>\n",
       "      <td>3</td>\n",
       "      <td>NaN</td>\n",
       "      <td>No</td>\n",
       "      <td>NaN</td>\n",
       "      <td>No stent at time of surgery</td>\n",
       "      <td>No</td>\n",
       "      <td>NaN</td>\n",
       "      <td>No</td>\n",
       "      <td>NaN</td>\n",
       "      <td>1st generation cephalosporin</td>\n",
       "      <td>...</td>\n",
       "      <td>NaN</td>\n",
       "      <td>NaN</td>\n",
       "      <td>NaN</td>\n",
       "      <td>NaN</td>\n",
       "      <td>NaN</td>\n",
       "      <td>NaN</td>\n",
       "      <td>NaN</td>\n",
       "      <td>NaN</td>\n",
       "      <td>NaN</td>\n",
       "      <td>NaN</td>\n",
       "    </tr>\n",
       "    <tr>\n",
       "      <th>6537525</th>\n",
       "      <td>4</td>\n",
       "      <td>NaN</td>\n",
       "      <td>No</td>\n",
       "      <td>NaN</td>\n",
       "      <td>No stent at time of surgery</td>\n",
       "      <td>No</td>\n",
       "      <td>NaN</td>\n",
       "      <td>No</td>\n",
       "      <td>NaN</td>\n",
       "      <td>2nd or 3rd generation cephalosporin</td>\n",
       "      <td>...</td>\n",
       "      <td>NaN</td>\n",
       "      <td>NaN</td>\n",
       "      <td>NaN</td>\n",
       "      <td>NaN</td>\n",
       "      <td>NaN</td>\n",
       "      <td>NaN</td>\n",
       "      <td>NaN</td>\n",
       "      <td>NaN</td>\n",
       "      <td>NaN</td>\n",
       "      <td>NaN</td>\n",
       "    </tr>\n",
       "  </tbody>\n",
       "</table>\n",
       "<p>5 rows × 371 columns</p>\n",
       "</div>"
      ],
      "text/plain": [
       "         Unnamed: 0 PAN_LAPTHOR PAN_JAUNDICE PAN_JAUNDICE_UNK  \\\n",
       "CASEID                                                          \n",
       "6519196           0         NaN           No              NaN   \n",
       "6522035           1         NaN          Yes              NaN   \n",
       "6523494           2         NaN          Yes              NaN   \n",
       "6537316           3         NaN           No              NaN   \n",
       "6537525           4         NaN           No              NaN   \n",
       "\n",
       "                    PAN_BILIARYSTENT PAN_CHEMO PAN_CHEMO_UNK PAN_RADIO  \\\n",
       "CASEID                                                                   \n",
       "6519196  No stent at time of surgery        No           NaN        No   \n",
       "6522035  No stent at time of surgery        No           NaN        No   \n",
       "6523494             Endoscopic stent       Yes           NaN        No   \n",
       "6537316  No stent at time of surgery        No           NaN        No   \n",
       "6537525  No stent at time of surgery        No           NaN        No   \n",
       "\n",
       "        PAN_RADIO_UNK                PAN_INTRA_ANTIBIOTICS  ... NNEURODEF  \\\n",
       "CASEID                                                      ...             \n",
       "6519196           NaN  2nd or 3rd generation cephalosporin  ...       NaN   \n",
       "6522035           NaN  2nd or 3rd generation cephalosporin  ...       NaN   \n",
       "6523494           NaN         1st generation cephalosporin  ...       NaN   \n",
       "6537316           NaN         1st generation cephalosporin  ...       NaN   \n",
       "6537525           NaN  2nd or 3rd generation cephalosporin  ...       NaN   \n",
       "\n",
       "        NEURODEF DNEURODEF NOTHGRAFL OTHGRAFL DOTHGRAFL DSDTOHD READMISSION  \\\n",
       "CASEID                                                                        \n",
       "6519196      NaN       NaN       NaN      NaN       NaN     NaN         NaN   \n",
       "6522035      NaN       NaN       NaN      NaN       NaN     NaN         NaN   \n",
       "6523494      NaN       NaN       NaN      NaN       NaN     NaN         NaN   \n",
       "6537316      NaN       NaN       NaN      NaN       NaN     NaN         NaN   \n",
       "6537525      NaN       NaN       NaN      NaN       NaN     NaN         NaN   \n",
       "\n",
       "        UNPLANREADMISSION REOPERATION  \n",
       "CASEID                                 \n",
       "6519196               NaN         NaN  \n",
       "6522035               NaN         NaN  \n",
       "6523494               NaN         NaN  \n",
       "6537316               NaN         NaN  \n",
       "6537525               NaN         NaN  \n",
       "\n",
       "[5 rows x 371 columns]"
      ]
     },
     "execution_count": 3,
     "metadata": {},
     "output_type": "execute_result"
    }
   ],
   "source": [
    "#Open csv file\n",
    "data = pd.read_csv(r\"/home/kchen/Documents/leak/Other/Data/pan/pan.csv\", index_col=\"CASEID\", na_values = -99, low_memory=False)\n",
    "data.head()"
   ]
  },
  {
   "cell_type": "code",
   "execution_count": 4,
   "metadata": {},
   "outputs": [
    {
     "data": {
      "text/plain": [
       "(39779, 371)"
      ]
     },
     "execution_count": 4,
     "metadata": {},
     "output_type": "execute_result"
    }
   ],
   "source": [
    "data.shape"
   ]
  },
  {
   "cell_type": "code",
   "execution_count": 5,
   "metadata": {},
   "outputs": [],
   "source": [
    "features = ['PRNCPTX', 'CPT', 'CONCPT1', 'OTHERCPT1', 'OPERYR', 'SEX', 'AGE', 'HEIGHT', 'WEIGHT', 'RACE_NEW', 'ETHNICITY_HISPANIC', 'TRANST','WNDCLAS','ASACLAS', 'DIABETES', 'SMOKE', 'DYSPNEA', 'FNSTATUS2', 'VENTILAT', 'HXCOPD', 'ASCITES', 'HXCHF', 'HYPERMED', 'RENAFAIL', 'DIALYSIS', 'STEROID', 'WTLOSS', 'BLEEDDIS', 'TRANSFUS', 'PRSEPIS', 'PRSODM', 'PRBUN', 'PRCREAT',  'PRALBUM', 'PRBILI', 'PRALKPH', 'PRWBC', 'PRHCT', 'PRPLATE', 'PRPTT', 'PRINR', 'PRPT', 'SEPSHOCKPATOS', 'SSSIPATOS', 'DSSIPATOS', 'OSSIPATOS', 'PNAPATOS', 'VENTPATOS', 'UTIPATOS', 'SEPSISPATOS', 'SEPSHOCKPATOS', 'OPTIME', 'OUPNEUMO', 'CDARREST', 'CDMI', 'SUPINFEC', 'WNDINFD', 'ORGSPCSSI', 'URNINFEC', 'OTHDVT', 'PULEMBOL', 'RENAINSF', 'OPRENAFL', 'DEHIS', 'REINTUB', 'FAILWEAN', 'CNSCVA', 'OTHSYSEP', 'OTHBLEED', 'OTHSESHOCK', 'DOPERTOD','OTHBLEED']"
   ]
  },
  {
   "cell_type": "code",
   "execution_count": 6,
   "metadata": {},
   "outputs": [],
   "source": [
    "pan_features = ['PAN_JAUNDICE', 'PAN_BILIARYSTENT', 'PAN_CHEMO', 'PAN_RADIO', 'PAN_INTRA_ANTIBIOTICS', 'PAN_APPROACH', 'PAN_OINCIS_TYPE', 'PAN_WOUNDPROT', 'PAN_DUCTSIZE', 'PAN_GLANDTEXT', 'PAN_RECONSTRUCTION', 'PAN_GASTDUO', 'PAN_DRAINS', 'PAN_DRAINS_TYPE', 'PAN_DRAINSYS_TYPE', 'PAN_DRAINSYS_SUCTN', 'PAN_RESECTION', 'PAN_AMYLASE_POD1', 'PAN_AMYLASE_POD230', 'DAMYLASE', 'DDRAINREMOVAL', 'PAN_DRAIN_POD30', 'PAN_FISTULA', 'PAN_DELGASTRIC_20140315', 'PAN_PERCDRAIN_20140315', 'PAN_PERCDRAINAGE', 'PAN_NPWT', 'PAN_POAP', 'PAN_MALIG_HISTOLOGIC', 'PAN_TSTAGE', 'PAN_NSTAGE', 'PAN_MSTAGE', 'PAN_BENIGN_HISTOLOGIC', 'PAN_BENIGN_TUMORSIZE']"
   ]
  },
  {
   "cell_type": "code",
   "execution_count": 7,
   "metadata": {},
   "outputs": [],
   "source": [
    "#Remove unwanted columns\n",
    "data = data[features + pan_features]"
   ]
  },
  {
   "cell_type": "code",
   "execution_count": 8,
   "metadata": {},
   "outputs": [],
   "source": [
    "whipple = data[(data['CPT'] == 48150) | (data['CPT'] == 48153) ]"
   ]
  },
  {
   "cell_type": "code",
   "execution_count": 9,
   "metadata": {},
   "outputs": [
    {
     "data": {
      "text/plain": [
       "No                                                          0.546700\n",
       "No evidence of Biochemical Leak or POPF                     0.260571\n",
       "Yes-persistent drainage, drain continued >7 days            0.052694\n",
       "Yes, Grade B POPF present                                   0.037761\n",
       "Yes-clinical diagnosis, percutaneous drainage performed     0.020779\n",
       "Biochemical Leak only                                       0.020779\n",
       "Yes-clinical diagnosis, drain continued >7 days             0.016811\n",
       "Yes-persistent drainage, percutaneous drainage performed    0.013824\n",
       "Unknown                                                     0.008704\n",
       "Yes-clinical diagnosis, reoperation performed               0.005461\n",
       "Yes, Grade C POPF present                                   0.004608\n",
       "Yes-clinical diagnosis, spontaneous wound drainage          0.003456\n",
       "Yes-clinical diagnosis, NPO-TPN                             0.003072\n",
       "Yes-persistent drainage, NPO-TPN                            0.002901\n",
       "Yes-persistent drainage, reoperation performed              0.001877\n",
       "Name: PAN_FISTULA, dtype: float64"
      ]
     },
     "execution_count": 9,
     "metadata": {},
     "output_type": "execute_result"
    }
   ],
   "source": [
    "whipple['PAN_FISTULA'].value_counts(normalize=True)"
   ]
  },
  {
   "cell_type": "code",
   "execution_count": 10,
   "metadata": {},
   "outputs": [
    {
     "data": {
      "text/plain": [
       "No                                                          0.541567\n",
       "No evidence of Biochemical Leak or POPF                     0.262827\n",
       "Yes-persistent drainage, drain continued >7 days            0.056613\n",
       "Yes, Grade B POPF present                                   0.037105\n",
       "Biochemical Leak only                                       0.023781\n",
       "Yes-clinical diagnosis, percutaneous drainage performed     0.019458\n",
       "Yes-clinical diagnosis, drain continued >7 days             0.018301\n",
       "Yes-persistent drainage, percutaneous drainage performed    0.013776\n",
       "Unknown                                                     0.009603\n",
       "Yes-clinical diagnosis, reoperation performed               0.004073\n",
       "Yes, Grade C POPF present                                   0.003972\n",
       "Yes-clinical diagnosis, spontaneous wound drainage          0.002816\n",
       "Yes-persistent drainage, NPO-TPN                            0.002388\n",
       "Yes-clinical diagnosis, NPO-TPN                             0.002237\n",
       "Yes-persistent drainage, reoperation performed              0.001483\n",
       "Name: PAN_FISTULA, dtype: float64"
      ]
     },
     "execution_count": 10,
     "metadata": {},
     "output_type": "execute_result"
    }
   ],
   "source": [
    "data['PAN_FISTULA'].value_counts(normalize=True)"
   ]
  },
  {
   "cell_type": "code",
   "execution_count": 11,
   "metadata": {},
   "outputs": [
    {
     "data": {
      "text/plain": [
       "(23437, 106)"
      ]
     },
     "execution_count": 11,
     "metadata": {},
     "output_type": "execute_result"
    }
   ],
   "source": [
    "whipple.shape"
   ]
  },
  {
   "cell_type": "code",
   "execution_count": 12,
   "metadata": {},
   "outputs": [],
   "source": [
    "data = whipple"
   ]
  },
  {
   "cell_type": "code",
   "execution_count": 13,
   "metadata": {},
   "outputs": [
    {
     "name": "stdout",
     "output_type": "stream",
     "text": [
      "8.895975179705461\n",
      "69.9101134832208\n"
     ]
    }
   ],
   "source": [
    "#Create BMI column\n",
    "lbs_to_kg_ratio = 0.453592\n",
    "inch_to_meter_ratio = 0.0254\n",
    "\n",
    "data['HEIGHT'] *= inch_to_meter_ratio\n",
    "data['WEIGHT'] *= lbs_to_kg_ratio\n",
    "\n",
    "data['BMI'] = data['WEIGHT']/(data['HEIGHT']**2)\n",
    "print(min(data['BMI']))\n",
    "print(max(data['BMI']))"
   ]
  },
  {
   "cell_type": "code",
   "execution_count": 14,
   "metadata": {},
   "outputs": [
    {
     "name": "stdout",
     "output_type": "stream",
     "text": [
      "['PRNCPTX', 'CPT', 'CONCPT1', 'OTHERCPT1', 'OPERYR', 'SEX', 'AGE', 'HEIGHT', 'WEIGHT', 'RACE_NEW', 'ETHNICITY_HISPANIC', 'TRANST', 'WNDCLAS', 'ASACLAS', 'DIABETES', 'SMOKE', 'DYSPNEA', 'FNSTATUS2', 'VENTILAT', 'HXCOPD', 'ASCITES', 'HXCHF', 'HYPERMED', 'RENAFAIL', 'DIALYSIS', 'STEROID', 'WTLOSS', 'BLEEDDIS', 'TRANSFUS', 'PRSEPIS', 'PRSODM', 'PRBUN', 'PRCREAT', 'PRALBUM', 'PRBILI', 'PRALKPH', 'PRWBC', 'PRHCT', 'PRPLATE', 'PRPTT', 'PRINR', 'PRPT', 'SEPSHOCKPATOS', 'SSSIPATOS', 'DSSIPATOS', 'OSSIPATOS', 'PNAPATOS', 'VENTPATOS', 'UTIPATOS', 'SEPSISPATOS', 'SEPSHOCKPATOS', 'OPTIME', 'OUPNEUMO', 'CDARREST', 'CDMI', 'SUPINFEC', 'WNDINFD', 'ORGSPCSSI', 'URNINFEC', 'OTHDVT', 'PULEMBOL', 'RENAINSF', 'OPRENAFL', 'DEHIS', 'REINTUB', 'FAILWEAN', 'CNSCVA', 'OTHSYSEP', 'OTHBLEED', 'OTHSESHOCK', 'DOPERTOD', 'OTHBLEED', 'PAN_JAUNDICE', 'PAN_BILIARYSTENT', 'PAN_CHEMO', 'PAN_RADIO', 'PAN_INTRA_ANTIBIOTICS', 'PAN_APPROACH', 'PAN_OINCIS_TYPE', 'PAN_WOUNDPROT', 'PAN_DUCTSIZE', 'PAN_GLANDTEXT', 'PAN_RECONSTRUCTION', 'PAN_GASTDUO', 'PAN_DRAINS', 'PAN_DRAINS_TYPE', 'PAN_DRAINSYS_TYPE', 'PAN_DRAINSYS_SUCTN', 'PAN_RESECTION', 'PAN_AMYLASE_POD1', 'PAN_AMYLASE_POD230', 'DAMYLASE', 'DDRAINREMOVAL', 'PAN_DRAIN_POD30', 'PAN_FISTULA', 'PAN_DELGASTRIC_20140315', 'PAN_PERCDRAIN_20140315', 'PAN_PERCDRAINAGE', 'PAN_NPWT', 'PAN_POAP', 'PAN_MALIG_HISTOLOGIC', 'PAN_TSTAGE', 'PAN_NSTAGE', 'PAN_MSTAGE', 'PAN_BENIGN_HISTOLOGIC', 'PAN_BENIGN_TUMORSIZE', 'BMI']\n"
     ]
    }
   ],
   "source": [
    "print(data.columns.tolist())"
   ]
  },
  {
   "cell_type": "code",
   "execution_count": 15,
   "metadata": {},
   "outputs": [
    {
     "data": {
      "text/plain": [
       "(23437, 107)"
      ]
     },
     "execution_count": 15,
     "metadata": {},
     "output_type": "execute_result"
    }
   ],
   "source": [
    "data.shape"
   ]
  },
  {
   "cell_type": "code",
   "execution_count": 16,
   "metadata": {},
   "outputs": [
    {
     "data": {
      "text/plain": [
       "No                                                          12813\n",
       "No evidence of Biochemical Leak or POPF                      6107\n",
       "Yes-persistent drainage, drain continued >7 days             1235\n",
       "Yes, Grade B POPF present                                     885\n",
       "Yes-clinical diagnosis, percutaneous drainage performed       487\n",
       "Biochemical Leak only                                         487\n",
       "Yes-clinical diagnosis, drain continued >7 days               394\n",
       "Yes-persistent drainage, percutaneous drainage performed      324\n",
       "Unknown                                                       204\n",
       "Yes-clinical diagnosis, reoperation performed                 128\n",
       "Yes, Grade C POPF present                                     108\n",
       "Yes-clinical diagnosis, spontaneous wound drainage             81\n",
       "Yes-clinical diagnosis, NPO-TPN                                72\n",
       "Yes-persistent drainage, NPO-TPN                               68\n",
       "Yes-persistent drainage, reoperation performed                 44\n",
       "Name: PAN_FISTULA, dtype: int64"
      ]
     },
     "execution_count": 16,
     "metadata": {},
     "output_type": "execute_result"
    }
   ],
   "source": [
    "data['PAN_FISTULA'].value_counts()"
   ]
  },
  {
   "cell_type": "code",
   "execution_count": 17,
   "metadata": {},
   "outputs": [
    {
     "data": {
      "text/plain": [
       "False      19407\n",
       "True        3826\n",
       "Unknown      204\n",
       "Name: PAN_FISTULA, dtype: int64"
      ]
     },
     "execution_count": 17,
     "metadata": {},
     "output_type": "execute_result"
    }
   ],
   "source": [
    "data.loc[data['PAN_FISTULA'] == 'No evidence of Biochemical Leak or POPF', 'PAN_FISTULA'] = False\n",
    "data.loc[data['PAN_FISTULA'] == 'No', 'PAN_FISTULA'] = False\n",
    "data.loc[data['PAN_FISTULA'] == 'Biochemical Leak only', 'PAN_FISTULA'] = False\n",
    "\n",
    "data.loc[data['PAN_FISTULA'] == 'Yes-persistent drainage, drain continued >7 days', 'PAN_FISTULA'] = True\n",
    "data.loc[data['PAN_FISTULA'] == 'Yes, Grade B POPF present', 'PAN_FISTULA'] = True\n",
    "data.loc[data['PAN_FISTULA'] == 'Yes-clinical diagnosis, percutaneous drainage performed', 'PAN_FISTULA'] = True\n",
    "data.loc[data['PAN_FISTULA'] == 'Yes-persistent drainage, percutaneous drainage performed', 'PAN_FISTULA'] = True\n",
    "data.loc[data['PAN_FISTULA'] == 'Yes-clinical diagnosis, reoperation performed', 'PAN_FISTULA'] = True\n",
    "data.loc[data['PAN_FISTULA'] == 'Yes, Grade C POPF present', 'PAN_FISTULA'] = True\n",
    "data.loc[data['PAN_FISTULA'] == 'Yes-clinical diagnosis, spontaneous wound drainage', 'PAN_FISTULA'] = True\n",
    "data.loc[data['PAN_FISTULA'] == 'Yes-persistent drainage, NPO-TPN', 'PAN_FISTULA'] = True\n",
    "data.loc[data['PAN_FISTULA'] == 'Yes-clinical diagnosis, NPO-TPN', 'PAN_FISTULA'] = True\n",
    "data.loc[data['PAN_FISTULA'] == 'Yes-persistent drainage, reoperation performed', 'PAN_FISTULA'] = True\n",
    "data.loc[data['PAN_FISTULA'] == 'Yes-clinical diagnosis, drain continued >7 days', 'PAN_FISTULA'] = True\n",
    "\n",
    "data['PAN_FISTULA'].value_counts()"
   ]
  },
  {
   "cell_type": "code",
   "execution_count": 18,
   "metadata": {},
   "outputs": [
    {
     "data": {
      "text/plain": [
       "False    19407\n",
       "True      3826\n",
       "Name: PAN_FISTULA, dtype: int64"
      ]
     },
     "execution_count": 18,
     "metadata": {},
     "output_type": "execute_result"
    }
   ],
   "source": [
    "#Remove unwanted indication from COL_INDICATION\n",
    "data.drop(data[data['PAN_FISTULA'] == 'Unknown'].index, inplace=True)\n",
    "data['PAN_FISTULA'].value_counts()"
   ]
  },
  {
   "cell_type": "code",
   "execution_count": 19,
   "metadata": {},
   "outputs": [
    {
     "data": {
      "text/plain": [
       "False                                                20088\n",
       "Yes-other                                              901\n",
       "Yes-pus                                                832\n",
       "Yes-amylase-rich fluid                                 666\n",
       "Yes-bile                                               273\n",
       "Yes-amylase-rich fluid,Yes-pus                         263\n",
       "Yes-pus,Yes-bile                                        44\n",
       "Yes-pus,Yes-other                                       40\n",
       "Yes-amylase-rich fluid,Yes-other                        35\n",
       "Yes-amylase-rich fluid,Yes-bile                         27\n",
       "Yes-amylase-rich fluid,Yes-pus,Yes-bile                 27\n",
       "Yes-bile,Yes-other                                      17\n",
       "Yes-pus,Yes-bile,Yes-other                               9\n",
       "Yes-amylase-rich fluid,Yes-pus,Yes-other                 8\n",
       "Yes-amylase-rich fluid,Yes-pus,Yes-bile,Yes-other        2\n",
       "Yes-amylase-rich fluid,Yes-bile,Yes-other                1\n",
       "Name: PAN_PERCDRAINAGE, dtype: int64"
      ]
     },
     "execution_count": 19,
     "metadata": {},
     "output_type": "execute_result"
    }
   ],
   "source": [
    "data['PAN_PERCDRAINAGE'] = data['PAN_PERCDRAINAGE'].fillna(False)\n",
    "data['PAN_PERCDRAINAGE'].value_counts(dropna=False)"
   ]
  },
  {
   "cell_type": "code",
   "execution_count": 20,
   "metadata": {},
   "outputs": [
    {
     "data": {
      "text/plain": [
       "False    20088\n",
       "True      3145\n",
       "Name: PAN_PERCDRAINAGE, dtype: int64"
      ]
     },
     "execution_count": 20,
     "metadata": {},
     "output_type": "execute_result"
    }
   ],
   "source": [
    "data.loc[data['PAN_PERCDRAINAGE'] != False, 'PAN_PERCDRAINAGE'] = True\n",
    "data['PAN_PERCDRAINAGE'].value_counts(dropna=False)"
   ]
  },
  {
   "cell_type": "code",
   "execution_count": 21,
   "metadata": {},
   "outputs": [
    {
     "name": "stderr",
     "output_type": "stream",
     "text": [
      "/home/kchen/.local/lib/python3.9/site-packages/pandas/core/generic.py:6392: SettingWithCopyWarning: \n",
      "A value is trying to be set on a copy of a slice from a DataFrame\n",
      "\n",
      "See the caveats in the documentation: https://pandas.pydata.org/pandas-docs/stable/user_guide/indexing.html#returning-a-view-versus-a-copy\n",
      "  return self._update_inplace(result)\n"
     ]
    },
    {
     "data": {
      "text/plain": [
       "True     23044\n",
       "False      189\n",
       "Name: PAN_POAP, dtype: int64"
      ]
     },
     "execution_count": 21,
     "metadata": {},
     "output_type": "execute_result"
    }
   ],
   "source": [
    "data['PAN_POAP'].fillna(False, inplace=True)\n",
    "data.loc[data['PAN_POAP'] == 'No', 'PAN_POAP'] = False\n",
    "data.loc[data['PAN_POAP'] == 'Unknown', 'PAN_POAP'] = False\n",
    "data.loc[data['PAN_POAP'] != False, 'PAN_POAP'] = True\n",
    "data['PAN_POAP'].value_counts(dropna=False)"
   ]
  },
  {
   "cell_type": "code",
   "execution_count": 22,
   "metadata": {},
   "outputs": [],
   "source": [
    "data['PAN_POAP'] = data['PAN_POAP'].astype('bool')"
   ]
  },
  {
   "cell_type": "code",
   "execution_count": 23,
   "metadata": {},
   "outputs": [
    {
     "data": {
      "text/plain": [
       "True     23044\n",
       "False      189\n",
       "Name: PAN_POAP, dtype: int64"
      ]
     },
     "execution_count": 23,
     "metadata": {},
     "output_type": "execute_result"
    }
   ],
   "source": [
    "data['PAN_POAP'].value_counts(dropna=False)"
   ]
  },
  {
   "cell_type": "code",
   "execution_count": 24,
   "metadata": {},
   "outputs": [
    {
     "data": {
      "text/plain": [
       "CASEID\n",
       "6522035    3-Severe Disturb\n",
       "6523494    3-Severe Disturb\n",
       "6537888    3-Severe Disturb\n",
       "6540993    3-Severe Disturb\n",
       "6545348    3-Severe Disturb\n",
       "                 ...       \n",
       "6432651      2-Mild Disturb\n",
       "6433086    3-Severe Disturb\n",
       "6433351    3-Severe Disturb\n",
       "6433506       4-Life Threat\n",
       "6433572    3-Severe Disturb\n",
       "Name: ASACLAS, Length: 23233, dtype: category\n",
       "Categories (6, object): ['None assigned' < '1-No Disturb' < '2-Mild Disturb' < '3-Severe Disturb' < '4-Life Threat' < '5-Moribund']"
      ]
     },
     "execution_count": 24,
     "metadata": {},
     "output_type": "execute_result"
    }
   ],
   "source": [
    "#Cast ASA class as ordered categorical\n",
    "cat_type = CategoricalDtype(categories=['None assigned','1-No Disturb','2-Mild Disturb','3-Severe Disturb','4-Life Threat','5-Moribund'], ordered=True)\n",
    "data['ASACLAS'].astype(cat_type)\n"
   ]
  },
  {
   "cell_type": "code",
   "execution_count": 25,
   "metadata": {},
   "outputs": [
    {
     "data": {
      "text/plain": [
       "CASEID\n",
       "6522035    56\n",
       "6523494    76\n",
       "6537888    54\n",
       "6540993    57\n",
       "6545348    70\n",
       "           ..\n",
       "6432651    62\n",
       "6433086    73\n",
       "6433351    69\n",
       "6433506    75\n",
       "6433572    64\n",
       "Name: AGE, Length: 23233, dtype: int8"
      ]
     },
     "execution_count": 25,
     "metadata": {},
     "output_type": "execute_result"
    }
   ],
   "source": [
    "#Convert 90+ to 91 and AGE to int32\n",
    "data.loc[data['AGE'] == '90+', 'AGE'] = 91\n",
    "pd.to_numeric(data['AGE'], downcast='integer')"
   ]
  },
  {
   "cell_type": "code",
   "execution_count": 26,
   "metadata": {},
   "outputs": [
    {
     "data": {
      "text/plain": [
       "Open (planned)                                        21172\n",
       "Robotic                                                 849\n",
       "Laparoscopic                                            364\n",
       "Laparoscopic w/ unplanned conversion to open            286\n",
       "Laparoscopic w/ open assist                             223\n",
       "Robotic w/ unplanned conversion to open                 148\n",
       "Robotic w/ open assist                                  106\n",
       "Hybrid                                                   55\n",
       "Other MIS approach                                       13\n",
       "Hybrid w/ open assist                                    10\n",
       "Other                                                     2\n",
       "Hybrid w/ unplanned conversion to open                    2\n",
       "Unknown                                                   1\n",
       "NOTES w/ unplanned conversion to open                     1\n",
       "Other MIS approach w/ unplanned conversion to open        1\n",
       "Name: PAN_APPROACH, dtype: int64"
      ]
     },
     "execution_count": 26,
     "metadata": {},
     "output_type": "execute_result"
    }
   ],
   "source": [
    "data['PAN_APPROACH'].value_counts()"
   ]
  },
  {
   "cell_type": "code",
   "execution_count": 27,
   "metadata": {},
   "outputs": [
    {
     "data": {
      "text/plain": [
       "Open (planned)    21172\n",
       "Laparoscopic       2058\n",
       "Unknown               3\n",
       "Name: PAN_APPROACH, dtype: int64"
      ]
     },
     "execution_count": 27,
     "metadata": {},
     "output_type": "execute_result"
    }
   ],
   "source": [
    "data.loc[data['PAN_APPROACH'] == 'Laparoscopic', 'PAN_APPROACH'] = 'Laparoscopic'\n",
    "data.loc[data['PAN_APPROACH'] == 'Laparoscopic w/ open assist', 'PAN_APPROACH'] = 'Laparoscopic'\n",
    "data.loc[data['PAN_APPROACH'] == 'Laparoscopic w/ unplanned conversion to open', 'PAN_APPROACH'] = 'Laparoscopic'\n",
    "\n",
    "data.loc[data['PAN_APPROACH'] == 'Robotic', 'PAN_APPROACH'] = 'Laparoscopic'\n",
    "data.loc[data['PAN_APPROACH'] == 'Robotic w/ open assist', 'PAN_APPROACH'] = 'Laparoscopic'\n",
    "data.loc[data['PAN_APPROACH'] == 'Robotic w/ unplanned conversion to open', 'PAN_APPROACH'] = 'Laparoscopic'\n",
    "\n",
    "data.loc[data['PAN_APPROACH'] == 'NOTES', 'PAN_APPROACH'] = 'Laparoscopic'\n",
    "data.loc[data['PAN_APPROACH'] == 'NOTES w/ open assist', 'PAN_APPROACH'] = 'Laparoscopic w/ open assist'\n",
    "data.loc[data['PAN_APPROACH'] == 'NOTES w/ unplanned conversion to open', 'PAN_APPROACH'] = 'Laparoscopic'\n",
    "\n",
    "data.loc[data['PAN_APPROACH'] == 'Other MIS approach', 'PAN_APPROACH'] = 'Laparoscopic'\n",
    "data.loc[data['PAN_APPROACH'] == 'Other MIS approach w/ open assist', 'PAN_APPROACH'] = 'Laparoscopic'\n",
    "data.loc[data['PAN_APPROACH'] == 'Other MIS approach w/ unplanned conversion to open', 'PAN_APPROACH'] = 'Laparoscopic'\n",
    "\n",
    "data.loc[data['PAN_APPROACH'] == 'Hybrid', 'PAN_APPROACH'] = 'Laparoscopic'\n",
    "data.loc[data['PAN_APPROACH'] == 'Hybrid w/ open assist', 'PAN_APPROACH'] = 'Laparoscopic'\n",
    "data.loc[data['PAN_APPROACH'] == 'Hybrid w/ unplanned conversion to open', 'PAN_APPROACH'] = 'Laparoscopic'\n",
    "\n",
    "data.loc[data['PAN_APPROACH'] == 'SILS', 'PAN_APPROACH'] = 'Laparoscopic'\n",
    "\n",
    "data.loc[data['PAN_APPROACH'] == 'Other', 'PAN_APPROACH'] = 'Unknown'\n",
    "\n",
    "data['PAN_APPROACH'].value_counts()"
   ]
  },
  {
   "cell_type": "code",
   "execution_count": 28,
   "metadata": {},
   "outputs": [],
   "source": [
    "data.to_csv(r'/home/kchen/Documents/leak/Other/Data/pan/clean_pan.csv')"
   ]
  },
  {
   "cell_type": "code",
   "execution_count": 4,
   "metadata": {},
   "outputs": [
    {
     "name": "stderr",
     "output_type": "stream",
     "text": [
      "/usr/lib/python3/dist-packages/IPython/core/interactiveshell.py:3427: DtypeWarning: Columns (4,99) have mixed types.Specify dtype option on import or set low_memory=False.\n",
      "  exec(code_obj, self.user_global_ns, self.user_ns)\n"
     ]
    }
   ],
   "source": [
    "data = pd.read_csv(r'/home/kchen/Documents/leak/old_leak/Other/Data/pan/clean_pan.csv')"
   ]
  },
  {
   "cell_type": "code",
   "execution_count": 5,
   "metadata": {},
   "outputs": [],
   "source": [
    "drop = ['PRPT','OUPNEUMO', 'CDARREST', 'CDMI', 'SUPINFEC', 'WNDINFD', 'ORGSPCSSI', 'URNINFEC', 'OTHDVT', 'PULEMBOL', 'RENAINSF', 'OPRENAFL', 'DEHIS', 'REINTUB', 'FAILWEAN', 'CNSCVA', 'OTHSYSEP', 'OTHBLEED', 'OTHSESHOCK', 'DOPERTOD','PAN_AMYLASE_POD230']\n",
    "data.drop(drop, axis=1, inplace=True)"
   ]
  },
  {
   "cell_type": "code",
   "execution_count": 6,
   "metadata": {},
   "outputs": [],
   "source": [
    "num_candidates = []\n",
    "for col in data.columns:\n",
    "    if len(data[col].unique()) > 100:\n",
    "        num_candidates.append(col)"
   ]
  },
  {
   "cell_type": "code",
   "execution_count": 7,
   "metadata": {},
   "outputs": [],
   "source": [
    "num_cols = ['AGE','HEIGHT','WEIGHT', 'BMI','OPTIME','PRSODM','PRBUN','PRCREAT','PRALBUM','PRBILI','PRALKPH','PRWBC','PRHCT','PRPLATE','PRPTT','PRINR','OPTIME','PAN_AMYLASE_POD1']"
   ]
  },
  {
   "cell_type": "code",
   "execution_count": 8,
   "metadata": {},
   "outputs": [],
   "source": [
    "cat_cols = list(set(data.columns) - set(num_cols) - set('PAN_FISTULA'))\n",
    "for col in cat_cols:\n",
    "    data[col].fillna(value='Unknown', inplace=True)\n"
   ]
  },
  {
   "cell_type": "code",
   "execution_count": 9,
   "metadata": {},
   "outputs": [],
   "source": [
    "num_imputer = SimpleImputer(strategy = 'median')\n",
    "# Imputation for numeric:\n",
    "for ncol in num_cols:\n",
    "    data[ncol] = num_imputer.fit_transform(data[ncol].values.reshape(-1, 1))\n"
   ]
  },
  {
   "cell_type": "code",
   "execution_count": 10,
   "metadata": {},
   "outputs": [],
   "source": [
    "for col in num_cols:\n",
    "    data[col] = RobustScaler().fit_transform(data[col].values.reshape(-1,1))"
   ]
  },
  {
   "cell_type": "code",
   "execution_count": 11,
   "metadata": {},
   "outputs": [
    {
     "data": {
      "text/html": [
       "<div>\n",
       "<style scoped>\n",
       "    .dataframe tbody tr th:only-of-type {\n",
       "        vertical-align: middle;\n",
       "    }\n",
       "\n",
       "    .dataframe tbody tr th {\n",
       "        vertical-align: top;\n",
       "    }\n",
       "\n",
       "    .dataframe thead th {\n",
       "        text-align: right;\n",
       "    }\n",
       "</style>\n",
       "<table border=\"1\" class=\"dataframe\">\n",
       "  <thead>\n",
       "    <tr style=\"text-align: right;\">\n",
       "      <th></th>\n",
       "      <th>CASEID</th>\n",
       "      <th>PRNCPTX</th>\n",
       "      <th>CPT</th>\n",
       "      <th>CONCPT1</th>\n",
       "      <th>OTHERCPT1</th>\n",
       "      <th>OPERYR</th>\n",
       "      <th>SEX</th>\n",
       "      <th>AGE</th>\n",
       "      <th>HEIGHT</th>\n",
       "      <th>WEIGHT</th>\n",
       "      <th>...</th>\n",
       "      <th>PAN_PERCDRAINAGE</th>\n",
       "      <th>PAN_NPWT</th>\n",
       "      <th>PAN_POAP</th>\n",
       "      <th>PAN_MALIG_HISTOLOGIC</th>\n",
       "      <th>PAN_TSTAGE</th>\n",
       "      <th>PAN_NSTAGE</th>\n",
       "      <th>PAN_MSTAGE</th>\n",
       "      <th>PAN_BENIGN_HISTOLOGIC</th>\n",
       "      <th>PAN_BENIGN_TUMORSIZE</th>\n",
       "      <th>BMI</th>\n",
       "    </tr>\n",
       "  </thead>\n",
       "  <tbody>\n",
       "    <tr>\n",
       "      <th>0</th>\n",
       "      <td>11345</td>\n",
       "      <td>0</td>\n",
       "      <td>0</td>\n",
       "      <td>190</td>\n",
       "      <td>459</td>\n",
       "      <td>3</td>\n",
       "      <td>1</td>\n",
       "      <td>-0.666667</td>\n",
       "      <td>1.333333</td>\n",
       "      <td>1.240741</td>\n",
       "      <td>...</td>\n",
       "      <td>0</td>\n",
       "      <td>2</td>\n",
       "      <td>1</td>\n",
       "      <td>9</td>\n",
       "      <td>4</td>\n",
       "      <td>0</td>\n",
       "      <td>0</td>\n",
       "      <td>7</td>\n",
       "      <td>3</td>\n",
       "      <td>0.497005</td>\n",
       "    </tr>\n",
       "    <tr>\n",
       "      <th>1</th>\n",
       "      <td>11348</td>\n",
       "      <td>0</td>\n",
       "      <td>0</td>\n",
       "      <td>190</td>\n",
       "      <td>406</td>\n",
       "      <td>3</td>\n",
       "      <td>1</td>\n",
       "      <td>0.666667</td>\n",
       "      <td>0.666667</td>\n",
       "      <td>-0.055556</td>\n",
       "      <td>...</td>\n",
       "      <td>0</td>\n",
       "      <td>2</td>\n",
       "      <td>1</td>\n",
       "      <td>3</td>\n",
       "      <td>3</td>\n",
       "      <td>1</td>\n",
       "      <td>0</td>\n",
       "      <td>7</td>\n",
       "      <td>3</td>\n",
       "      <td>-0.427988</td>\n",
       "    </tr>\n",
       "    <tr>\n",
       "      <th>2</th>\n",
       "      <td>11390</td>\n",
       "      <td>0</td>\n",
       "      <td>0</td>\n",
       "      <td>190</td>\n",
       "      <td>272</td>\n",
       "      <td>3</td>\n",
       "      <td>0</td>\n",
       "      <td>-0.800000</td>\n",
       "      <td>-0.333333</td>\n",
       "      <td>0.574074</td>\n",
       "      <td>...</td>\n",
       "      <td>0</td>\n",
       "      <td>2</td>\n",
       "      <td>1</td>\n",
       "      <td>9</td>\n",
       "      <td>3</td>\n",
       "      <td>0</td>\n",
       "      <td>0</td>\n",
       "      <td>7</td>\n",
       "      <td>3</td>\n",
       "      <td>1.057034</td>\n",
       "    </tr>\n",
       "    <tr>\n",
       "      <th>3</th>\n",
       "      <td>11401</td>\n",
       "      <td>1</td>\n",
       "      <td>1</td>\n",
       "      <td>190</td>\n",
       "      <td>459</td>\n",
       "      <td>3</td>\n",
       "      <td>1</td>\n",
       "      <td>-0.600000</td>\n",
       "      <td>0.500000</td>\n",
       "      <td>0.574074</td>\n",
       "      <td>...</td>\n",
       "      <td>0</td>\n",
       "      <td>2</td>\n",
       "      <td>1</td>\n",
       "      <td>1</td>\n",
       "      <td>2</td>\n",
       "      <td>0</td>\n",
       "      <td>0</td>\n",
       "      <td>7</td>\n",
       "      <td>3</td>\n",
       "      <td>0.382758</td>\n",
       "    </tr>\n",
       "    <tr>\n",
       "      <th>4</th>\n",
       "      <td>11406</td>\n",
       "      <td>0</td>\n",
       "      <td>0</td>\n",
       "      <td>190</td>\n",
       "      <td>191</td>\n",
       "      <td>3</td>\n",
       "      <td>0</td>\n",
       "      <td>0.266667</td>\n",
       "      <td>-0.500000</td>\n",
       "      <td>-0.351852</td>\n",
       "      <td>...</td>\n",
       "      <td>0</td>\n",
       "      <td>2</td>\n",
       "      <td>1</td>\n",
       "      <td>9</td>\n",
       "      <td>3</td>\n",
       "      <td>0</td>\n",
       "      <td>2</td>\n",
       "      <td>7</td>\n",
       "      <td>3</td>\n",
       "      <td>-0.046548</td>\n",
       "    </tr>\n",
       "  </tbody>\n",
       "</table>\n",
       "<p>5 rows × 87 columns</p>\n",
       "</div>"
      ],
      "text/plain": [
       "   CASEID  PRNCPTX  CPT  CONCPT1  OTHERCPT1  OPERYR  SEX       AGE    HEIGHT  \\\n",
       "0   11345        0    0      190        459       3    1 -0.666667  1.333333   \n",
       "1   11348        0    0      190        406       3    1  0.666667  0.666667   \n",
       "2   11390        0    0      190        272       3    0 -0.800000 -0.333333   \n",
       "3   11401        1    1      190        459       3    1 -0.600000  0.500000   \n",
       "4   11406        0    0      190        191       3    0  0.266667 -0.500000   \n",
       "\n",
       "     WEIGHT  ...  PAN_PERCDRAINAGE  PAN_NPWT  PAN_POAP  PAN_MALIG_HISTOLOGIC  \\\n",
       "0  1.240741  ...                 0         2         1                     9   \n",
       "1 -0.055556  ...                 0         2         1                     3   \n",
       "2  0.574074  ...                 0         2         1                     9   \n",
       "3  0.574074  ...                 0         2         1                     1   \n",
       "4 -0.351852  ...                 0         2         1                     9   \n",
       "\n",
       "   PAN_TSTAGE  PAN_NSTAGE  PAN_MSTAGE  PAN_BENIGN_HISTOLOGIC  \\\n",
       "0           4           0           0                      7   \n",
       "1           3           1           0                      7   \n",
       "2           3           0           0                      7   \n",
       "3           2           0           0                      7   \n",
       "4           3           0           2                      7   \n",
       "\n",
       "   PAN_BENIGN_TUMORSIZE       BMI  \n",
       "0                     3  0.497005  \n",
       "1                     3 -0.427988  \n",
       "2                     3  1.057034  \n",
       "3                     3  0.382758  \n",
       "4                     3 -0.046548  \n",
       "\n",
       "[5 rows x 87 columns]"
      ]
     },
     "execution_count": 11,
     "metadata": {},
     "output_type": "execute_result"
    }
   ],
   "source": [
    "le=LabelEncoder()\n",
    "for col in cat_cols:\n",
    "        data[col] = le.fit_transform(data[col].astype(str))\n",
    "data.head()\n"
   ]
  },
  {
   "cell_type": "code",
   "execution_count": 12,
   "metadata": {},
   "outputs": [],
   "source": [
    "outcomes = ['PAN_PERCDRAINAGE','PAN_DRAIN_POD30','DDRAINREMOVAL','PAN_PERCDRAIN_20140315','PAN_DELGASTRIC_20140315','DAMYLASE','PAN_POAP']\n",
    "data.drop(outcomes, axis=1, inplace=True)"
   ]
  },
  {
   "cell_type": "code",
   "execution_count": 13,
   "metadata": {},
   "outputs": [],
   "source": [
    "data.to_csv('clean_pan.csv')"
   ]
  }
 ],
 "metadata": {
  "interpreter": {
   "hash": "916dbcbb3f70747c44a77c7bcd40155683ae19c65e1c03b4aa3499c5328201f1"
  },
  "kernelspec": {
   "display_name": "Python 3.9.5 64-bit",
   "name": "python3"
  },
  "language_info": {
   "codemirror_mode": {
    "name": "ipython",
    "version": 3
   },
   "file_extension": ".py",
   "mimetype": "text/x-python",
   "name": "python",
   "nbconvert_exporter": "python",
   "pygments_lexer": "ipython3",
   "version": "3.9.5"
  },
  "orig_nbformat": 4
 },
 "nbformat": 4,
 "nbformat_minor": 2
}
