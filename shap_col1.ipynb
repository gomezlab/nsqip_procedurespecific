{
 "cells": [
  {
   "cell_type": "code",
   "execution_count": 1,
   "metadata": {},
   "outputs": [
    {
     "name": "stdout",
     "output_type": "stream",
     "text": [
      "WARNING:tensorflow:From /home/kchen/.local/lib/python3.9/site-packages/tensorflow/python/compat/v2_compat.py:101: disable_resource_variables (from tensorflow.python.ops.variable_scope) is deprecated and will be removed in a future version.\n",
      "Instructions for updating:\n",
      "non-resource variables are not supported in the long term\n"
     ]
    }
   ],
   "source": [
    "import numpy as np\n",
    "import pandas as pd\n",
    "from sklearn.metrics import confusion_matrix, roc_auc_score, roc_curve, accuracy_score, auc, precision_recall_curve\n",
    "from sklearn.model_selection import train_test_split\n",
    "import tensorflow as tf\n",
    "import shap\n",
    "tf.compat.v1.disable_v2_behavior()"
   ]
  },
  {
   "cell_type": "code",
   "execution_count": 2,
   "metadata": {},
   "outputs": [],
   "source": [
    "#read in the data\n",
    "pd.options.display.max_rows = 20\n",
    "pd.options.display.max_columns = 200\n",
    "data = pd.read_csv('clean_col.csv', index_col='CASEID')\n"
   ]
  },
  {
   "cell_type": "code",
   "execution_count": 3,
   "metadata": {},
   "outputs": [],
   "source": [
    "#define anastomtoic leak as \"y\"\n",
    "y_names=['COL_ANASTOMOTIC']"
   ]
  },
  {
   "cell_type": "code",
   "execution_count": 4,
   "metadata": {},
   "outputs": [],
   "source": [
    "#name the colectomy-specific variables\n",
    "cat = ['COL_INDICATION', 'COL_EMERGENT', 'COL_STEROID', 'COL_MECH_BOWEL_PREP', 'COL_ORAL_ANTIBIOTIC', 'COL_CHEMO','COL_APPROACH']\n",
    "cont = []\n",
    "features1 = cat + cont + y_names\n",
    "#narrow the dataset to only include colectomy-specific variables\n",
    "data = data[features1]\n",
    "col = {'COL_INDICATION':'Indication', 'COL_EMERGENT':'Emergent indication', 'COL_STEROID':'Steroid use', 'COL_MECH_BOWEL_PREP':'Mechanical bowel prep', 'COL_ORAL_ANTIBIOTIC':'Antibiotic bowel prep', 'COL_CHEMO':'Chemotherapy','COL_APPROACH':'Approach'}"
   ]
  },
  {
   "cell_type": "code",
   "execution_count": 5,
   "metadata": {},
   "outputs": [],
   "source": [
    "#rename variables to make figure more readable\n",
    "data.rename(columns=col, inplace=True, errors='raise')"
   ]
  },
  {
   "cell_type": "code",
   "execution_count": 6,
   "metadata": {},
   "outputs": [],
   "source": [
    "#define X and y\n",
    "y = data['COL_ANASTOMOTIC']\n",
    "X = data.drop(['COL_ANASTOMOTIC'], axis=1)"
   ]
  },
  {
   "cell_type": "code",
   "execution_count": 7,
   "metadata": {},
   "outputs": [],
   "source": [
    "#split data into train/validation sets\n",
    "X_train, X_valid, y_train, y_valid = train_test_split(X, y, train_size=0.8, test_size=0.2, random_state=0)"
   ]
  },
  {
   "cell_type": "code",
   "execution_count": 8,
   "metadata": {},
   "outputs": [
    {
     "name": "stdout",
     "output_type": "stream",
     "text": [
      "WARNING:tensorflow:From /home/kchen/.local/lib/python3.9/site-packages/keras/layers/normalization/batch_normalization.py:520: _colocate_with (from tensorflow.python.framework.ops) is deprecated and will be removed in a future version.\n",
      "Instructions for updating:\n",
      "Colocations handled automatically by placer.\n"
     ]
    }
   ],
   "source": [
    "#create a model based on only the colectomy specific variables\n",
    "input_shape = [X.shape[1]]\n",
    "model4 = tf.keras.models.Sequential()\n",
    "model4.add(tf.keras.layers.Flatten(input_shape=input_shape))\n",
    "model4.add(tf.keras.layers.BatchNormalization())\n",
    "for _ in range(2):\n",
    "    model4.add(tf.keras.layers.Dense(1000))\n",
    "    model4.add(tf.keras.layers.BatchNormalization())\n",
    "    model4.add(tf.keras.layers.Dropout(0.8))\n",
    "    model4.add(tf.keras.layers.Activation(\"relu\"))\n",
    "model4.add(tf.keras.layers.Dense(1, activation=\"sigmoid\"))\n",
    "\n",
    "opt = tf.keras.optimizers.Adam(learning_rate=3e-4)\n",
    "\n",
    "metrics = [tf.keras.metrics.Recall(name='Sensitivity'), tf.keras.metrics.TrueNegatives(name='tn'), tf.keras.metrics.AUC(name='auc'), tf.keras.metrics.AUC(name='prc', curve='PR')]\n",
    "\n",
    "model4.compile(\n",
    "    optimizer=opt,\n",
    "    loss=tf.keras.losses.BinaryCrossentropy(from_logits=False),\n",
    "    metrics=metrics,)\n",
    "\n",
    "early_stopping = tf.keras.callbacks.EarlyStopping(\n",
    "    patience=10,\n",
    "    min_delta=1e-6,\n",
    "    restore_best_weights=True,)"
   ]
  },
  {
   "cell_type": "code",
   "execution_count": 9,
   "metadata": {},
   "outputs": [
    {
     "name": "stdout",
     "output_type": "stream",
     "text": [
      "Train on 155723 samples, validate on 38931 samples\n",
      "Epoch 1/200\n",
      "155723/155723 [==============================] - ETA: 0s - loss: 0.2527 - Sensitivity: 0.0417 - tn: 145505.0000 - auc: 0.5071 - prc: 0.0348"
     ]
    },
    {
     "name": "stderr",
     "output_type": "stream",
     "text": [
      "`Model.state_updates` will be removed in a future version. This property should not be used in TensorFlow 2.0, as `updates` are applied automatically.\n"
     ]
    },
    {
     "name": "stdout",
     "output_type": "stream",
     "text": [
      "155723/155723 [==============================] - 4s 24us/sample - loss: 0.2527 - Sensitivity: 0.0417 - tn: 145505.0000 - auc: 0.5071 - prc: 0.0348 - val_loss: 0.1781 - val_Sensitivity: 0.0000e+00 - val_tn: 37630.0000 - val_auc: 0.6056 - val_prc: 0.0480\n",
      "Epoch 2/200\n",
      "155723/155723 [==============================] - 3s 18us/sample - loss: 0.1889 - Sensitivity: 0.0112 - tn: 149855.0000 - auc: 0.5238 - prc: 0.0378 - val_loss: 0.1684 - val_Sensitivity: 0.0000e+00 - val_tn: 37630.0000 - val_auc: 0.6164 - val_prc: 0.0520\n",
      "Epoch 3/200\n",
      "155723/155723 [==============================] - 3s 19us/sample - loss: 0.1733 - Sensitivity: 0.0025 - tn: 150194.0000 - auc: 0.5397 - prc: 0.0380 - val_loss: 0.1852 - val_Sensitivity: 0.0000e+00 - val_tn: 37630.0000 - val_auc: 0.6125 - val_prc: 0.0504\n",
      "Epoch 4/200\n",
      "155723/155723 [==============================] - 3s 19us/sample - loss: 0.1615 - Sensitivity: 0.0017 - tn: 150465.0000 - auc: 0.5566 - prc: 0.0406 - val_loss: 0.1926 - val_Sensitivity: 0.0000e+00 - val_tn: 37630.0000 - val_auc: 0.6067 - val_prc: 0.0494\n",
      "Epoch 5/200\n",
      "155723/155723 [==============================] - 3s 19us/sample - loss: 0.1557 - Sensitivity: 3.8775e-04 - tn: 150543.0000 - auc: 0.5585 - prc: 0.0408 - val_loss: 0.1857 - val_Sensitivity: 0.0000e+00 - val_tn: 37630.0000 - val_auc: 0.6039 - val_prc: 0.0497\n",
      "Epoch 6/200\n",
      "155723/155723 [==============================] - 3s 19us/sample - loss: 0.1513 - Sensitivity: 0.0000e+00 - tn: 150564.0000 - auc: 0.5719 - prc: 0.0421 - val_loss: 0.1846 - val_Sensitivity: 0.0000e+00 - val_tn: 37630.0000 - val_auc: 0.6061 - val_prc: 0.0500\n",
      "Epoch 7/200\n",
      "155723/155723 [==============================] - 3s 19us/sample - loss: 0.1493 - Sensitivity: 0.0000e+00 - tn: 150565.0000 - auc: 0.5765 - prc: 0.0431 - val_loss: 0.1812 - val_Sensitivity: 0.0000e+00 - val_tn: 37630.0000 - val_auc: 0.6066 - val_prc: 0.0495\n",
      "Epoch 8/200\n",
      "155723/155723 [==============================] - 3s 19us/sample - loss: 0.1478 - Sensitivity: 0.0000e+00 - tn: 150565.0000 - auc: 0.5824 - prc: 0.0452 - val_loss: 0.1787 - val_Sensitivity: 0.0000e+00 - val_tn: 37630.0000 - val_auc: 0.6053 - val_prc: 0.0494\n",
      "Epoch 9/200\n",
      "155723/155723 [==============================] - 3s 19us/sample - loss: 0.1474 - Sensitivity: 0.0000e+00 - tn: 150565.0000 - auc: 0.5811 - prc: 0.0446 - val_loss: 0.1756 - val_Sensitivity: 0.0000e+00 - val_tn: 37630.0000 - val_auc: 0.6031 - val_prc: 0.0499\n",
      "Epoch 10/200\n",
      "155723/155723 [==============================] - 3s 18us/sample - loss: 0.1468 - Sensitivity: 0.0000e+00 - tn: 150565.0000 - auc: 0.5844 - prc: 0.0457 - val_loss: 0.1724 - val_Sensitivity: 0.0000e+00 - val_tn: 37630.0000 - val_auc: 0.6053 - val_prc: 0.0496\n",
      "Epoch 11/200\n",
      "155723/155723 [==============================] - 3s 19us/sample - loss: 0.1465 - Sensitivity: 0.0000e+00 - tn: 150565.0000 - auc: 0.5858 - prc: 0.0456 - val_loss: 0.1758 - val_Sensitivity: 0.0000e+00 - val_tn: 37630.0000 - val_auc: 0.6049 - val_prc: 0.0495\n",
      "Epoch 12/200\n",
      "155723/155723 [==============================] - 3s 19us/sample - loss: 0.1463 - Sensitivity: 0.0000e+00 - tn: 150565.0000 - auc: 0.5857 - prc: 0.0460 - val_loss: 0.1725 - val_Sensitivity: 0.0000e+00 - val_tn: 37630.0000 - val_auc: 0.6034 - val_prc: 0.0495\n"
     ]
    },
    {
     "data": {
      "text/plain": [
       "<keras.callbacks.History at 0x7f4cfb8f96a0>"
      ]
     },
     "execution_count": 9,
     "metadata": {},
     "output_type": "execute_result"
    }
   ],
   "source": [
    "model4.fit(X_train, y_train,\n",
    "    validation_data=(X_valid, y_valid),\n",
    "    batch_size=512,\n",
    "    epochs=200,\n",
    "    callbacks=[early_stopping])"
   ]
  },
  {
   "cell_type": "markdown",
   "metadata": {},
   "source": [
    "model4.save('keras_col.h5')"
   ]
  },
  {
   "cell_type": "markdown",
   "metadata": {},
   "source": [
    "model4 = tf.keras.models.load_model('keras_col.h5')"
   ]
  },
  {
   "cell_type": "code",
   "execution_count": 10,
   "metadata": {},
   "outputs": [],
   "source": [
    "import shap"
   ]
  },
  {
   "cell_type": "markdown",
   "metadata": {},
   "source": [
    "tf.config.list_physical_devices('GPU')"
   ]
  },
  {
   "cell_type": "code",
   "execution_count": 11,
   "metadata": {},
   "outputs": [
    {
     "name": "stderr",
     "output_type": "stream",
     "text": [
      "keras is no longer supported, please use tf.keras instead.\n"
     ]
    },
    {
     "name": "stdout",
     "output_type": "stream",
     "text": [
      "WARNING:tensorflow:From /home/kchen/.local/lib/python3.9/site-packages/shap/explainers/tf_utils.py:28: The name tf.keras.backend.get_session is deprecated. Please use tf.compat.v1.keras.backend.get_session instead.\n",
      "\n"
     ]
    },
    {
     "data": {
      "image/png": "[encoded data removed]",
      "text/plain": [
       "<Figure size 576x309.6 with 1 Axes>"
      ]
     },
     "metadata": {
      "needs_background": "light"
     },
     "output_type": "display_data"
    }
   ],
   "source": [
    "#generate the feature importance plot using SHAP deep explainer, sample values set to maximum to create robust results\n",
    "#explainer requires numpy array rather than pandas dataframe -> .values\n",
    "explainer = shap.DeepExplainer(model4, X_train.sample(n=5000))\n",
    "shap_values = explainer.shap_values(X_valid.sample(n=5000).values)\n",
    "shap.summary_plot(shap_values, X_valid.sample(n=5000))"
   ]
  },
  {
   "cell_type": "code",
   "execution_count": 12,
   "metadata": {},
   "outputs": [],
   "source": [
    "shap_values[0].shape\n",
    "vals = np.abs(shap_values[0]).mean(0)\n",
    "feature_names = X_train.columns\n",
    "feature_importance = pd.DataFrame(list(zip(feature_names, vals)),\n",
    "                                  columns=['col_name','feature_importance_vals'])\n",
    "feature_importance.sort_values(by=['feature_importance_vals'],\n",
    "                               ascending=False, inplace=True)\n",
    "feature_importance.head(10)\n",
    "feature_importance.to_excel('shap_col.xlsx')"
   ]
  },
  {
   "cell_type": "code",
   "execution_count": 13,
   "metadata": {},
   "outputs": [],
   "source": [
    "from sklearn.linear_model import LogisticRegression\n",
    "lr = LogisticRegression()\n",
    "lr.fit(X_train, y_train)\n",
    "coef = lr.coef_\n",
    "ors = np.exp(coef)\n",
    "ors = ors.squeeze()\n",
    "or_df = pd.DataFrame(list(zip(X_train.columns, ors)),columns=['col_name','odds ratio'])\n",
    "or_df['diff'] = abs(1 - or_df['odds ratio'])\n",
    "or_df.sort_values(by='diff', ascending=False).to_excel('ors_hep.xlsx')"
   ]
  }
 ],
 "metadata": {
  "interpreter": {
   "hash": "916dbcbb3f70747c44a77c7bcd40155683ae19c65e1c03b4aa3499c5328201f1"
  },
  "kernelspec": {
   "display_name": "Python 3.9.5 64-bit",
   "language": "python",
   "name": "python3"
  },
  "language_info": {
   "codemirror_mode": {
    "name": "ipython",
    "version": 3
   },
   "file_extension": ".py",
   "mimetype": "text/x-python",
   "name": "python",
   "nbconvert_exporter": "python",
   "pygments_lexer": "ipython3",
   "version": "3.9.5"
  },
  "orig_nbformat": 4
 },
 "nbformat": 4,
 "nbformat_minor": 2
}
