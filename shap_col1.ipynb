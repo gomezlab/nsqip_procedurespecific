{
 "cells": [
  {
   "cell_type": "code",
   "execution_count": 1,
   "metadata": {},
   "outputs": [
    {
     "name": "stdout",
     "output_type": "stream",
     "text": [
      "WARNING:tensorflow:From /home/kchen/.local/lib/python3.9/site-packages/tensorflow/python/compat/v2_compat.py:101: disable_resource_variables (from tensorflow.python.ops.variable_scope) is deprecated and will be removed in a future version.\n",
      "Instructions for updating:\n",
      "non-resource variables are not supported in the long term\n"
     ]
    }
   ],
   "source": [
    "import numpy as np\n",
    "import pandas as pd\n",
    "from sklearn.metrics import confusion_matrix, roc_auc_score, roc_curve, accuracy_score, auc, precision_recall_curve\n",
    "from sklearn.model_selection import train_test_split\n",
    "import tensorflow as tf\n",
    "import shap\n",
    "tf.compat.v1.disable_v2_behavior()"
   ]
  },
  {
   "cell_type": "code",
   "execution_count": 2,
   "metadata": {},
   "outputs": [],
   "source": [
    "#read in the data\n",
    "pd.options.display.max_rows = 20\n",
    "pd.options.display.max_columns = 200\n",
    "data = pd.read_csv('clean_col.csv', index_col='CASEID')\n"
   ]
  },
  {
   "cell_type": "code",
   "execution_count": 3,
   "metadata": {},
   "outputs": [],
   "source": [
    "#define anastomtoic leak as \"y\"\n",
    "y_names=['COL_ANASTOMOTIC']"
   ]
  },
  {
   "cell_type": "code",
   "execution_count": 4,
   "metadata": {},
   "outputs": [],
   "source": [
    "#name the colectomy-specific variables\n",
    "cat = ['COL_INDICATION', 'COL_EMERGENT', 'COL_STEROID', 'COL_MECH_BOWEL_PREP', 'COL_ORAL_ANTIBIOTIC', 'COL_CHEMO','COL_APPROACH']\n",
    "cont = []\n",
    "features1 = cat + cont + y_names\n",
    "#narrow the dataset to only include colectomy-specific variables\n",
    "data = data[features1]\n",
    "col = {'COL_INDICATION':'Indication', 'COL_EMERGENT':'Emergent indication', 'COL_STEROID':'Steroid use', 'COL_MECH_BOWEL_PREP':'Mechanical bowel prep', 'COL_ORAL_ANTIBIOTIC':'Antibiotic bowel prep', 'COL_CHEMO':'Chemotherapy','COL_APPROACH':'Approach'}"
   ]
  },
  {
   "cell_type": "code",
   "execution_count": 5,
   "metadata": {},
   "outputs": [],
   "source": [
    "#rename variables to make figure more readable\n",
    "data.rename(columns=col, inplace=True, errors='raise')"
   ]
  },
  {
   "cell_type": "code",
   "execution_count": 6,
   "metadata": {},
   "outputs": [],
   "source": [
    "#define X and y\n",
    "y = data['COL_ANASTOMOTIC']\n",
    "X = data.drop(['COL_ANASTOMOTIC'], axis=1)"
   ]
  },
  {
   "cell_type": "code",
   "execution_count": 7,
   "metadata": {},
   "outputs": [],
   "source": [
    "#split data into train/validation sets\n",
    "X_train, X_valid, y_train, y_valid = train_test_split(X, y, train_size=0.8, test_size=0.2, random_state=0)"
   ]
  },
  {
   "cell_type": "code",
   "execution_count": 8,
   "metadata": {},
   "outputs": [
    {
     "name": "stdout",
     "output_type": "stream",
     "text": [
      "WARNING:tensorflow:From /home/kchen/.local/lib/python3.9/site-packages/keras/layers/normalization/batch_normalization.py:520: _colocate_with (from tensorflow.python.framework.ops) is deprecated and will be removed in a future version.\n",
      "Instructions for updating:\n",
      "Colocations handled automatically by placer.\n"
     ]
    }
   ],
   "source": [
    "#create a model based on only the colectomy specific variables\n",
    "input_shape = [X.shape[1]]\n",
    "model4 = tf.keras.models.Sequential()\n",
    "model4.add(tf.keras.layers.Flatten(input_shape=input_shape))\n",
    "model4.add(tf.keras.layers.BatchNormalization())\n",
    "for _ in range(2):\n",
    "    model4.add(tf.keras.layers.Dense(1000))\n",
    "    model4.add(tf.keras.layers.BatchNormalization())\n",
    "    model4.add(tf.keras.layers.Dropout(0.8))\n",
    "    model4.add(tf.keras.layers.Activation(\"relu\"))\n",
    "model4.add(tf.keras.layers.Dense(1, activation=\"sigmoid\"))\n",
    "\n",
    "opt = tf.keras.optimizers.Adam(learning_rate=3e-4)\n",
    "\n",
    "metrics = [tf.keras.metrics.Recall(name='Sensitivity'), tf.keras.metrics.TrueNegatives(name='tn'), tf.keras.metrics.AUC(name='auc'), tf.keras.metrics.AUC(name='prc', curve='PR')]\n",
    "\n",
    "model4.compile(\n",
    "    optimizer=opt,\n",
    "    loss=tf.keras.losses.BinaryCrossentropy(from_logits=False),\n",
    "    metrics=metrics,)\n",
    "\n",
    "early_stopping = tf.keras.callbacks.EarlyStopping(\n",
    "    patience=3,\n",
    "    min_delta=0.0001,\n",
    "    restore_best_weights=True,)"
   ]
  },
  {
   "cell_type": "code",
   "execution_count": 9,
   "metadata": {},
   "outputs": [
    {
     "name": "stdout",
     "output_type": "stream",
     "text": [
      "Train on 155723 samples, validate on 38931 samples\n",
      "Epoch 1/200\n",
      "155648/155723 [============================>.] - ETA: 0s - loss: 0.2756 - Sensitivity: 0.0532 - tn: 143113.0000 - auc: 0.5042 - prc: 0.0340"
     ]
    },
    {
     "name": "stderr",
     "output_type": "stream",
     "text": [
      "`Model.state_updates` will be removed in a future version. This property should not be used in TensorFlow 2.0, as `updates` are applied automatically.\n"
     ]
    },
    {
     "name": "stdout",
     "output_type": "stream",
     "text": [
      "155723/155723 [==============================] - 3s 17us/sample - loss: 0.2755 - Sensitivity: 0.0533 - tn: 143184.0000 - auc: 0.5042 - prc: 0.0340 - val_loss: 0.1961 - val_Sensitivity: 0.0000e+00 - val_tn: 37630.0000 - val_auc: 0.6049 - val_prc: 0.0476\n",
      "Epoch 2/200\n",
      "155723/155723 [==============================] - 2s 10us/sample - loss: 0.1962 - Sensitivity: 0.0099 - tn: 149632.0000 - auc: 0.5189 - prc: 0.0363 - val_loss: 0.1809 - val_Sensitivity: 0.0000e+00 - val_tn: 37630.0000 - val_auc: 0.6076 - val_prc: 0.0489\n",
      "Epoch 3/200\n",
      "155723/155723 [==============================] - 2s 11us/sample - loss: 0.1844 - Sensitivity: 0.0068 - tn: 149928.0000 - auc: 0.5329 - prc: 0.0376 - val_loss: 0.1908 - val_Sensitivity: 0.0015 - val_tn: 37622.0000 - val_auc: 0.6105 - val_prc: 0.0487\n",
      "Epoch 4/200\n",
      "155723/155723 [==============================] - 2s 10us/sample - loss: 0.1747 - Sensitivity: 0.0035 - tn: 150183.0000 - auc: 0.5378 - prc: 0.0380 - val_loss: 0.1859 - val_Sensitivity: 0.0000e+00 - val_tn: 37630.0000 - val_auc: 0.6106 - val_prc: 0.0506\n",
      "Epoch 5/200\n",
      "155723/155723 [==============================] - 2s 11us/sample - loss: 0.1664 - Sensitivity: 0.0019 - tn: 150397.0000 - auc: 0.5512 - prc: 0.0400 - val_loss: 0.1878 - val_Sensitivity: 0.0000e+00 - val_tn: 37630.0000 - val_auc: 0.6087 - val_prc: 0.0502\n"
     ]
    },
    {
     "data": {
      "text/plain": [
       "<keras.callbacks.History at 0x7f707ca115b0>"
      ]
     },
     "execution_count": 9,
     "metadata": {},
     "output_type": "execute_result"
    }
   ],
   "source": [
    "model4.fit(X_train, y_train,\n",
    "    validation_data=(X_valid, y_valid),\n",
    "    batch_size=1024,\n",
    "    epochs=200,\n",
    "    callbacks=[early_stopping])"
   ]
  },
  {
   "cell_type": "markdown",
   "metadata": {},
   "source": [
    "model4.save('keras_col.h5')"
   ]
  },
  {
   "cell_type": "markdown",
   "metadata": {},
   "source": [
    "model4 = tf.keras.models.load_model('keras_col.h5')"
   ]
  },
  {
   "cell_type": "code",
   "execution_count": 10,
   "metadata": {},
   "outputs": [],
   "source": [
    "import shap"
   ]
  },
  {
   "cell_type": "markdown",
   "metadata": {},
   "source": [
    "tf.config.list_physical_devices('GPU')"
   ]
  },
  {
   "cell_type": "code",
   "execution_count": 12,
   "metadata": {},
   "outputs": [
    {
     "data": {
      "image/png": "[encoded data removed]",
      "text/plain": [
       "<Figure size 576x309.6 with 1 Axes>"
      ]
     },
     "metadata": {
      "needs_background": "light"
     },
     "output_type": "display_data"
    }
   ],
   "source": [
    "#generate the feature importance plot using SHAP deep explainer, sample values set to maximum to create robust results\n",
    "#explainer requires numpy array rather than pandas dataframe -> .values\n",
    "explainer = shap.DeepExplainer(model4, X_train.sample(n=5000))\n",
    "shap_values = explainer.shap_values(X_valid.sample(n=5000).values)\n",
    "shap.summary_plot(shap_values, X_valid.sample(n=5000))"
   ]
  }
 ],
 "metadata": {
  "interpreter": {
   "hash": "916dbcbb3f70747c44a77c7bcd40155683ae19c65e1c03b4aa3499c5328201f1"
  },
  "kernelspec": {
   "display_name": "Python 3.9.5 64-bit",
   "language": "python",
   "name": "python3"
  },
  "language_info": {
   "codemirror_mode": {
    "name": "ipython",
    "version": 3
   },
   "file_extension": ".py",
   "mimetype": "text/x-python",
   "name": "python",
   "nbconvert_exporter": "python",
   "pygments_lexer": "ipython3",
   "version": "3.9.5"
  },
  "orig_nbformat": 4
 },
 "nbformat": 4,
 "nbformat_minor": 2
}
