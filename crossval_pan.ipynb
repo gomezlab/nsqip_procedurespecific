{
 "cells": [
  {
   "cell_type": "code",
   "execution_count": 1,
   "metadata": {},
   "outputs": [],
   "source": [
    "import numpy as np\n",
    "import pandas as pd\n",
    "from sklearn.metrics import roc_auc_score, roc_curve, precision_recall_curve, average_precision_score, recall_score\n",
    "from imblearn.metrics import specificity_score\n",
    "from sklearn.model_selection import train_test_split\n",
    "from sklearn.metrics import roc_auc_score\n",
    "from sklearn.model_selection import train_test_split\n",
    "from sklearn.linear_model import LogisticRegression\n",
    "from sklearn.model_selection import StratifiedKFold\n",
    "from scipy import stats as st\n",
    "from random import randrange"
   ]
  },
  {
   "cell_type": "code",
   "execution_count": 2,
   "metadata": {},
   "outputs": [],
   "source": [
    "pd.options.display.max_rows = 20\n",
    "pd.options.display.max_columns = 200\n",
    "data = pd.read_csv('clean_pan.csv', index_col='CASEID')\n"
   ]
  },
  {
   "cell_type": "code",
   "execution_count": 3,
   "metadata": {},
   "outputs": [],
   "source": [
    "drop = ['PAN_MALIG_HISTOLOGIC','PAN_TSTAGE', 'PAN_NSTAGE', 'PAN_MSTAGE', 'PAN_BENIGN_HISTOLOGIC', 'PAN_BENIGN_TUMORSIZE', 'PAN_NPWT']\n",
    "data.drop(drop, axis=1, inplace=True)"
   ]
  },
  {
   "cell_type": "code",
   "execution_count": 4,
   "metadata": {},
   "outputs": [
    {
     "data": {
      "text/plain": [
       "(23233, 73)"
      ]
     },
     "execution_count": 4,
     "metadata": {},
     "output_type": "execute_result"
    }
   ],
   "source": [
    "data.shape"
   ]
  },
  {
   "cell_type": "code",
   "execution_count": 5,
   "metadata": {},
   "outputs": [],
   "source": [
    "data = data.drop(['Unnamed: 0'], axis=1)"
   ]
  },
  {
   "cell_type": "code",
   "execution_count": 6,
   "metadata": {},
   "outputs": [],
   "source": [
    "y = data['PAN_FISTULA']\n",
    "X = data.drop(['PAN_FISTULA'], axis=1)"
   ]
  },
  {
   "cell_type": "code",
   "execution_count": 7,
   "metadata": {},
   "outputs": [],
   "source": [
    "skf = StratifiedKFold(n_splits=5, random_state=0, shuffle=True)\n",
    "fold_no=0\n",
    "for train_index, test_index in skf.split(data, y):\n",
    "    train = data.loc[train_index,:]\n",
    "    test = data.loc[test_index,:]\n",
    "    train_filename = 'train' + str(fold_no) + '.csv'\n",
    "    test_filename = 'test' + str(fold_no) + '.csv' \n",
    "    train.to_csv('splits/' + train_filename, index=False)\n",
    "    test.to_csv('splits/' + test_filename, index=False) \n",
    "    fold_no += 1"
   ]
  },
  {
   "cell_type": "code",
   "execution_count": 8,
   "metadata": {},
   "outputs": [],
   "source": [
    "d = {}\n",
    "for x in range(0,5):\n",
    "    d['train{}'.format(x)] = pd.read_csv('splits/train{}.csv'.format(x), low_memory=False)\n",
    "    d['test{}'.format(x)] = pd.read_csv('splits/test{}.csv'.format(x), low_memory=False)"
   ]
  },
  {
   "cell_type": "code",
   "execution_count": 9,
   "metadata": {},
   "outputs": [],
   "source": [
    "dX_train = []\n",
    "dy_train = []\n",
    "for x in d:\n",
    "    if 'train' in x:\n",
    "        dX_train.append(d[x].drop(columns=['PAN_FISTULA'], axis=1))\n",
    "        dy_train.append(d[x]['PAN_FISTULA'])"
   ]
  },
  {
   "cell_type": "code",
   "execution_count": 10,
   "metadata": {},
   "outputs": [],
   "source": [
    "dX_test = []\n",
    "dy_test = []\n",
    "for x in d:\n",
    "    if 'test' in x:\n",
    "        dX_test.append(d[x].drop(columns=['PAN_FISTULA'], axis=1))\n",
    "        dy_test.append(d[x]['PAN_FISTULA'])"
   ]
  },
  {
   "cell_type": "markdown",
   "metadata": {},
   "source": [
    "rfpreds = []\n",
    "xgbpreds = []\n",
    "model = RandomForestClassifier(n_estimators=1250, min_samples_split=2, min_samples_leaf=8, max_features='auto', max_depth=20, bootstrap=True)\n",
    "model2 = XGBClassifier(n_estimators=50, subsample=0.6, min_child_weight=10, max_depth=6, learning_rate=0.1, colsample_bytree=0.8)\n",
    "for X, y, X_test in zip(dX_train, dy_train, dX_test):\n",
    "    model.fit(X, y)\n",
    "    model2.fit(X, y)\n",
    "    rfpreds.append(model.predict_proba(X_test))\n",
    "    xgbpreds.append(model2.predict_proba(X_test))"
   ]
  },
  {
   "cell_type": "markdown",
   "metadata": {},
   "source": [
    "%store rfpreds\n",
    "%store xgbpreds"
   ]
  },
  {
   "cell_type": "markdown",
   "metadata": {},
   "source": [
    "for x in range(0,5):\n",
    "    print(roc_auc_score(dy_test[x], rfpreds[x][:,1]))\n",
    "    "
   ]
  },
  {
   "cell_type": "markdown",
   "metadata": {},
   "source": [
    "for x in range(0,5):\n",
    "    print(roc_auc_score(dy_test[x], xgbpreds[x][:,1]))"
   ]
  },
  {
   "cell_type": "code",
   "execution_count": 11,
   "metadata": {},
   "outputs": [],
   "source": [
    "from tensorflow import keras\n",
    "input_shape = [X.shape[1]]\n",
    "model4 = keras.models.Sequential()\n",
    "model4.add(keras.layers.Flatten(input_shape=input_shape))\n",
    "model4.add(keras.layers.BatchNormalization())\n",
    "for _ in range(2):\n",
    "    model4.add(keras.layers.Dense(1000))\n",
    "    model4.add(keras.layers.BatchNormalization())\n",
    "    model4.add(keras.layers.Dropout(0.8))\n",
    "    model4.add(keras.layers.Activation(\"relu\"))\n",
    "model4.add(keras.layers.Dense(1, activation=\"sigmoid\"))\n",
    "\n",
    "opt = keras.optimizers.Adam(learning_rate=3e-4)\n",
    "\n",
    "metrics = [keras.metrics.Recall(name='Sensitivity'), keras.metrics.TrueNegatives(name='tn'), keras.metrics.AUC(name='auc'), keras.metrics.AUC(name='prc', curve='PR')]\n",
    "\n",
    "model4.compile(\n",
    "    optimizer=opt,\n",
    "    loss=keras.losses.BinaryCrossentropy(from_logits=False),\n",
    "    metrics=metrics,)\n",
    "\n",
    "early_stopping = keras.callbacks.EarlyStopping(\n",
    "    patience=10,\n",
    "    min_delta=0.00001,\n",
    "    restore_best_weights=True,)\n"
   ]
  },
  {
   "cell_type": "code",
   "execution_count": 12,
   "metadata": {},
   "outputs": [
    {
     "name": "stdout",
     "output_type": "stream",
     "text": [
      "Epoch 1/200\n",
      "28/28 [==============================] - 3s 40ms/step - loss: 0.7175 - Sensitivity: 0.2215 - tn: 9427.0000 - auc: 0.5277 - prc: 0.1768 - val_loss: 0.5348 - val_Sensitivity: 0.0577 - val_tn: 3796.0000 - val_auc: 0.6689 - val_prc: 0.2939\n",
      "Epoch 2/200\n",
      "28/28 [==============================] - 0s 11ms/step - loss: 0.6174 - Sensitivity: 0.1403 - tn: 10692.0000 - auc: 0.5770 - prc: 0.2104 - val_loss: 0.5292 - val_Sensitivity: 0.1568 - val_tn: 3657.0000 - val_auc: 0.6818 - val_prc: 0.3022\n",
      "Epoch 3/200\n",
      "28/28 [==============================] - 0s 11ms/step - loss: 0.5952 - Sensitivity: 0.1606 - tn: 10635.0000 - auc: 0.6002 - prc: 0.2263 - val_loss: 0.5156 - val_Sensitivity: 0.1468 - val_tn: 3664.0000 - val_auc: 0.6919 - val_prc: 0.3095\n",
      "Epoch 4/200\n",
      "28/28 [==============================] - 0s 12ms/step - loss: 0.5896 - Sensitivity: 0.1734 - tn: 10698.0000 - auc: 0.5963 - prc: 0.2328 - val_loss: 0.4976 - val_Sensitivity: 0.1267 - val_tn: 3697.0000 - val_auc: 0.6906 - val_prc: 0.3062\n",
      "Epoch 5/200\n",
      "28/28 [==============================] - 0s 12ms/step - loss: 0.5578 - Sensitivity: 0.1456 - tn: 10858.0000 - auc: 0.6189 - prc: 0.2365 - val_loss: 0.4826 - val_Sensitivity: 0.1217 - val_tn: 3712.0000 - val_auc: 0.6923 - val_prc: 0.3110\n",
      "Epoch 6/200\n",
      "28/28 [==============================] - 0s 12ms/step - loss: 0.5560 - Sensitivity: 0.1598 - tn: 10719.0000 - auc: 0.6204 - prc: 0.2352 - val_loss: 0.4773 - val_Sensitivity: 0.1568 - val_tn: 3691.0000 - val_auc: 0.6949 - val_prc: 0.3168\n",
      "Epoch 7/200\n",
      "28/28 [==============================] - 0s 12ms/step - loss: 0.5357 - Sensitivity: 0.1611 - tn: 10833.0000 - auc: 0.6291 - prc: 0.2450 - val_loss: 0.4660 - val_Sensitivity: 0.1455 - val_tn: 3708.0000 - val_auc: 0.6980 - val_prc: 0.3213\n",
      "Epoch 8/200\n",
      "28/28 [==============================] - 0s 13ms/step - loss: 0.5354 - Sensitivity: 0.1408 - tn: 10878.0000 - auc: 0.6257 - prc: 0.2462 - val_loss: 0.4694 - val_Sensitivity: 0.1706 - val_tn: 3674.0000 - val_auc: 0.7001 - val_prc: 0.3242\n",
      "Epoch 9/200\n",
      "28/28 [==============================] - 0s 13ms/step - loss: 0.5156 - Sensitivity: 0.1677 - tn: 10897.0000 - auc: 0.6327 - prc: 0.2562 - val_loss: 0.4799 - val_Sensitivity: 0.2158 - val_tn: 3605.0000 - val_auc: 0.7013 - val_prc: 0.3225\n",
      "Epoch 10/200\n",
      "28/28 [==============================] - 0s 14ms/step - loss: 0.5047 - Sensitivity: 0.1518 - tn: 11001.0000 - auc: 0.6391 - prc: 0.2601 - val_loss: 0.4704 - val_Sensitivity: 0.2045 - val_tn: 3627.0000 - val_auc: 0.7023 - val_prc: 0.3233\n",
      "Epoch 11/200\n",
      "28/28 [==============================] - 0s 13ms/step - loss: 0.5002 - Sensitivity: 0.1289 - tn: 11016.0000 - auc: 0.6341 - prc: 0.2527 - val_loss: 0.4777 - val_Sensitivity: 0.2497 - val_tn: 3560.0000 - val_auc: 0.7021 - val_prc: 0.3258\n",
      "Epoch 12/200\n",
      "28/28 [==============================] - 0s 13ms/step - loss: 0.4928 - Sensitivity: 0.1478 - tn: 10976.0000 - auc: 0.6411 - prc: 0.2666 - val_loss: 0.4717 - val_Sensitivity: 0.2334 - val_tn: 3591.0000 - val_auc: 0.7035 - val_prc: 0.3296\n",
      "Epoch 13/200\n",
      "28/28 [==============================] - 0s 12ms/step - loss: 0.4758 - Sensitivity: 0.1372 - tn: 11104.0000 - auc: 0.6518 - prc: 0.2730 - val_loss: 0.4799 - val_Sensitivity: 0.2685 - val_tn: 3529.0000 - val_auc: 0.7028 - val_prc: 0.3291\n",
      "Epoch 14/200\n",
      "28/28 [==============================] - 0s 12ms/step - loss: 0.4790 - Sensitivity: 0.1249 - tn: 11096.0000 - auc: 0.6448 - prc: 0.2610 - val_loss: 0.4870 - val_Sensitivity: 0.2873 - val_tn: 3481.0000 - val_auc: 0.7009 - val_prc: 0.3258\n",
      "Epoch 15/200\n",
      "28/28 [==============================] - 0s 12ms/step - loss: 0.4785 - Sensitivity: 0.1183 - tn: 11147.0000 - auc: 0.6364 - prc: 0.2545 - val_loss: 0.4861 - val_Sensitivity: 0.2886 - val_tn: 3478.0000 - val_auc: 0.7023 - val_prc: 0.3270\n",
      "Epoch 16/200\n",
      "28/28 [==============================] - 0s 12ms/step - loss: 0.4619 - Sensitivity: 0.1275 - tn: 11220.0000 - auc: 0.6555 - prc: 0.2757 - val_loss: 0.4844 - val_Sensitivity: 0.2723 - val_tn: 3508.0000 - val_auc: 0.7015 - val_prc: 0.3253\n",
      "Epoch 17/200\n",
      "28/28 [==============================] - 0s 14ms/step - loss: 0.4549 - Sensitivity: 0.1108 - tn: 11243.0000 - auc: 0.6585 - prc: 0.2752 - val_loss: 0.4890 - val_Sensitivity: 0.2861 - val_tn: 3475.0000 - val_auc: 0.7029 - val_prc: 0.3241\n",
      "Epoch 1/200\n",
      "28/28 [==============================] - 0s 17ms/step - loss: 0.5378 - Sensitivity: 0.1385 - tn: 10905.0000 - auc: 0.6157 - prc: 0.2309 - val_loss: 0.4484 - val_Sensitivity: 0.1728 - val_tn: 3752.0000 - val_auc: 0.7309 - val_prc: 0.3690\n",
      "Epoch 2/200\n",
      "28/28 [==============================] - 0s 14ms/step - loss: 0.5227 - Sensitivity: 0.1451 - tn: 10953.0000 - auc: 0.6205 - prc: 0.2406 - val_loss: 0.4556 - val_Sensitivity: 0.2120 - val_tn: 3700.0000 - val_auc: 0.7300 - val_prc: 0.3693\n",
      "Epoch 3/200\n",
      "28/28 [==============================] - 0s 13ms/step - loss: 0.5054 - Sensitivity: 0.1336 - tn: 10999.0000 - auc: 0.6350 - prc: 0.2442 - val_loss: 0.4608 - val_Sensitivity: 0.2421 - val_tn: 3662.0000 - val_auc: 0.7274 - val_prc: 0.3670\n",
      "Epoch 4/200\n",
      "28/28 [==============================] - 0s 14ms/step - loss: 0.5034 - Sensitivity: 0.1300 - tn: 11019.0000 - auc: 0.6275 - prc: 0.2429 - val_loss: 0.4601 - val_Sensitivity: 0.2487 - val_tn: 3648.0000 - val_auc: 0.7273 - val_prc: 0.3650\n",
      "Epoch 5/200\n",
      "28/28 [==============================] - 0s 13ms/step - loss: 0.4973 - Sensitivity: 0.1278 - tn: 11025.0000 - auc: 0.6321 - prc: 0.2424 - val_loss: 0.4549 - val_Sensitivity: 0.2513 - val_tn: 3659.0000 - val_auc: 0.7278 - val_prc: 0.3636\n",
      "Epoch 6/200\n",
      "28/28 [==============================] - 0s 14ms/step - loss: 0.4791 - Sensitivity: 0.1104 - tn: 11134.0000 - auc: 0.6420 - prc: 0.2508 - val_loss: 0.4750 - val_Sensitivity: 0.3076 - val_tn: 3554.0000 - val_auc: 0.7272 - val_prc: 0.3607\n",
      "Epoch 7/200\n",
      "28/28 [==============================] - 0s 12ms/step - loss: 0.4737 - Sensitivity: 0.1233 - tn: 11155.0000 - auc: 0.6433 - prc: 0.2543 - val_loss: 0.4714 - val_Sensitivity: 0.3010 - val_tn: 3578.0000 - val_auc: 0.7279 - val_prc: 0.3624\n",
      "Epoch 8/200\n",
      "28/28 [==============================] - 0s 11ms/step - loss: 0.4573 - Sensitivity: 0.1113 - tn: 11218.0000 - auc: 0.6580 - prc: 0.2634 - val_loss: 0.4704 - val_Sensitivity: 0.3024 - val_tn: 3568.0000 - val_auc: 0.7261 - val_prc: 0.3608\n",
      "Epoch 9/200\n",
      "28/28 [==============================] - 0s 13ms/step - loss: 0.4598 - Sensitivity: 0.1135 - tn: 11220.0000 - auc: 0.6524 - prc: 0.2614 - val_loss: 0.4668 - val_Sensitivity: 0.2853 - val_tn: 3596.0000 - val_auc: 0.7257 - val_prc: 0.3612\n",
      "Epoch 10/200\n",
      "28/28 [==============================] - 0s 12ms/step - loss: 0.4560 - Sensitivity: 0.0926 - tn: 11307.0000 - auc: 0.6496 - prc: 0.2611 - val_loss: 0.4744 - val_Sensitivity: 0.3024 - val_tn: 3568.0000 - val_auc: 0.7241 - val_prc: 0.3566\n",
      "Epoch 11/200\n",
      "28/28 [==============================] - 0s 12ms/step - loss: 0.4496 - Sensitivity: 0.1024 - tn: 11278.0000 - auc: 0.6592 - prc: 0.2659 - val_loss: 0.4758 - val_Sensitivity: 0.2958 - val_tn: 3561.0000 - val_auc: 0.7228 - val_prc: 0.3529\n",
      "Epoch 1/200\n",
      "28/28 [==============================] - 0s 14ms/step - loss: 0.5390 - Sensitivity: 0.1489 - tn: 10831.0000 - auc: 0.6177 - prc: 0.2453 - val_loss: 0.4577 - val_Sensitivity: 0.1803 - val_tn: 3687.0000 - val_auc: 0.7328 - val_prc: 0.3488\n",
      "Epoch 2/200\n",
      "28/28 [==============================] - 0s 12ms/step - loss: 0.5237 - Sensitivity: 0.1348 - tn: 10849.0000 - auc: 0.6203 - prc: 0.2430 - val_loss: 0.4475 - val_Sensitivity: 0.1634 - val_tn: 3728.0000 - val_auc: 0.7315 - val_prc: 0.3506\n",
      "Epoch 3/200\n",
      "28/28 [==============================] - 0s 12ms/step - loss: 0.5100 - Sensitivity: 0.1240 - tn: 10900.0000 - auc: 0.6302 - prc: 0.2491 - val_loss: 0.4629 - val_Sensitivity: 0.2088 - val_tn: 3653.0000 - val_auc: 0.7300 - val_prc: 0.3467\n",
      "Epoch 4/200\n",
      "28/28 [==============================] - 0s 12ms/step - loss: 0.5030 - Sensitivity: 0.1348 - tn: 10918.0000 - auc: 0.6297 - prc: 0.2528 - val_loss: 0.4661 - val_Sensitivity: 0.2425 - val_tn: 3606.0000 - val_auc: 0.7308 - val_prc: 0.3477\n",
      "Epoch 5/200\n",
      "28/28 [==============================] - 0s 12ms/step - loss: 0.4914 - Sensitivity: 0.1236 - tn: 11023.0000 - auc: 0.6363 - prc: 0.2585 - val_loss: 0.4718 - val_Sensitivity: 0.2555 - val_tn: 3576.0000 - val_auc: 0.7298 - val_prc: 0.3454\n",
      "Epoch 6/200\n",
      "28/28 [==============================] - 0s 13ms/step - loss: 0.4842 - Sensitivity: 0.1253 - tn: 11055.0000 - auc: 0.6377 - prc: 0.2597 - val_loss: 0.4749 - val_Sensitivity: 0.2646 - val_tn: 3564.0000 - val_auc: 0.7295 - val_prc: 0.3464\n",
      "Epoch 7/200\n",
      "28/28 [==============================] - 0s 12ms/step - loss: 0.4735 - Sensitivity: 0.1223 - tn: 11110.0000 - auc: 0.6473 - prc: 0.2693 - val_loss: 0.4707 - val_Sensitivity: 0.2607 - val_tn: 3587.0000 - val_auc: 0.7306 - val_prc: 0.3465\n",
      "Epoch 8/200\n",
      "28/28 [==============================] - 0s 13ms/step - loss: 0.4707 - Sensitivity: 0.1094 - tn: 11141.0000 - auc: 0.6444 - prc: 0.2645 - val_loss: 0.4725 - val_Sensitivity: 0.2568 - val_tn: 3578.0000 - val_auc: 0.7299 - val_prc: 0.3451\n",
      "Epoch 9/200\n",
      "28/28 [==============================] - 0s 13ms/step - loss: 0.4608 - Sensitivity: 0.0996 - tn: 11200.0000 - auc: 0.6553 - prc: 0.2774 - val_loss: 0.4716 - val_Sensitivity: 0.2529 - val_tn: 3574.0000 - val_auc: 0.7294 - val_prc: 0.3438\n",
      "Epoch 10/200\n",
      "28/28 [==============================] - 0s 12ms/step - loss: 0.4547 - Sensitivity: 0.1056 - tn: 11201.0000 - auc: 0.6578 - prc: 0.2760 - val_loss: 0.4761 - val_Sensitivity: 0.2763 - val_tn: 3554.0000 - val_auc: 0.7284 - val_prc: 0.3410\n",
      "Epoch 11/200\n",
      "28/28 [==============================] - 0s 11ms/step - loss: 0.4521 - Sensitivity: 0.0880 - tn: 11257.0000 - auc: 0.6621 - prc: 0.2765 - val_loss: 0.4687 - val_Sensitivity: 0.2542 - val_tn: 3586.0000 - val_auc: 0.7291 - val_prc: 0.3449\n",
      "Epoch 12/200\n",
      "28/28 [==============================] - 0s 12ms/step - loss: 0.4468 - Sensitivity: 0.1043 - tn: 11286.0000 - auc: 0.6662 - prc: 0.2881 - val_loss: 0.4704 - val_Sensitivity: 0.2555 - val_tn: 3593.0000 - val_auc: 0.7296 - val_prc: 0.3447\n",
      "Epoch 1/200\n",
      "28/28 [==============================] - 0s 15ms/step - loss: 0.5040 - Sensitivity: 0.1261 - tn: 10950.0000 - auc: 0.6332 - prc: 0.2451 - val_loss: 0.4494 - val_Sensitivity: 0.2114 - val_tn: 3722.0000 - val_auc: 0.7363 - val_prc: 0.3482\n",
      "Epoch 2/200\n",
      "28/28 [==============================] - 0s 14ms/step - loss: 0.5045 - Sensitivity: 0.1391 - tn: 10924.0000 - auc: 0.6270 - prc: 0.2483 - val_loss: 0.4484 - val_Sensitivity: 0.2100 - val_tn: 3731.0000 - val_auc: 0.7363 - val_prc: 0.3496\n",
      "Epoch 3/200\n",
      "28/28 [==============================] - 0s 14ms/step - loss: 0.4885 - Sensitivity: 0.1157 - tn: 11103.0000 - auc: 0.6357 - prc: 0.2512 - val_loss: 0.4627 - val_Sensitivity: 0.2683 - val_tn: 3657.0000 - val_auc: 0.7332 - val_prc: 0.3465\n",
      "Epoch 4/200\n",
      "28/28 [==============================] - 0s 13ms/step - loss: 0.4789 - Sensitivity: 0.1291 - tn: 11109.0000 - auc: 0.6429 - prc: 0.2680 - val_loss: 0.4537 - val_Sensitivity: 0.2466 - val_tn: 3688.0000 - val_auc: 0.7331 - val_prc: 0.3465\n",
      "Epoch 5/200\n",
      "28/28 [==============================] - 0s 14ms/step - loss: 0.4696 - Sensitivity: 0.1287 - tn: 11124.0000 - auc: 0.6472 - prc: 0.2786 - val_loss: 0.4654 - val_Sensitivity: 0.2696 - val_tn: 3661.0000 - val_auc: 0.7332 - val_prc: 0.3483\n",
      "Epoch 6/200\n",
      "28/28 [==============================] - 0s 14ms/step - loss: 0.4609 - Sensitivity: 0.0952 - tn: 11252.0000 - auc: 0.6544 - prc: 0.2726 - val_loss: 0.4657 - val_Sensitivity: 0.2656 - val_tn: 3652.0000 - val_auc: 0.7328 - val_prc: 0.3461\n",
      "Epoch 7/200\n",
      "28/28 [==============================] - 0s 14ms/step - loss: 0.4531 - Sensitivity: 0.1030 - tn: 11247.0000 - auc: 0.6630 - prc: 0.2761 - val_loss: 0.4571 - val_Sensitivity: 0.2453 - val_tn: 3683.0000 - val_auc: 0.7342 - val_prc: 0.3470\n",
      "Epoch 8/200\n",
      "28/28 [==============================] - 0s 14ms/step - loss: 0.4515 - Sensitivity: 0.0978 - tn: 11211.0000 - auc: 0.6599 - prc: 0.2728 - val_loss: 0.4614 - val_Sensitivity: 0.2439 - val_tn: 3681.0000 - val_auc: 0.7329 - val_prc: 0.3432\n",
      "Epoch 9/200\n",
      "28/28 [==============================] - 0s 15ms/step - loss: 0.4458 - Sensitivity: 0.0991 - tn: 11317.0000 - auc: 0.6643 - prc: 0.2858 - val_loss: 0.4611 - val_Sensitivity: 0.2439 - val_tn: 3677.0000 - val_auc: 0.7317 - val_prc: 0.3418\n",
      "Epoch 10/200\n",
      "28/28 [==============================] - 0s 14ms/step - loss: 0.4389 - Sensitivity: 0.1013 - tn: 11327.0000 - auc: 0.6744 - prc: 0.2940 - val_loss: 0.4533 - val_Sensitivity: 0.2222 - val_tn: 3704.0000 - val_auc: 0.7314 - val_prc: 0.3421\n",
      "Epoch 11/200\n",
      "28/28 [==============================] - 0s 14ms/step - loss: 0.4417 - Sensitivity: 0.0722 - tn: 11373.0000 - auc: 0.6697 - prc: 0.2770 - val_loss: 0.4596 - val_Sensitivity: 0.2385 - val_tn: 3681.0000 - val_auc: 0.7316 - val_prc: 0.3427\n",
      "Epoch 12/200\n",
      "28/28 [==============================] - 0s 14ms/step - loss: 0.4372 - Sensitivity: 0.0870 - tn: 11380.0000 - auc: 0.6729 - prc: 0.2901 - val_loss: 0.4662 - val_Sensitivity: 0.2547 - val_tn: 3656.0000 - val_auc: 0.7311 - val_prc: 0.3412\n",
      "Epoch 1/200\n",
      "28/28 [==============================] - 0s 17ms/step - loss: 0.5041 - Sensitivity: 0.1207 - tn: 11015.0000 - auc: 0.6290 - prc: 0.2534 - val_loss: 0.4630 - val_Sensitivity: 0.3176 - val_tn: 3619.0000 - val_auc: 0.7474 - val_prc: 0.3732\n",
      "Epoch 2/200\n",
      "28/28 [==============================] - 0s 14ms/step - loss: 0.4873 - Sensitivity: 0.1199 - tn: 11006.0000 - auc: 0.6413 - prc: 0.2631 - val_loss: 0.4529 - val_Sensitivity: 0.2824 - val_tn: 3676.0000 - val_auc: 0.7454 - val_prc: 0.3707\n",
      "Epoch 3/200\n",
      "28/28 [==============================] - 0s 14ms/step - loss: 0.4840 - Sensitivity: 0.1114 - tn: 11059.0000 - auc: 0.6398 - prc: 0.2602 - val_loss: 0.4686 - val_Sensitivity: 0.3162 - val_tn: 3601.0000 - val_auc: 0.7427 - val_prc: 0.3645\n",
      "Epoch 4/200\n",
      "28/28 [==============================] - 0s 14ms/step - loss: 0.4727 - Sensitivity: 0.1246 - tn: 11124.0000 - auc: 0.6486 - prc: 0.2793 - val_loss: 0.4537 - val_Sensitivity: 0.2649 - val_tn: 3681.0000 - val_auc: 0.7435 - val_prc: 0.3646\n",
      "Epoch 5/200\n",
      "28/28 [==============================] - 0s 13ms/step - loss: 0.4716 - Sensitivity: 0.0842 - tn: 11192.0000 - auc: 0.6425 - prc: 0.2616 - val_loss: 0.4662 - val_Sensitivity: 0.2919 - val_tn: 3642.0000 - val_auc: 0.7419 - val_prc: 0.3609\n",
      "Epoch 6/200\n",
      "28/28 [==============================] - 0s 14ms/step - loss: 0.4587 - Sensitivity: 0.1008 - tn: 11202.0000 - auc: 0.6558 - prc: 0.2774 - val_loss: 0.4700 - val_Sensitivity: 0.3014 - val_tn: 3615.0000 - val_auc: 0.7408 - val_prc: 0.3587\n",
      "Epoch 7/200\n",
      "28/28 [==============================] - 0s 14ms/step - loss: 0.4525 - Sensitivity: 0.0884 - tn: 11283.0000 - auc: 0.6619 - prc: 0.2877 - val_loss: 0.4683 - val_Sensitivity: 0.2932 - val_tn: 3623.0000 - val_auc: 0.7403 - val_prc: 0.3560\n",
      "Epoch 8/200\n",
      "28/28 [==============================] - 0s 13ms/step - loss: 0.4458 - Sensitivity: 0.1050 - tn: 11235.0000 - auc: 0.6681 - prc: 0.2968 - val_loss: 0.4682 - val_Sensitivity: 0.2905 - val_tn: 3631.0000 - val_auc: 0.7400 - val_prc: 0.3533\n",
      "Epoch 9/200\n",
      "28/28 [==============================] - 0s 14ms/step - loss: 0.4442 - Sensitivity: 0.0850 - tn: 11326.0000 - auc: 0.6686 - prc: 0.2944 - val_loss: 0.4734 - val_Sensitivity: 0.3135 - val_tn: 3583.0000 - val_auc: 0.7385 - val_prc: 0.3509\n",
      "Epoch 10/200\n",
      "28/28 [==============================] - 0s 15ms/step - loss: 0.4402 - Sensitivity: 0.0850 - tn: 11315.0000 - auc: 0.6738 - prc: 0.2912 - val_loss: 0.4628 - val_Sensitivity: 0.2757 - val_tn: 3649.0000 - val_auc: 0.7390 - val_prc: 0.3520\n",
      "Epoch 11/200\n",
      "28/28 [==============================] - 0s 14ms/step - loss: 0.4344 - Sensitivity: 0.0702 - tn: 11349.0000 - auc: 0.6844 - prc: 0.2985 - val_loss: 0.4818 - val_Sensitivity: 0.3122 - val_tn: 3570.0000 - val_auc: 0.7361 - val_prc: 0.3429\n",
      "Epoch 12/200\n",
      "28/28 [==============================] - 0s 14ms/step - loss: 0.4346 - Sensitivity: 0.0748 - tn: 11363.0000 - auc: 0.6783 - prc: 0.2955 - val_loss: 0.4672 - val_Sensitivity: 0.2703 - val_tn: 3642.0000 - val_auc: 0.7371 - val_prc: 0.3446\n"
     ]
    }
   ],
   "source": [
    "annpreds = []\n",
    "for X, y, X_test in zip(dX_train, dy_train, dX_test):\n",
    "    X_train, X_valid, y_train, y_valid = train_test_split(X, y, train_size=0.75, test_size=0.25, random_state=0)\n",
    "    model4.fit(X_train, y_train,\n",
    "    validation_data=(X_valid, y_valid),\n",
    "    batch_size=512,\n",
    "    epochs=200,\n",
    "    callbacks=[early_stopping])\n",
    "    annpreds.append(model4.predict(X_test))"
   ]
  },
  {
   "cell_type": "code",
   "execution_count": 13,
   "metadata": {},
   "outputs": [
    {
     "data": {
      "text/plain": [
       "[0.7180616650896982,\n",
       " 0.7274891749965453,\n",
       " 0.727476481035362,\n",
       " 0.7350018288848013,\n",
       " 0.7383036475485197]"
      ]
     },
     "execution_count": 13,
     "metadata": {},
     "output_type": "execute_result"
    }
   ],
   "source": [
    "ann_score = []\n",
    "for x in range(0,5):\n",
    "    ann_score.append(roc_auc_score(dy_test[x], annpreds[x]))\n",
    "ann_score"
   ]
  },
  {
   "cell_type": "markdown",
   "metadata": {},
   "source": [
    "model.fit(dX_train[0], dy_train[0])\n",
    "def rf_feat_importance(model, X):\n",
    "    return pd.DataFrame({'cols':X.columns, 'imp':model.feature_importances_}\n",
    "                       ).sort_values('imp', ascending=False)\n",
    "fi = rf_feat_importance(model, X)\n",
    "fi[:10]\n",
    "def plot_fi(fi):\n",
    "    return fi.plot('cols', 'imp', 'barh', figsize=(12,7), legend=False)\n",
    "\n",
    "plot_fi(fi[:20]);"
   ]
  },
  {
   "cell_type": "markdown",
   "metadata": {},
   "source": [
    "model2.fit(dX_train[0], dy_train[0])\n",
    "fi = rf_feat_importance(model2, X)\n",
    "plot_fi(fi[:20]);"
   ]
  },
  {
   "cell_type": "code",
   "execution_count": 14,
   "metadata": {},
   "outputs": [
    {
     "name": "stderr",
     "output_type": "stream",
     "text": [
      "/home/kchen/.local/lib/python3.9/site-packages/sklearn/linear_model/_logistic.py:763: ConvergenceWarning: lbfgs failed to converge (status=1):\n",
      "STOP: TOTAL NO. of ITERATIONS REACHED LIMIT.\n",
      "\n",
      "Increase the number of iterations (max_iter) or scale the data as shown in:\n",
      "    https://scikit-learn.org/stable/modules/preprocessing.html\n",
      "Please also refer to the documentation for alternative solver options:\n",
      "    https://scikit-learn.org/stable/modules/linear_model.html#logistic-regression\n",
      "  n_iter_i = _check_optimize_result(\n",
      "/home/kchen/.local/lib/python3.9/site-packages/sklearn/linear_model/_logistic.py:763: ConvergenceWarning: lbfgs failed to converge (status=1):\n",
      "STOP: TOTAL NO. of ITERATIONS REACHED LIMIT.\n",
      "\n",
      "Increase the number of iterations (max_iter) or scale the data as shown in:\n",
      "    https://scikit-learn.org/stable/modules/preprocessing.html\n",
      "Please also refer to the documentation for alternative solver options:\n",
      "    https://scikit-learn.org/stable/modules/linear_model.html#logistic-regression\n",
      "  n_iter_i = _check_optimize_result(\n",
      "/home/kchen/.local/lib/python3.9/site-packages/sklearn/linear_model/_logistic.py:763: ConvergenceWarning: lbfgs failed to converge (status=1):\n",
      "STOP: TOTAL NO. of ITERATIONS REACHED LIMIT.\n",
      "\n",
      "Increase the number of iterations (max_iter) or scale the data as shown in:\n",
      "    https://scikit-learn.org/stable/modules/preprocessing.html\n",
      "Please also refer to the documentation for alternative solver options:\n",
      "    https://scikit-learn.org/stable/modules/linear_model.html#logistic-regression\n",
      "  n_iter_i = _check_optimize_result(\n",
      "/home/kchen/.local/lib/python3.9/site-packages/sklearn/linear_model/_logistic.py:763: ConvergenceWarning: lbfgs failed to converge (status=1):\n",
      "STOP: TOTAL NO. of ITERATIONS REACHED LIMIT.\n",
      "\n",
      "Increase the number of iterations (max_iter) or scale the data as shown in:\n",
      "    https://scikit-learn.org/stable/modules/preprocessing.html\n",
      "Please also refer to the documentation for alternative solver options:\n",
      "    https://scikit-learn.org/stable/modules/linear_model.html#logistic-regression\n",
      "  n_iter_i = _check_optimize_result(\n",
      "/home/kchen/.local/lib/python3.9/site-packages/sklearn/linear_model/_logistic.py:763: ConvergenceWarning: lbfgs failed to converge (status=1):\n",
      "STOP: TOTAL NO. of ITERATIONS REACHED LIMIT.\n",
      "\n",
      "Increase the number of iterations (max_iter) or scale the data as shown in:\n",
      "    https://scikit-learn.org/stable/modules/preprocessing.html\n",
      "Please also refer to the documentation for alternative solver options:\n",
      "    https://scikit-learn.org/stable/modules/linear_model.html#logistic-regression\n",
      "  n_iter_i = _check_optimize_result(\n"
     ]
    },
    {
     "data": {
      "text/plain": [
       "[0.6970648140774465,\n",
       " 0.7007366376464447,\n",
       " 0.6894455678840845,\n",
       " 0.6942496046187894,\n",
       " 0.7001425781358832]"
      ]
     },
     "execution_count": 14,
     "metadata": {},
     "output_type": "execute_result"
    }
   ],
   "source": [
    "lrpreds = []\n",
    "model3 = LogisticRegression()\n",
    "for X, y, X_test in zip(dX_train, dy_train, dX_test):\n",
    "    model3.fit(X, y)\n",
    "    lrpreds.append(model3.predict_proba(X_test))\n",
    "lr_score = []\n",
    "for x in range(0,5):\n",
    "    lr_score.append(roc_auc_score(dy_test[x], lrpreds[x][:,1]))\n",
    "lr_score"
   ]
  },
  {
   "cell_type": "markdown",
   "metadata": {},
   "source": [
    "lr_ci = stats.norm.interval(0.95, loc=np.mean(lr_score), scale=np.std(lr_score))\n",
    "print(lr_ci)"
   ]
  },
  {
   "cell_type": "markdown",
   "metadata": {},
   "source": [
    "X_train, X_valid, y_train, y_valid = train_test_split(X, y, train_size=0.75, test_size=0.25, random_state=0)"
   ]
  },
  {
   "cell_type": "markdown",
   "metadata": {},
   "source": [
    "def evaluate(model1, X, y):\n",
    "    ppreds = model1.predict_proba(X)\n",
    "    ppreds = ppreds[:,1]\n",
    "    pscore = roc_auc_score(y, ppreds)\n",
    "    print('AUC', pscore)\n",
    "model = RandomForestClassifier()\n",
    "model.fit(X_train, y_train)\n",
    "evaluate(model, X_valid, y_valid)\n"
   ]
  },
  {
   "cell_type": "markdown",
   "metadata": {},
   "source": [
    "\n",
    "def rf_feat_importance(model, X):\n",
    "    return pd.DataFrame({'cols':X.columns, 'imp':model.feature_importances_}\n",
    "                       ).sort_values('imp', ascending=False)\n",
    "fi = rf_feat_importance(model, X)\n",
    "fi[:10]\n",
    "def plot_fi(fi):\n",
    "    return fi.plot('cols', 'imp', 'barh', figsize=(8,4), legend=False)\n",
    "\n",
    "plot_fi(fi[:10]);"
   ]
  },
  {
   "cell_type": "code",
   "execution_count": 15,
   "metadata": {},
   "outputs": [
    {
     "name": "stdout",
     "output_type": "stream",
     "text": [
      "Neural Network: 0.729 (0.72-0.739)\n"
     ]
    }
   ],
   "source": [
    "ann_mean = np.mean(ann_score)\n",
    "ann_confidence = st.t.interval(0.95, len(ann_score)-1, loc=ann_mean, scale=st.sem(ann_score))\n",
    "\n",
    "print('Neural Network:', round(ann_mean,3), '('+str(round(ann_confidence[0],3))+'-'+str(round(ann_confidence[1],3))+')')\n"
   ]
  },
  {
   "cell_type": "code",
   "execution_count": 16,
   "metadata": {},
   "outputs": [
    {
     "name": "stdout",
     "output_type": "stream",
     "text": [
      "Logistic Regression: 0.696 (0.691-0.702)\n"
     ]
    }
   ],
   "source": [
    "lr_mean = np.mean(lr_score)\n",
    "lr_confidence = st.t.interval(0.95, len(lr_score)-1, loc=lr_mean, scale=st.sem(lr_score))\n",
    "\n",
    "print('Logistic Regression:', round(lr_mean,3), '('+str(round(lr_confidence[0],3))+'-'+str(round(lr_confidence[1],3))+')')\n"
   ]
  },
  {
   "cell_type": "code",
   "execution_count": 17,
   "metadata": {},
   "outputs": [
    {
     "name": "stdout",
     "output_type": "stream",
     "text": [
      "Neural Network: 0.358 (0.34-0.375)\n",
      "Logistic Regression: 0.312 (0.289-0.334)\n"
     ]
    }
   ],
   "source": [
    "ann_prc = []\n",
    "for x in range(0,5):\n",
    "    ann_prc.append(average_precision_score(dy_test[x], annpreds[x]))\n",
    "\n",
    "ann_prc_mean = np.mean(ann_prc)\n",
    "ann_prc_confidence = st.t.interval(0.95, len(ann_prc)-1, loc=ann_prc_mean, scale=st.sem(ann_prc))\n",
    "\n",
    "print('Neural Network:', round(ann_prc_mean,3), '('+str(round(ann_prc_confidence[0],3))+'-'+str(round(ann_prc_confidence[1],3))+')')\n",
    "lr_prc = []\n",
    "for x in range(0,5):\n",
    "    lr_prc.append(average_precision_score(dy_test[x], lrpreds[x][:,1]))\n",
    "\n",
    "lr_prc_mean = np.mean(lr_prc)\n",
    "lr_prc_confidence = st.t.interval(0.95, len(lr_prc)-1, loc=lr_prc_mean, scale=st.sem(lr_prc))\n",
    "\n",
    "print('Logistic Regression:', round(lr_prc_mean,3), '('+str(round(lr_prc_confidence[0],3))+'-'+str(round(lr_prc_confidence[1],3))+')')\n",
    "with open('pan_results.txt', 'w') as f:\n",
    "    f.write('Logistic Regression: '+str(round(lr_mean,3))+' ('+str(round(lr_confidence[0],3))+'-'+str(round(lr_confidence[1],3))+')\\n')\n",
    "    f.write('Neural Network: '+str(round(ann_mean,3))+' ('+str(round(ann_confidence[0],3))+'-'+str(round(ann_confidence[1],3))+')\\n')\n",
    "    f.write('AUPRC\\n')\n",
    "    f.write('Logistic Regression: '+str(round(lr_prc_mean,3))+' ('+str(round(lr_prc_confidence[0],3))+'-'+str(round(lr_prc_confidence[1],3))+')\\n')\n",
    "    f.write('Neural Network: '+str(round(ann_prc_mean,3))+' ('+str(round(ann_prc_confidence[0],3))+'-'+str(round(ann_prc_confidence[1],3))+')')"
   ]
  },
  {
   "cell_type": "code",
   "execution_count": 18,
   "metadata": {},
   "outputs": [
    {
     "name": "stdout",
     "output_type": "stream",
     "text": [
      "4647\n",
      "4647\n",
      "4647\n",
      "4646\n",
      "4646\n"
     ]
    }
   ],
   "source": [
    "for x in range(0,5):\n",
    "    print(len(annpreds[x]))"
   ]
  },
  {
   "cell_type": "markdown",
   "metadata": {},
   "source": [
    "pan_ann_tpr = []\n",
    "pan_ann_fpr = []\n",
    "for x in range(0,5):\n",
    "    fpr, tpr, thresholds = roc_curve(dy_test[x], annpreds[x])\n",
    "    pan_ann_tpr.append(tpr)\n",
    "    pan_ann_fpr.append(fpr)\n",
    "pan_ann_tpr_array = [np.array(x) for x in pan_ann_tpr]\n",
    "mean_pan_ann_tpr = [np.mean(k) for k in zip(*pan_ann_tpr_array)]\n",
    "pan_ann_fpr_array = [np.array(x) for x in pan_ann_fpr]\n",
    "mean_pan_ann_fpr = [np.mean(k) for k in zip(*pan_ann_fpr_array)]\n",
    "%store mean_pan_ann_tpr\n",
    "%store mean_pan_ann_fpr\n"
   ]
  },
  {
   "cell_type": "markdown",
   "metadata": {},
   "source": [
    "for x in range(0,5):\n",
    "    pan_ann_tpr[x] = np.random.permutation(pan_ann_tpr[x])\n",
    "pan_ann_tpr = [x[:1000] for x in pan_ann_tpr]\n",
    "for x in range(0,5):\n",
    "    pan_ann_tpr[x] = sorted(pan_ann_tpr[x])\n",
    "for x in range(0,5):\n",
    "    pan_ann_fpr[x] = np.random.permutation(pan_ann_fpr[x])\n",
    "pan_ann_fpr = [x[:1000] for x in pan_ann_fpr]\n",
    "for x in range(0,5):\n",
    "    pan_ann_fpr[x] = sorted(pan_ann_fpr[x])"
   ]
  },
  {
   "cell_type": "markdown",
   "metadata": {},
   "source": [
    "pan_ann_tpr_array = [np.array(x) for x in pan_ann_tpr]\n",
    "mean_pan_ann_tpr = [np.mean(k) for k in zip(*pan_ann_tpr_array)]\n",
    "pan_ann_fpr_array = [np.array(x) for x in pan_ann_fpr]\n",
    "mean_pan_ann_fpr = [np.mean(k) for k in zip(*pan_ann_fpr_array)]\n",
    "%store mean_pan_ann_tpr\n",
    "%store mean_pan_ann_fpr"
   ]
  },
  {
   "cell_type": "code",
   "execution_count": 19,
   "metadata": {},
   "outputs": [],
   "source": [
    "pan_ann_tpr = []\n",
    "pan_ann_fpr = []\n",
    "for x in range(0,5):\n",
    "    fpr, tpr, _ = roc_curve(dy_test[x], annpreds[x])\n",
    "    pan_ann_tpr.append(tpr)\n",
    "    pan_ann_fpr.append(fpr)\n"
   ]
  },
  {
   "cell_type": "code",
   "execution_count": 20,
   "metadata": {},
   "outputs": [
    {
     "name": "stdout",
     "output_type": "stream",
     "text": [
      "1149\n",
      "1222\n",
      "1122\n",
      "1177\n",
      "1133\n"
     ]
    }
   ],
   "source": [
    "for x in range(0,5):\n",
    "    print(len(pan_ann_fpr[x]))\n",
    "    "
   ]
  },
  {
   "cell_type": "code",
   "execution_count": 21,
   "metadata": {},
   "outputs": [
    {
     "name": "stdout",
     "output_type": "stream",
     "text": [
      "Stored 'mean_pan_ann_tpr' (list)\n",
      "Stored 'mean_pan_ann_fpr' (list)\n"
     ]
    }
   ],
   "source": [
    "for x in range(0,5):\n",
    "    diff = len(pan_ann_tpr[x]) - 1100\n",
    "    for _ in range(diff):\n",
    "        ind = randrange(len(pan_ann_tpr[x]))\n",
    "        pan_ann_tpr[x] = np.delete(pan_ann_tpr[x],ind)\n",
    "for x in range(0,5):\n",
    "    diff = len(pan_ann_fpr[x]) - 1100\n",
    "    for _ in range(diff):\n",
    "        ind = randrange(len(pan_ann_fpr[x]))\n",
    "        pan_ann_fpr[x] = np.delete(pan_ann_fpr[x],ind)\n",
    "\n",
    "\n",
    "mean_pan_ann_tpr = [np.mean(k) for k in zip(*pan_ann_tpr)]\n",
    "\n",
    "mean_pan_ann_fpr = [np.mean(k) for k in zip(*pan_ann_fpr)]\n",
    "%store mean_pan_ann_tpr\n",
    "%store mean_pan_ann_fpr"
   ]
  },
  {
   "cell_type": "code",
   "execution_count": 22,
   "metadata": {},
   "outputs": [],
   "source": [
    "pan_lr_tpr = []\n",
    "pan_lr_fpr = []\n",
    "for x in range(0,5):\n",
    "    fpr, tpr, _ = roc_curve(dy_test[x], lrpreds[x][:,1])\n",
    "    pan_lr_tpr.append(tpr)\n",
    "    pan_lr_fpr.append(fpr)\n"
   ]
  },
  {
   "cell_type": "code",
   "execution_count": 23,
   "metadata": {},
   "outputs": [
    {
     "name": "stdout",
     "output_type": "stream",
     "text": [
      "1178\n",
      "1248\n",
      "1144\n",
      "1220\n",
      "1152\n"
     ]
    }
   ],
   "source": [
    "for x in range(0,5):\n",
    "    print(len(pan_lr_fpr[x]))"
   ]
  },
  {
   "cell_type": "code",
   "execution_count": 24,
   "metadata": {},
   "outputs": [
    {
     "name": "stdout",
     "output_type": "stream",
     "text": [
      "Stored 'mean_pan_lr_tpr' (list)\n",
      "Stored 'mean_pan_lr_fpr' (list)\n"
     ]
    }
   ],
   "source": [
    "for x in range(0,5):\n",
    "    diff = len(pan_lr_tpr[x]) - 1100\n",
    "    for _ in range(diff):\n",
    "        ind = randrange(len(pan_lr_tpr[x]))\n",
    "        pan_lr_tpr[x] = np.delete(pan_lr_tpr[x],ind)\n",
    "\n",
    "for x in range(0,5):\n",
    "    diff = len(pan_lr_fpr[x]) - 1100\n",
    "    for _ in range(diff):\n",
    "        ind = randrange(len(pan_lr_fpr[x]))\n",
    "        pan_lr_fpr[x] = np.delete(pan_lr_fpr[x],ind)\n",
    "\n",
    "\n",
    "mean_pan_lr_tpr = [np.mean(k) for k in zip(*pan_lr_tpr)]\n",
    "\n",
    "mean_pan_lr_fpr = [np.mean(k) for k in zip(*pan_lr_fpr)]\n",
    "%store mean_pan_lr_tpr\n",
    "%store mean_pan_lr_fpr"
   ]
  },
  {
   "cell_type": "code",
   "execution_count": 25,
   "metadata": {},
   "outputs": [],
   "source": [
    "pan_lr_rec = []\n",
    "pan_lr_prec = []\n",
    "for x in range(0,5):\n",
    "    prec, rec, _ = precision_recall_curve(dy_test[x], lrpreds[x][:,1])\n",
    "    pan_lr_rec.append(rec)\n",
    "    pan_lr_prec.append(prec)\n"
   ]
  },
  {
   "cell_type": "code",
   "execution_count": 26,
   "metadata": {},
   "outputs": [
    {
     "name": "stdout",
     "output_type": "stream",
     "text": [
      "4615\n",
      "4619\n",
      "4633\n",
      "4564\n",
      "4617\n"
     ]
    }
   ],
   "source": [
    "for x in range(0,5):\n",
    "    print(len(pan_lr_rec[x]))"
   ]
  },
  {
   "cell_type": "code",
   "execution_count": 27,
   "metadata": {},
   "outputs": [
    {
     "name": "stdout",
     "output_type": "stream",
     "text": [
      "Stored 'mean_pan_lr_rec' (list)\n",
      "Stored 'mean_pan_lr_prec' (list)\n"
     ]
    }
   ],
   "source": [
    "\n",
    "for x in range(0,5):\n",
    "    diff = len(pan_lr_rec[x]) - 4564\n",
    "    for _ in range(diff):\n",
    "        ind = randrange(len(pan_lr_rec[x]))\n",
    "        pan_lr_rec[x] = np.delete(pan_lr_rec[x],ind)\n",
    "\n",
    "for x in range(0,5):\n",
    "    diff = len(pan_lr_prec[x]) - 4564\n",
    "    for _ in range(diff):\n",
    "        ind = randrange(len(pan_lr_prec[x]))\n",
    "        pan_lr_prec[x] = np.delete(pan_lr_prec[x],ind)\n",
    "\n",
    "mean_pan_lr_rec = [np.mean(k) for k in zip(*pan_lr_rec)]\n",
    "\n",
    "mean_pan_lr_prec = [np.mean(k) for k in zip(*pan_lr_prec)]\n",
    "%store mean_pan_lr_rec\n",
    "%store mean_pan_lr_prec"
   ]
  },
  {
   "cell_type": "code",
   "execution_count": 28,
   "metadata": {},
   "outputs": [],
   "source": [
    "pan_ann_rec = []\n",
    "pan_ann_prec = []\n",
    "for x in range(0,5):\n",
    "    prec, rec, _ = precision_recall_curve(dy_test[x], annpreds[x])\n",
    "    pan_ann_rec.append(rec)\n",
    "    pan_ann_prec.append(prec)\n"
   ]
  },
  {
   "cell_type": "code",
   "execution_count": 29,
   "metadata": {},
   "outputs": [
    {
     "name": "stdout",
     "output_type": "stream",
     "text": [
      "4614\n",
      "4640\n",
      "4641\n",
      "4528\n",
      "4594\n"
     ]
    }
   ],
   "source": [
    "for x in range(0,5):\n",
    "    print(len(pan_ann_rec[x]))"
   ]
  },
  {
   "cell_type": "code",
   "execution_count": 30,
   "metadata": {},
   "outputs": [
    {
     "name": "stdout",
     "output_type": "stream",
     "text": [
      "Stored 'mean_pan_ann_rec' (list)\n",
      "Stored 'mean_pan_ann_prec' (list)\n"
     ]
    }
   ],
   "source": [
    "\n",
    "for x in range(0,5):\n",
    "    diff = len(pan_ann_rec[x]) - 4482\n",
    "    for _ in range(diff):\n",
    "        ind = randrange(len(pan_ann_rec[x]))\n",
    "        pan_ann_rec[x] = np.delete(pan_ann_rec[x],ind)\n",
    "\n",
    "for x in range(0,5):\n",
    "    diff = len(pan_ann_prec[x]) - 4482\n",
    "    for _ in range(diff):\n",
    "        ind = randrange(len(pan_ann_prec[x]))\n",
    "        pan_ann_prec[x] = np.delete(pan_ann_prec[x],ind)\n",
    "\n",
    "mean_pan_ann_rec = [np.mean(k) for k in zip(*pan_ann_rec)]\n",
    "\n",
    "mean_pan_ann_prec = [np.mean(k) for k in zip(*pan_ann_prec)]\n",
    "%store mean_pan_ann_rec\n",
    "%store mean_pan_ann_prec"
   ]
  },
  {
   "cell_type": "markdown",
   "metadata": {},
   "source": [
    "pan_lr_rec = []\n",
    "pan_lr_prec = []\n",
    "for x in range(0,5):\n",
    "    prec, rec, _ = precision_recall_curve(dy_test[x], lrpreds[x][:,1])\n",
    "    pan_lr_rec.append(rec)\n",
    "    pan_lr_prec.append(prec)\n",
    "\n",
    "for x in range(0,5):\n",
    "    pan_lr_rec[x] = np.random.permutation(pan_lr_rec[x])\n",
    "pan_lr_rec = [x[:1000] for x in pan_lr_rec]\n",
    "for x in range(0,5):\n",
    "    pan_lr_rec[x] = sorted(pan_lr_rec[x])\n",
    "for x in range(0,5):\n",
    "    pan_lr_prec[x] = np.random.permutation(pan_lr_prec[x])\n",
    "pan_lr_prec = [x[:1000] for x in pan_lr_prec]\n",
    "for x in range(0,5):\n",
    "    pan_lr_prec[x] = sorted(pan_lr_prec[x])\n",
    "pan_lr_rec_array = [np.array(x) for x in pan_lr_rec]\n",
    "mean_pan_lr_rec = [np.mean(k) for k in zip(*pan_lr_rec_array)]\n",
    "pan_lr_prec_array = [np.array(x) for x in pan_lr_prec]\n",
    "mean_pan_lr_prec = [np.mean(k) for k in zip(*pan_lr_prec_array)]\n",
    "%store mean_pan_lr_rec\n",
    "%store mean_pan_lr_prec"
   ]
  },
  {
   "cell_type": "markdown",
   "metadata": {},
   "source": [
    "from matplotlib import pyplot as plt"
   ]
  },
  {
   "cell_type": "markdown",
   "metadata": {},
   "source": [
    "plt.plot(mean_pan_ann_rec, mean_pan_ann_prec)"
   ]
  },
  {
   "cell_type": "code",
   "execution_count": 31,
   "metadata": {},
   "outputs": [
    {
     "data": {
      "image/png": "[encoded data removed]",
      "text/plain": [
       "<Figure size 432x288 with 1 Axes>"
      ]
     },
     "metadata": {
      "needs_background": "light"
     },
     "output_type": "display_data"
    }
   ],
   "source": [
    "thresh = np.arange(0, 1, 0.01)\n",
    "#calculate recall at 10 thresholds\n",
    "annrecall_list = []\n",
    "for i in thresh:\n",
    "    annrecall_list.append(recall_score(dy_test[1], annpreds[1] > i))\n",
    "#calculate spec at 10 thresholds\n",
    "annspec_list = []\n",
    "for i in thresh:\n",
    "    annspec_list.append(specificity_score(dy_test[1], annpreds[1] > i))\n",
    "from matplotlib import pyplot as plt\n",
    "#plot recall vs threshold\n",
    "plt.plot(thresh, annrecall_list, label = 'Sensitivity')\n",
    "plt.plot(thresh, annspec_list, color = 'red', label = 'Specificity')\n",
    "plt.xlabel('Threshold')\n",
    "plt.ylabel('Sensitivity and Specificity')\n",
    "plt.title('Sensitivity and Specificity by Threshold')\n",
    "plt.legend(loc=\"lower right\")\n",
    "plt.show()"
   ]
  },
  {
   "cell_type": "code",
   "execution_count": 32,
   "metadata": {},
   "outputs": [
    {
     "data": {
      "image/png": "[encoded data removed]",
      "text/plain": [
       "<Figure size 432x288 with 1 Axes>"
      ]
     },
     "metadata": {
      "needs_background": "light"
     },
     "output_type": "display_data"
    }
   ],
   "source": [
    "thresh = np.arange(0, 1, 0.01)\n",
    "#calculate recall at 10 thresholds\n",
    "lrrecall_list = []\n",
    "for i in thresh:\n",
    "    lrrecall_list.append(recall_score(dy_test[1], lrpreds[1][:,1] > i))\n",
    "#calculate spec at 10 thresholds\n",
    "lrspec_list = []\n",
    "for i in thresh:\n",
    "    lrspec_list.append(specificity_score(dy_test[1], lrpreds[1][:,1] > i))\n",
    "from matplotlib import pyplot as plt\n",
    "#plot recall vs threshold\n",
    "plt.plot(thresh, lrrecall_list, label = 'Sensitivity')\n",
    "plt.plot(thresh, lrspec_list, color = 'red', label = 'Specificity')\n",
    "plt.xlabel('Threshold')\n",
    "plt.ylabel('Sensitivity and Specificity')\n",
    "plt.title('Sensitivity and Specificity by Threshold')\n",
    "plt.legend(loc=\"lower right\")\n",
    "plt.show()"
   ]
  },
  {
   "cell_type": "code",
   "execution_count": 33,
   "metadata": {},
   "outputs": [
    {
     "name": "stdout",
     "output_type": "stream",
     "text": [
      "0.7022058823529411\n",
      "0.591229444009397\n"
     ]
    }
   ],
   "source": [
    "print(recall_score(dy_test[1], lrpreds[1][:,1] > 0.15))\n",
    "print(specificity_score(dy_test[1], lrpreds[1][:,1] > 0.15))"
   ]
  },
  {
   "cell_type": "code",
   "execution_count": 34,
   "metadata": {},
   "outputs": [
    {
     "name": "stdout",
     "output_type": "stream",
     "text": [
      "0.6764705882352942\n",
      "0.6622291829809449\n"
     ]
    }
   ],
   "source": [
    "print(recall_score(dy_test[1], annpreds[1] > 0.3))\n",
    "print(specificity_score(dy_test[1], annpreds[1] > 0.3))"
   ]
  },
  {
   "cell_type": "code",
   "execution_count": 35,
   "metadata": {},
   "outputs": [
    {
     "name": "stdout",
     "output_type": "stream",
     "text": [
      "2.7897590379779105e-05\n",
      "2.7897590379779105e-05\n",
      "1.117043731858687e-09\n",
      "4.4069142168588157e-13\n",
      "1.458630300534831e-16\n"
     ]
    }
   ],
   "source": [
    "from matplotlib import pyplot as plt\n",
    "import scipy.stats as st\n",
    "from sklearn import metrics\n",
    "\n",
    "def auc(X, Y):\n",
    "    return 1/(len(X)*len(Y)) * sum([kernel(x, y) for x in X for y in Y])\n",
    "def kernel(X, Y):\n",
    "    return .5 if Y==X else int(Y < X)\n",
    "def structural_components(X, Y):\n",
    "    V10 = [1/len(Y) * sum([kernel(x, y) for y in Y]) for x in X]\n",
    "    V01 = [1/len(X) * sum([kernel(x, y) for x in X]) for y in Y]\n",
    "    return V10, V01\n",
    "    \n",
    "\n",
    "def get_S_entry(V_A, V_B, auc_A, auc_B):\n",
    "    return 1/(len(V_A)-1) * sum([(a-auc_A)*(b-auc_B) for a,b in zip(V_A, V_B)])\n",
    "def z_score(var_A, var_B, covar_AB, auc_A, auc_B):\n",
    "    return (auc_A - auc_B)/((var_A + var_B - 2*covar_AB)**(.5))\n",
    "\n",
    "\n",
    "p = []\n",
    "z = []\n",
    "# Model A (random) vs. \"good\" model B\n",
    "for x in range(0,5):\n",
    "    preds_A = annpreds[x]\n",
    "    preds_B = lrpreds[x][:,1]\n",
    "    actual = dy_test[x]\n",
    "\n",
    "    actual = actual.array\n",
    "\n",
    "    def group_preds_by_label(preds, actual):\n",
    "        X = [p for (p, a) in zip(preds, actual) if a]\n",
    "        Y = [p for (p, a) in zip(preds, actual) if not a]\n",
    "        return X, Y\n",
    "\n",
    "\n",
    "    X_A, Y_A = group_preds_by_label(preds_A, actual)\n",
    "    X_B, Y_B = group_preds_by_label(preds_B, actual)\n",
    "    V_A10, V_A01 = structural_components(X_A, Y_A)\n",
    "    V_B10, V_B01 = structural_components(X_B, Y_B)\n",
    "    auc_A = auc(X_A, Y_A)\n",
    "    auc_B = auc(X_B, Y_B)\n",
    "\n",
    "\n",
    "    # Compute entries of covariance matrix S (covar_AB = covar_BA)\n",
    "    var_A = (get_S_entry(V_A10, V_A10, auc_A, auc_A) * 1/len(V_A10)\n",
    "            + get_S_entry(V_A01, V_A01, auc_A, auc_A) * 1/len(V_A01))\n",
    "    var_B = (get_S_entry(V_B10, V_B10, auc_B, auc_B) * 1/len(V_B10)\n",
    "            + get_S_entry(V_B01, V_B01, auc_B, auc_B) * 1/len(V_B01))\n",
    "    covar_AB = (get_S_entry(V_A10, V_B10, auc_A, auc_B) * 1/len(V_A10)\n",
    "                + get_S_entry(V_A01, V_B01, auc_A, auc_B) * 1/len(V_A01))\n",
    "\n",
    "    # Two tailed test\n",
    "    z.append(z_score(var_A, var_B, covar_AB, auc_A, auc_B))\n",
    "    p.append(st.norm.sf(abs(z[x-1]))*2)\n",
    "\n",
    "\n",
    "for x in range(0,5):\n",
    "    print(p[x])"
   ]
  }
 ],
 "metadata": {
  "interpreter": {
   "hash": "916dbcbb3f70747c44a77c7bcd40155683ae19c65e1c03b4aa3499c5328201f1"
  },
  "kernelspec": {
   "display_name": "Python 3.9.5 64-bit",
   "language": "python",
   "name": "python3"
  },
  "language_info": {
   "codemirror_mode": {
    "name": "ipython",
    "version": 3
   },
   "file_extension": ".py",
   "mimetype": "text/x-python",
   "name": "python",
   "nbconvert_exporter": "python",
   "pygments_lexer": "ipython3",
   "version": "3.9.5"
  },
  "orig_nbformat": 4
 },
 "nbformat": 4,
 "nbformat_minor": 2
}
