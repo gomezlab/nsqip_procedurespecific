{
 "cells": [
  {
   "cell_type": "code",
   "execution_count": 1,
   "metadata": {},
   "outputs": [],
   "source": [
    "import pandas as pd\n",
    "from pandas.api.types import CategoricalDtype\n",
    "import numpy as np\n",
    "import os"
   ]
  },
  {
   "cell_type": "code",
   "execution_count": 2,
   "metadata": {},
   "outputs": [],
   "source": [
    "from sklearn.preprocessing import LabelEncoder\n",
    "from sklearn.impute import SimpleImputer\n",
    "from sklearn.preprocessing import RobustScaler"
   ]
  },
  {
   "cell_type": "code",
   "execution_count": 3,
   "metadata": {},
   "outputs": [
    {
     "ename": "FileNotFoundError",
     "evalue": "[Errno 2] No such file or directory: '/home/kchen/Documents/leak/Other/Data/hep/hep.csv'",
     "output_type": "error",
     "traceback": [
      "\u001b[0;31m---------------------------------------------------------------------------\u001b[0m",
      "\u001b[0;31mFileNotFoundError\u001b[0m                         Traceback (most recent call last)",
      "\u001b[0;32m<ipython-input-3-00cd9bbceb26>\u001b[0m in \u001b[0;36m<module>\u001b[0;34m\u001b[0m\n\u001b[1;32m      1\u001b[0m \u001b[0;31m#Open csv file\u001b[0m\u001b[0;34m\u001b[0m\u001b[0;34m\u001b[0m\u001b[0;34m\u001b[0m\u001b[0m\n\u001b[0;32m----> 2\u001b[0;31m \u001b[0mdata\u001b[0m \u001b[0;34m=\u001b[0m \u001b[0mpd\u001b[0m\u001b[0;34m.\u001b[0m\u001b[0mread_csv\u001b[0m\u001b[0;34m(\u001b[0m\u001b[0;34mr\"/home/kchen/Documents/leak/Other/Data/hep/hep.csv\"\u001b[0m\u001b[0;34m,\u001b[0m \u001b[0mindex_col\u001b[0m\u001b[0;34m=\u001b[0m\u001b[0;34m\"CASEID\"\u001b[0m\u001b[0;34m,\u001b[0m \u001b[0mna_values\u001b[0m \u001b[0;34m=\u001b[0m \u001b[0;34m-\u001b[0m\u001b[0;36m99\u001b[0m\u001b[0;34m,\u001b[0m \u001b[0mlow_memory\u001b[0m\u001b[0;34m=\u001b[0m\u001b[0;32mFalse\u001b[0m\u001b[0;34m)\u001b[0m\u001b[0;34m\u001b[0m\u001b[0;34m\u001b[0m\u001b[0m\n\u001b[0m\u001b[1;32m      3\u001b[0m \u001b[0mdata\u001b[0m\u001b[0;34m.\u001b[0m\u001b[0mhead\u001b[0m\u001b[0;34m(\u001b[0m\u001b[0;34m)\u001b[0m\u001b[0;34m\u001b[0m\u001b[0;34m\u001b[0m\u001b[0m\n",
      "\u001b[0;32m~/.local/lib/python3.9/site-packages/pandas/util/_decorators.py\u001b[0m in \u001b[0;36mwrapper\u001b[0;34m(*args, **kwargs)\u001b[0m\n\u001b[1;32m    309\u001b[0m                     \u001b[0mstacklevel\u001b[0m\u001b[0;34m=\u001b[0m\u001b[0mstacklevel\u001b[0m\u001b[0;34m,\u001b[0m\u001b[0;34m\u001b[0m\u001b[0;34m\u001b[0m\u001b[0m\n\u001b[1;32m    310\u001b[0m                 )\n\u001b[0;32m--> 311\u001b[0;31m             \u001b[0;32mreturn\u001b[0m \u001b[0mfunc\u001b[0m\u001b[0;34m(\u001b[0m\u001b[0;34m*\u001b[0m\u001b[0margs\u001b[0m\u001b[0;34m,\u001b[0m \u001b[0;34m**\u001b[0m\u001b[0mkwargs\u001b[0m\u001b[0;34m)\u001b[0m\u001b[0;34m\u001b[0m\u001b[0;34m\u001b[0m\u001b[0m\n\u001b[0m\u001b[1;32m    312\u001b[0m \u001b[0;34m\u001b[0m\u001b[0m\n\u001b[1;32m    313\u001b[0m         \u001b[0;32mreturn\u001b[0m \u001b[0mwrapper\u001b[0m\u001b[0;34m\u001b[0m\u001b[0;34m\u001b[0m\u001b[0m\n",
      "\u001b[0;32m~/.local/lib/python3.9/site-packages/pandas/io/parsers/readers.py\u001b[0m in \u001b[0;36mread_csv\u001b[0;34m(filepath_or_buffer, sep, delimiter, header, names, index_col, usecols, squeeze, prefix, mangle_dupe_cols, dtype, engine, converters, true_values, false_values, skipinitialspace, skiprows, skipfooter, nrows, na_values, keep_default_na, na_filter, verbose, skip_blank_lines, parse_dates, infer_datetime_format, keep_date_col, date_parser, dayfirst, cache_dates, iterator, chunksize, compression, thousands, decimal, lineterminator, quotechar, quoting, doublequote, escapechar, comment, encoding, encoding_errors, dialect, error_bad_lines, warn_bad_lines, on_bad_lines, delim_whitespace, low_memory, memory_map, float_precision, storage_options)\u001b[0m\n\u001b[1;32m    584\u001b[0m     \u001b[0mkwds\u001b[0m\u001b[0;34m.\u001b[0m\u001b[0mupdate\u001b[0m\u001b[0;34m(\u001b[0m\u001b[0mkwds_defaults\u001b[0m\u001b[0;34m)\u001b[0m\u001b[0;34m\u001b[0m\u001b[0;34m\u001b[0m\u001b[0m\n\u001b[1;32m    585\u001b[0m \u001b[0;34m\u001b[0m\u001b[0m\n\u001b[0;32m--> 586\u001b[0;31m     \u001b[0;32mreturn\u001b[0m \u001b[0m_read\u001b[0m\u001b[0;34m(\u001b[0m\u001b[0mfilepath_or_buffer\u001b[0m\u001b[0;34m,\u001b[0m \u001b[0mkwds\u001b[0m\u001b[0;34m)\u001b[0m\u001b[0;34m\u001b[0m\u001b[0;34m\u001b[0m\u001b[0m\n\u001b[0m\u001b[1;32m    587\u001b[0m \u001b[0;34m\u001b[0m\u001b[0m\n\u001b[1;32m    588\u001b[0m \u001b[0;34m\u001b[0m\u001b[0m\n",
      "\u001b[0;32m~/.local/lib/python3.9/site-packages/pandas/io/parsers/readers.py\u001b[0m in \u001b[0;36m_read\u001b[0;34m(filepath_or_buffer, kwds)\u001b[0m\n\u001b[1;32m    480\u001b[0m \u001b[0;34m\u001b[0m\u001b[0m\n\u001b[1;32m    481\u001b[0m     \u001b[0;31m# Create the parser.\u001b[0m\u001b[0;34m\u001b[0m\u001b[0;34m\u001b[0m\u001b[0;34m\u001b[0m\u001b[0m\n\u001b[0;32m--> 482\u001b[0;31m     \u001b[0mparser\u001b[0m \u001b[0;34m=\u001b[0m \u001b[0mTextFileReader\u001b[0m\u001b[0;34m(\u001b[0m\u001b[0mfilepath_or_buffer\u001b[0m\u001b[0;34m,\u001b[0m \u001b[0;34m**\u001b[0m\u001b[0mkwds\u001b[0m\u001b[0;34m)\u001b[0m\u001b[0;34m\u001b[0m\u001b[0;34m\u001b[0m\u001b[0m\n\u001b[0m\u001b[1;32m    483\u001b[0m \u001b[0;34m\u001b[0m\u001b[0m\n\u001b[1;32m    484\u001b[0m     \u001b[0;32mif\u001b[0m \u001b[0mchunksize\u001b[0m \u001b[0;32mor\u001b[0m \u001b[0miterator\u001b[0m\u001b[0;34m:\u001b[0m\u001b[0;34m\u001b[0m\u001b[0;34m\u001b[0m\u001b[0m\n",
      "\u001b[0;32m~/.local/lib/python3.9/site-packages/pandas/io/parsers/readers.py\u001b[0m in \u001b[0;36m__init__\u001b[0;34m(self, f, engine, **kwds)\u001b[0m\n\u001b[1;32m    809\u001b[0m             \u001b[0mself\u001b[0m\u001b[0;34m.\u001b[0m\u001b[0moptions\u001b[0m\u001b[0;34m[\u001b[0m\u001b[0;34m\"has_index_names\"\u001b[0m\u001b[0;34m]\u001b[0m \u001b[0;34m=\u001b[0m \u001b[0mkwds\u001b[0m\u001b[0;34m[\u001b[0m\u001b[0;34m\"has_index_names\"\u001b[0m\u001b[0;34m]\u001b[0m\u001b[0;34m\u001b[0m\u001b[0;34m\u001b[0m\u001b[0m\n\u001b[1;32m    810\u001b[0m \u001b[0;34m\u001b[0m\u001b[0m\n\u001b[0;32m--> 811\u001b[0;31m         \u001b[0mself\u001b[0m\u001b[0;34m.\u001b[0m\u001b[0m_engine\u001b[0m \u001b[0;34m=\u001b[0m \u001b[0mself\u001b[0m\u001b[0;34m.\u001b[0m\u001b[0m_make_engine\u001b[0m\u001b[0;34m(\u001b[0m\u001b[0mself\u001b[0m\u001b[0;34m.\u001b[0m\u001b[0mengine\u001b[0m\u001b[0;34m)\u001b[0m\u001b[0;34m\u001b[0m\u001b[0;34m\u001b[0m\u001b[0m\n\u001b[0m\u001b[1;32m    812\u001b[0m \u001b[0;34m\u001b[0m\u001b[0m\n\u001b[1;32m    813\u001b[0m     \u001b[0;32mdef\u001b[0m \u001b[0mclose\u001b[0m\u001b[0;34m(\u001b[0m\u001b[0mself\u001b[0m\u001b[0;34m)\u001b[0m\u001b[0;34m:\u001b[0m\u001b[0;34m\u001b[0m\u001b[0;34m\u001b[0m\u001b[0m\n",
      "\u001b[0;32m~/.local/lib/python3.9/site-packages/pandas/io/parsers/readers.py\u001b[0m in \u001b[0;36m_make_engine\u001b[0;34m(self, engine)\u001b[0m\n\u001b[1;32m   1038\u001b[0m             )\n\u001b[1;32m   1039\u001b[0m         \u001b[0;31m# error: Too many arguments for \"ParserBase\"\u001b[0m\u001b[0;34m\u001b[0m\u001b[0;34m\u001b[0m\u001b[0;34m\u001b[0m\u001b[0m\n\u001b[0;32m-> 1040\u001b[0;31m         \u001b[0;32mreturn\u001b[0m \u001b[0mmapping\u001b[0m\u001b[0;34m[\u001b[0m\u001b[0mengine\u001b[0m\u001b[0;34m]\u001b[0m\u001b[0;34m(\u001b[0m\u001b[0mself\u001b[0m\u001b[0;34m.\u001b[0m\u001b[0mf\u001b[0m\u001b[0;34m,\u001b[0m \u001b[0;34m**\u001b[0m\u001b[0mself\u001b[0m\u001b[0;34m.\u001b[0m\u001b[0moptions\u001b[0m\u001b[0;34m)\u001b[0m  \u001b[0;31m# type: ignore[call-arg]\u001b[0m\u001b[0;34m\u001b[0m\u001b[0;34m\u001b[0m\u001b[0m\n\u001b[0m\u001b[1;32m   1041\u001b[0m \u001b[0;34m\u001b[0m\u001b[0m\n\u001b[1;32m   1042\u001b[0m     \u001b[0;32mdef\u001b[0m \u001b[0m_failover_to_python\u001b[0m\u001b[0;34m(\u001b[0m\u001b[0mself\u001b[0m\u001b[0;34m)\u001b[0m\u001b[0;34m:\u001b[0m\u001b[0;34m\u001b[0m\u001b[0;34m\u001b[0m\u001b[0m\n",
      "\u001b[0;32m~/.local/lib/python3.9/site-packages/pandas/io/parsers/c_parser_wrapper.py\u001b[0m in \u001b[0;36m__init__\u001b[0;34m(self, src, **kwds)\u001b[0m\n\u001b[1;32m     49\u001b[0m \u001b[0;34m\u001b[0m\u001b[0m\n\u001b[1;32m     50\u001b[0m         \u001b[0;31m# open handles\u001b[0m\u001b[0;34m\u001b[0m\u001b[0;34m\u001b[0m\u001b[0;34m\u001b[0m\u001b[0m\n\u001b[0;32m---> 51\u001b[0;31m         \u001b[0mself\u001b[0m\u001b[0;34m.\u001b[0m\u001b[0m_open_handles\u001b[0m\u001b[0;34m(\u001b[0m\u001b[0msrc\u001b[0m\u001b[0;34m,\u001b[0m \u001b[0mkwds\u001b[0m\u001b[0;34m)\u001b[0m\u001b[0;34m\u001b[0m\u001b[0;34m\u001b[0m\u001b[0m\n\u001b[0m\u001b[1;32m     52\u001b[0m         \u001b[0;32massert\u001b[0m \u001b[0mself\u001b[0m\u001b[0;34m.\u001b[0m\u001b[0mhandles\u001b[0m \u001b[0;32mis\u001b[0m \u001b[0;32mnot\u001b[0m \u001b[0;32mNone\u001b[0m\u001b[0;34m\u001b[0m\u001b[0;34m\u001b[0m\u001b[0m\n\u001b[1;32m     53\u001b[0m \u001b[0;34m\u001b[0m\u001b[0m\n",
      "\u001b[0;32m~/.local/lib/python3.9/site-packages/pandas/io/parsers/base_parser.py\u001b[0m in \u001b[0;36m_open_handles\u001b[0;34m(self, src, kwds)\u001b[0m\n\u001b[1;32m    220\u001b[0m         \u001b[0mLet\u001b[0m \u001b[0mthe\u001b[0m \u001b[0mreaders\u001b[0m \u001b[0mopen\u001b[0m \u001b[0mIOHandles\u001b[0m \u001b[0mafter\u001b[0m \u001b[0mthey\u001b[0m \u001b[0mare\u001b[0m \u001b[0mdone\u001b[0m \u001b[0;32mwith\u001b[0m \u001b[0mtheir\u001b[0m \u001b[0mpotential\u001b[0m \u001b[0mraises\u001b[0m\u001b[0;34m.\u001b[0m\u001b[0;34m\u001b[0m\u001b[0;34m\u001b[0m\u001b[0m\n\u001b[1;32m    221\u001b[0m         \"\"\"\n\u001b[0;32m--> 222\u001b[0;31m         self.handles = get_handle(\n\u001b[0m\u001b[1;32m    223\u001b[0m             \u001b[0msrc\u001b[0m\u001b[0;34m,\u001b[0m\u001b[0;34m\u001b[0m\u001b[0;34m\u001b[0m\u001b[0m\n\u001b[1;32m    224\u001b[0m             \u001b[0;34m\"r\"\u001b[0m\u001b[0;34m,\u001b[0m\u001b[0;34m\u001b[0m\u001b[0;34m\u001b[0m\u001b[0m\n",
      "\u001b[0;32m~/.local/lib/python3.9/site-packages/pandas/io/common.py\u001b[0m in \u001b[0;36mget_handle\u001b[0;34m(path_or_buf, mode, encoding, compression, memory_map, is_text, errors, storage_options)\u001b[0m\n\u001b[1;32m    699\u001b[0m         \u001b[0;32mif\u001b[0m \u001b[0mioargs\u001b[0m\u001b[0;34m.\u001b[0m\u001b[0mencoding\u001b[0m \u001b[0;32mand\u001b[0m \u001b[0;34m\"b\"\u001b[0m \u001b[0;32mnot\u001b[0m \u001b[0;32min\u001b[0m \u001b[0mioargs\u001b[0m\u001b[0;34m.\u001b[0m\u001b[0mmode\u001b[0m\u001b[0;34m:\u001b[0m\u001b[0;34m\u001b[0m\u001b[0;34m\u001b[0m\u001b[0m\n\u001b[1;32m    700\u001b[0m             \u001b[0;31m# Encoding\u001b[0m\u001b[0;34m\u001b[0m\u001b[0;34m\u001b[0m\u001b[0;34m\u001b[0m\u001b[0m\n\u001b[0;32m--> 701\u001b[0;31m             handle = open(\n\u001b[0m\u001b[1;32m    702\u001b[0m                 \u001b[0mhandle\u001b[0m\u001b[0;34m,\u001b[0m\u001b[0;34m\u001b[0m\u001b[0;34m\u001b[0m\u001b[0m\n\u001b[1;32m    703\u001b[0m                 \u001b[0mioargs\u001b[0m\u001b[0;34m.\u001b[0m\u001b[0mmode\u001b[0m\u001b[0;34m,\u001b[0m\u001b[0;34m\u001b[0m\u001b[0;34m\u001b[0m\u001b[0m\n",
      "\u001b[0;31mFileNotFoundError\u001b[0m: [Errno 2] No such file or directory: '/home/kchen/Documents/leak/Other/Data/hep/hep.csv'"
     ]
    }
   ],
   "source": [
    "#Open csv file\n",
    "data = pd.read_csv(r\"/home/kchen/Documents/leak/Other/Data/hep/hep.csv\", index_col=\"CASEID\", na_values = -99, low_memory=False)\n",
    "data.head()"
   ]
  },
  {
   "cell_type": "code",
   "execution_count": null,
   "metadata": {},
   "outputs": [
    {
     "data": {
      "text/plain": [
       "(25595, 373)"
      ]
     },
     "execution_count": 4,
     "metadata": {},
     "output_type": "execute_result"
    }
   ],
   "source": [
    "data.shape"
   ]
  },
  {
   "cell_type": "code",
   "execution_count": null,
   "metadata": {},
   "outputs": [],
   "source": [
    "features = ['PRNCPTX', 'CPT', 'CONCPT1', 'OTHERCPT1', 'OPERYR', 'SEX', 'AGE', 'HEIGHT', 'WEIGHT', 'RACE_NEW', 'ETHNICITY_HISPANIC', 'TRANST','WNDCLAS','ASACLAS', 'DIABETES', 'SMOKE', 'DYSPNEA', 'FNSTATUS2', 'VENTILAT', 'HXCOPD', 'ASCITES', 'HXCHF', 'HYPERMED', 'RENAFAIL', 'DIALYSIS', 'STEROID', 'WTLOSS', 'BLEEDDIS', 'TRANSFUS', 'PRSEPIS', 'PRSODM', 'PRBUN', 'PRCREAT',  'PRALBUM', 'PRBILI', 'PRALKPH', 'PRWBC', 'PRHCT', 'PRPLATE', 'PRPTT', 'PRINR', 'PRPT', 'SEPSHOCKPATOS', 'SSSIPATOS', 'DSSIPATOS', 'OSSIPATOS', 'PNAPATOS', 'VENTPATOS', 'UTIPATOS', 'SEPSISPATOS', 'SEPSHOCKPATOS', 'OPTIME', 'OUPNEUMO', 'CDARREST', 'CDMI', 'SUPINFEC', 'WNDINFD', 'ORGSPCSSI', 'URNINFEC', 'OTHDVT', 'PULEMBOL', 'RENAINSF', 'OPRENAFL', 'DEHIS', 'REINTUB', 'FAILWEAN', 'CNSCVA', 'OTHSYSEP', 'OTHBLEED', 'OTHSESHOCK', 'DOPERTOD','OTHBLEED']"
   ]
  },
  {
   "cell_type": "code",
   "execution_count": null,
   "metadata": {},
   "outputs": [],
   "source": [
    "hep_features = [col for col in data if col.startswith('HEP')]"
   ]
  },
  {
   "cell_type": "code",
   "execution_count": null,
   "metadata": {},
   "outputs": [],
   "source": [
    "outcomes = ['HEP_PEAKCREAT_UNK','HEP_DRAINS_30D','HEP_DRAINS_UNK','HEP_NEOADJ_UNK', 'HEP_DRAINS_BILI_UNK','HEP_CON_OP_ABLATION_UNK', 'HEP_RECON_UNK','HEP_DRAINS_BILI','HEP_DRAIN_BILI_UNK', 'DDRAINSREMOVAL','HEP_DRAINS_REMOVAL_UNK','HEP_INVASIVE','HEP_INVASIVE_UNK','HEP_INVASIVE_TYPE','HEP_PEAKINR','HEP_PEAKINR_UNK','HEP_PEAKBILI','HEP_PEAKBILI_UNK','HEP_LIVERFAIL','HEP_LIVERFAIL_GRADE','HEP_PATHRES','HEP_HISTOLOGIC','HEP_TSTAGE','HEP_NSTAGE','HEP_MSTAGE','HEP_SEC_HISTOLOGIC','HEP_SEC_NUMTUMORS','HEP_SEC_TUMORSIZE','HEP_BENIGN_HISTOLOGIC','HEP_BENIGN_LESION']"
   ]
  },
  {
   "cell_type": "code",
   "execution_count": null,
   "metadata": {},
   "outputs": [],
   "source": [
    "hep_features = list(set(hep_features) - set(outcomes))"
   ]
  },
  {
   "cell_type": "code",
   "execution_count": null,
   "metadata": {},
   "outputs": [
    {
     "data": {
      "text/plain": [
       "['HEP_NEOADJ',\n",
       " 'HEP_RECON',\n",
       " 'HEP_CON_OP_ABLATION',\n",
       " 'HEP_LIVERTEXT',\n",
       " 'HEP_PEAKCREAT',\n",
       " 'HEP_PRINGLE',\n",
       " 'HEP_CON_ABLATION_140101',\n",
       " 'HEP_BILIARYSTENT',\n",
       " 'HEP_LAPTHOR',\n",
       " 'HEP_APPROACH',\n",
       " 'HEP_NEOTHERAPY_140101',\n",
       " 'HEP_DRAINS',\n",
       " 'HEP_VIRAL',\n",
       " 'HEP_BILELEAKAGE',\n",
       " 'HEP_CON_PARTRES']"
      ]
     },
     "execution_count": 9,
     "metadata": {},
     "output_type": "execute_result"
    }
   ],
   "source": [
    "hep_features"
   ]
  },
  {
   "cell_type": "code",
   "execution_count": null,
   "metadata": {},
   "outputs": [],
   "source": [
    "#Remove unwanted columns\n",
    "data = data[features + hep_features]"
   ]
  },
  {
   "cell_type": "code",
   "execution_count": null,
   "metadata": {},
   "outputs": [
    {
     "name": "stdout",
     "output_type": "stream",
     "text": [
      "10.958882654126503\n",
      "89.27363187762685\n"
     ]
    }
   ],
   "source": [
    "#Create BMI column\n",
    "lbs_to_kg_ratio = 0.453592\n",
    "inch_to_meter_ratio = 0.0254\n",
    "\n",
    "data['HEIGHT'] *= inch_to_meter_ratio\n",
    "data['WEIGHT'] *= lbs_to_kg_ratio\n",
    "\n",
    "data['BMI'] = data['WEIGHT']/(data['HEIGHT']**2)\n",
    "print(min(data['BMI']))\n",
    "print(max(data['BMI']))"
   ]
  },
  {
   "cell_type": "code",
   "execution_count": null,
   "metadata": {},
   "outputs": [
    {
     "name": "stdout",
     "output_type": "stream",
     "text": [
      "['PRNCPTX', 'CPT', 'CONCPT1', 'OTHERCPT1', 'OPERYR', 'SEX', 'AGE', 'HEIGHT', 'WEIGHT', 'RACE_NEW', 'ETHNICITY_HISPANIC', 'TRANST', 'WNDCLAS', 'ASACLAS', 'DIABETES', 'SMOKE', 'DYSPNEA', 'FNSTATUS2', 'VENTILAT', 'HXCOPD', 'ASCITES', 'HXCHF', 'HYPERMED', 'RENAFAIL', 'DIALYSIS', 'STEROID', 'WTLOSS', 'BLEEDDIS', 'TRANSFUS', 'PRSEPIS', 'PRSODM', 'PRBUN', 'PRCREAT', 'PRALBUM', 'PRBILI', 'PRALKPH', 'PRWBC', 'PRHCT', 'PRPLATE', 'PRPTT', 'PRINR', 'PRPT', 'SEPSHOCKPATOS', 'SSSIPATOS', 'DSSIPATOS', 'OSSIPATOS', 'PNAPATOS', 'VENTPATOS', 'UTIPATOS', 'SEPSISPATOS', 'SEPSHOCKPATOS', 'OPTIME', 'OUPNEUMO', 'CDARREST', 'CDMI', 'SUPINFEC', 'WNDINFD', 'ORGSPCSSI', 'URNINFEC', 'OTHDVT', 'PULEMBOL', 'RENAINSF', 'OPRENAFL', 'DEHIS', 'REINTUB', 'FAILWEAN', 'CNSCVA', 'OTHSYSEP', 'OTHBLEED', 'OTHSESHOCK', 'DOPERTOD', 'OTHBLEED', 'HEP_NEOADJ', 'HEP_RECON', 'HEP_CON_OP_ABLATION', 'HEP_LIVERTEXT', 'HEP_PEAKCREAT', 'HEP_PRINGLE', 'HEP_CON_ABLATION_140101', 'HEP_BILIARYSTENT', 'HEP_LAPTHOR', 'HEP_APPROACH', 'HEP_NEOTHERAPY_140101', 'HEP_DRAINS', 'HEP_VIRAL', 'HEP_BILELEAKAGE', 'HEP_CON_PARTRES', 'BMI']\n"
     ]
    }
   ],
   "source": [
    "print(data.columns.tolist())"
   ]
  },
  {
   "cell_type": "code",
   "execution_count": null,
   "metadata": {},
   "outputs": [
    {
     "data": {
      "text/plain": [
       "(25595, 88)"
      ]
     },
     "execution_count": 13,
     "metadata": {},
     "output_type": "execute_result"
    }
   ],
   "source": [
    "data.shape"
   ]
  },
  {
   "cell_type": "code",
   "execution_count": null,
   "metadata": {},
   "outputs": [
    {
     "data": {
      "text/plain": [
       "No                                                           23538\n",
       "Yes-persistent drainage, drain continued on or after POD3      621\n",
       "Yes-clinical diagnosis, percutaneous drainage performed        484\n",
       "Yes-persistent drainage, percutaneous drainage performed       290\n",
       "Yes-clinical diagnosis, drain continued on or after POD3       278\n",
       "Unknown                                                        192\n",
       "Yes-clinical diagnosis, reoperation performed                  111\n",
       "Yes-persistent drainage, reoperation performed                  52\n",
       "Yes-clinical diagnosis, spontaneous wound drainage              29\n",
       "Name: HEP_BILELEAKAGE, dtype: int64"
      ]
     },
     "execution_count": 14,
     "metadata": {},
     "output_type": "execute_result"
    }
   ],
   "source": [
    "data['HEP_BILELEAKAGE'].value_counts(dropna=False)"
   ]
  },
  {
   "cell_type": "code",
   "execution_count": null,
   "metadata": {},
   "outputs": [
    {
     "data": {
      "text/plain": [
       "No                                                           23538\n",
       "Yes-persistent drainage, drain continued on or after POD3      621\n",
       "Yes-clinical diagnosis, percutaneous drainage performed        484\n",
       "Yes-persistent drainage, percutaneous drainage performed       290\n",
       "Yes-clinical diagnosis, drain continued on or after POD3       278\n",
       "Yes-clinical diagnosis, reoperation performed                  111\n",
       "Yes-persistent drainage, reoperation performed                  52\n",
       "Yes-clinical diagnosis, spontaneous wound drainage              29\n",
       "Name: HEP_BILELEAKAGE, dtype: int64"
      ]
     },
     "execution_count": 15,
     "metadata": {},
     "output_type": "execute_result"
    }
   ],
   "source": [
    "#Remove unwanted indication from COL_INDICATION\n",
    "data.drop(data[data['HEP_BILELEAKAGE'] == 'Unknown'].index, inplace=True)\n",
    "data['HEP_BILELEAKAGE'].value_counts()"
   ]
  },
  {
   "cell_type": "code",
   "execution_count": null,
   "metadata": {},
   "outputs": [
    {
     "data": {
      "text/plain": [
       "False    24437\n",
       "True       966\n",
       "Name: HEP_BILELEAKAGE, dtype: int64"
      ]
     },
     "execution_count": 16,
     "metadata": {},
     "output_type": "execute_result"
    }
   ],
   "source": [
    "data.loc[data['HEP_BILELEAKAGE'] == 'No', 'HEP_BILELEAKAGE'] = False\n",
    "data.loc[data['HEP_BILELEAKAGE'] == 'Yes-persistent drainage, drain continued on or after POD3', 'HEP_BILELEAKAGE'] = False\n",
    "data.loc[data['HEP_BILELEAKAGE'] == 'Yes-clinical diagnosis, drain continued on or after POD3', 'HEP_BILELEAKAGE'] = False\n",
    "data.loc[data['HEP_BILELEAKAGE'] != False, 'HEP_BILELEAKAGE'] = True\n",
    "\n",
    "data['HEP_BILELEAKAGE'].value_counts()"
   ]
  },
  {
   "cell_type": "code",
   "execution_count": null,
   "metadata": {},
   "outputs": [
    {
     "data": {
      "text/plain": [
       "False    0.961973\n",
       "True     0.038027\n",
       "Name: HEP_BILELEAKAGE, dtype: float64"
      ]
     },
     "execution_count": 17,
     "metadata": {},
     "output_type": "execute_result"
    }
   ],
   "source": [
    "data['HEP_BILELEAKAGE'].value_counts(normalize=True)"
   ]
  },
  {
   "cell_type": "code",
   "execution_count": null,
   "metadata": {},
   "outputs": [
    {
     "data": {
      "text/plain": [
       "HEP_DRAINS  HEP_BILELEAKAGE\n",
       "No          False              0.977790\n",
       "            True               0.022210\n",
       "Unknown     False              0.956522\n",
       "            True               0.043478\n",
       "Yes         False              0.942381\n",
       "            True               0.057619\n",
       "Name: HEP_BILELEAKAGE, dtype: float64"
      ]
     },
     "execution_count": 18,
     "metadata": {},
     "output_type": "execute_result"
    }
   ],
   "source": [
    "data.groupby('HEP_DRAINS')['HEP_BILELEAKAGE'].value_counts(normalize=True)"
   ]
  },
  {
   "cell_type": "code",
   "execution_count": null,
   "metadata": {},
   "outputs": [
    {
     "data": {
      "text/plain": [
       "CASEID\n",
       "4903256    3-Severe Disturb\n",
       "4905354    3-Severe Disturb\n",
       "4909128      2-Mild Disturb\n",
       "4919340      2-Mild Disturb\n",
       "4919479    3-Severe Disturb\n",
       "                 ...       \n",
       "7340721    3-Severe Disturb\n",
       "7340725      2-Mild Disturb\n",
       "7340756      2-Mild Disturb\n",
       "7340837    3-Severe Disturb\n",
       "7341071      2-Mild Disturb\n",
       "Name: ASACLAS, Length: 25403, dtype: category\n",
       "Categories (6, object): ['None assigned' < '1-No Disturb' < '2-Mild Disturb' < '3-Severe Disturb' < '4-Life Threat' < '5-Moribund']"
      ]
     },
     "execution_count": 19,
     "metadata": {},
     "output_type": "execute_result"
    }
   ],
   "source": [
    "#Cast ASA class as ordered categorical\n",
    "cat_type = CategoricalDtype(categories=['None assigned','1-No Disturb','2-Mild Disturb','3-Severe Disturb','4-Life Threat','5-Moribund'], ordered=True)\n",
    "data['ASACLAS'].astype(cat_type)\n"
   ]
  },
  {
   "cell_type": "code",
   "execution_count": null,
   "metadata": {},
   "outputs": [
    {
     "data": {
      "text/plain": [
       "CASEID\n",
       "4903256    52.0\n",
       "4905354    78.0\n",
       "4909128    35.0\n",
       "4919340    47.0\n",
       "4919479    74.0\n",
       "           ... \n",
       "7340721    73.0\n",
       "7340725    35.0\n",
       "7340756    71.0\n",
       "7340837    65.0\n",
       "7341071    76.0\n",
       "Name: AGE, Length: 25403, dtype: float64"
      ]
     },
     "execution_count": 20,
     "metadata": {},
     "output_type": "execute_result"
    }
   ],
   "source": [
    "#Convert 90+ to 91 and AGE to int32\n",
    "data.loc[data['AGE'] == '90+', 'AGE'] = 91\n",
    "pd.to_numeric(data['AGE'], downcast='integer')"
   ]
  },
  {
   "cell_type": "code",
   "execution_count": null,
   "metadata": {},
   "outputs": [
    {
     "data": {
      "text/plain": [
       "Open (planned)                                  18616\n",
       "Laparoscopic                                     3833\n",
       "Laparoscopic w/ open assist                      1239\n",
       "Laparoscopic w/ unplanned conversion to open      939\n",
       "Robotic                                           527\n",
       "Robotic w/ open assist                            125\n",
       "Robotic w/ unplanned conversion to open            58\n",
       "Hybrid                                             43\n",
       "Unknown                                             8\n",
       "Hybrid w/ open assist                               6\n",
       "Other MIS approach                                  3\n",
       "Other                                               3\n",
       "Hybrid w/ unplanned conversion to open              1\n",
       "Endoscopic w/ unplanned conversion to open          1\n",
       "Other MIS approach w/ open assist                   1\n",
       "Name: HEP_APPROACH, dtype: int64"
      ]
     },
     "execution_count": 21,
     "metadata": {},
     "output_type": "execute_result"
    }
   ],
   "source": [
    "data['HEP_APPROACH'].value_counts()"
   ]
  },
  {
   "cell_type": "code",
   "execution_count": null,
   "metadata": {},
   "outputs": [
    {
     "data": {
      "text/plain": [
       "Open (planned)                18616\n",
       "Laparoscopic                   5777\n",
       "Laparoscopic w/ conversion      999\n",
       "Unknown                          11\n",
       "Name: HEP_APPROACH, dtype: int64"
      ]
     },
     "execution_count": 22,
     "metadata": {},
     "output_type": "execute_result"
    }
   ],
   "source": [
    "data.loc[data['HEP_APPROACH'] == 'Laparoscopic', 'HEP_APPROACH'] = 'Laparoscopic'\n",
    "data.loc[data['HEP_APPROACH'] == 'Laparoscopic w/ open assist', 'HEP_APPROACH'] = 'Laparoscopic'\n",
    "data.loc[data['HEP_APPROACH'] == 'Laparoscopic w/ unplanned conversion to open', 'HEP_APPROACH'] = 'Laparoscopic w/ conversion'\n",
    "\n",
    "data.loc[data['HEP_APPROACH'] == 'Robotic', 'HEP_APPROACH'] = 'Laparoscopic'\n",
    "data.loc[data['HEP_APPROACH'] == 'Robotic w/ open assist', 'HEP_APPROACH'] = 'Laparoscopic'\n",
    "data.loc[data['HEP_APPROACH'] == 'Robotic w/ unplanned conversion to open', 'HEP_APPROACH'] = 'Laparoscopic w/ conversion'\n",
    "\n",
    "data.loc[data['HEP_APPROACH'] == 'NOTES', 'HEP_APPROACH'] = 'Laparoscopic'\n",
    "data.loc[data['HEP_APPROACH'] == 'NOTES w/ open assist', 'HEP_APPROACH'] = 'Laparoscopic w/ open assist'\n",
    "data.loc[data['HEP_APPROACH'] == 'NOTES w/ unplanned conversion to open', 'HEP_APPROACH'] = 'Laparoscopic w/ conversion'\n",
    "\n",
    "data.loc[data['HEP_APPROACH'] == 'Other MIS approach', 'HEP_APPROACH'] = 'Laparoscopic'\n",
    "data.loc[data['HEP_APPROACH'] == 'Other MIS approach w/ open assist', 'HEP_APPROACH'] = 'Laparoscopic'\n",
    "data.loc[data['HEP_APPROACH'] == 'Other MIS approach w/ unplanned conversion to open', 'HEP_APPROACH'] = 'Laparoscopic w/ conversion'\n",
    "\n",
    "data.loc[data['HEP_APPROACH'] == 'Hybrid', 'HEP_APPROACH'] = 'Laparoscopic'\n",
    "data.loc[data['HEP_APPROACH'] == 'Hybrid w/ open assist', 'HEP_APPROACH'] = 'Laparoscopic'\n",
    "data.loc[data['HEP_APPROACH'] == 'Hybrid w/ unplanned conversion to open', 'HEP_APPROACH'] = 'Laparoscopic w/ conversion'\n",
    "\n",
    "data.loc[data['HEP_APPROACH'] == 'SILS', 'HEP_APPROACH'] = 'Laparoscopic'\n",
    "\n",
    "data.loc[data['HEP_APPROACH'] == 'Other', 'HEP_APPROACH'] = 'Unknown'\n",
    "\n",
    "data.loc[data['HEP_APPROACH'] == 'Endoscopic w/ unplanned conversion to open', 'HEP_APPROACH'] = 'Laparoscopic w/ conversion'\n",
    "\n",
    "data['HEP_APPROACH'].value_counts()"
   ]
  },
  {
   "cell_type": "code",
   "execution_count": null,
   "metadata": {},
   "outputs": [
    {
     "data": {
      "text/plain": [
       "NaN                                                                                                    17875\n",
       "Preoperative systemic chemotherapy                                                                      6038\n",
       "Portal vein embolization                                                                                 470\n",
       "Preoperative systemic chemotherapy,Portal vein embolization                                              331\n",
       "Other type                                                                                               210\n",
       "Locoregional interarterial infusion                                                                      150\n",
       "Preoperative systemic chemotherapy,Other type                                                             77\n",
       "Locoregional liver ablation                                                                               73\n",
       "Preoperative systemic chemotherapy,Locoregional liver ablation                                            56\n",
       "Preoperative systemic chemotherapy,Locoregional interarterial infusion                                    31\n",
       "Locoregional interarterial infusion,Portal vein embolization                                              20\n",
       "Preoperative systemic chemotherapy,Locoregional liver ablation,Portal vein embolization                   16\n",
       "Portal vein embolization,Other type                                                                       13\n",
       "Preoperative systemic chemotherapy,Locoregional interarterial infusion,Portal vein embolization           11\n",
       "Locoregional liver ablation,Portal vein embolization                                                      10\n",
       "Locoregional liver ablation,Other type                                                                     7\n",
       "Locoregional interarterial infusion,Other type                                                             4\n",
       "Preoperative systemic chemotherapy,Portal vein embolization,Other type                                     4\n",
       "Locoregional interarterial infusion,Locoregional liver ablation                                            3\n",
       "Preoperative systemic chemotherapy,Locoregional liver ablation,Other type                                  1\n",
       "Locoregional interarterial infusion,Locoregional liver ablation,Portal vein embolization                   1\n",
       "Locoregional interarterial infusion,Locoregional liver ablation,Portal vein embolization,Other type        1\n",
       "Preoperative systemic chemotherapy,Locoregional interarterial infusion,Locoregional liver ablation         1\n",
       "Name: HEP_NEOTHERAPY_140101, dtype: int64"
      ]
     },
     "execution_count": 23,
     "metadata": {},
     "output_type": "execute_result"
    }
   ],
   "source": [
    "data['HEP_NEOTHERAPY_140101'].value_counts(dropna=False)"
   ]
  },
  {
   "cell_type": "code",
   "execution_count": null,
   "metadata": {},
   "outputs": [],
   "source": [
    "data['CHEMO'] = 0\n",
    "data['EMBO'] = 0\n",
    "data['INFU'] = 0\n",
    "data['ABLA'] = 0"
   ]
  },
  {
   "cell_type": "code",
   "execution_count": null,
   "metadata": {},
   "outputs": [],
   "source": [
    "data['HEP_NEOTHERAPY_140101'] = data['HEP_NEOTHERAPY_140101'].fillna('unknown')"
   ]
  },
  {
   "cell_type": "code",
   "execution_count": null,
   "metadata": {},
   "outputs": [],
   "source": [
    "data['HEP_NEOTHERAPY_140101'] = data['HEP_NEOTHERAPY_140101'].fillna('unknown')"
   ]
  },
  {
   "cell_type": "code",
   "execution_count": null,
   "metadata": {},
   "outputs": [
    {
     "data": {
      "text/plain": [
       "0    24526\n",
       "1      877\n",
       "Name: EMBO, dtype: int64"
      ]
     },
     "execution_count": 27,
     "metadata": {},
     "output_type": "execute_result"
    }
   ],
   "source": [
    "data.loc[data['HEP_NEOTHERAPY_140101'].str.contains('Portal vein embolization'), 'EMBO'] = 1\n",
    "data['EMBO'].value_counts()"
   ]
  },
  {
   "cell_type": "code",
   "execution_count": null,
   "metadata": {},
   "outputs": [
    {
     "data": {
      "text/plain": [
       "0    18837\n",
       "1     6566\n",
       "Name: CHEMO, dtype: int64"
      ]
     },
     "execution_count": 28,
     "metadata": {},
     "output_type": "execute_result"
    }
   ],
   "source": [
    "data.loc[data['HEP_NEOTHERAPY_140101'].str.contains('Preoperative systemic chemotherapy'), 'CHEMO'] = 1\n",
    "data['CHEMO'].value_counts()"
   ]
  },
  {
   "cell_type": "code",
   "execution_count": null,
   "metadata": {},
   "outputs": [
    {
     "data": {
      "text/plain": [
       "0    25181\n",
       "1      222\n",
       "Name: INFU, dtype: int64"
      ]
     },
     "execution_count": 29,
     "metadata": {},
     "output_type": "execute_result"
    }
   ],
   "source": [
    "data.loc[data['HEP_NEOTHERAPY_140101'].str.contains('Locoregional interarterial infusion'), 'INFU'] = 1\n",
    "data['INFU'].value_counts()"
   ]
  },
  {
   "cell_type": "code",
   "execution_count": null,
   "metadata": {},
   "outputs": [
    {
     "data": {
      "text/plain": [
       "0    25234\n",
       "1      169\n",
       "Name: ABLA, dtype: int64"
      ]
     },
     "execution_count": 30,
     "metadata": {},
     "output_type": "execute_result"
    }
   ],
   "source": [
    "data.loc[data['HEP_NEOTHERAPY_140101'].str.contains('Locoregional liver ablation'), 'ABLA'] = 1\n",
    "data['ABLA'].value_counts()"
   ]
  },
  {
   "cell_type": "code",
   "execution_count": null,
   "metadata": {},
   "outputs": [],
   "source": [
    "data = data.drop(['HEP_NEOTHERAPY_140101'], axis=1)"
   ]
  },
  {
   "cell_type": "code",
   "execution_count": null,
   "metadata": {},
   "outputs": [],
   "source": [
    "data.loc[data['HEP_CON_ABLATION_140101'] == 'RFA ablation,Microwave ablation', 'HEP_CON_ABLATION_140101'] = 'RFA ablation'\n",
    "data.loc[data['HEP_CON_ABLATION_140101'] == 'Microwave ablation,Other ablation', 'HEP_CON_ABLATION_140101'] = 'Microwave ablation'\n",
    "\n",
    "data.loc[data['HEP_CON_ABLATION_140101'] == 'RFA ablation,Other ablation', 'HEP_CON_ABLATION_140101'] = 'RFA ablation'\n",
    "data.loc[data['HEP_CON_ABLATION_140101'] == 'RFA ablation,Microwave ablation', 'HEP_CON_ABLATION_140101'] = 'RFA ablation'\n",
    "data.loc[data['HEP_CON_ABLATION_140101'] == 'RFA ablation,Alcohol ablation', 'HEP_CON_ABLATION_140101'] = 'RFA ablation'\n",
    "data.loc[data['HEP_CON_ABLATION_140101'] == 'Microwave ablation,Alcohol ablation', 'HEP_CON_ABLATION_140101'] = 'Microwave ablation'\n",
    "data.loc[data['HEP_CON_ABLATION_140101'] == 'RFA ablation,Cryoablation', 'HEP_CON_ABLATION_140101'] = 'Microwave ablation'\n"
   ]
  },
  {
   "cell_type": "code",
   "execution_count": null,
   "metadata": {},
   "outputs": [
    {
     "data": {
      "text/plain": [
       "RFA ablation          1583\n",
       "Microwave ablation    1443\n",
       "Other ablation         259\n",
       "Alcohol ablation        15\n",
       "Cryoablation            13\n",
       "Name: HEP_CON_ABLATION_140101, dtype: int64"
      ]
     },
     "execution_count": 33,
     "metadata": {},
     "output_type": "execute_result"
    }
   ],
   "source": [
    "data['HEP_CON_ABLATION_140101'].value_counts()"
   ]
  },
  {
   "cell_type": "code",
   "execution_count": null,
   "metadata": {},
   "outputs": [
    {
     "data": {
      "text/plain": [
       "0          12688\n",
       "1           6822\n",
       "2           3011\n",
       "3+          2512\n",
       "Unknown      370\n",
       "Name: HEP_CON_PARTRES, dtype: int64"
      ]
     },
     "execution_count": 34,
     "metadata": {},
     "output_type": "execute_result"
    }
   ],
   "source": [
    "data.loc[data['HEP_CON_PARTRES'] == '3', 'HEP_CON_PARTRES'] = '3+'\n",
    "data.loc[data['HEP_CON_PARTRES'] == '4', 'HEP_CON_PARTRES'] = '3+'\n",
    "data.loc[data['HEP_CON_PARTRES'] == '5', 'HEP_CON_PARTRES'] = '3+'\n",
    "data.loc[data['HEP_CON_PARTRES'] == '6', 'HEP_CON_PARTRES'] = '3+'\n",
    "data.loc[data['HEP_CON_PARTRES'] == '7', 'HEP_CON_PARTRES'] = '3+'\n",
    "data.loc[data['HEP_CON_PARTRES'] == '8', 'HEP_CON_PARTRES'] = '3+'\n",
    "data.loc[data['HEP_CON_PARTRES'] == '9', 'HEP_CON_PARTRES'] = '3+'\n",
    "data.loc[data['HEP_CON_PARTRES'] == '10 or more', 'HEP_CON_PARTRES'] = '3+'\n",
    "data['HEP_CON_PARTRES'].value_counts()"
   ]
  },
  {
   "cell_type": "code",
   "execution_count": 35,
   "metadata": {},
   "outputs": [],
   "source": [
    "data.to_csv(r'/home/kchen/Documents/leak/Other/Data/hep/clean_hep.csv')"
   ]
  },
  {
   "cell_type": "code",
   "execution_count": 1,
   "metadata": {},
   "outputs": [
    {
     "ename": "NameError",
     "evalue": "name 'pd' is not defined",
     "output_type": "error",
     "traceback": [
      "\u001b[0;31m---------------------------------------------------------------------------\u001b[0m",
      "\u001b[0;31mNameError\u001b[0m                                 Traceback (most recent call last)",
      "\u001b[0;32m<ipython-input-1-e7ef218f3140>\u001b[0m in \u001b[0;36m<module>\u001b[0;34m\u001b[0m\n\u001b[0;32m----> 1\u001b[0;31m \u001b[0mdata\u001b[0m \u001b[0;34m=\u001b[0m \u001b[0mpd\u001b[0m\u001b[0;34m.\u001b[0m\u001b[0mread_csv\u001b[0m\u001b[0;34m(\u001b[0m\u001b[0;34mr'/home/kchen/Documents/leak/old_leak/Other/Data/hep/clean_hep.csv'\u001b[0m\u001b[0;34m)\u001b[0m\u001b[0;34m\u001b[0m\u001b[0;34m\u001b[0m\u001b[0m\n\u001b[0m",
      "\u001b[0;31mNameError\u001b[0m: name 'pd' is not defined"
     ]
    }
   ],
   "source": [
    "data = pd.read_csv(r'/home/kchen/Documents/leak/old_leak/Other/Data/hep/clean_hep.csv')"
   ]
  },
  {
   "cell_type": "code",
   "execution_count": null,
   "metadata": {},
   "outputs": [
    {
     "data": {
      "text/html": [
       "<div>\n",
       "<style scoped>\n",
       "    .dataframe tbody tr th:only-of-type {\n",
       "        vertical-align: middle;\n",
       "    }\n",
       "\n",
       "    .dataframe tbody tr th {\n",
       "        vertical-align: top;\n",
       "    }\n",
       "\n",
       "    .dataframe thead th {\n",
       "        text-align: right;\n",
       "    }\n",
       "</style>\n",
       "<table border=\"1\" class=\"dataframe\">\n",
       "  <thead>\n",
       "    <tr style=\"text-align: right;\">\n",
       "      <th></th>\n",
       "      <th>0</th>\n",
       "    </tr>\n",
       "  </thead>\n",
       "  <tbody>\n",
       "    <tr>\n",
       "      <th>DOPERTOD</th>\n",
       "      <td>0.986261</td>\n",
       "    </tr>\n",
       "    <tr>\n",
       "      <th>PRPT</th>\n",
       "      <td>0.984254</td>\n",
       "    </tr>\n",
       "    <tr>\n",
       "      <th>HEP_LAPTHOR</th>\n",
       "      <td>0.948549</td>\n",
       "    </tr>\n",
       "    <tr>\n",
       "      <th>CONCPT1</th>\n",
       "      <td>0.921702</td>\n",
       "    </tr>\n",
       "    <tr>\n",
       "      <th>HEP_CON_ABLATION_140101</th>\n",
       "      <td>0.869582</td>\n",
       "    </tr>\n",
       "    <tr>\n",
       "      <th>HEP_PEAKCREAT</th>\n",
       "      <td>0.513916</td>\n",
       "    </tr>\n",
       "    <tr>\n",
       "      <th>PRPTT</th>\n",
       "      <td>0.368854</td>\n",
       "    </tr>\n",
       "    <tr>\n",
       "      <th>OTHERCPT1</th>\n",
       "      <td>0.280833</td>\n",
       "    </tr>\n",
       "    <tr>\n",
       "      <th>PRINR</th>\n",
       "      <td>0.136598</td>\n",
       "    </tr>\n",
       "    <tr>\n",
       "      <th>PRALBUM</th>\n",
       "      <td>0.121875</td>\n",
       "    </tr>\n",
       "    <tr>\n",
       "      <th>PRBUN</th>\n",
       "      <td>0.119277</td>\n",
       "    </tr>\n",
       "    <tr>\n",
       "      <th>PRALKPH</th>\n",
       "      <td>0.077825</td>\n",
       "    </tr>\n",
       "    <tr>\n",
       "      <th>PRBILI</th>\n",
       "      <td>0.074322</td>\n",
       "    </tr>\n",
       "    <tr>\n",
       "      <th>PRSODM</th>\n",
       "      <td>0.036807</td>\n",
       "    </tr>\n",
       "    <tr>\n",
       "      <th>PRCREAT</th>\n",
       "      <td>0.029249</td>\n",
       "    </tr>\n",
       "    <tr>\n",
       "      <th>PRPLATE</th>\n",
       "      <td>0.026493</td>\n",
       "    </tr>\n",
       "    <tr>\n",
       "      <th>PRWBC</th>\n",
       "      <td>0.025351</td>\n",
       "    </tr>\n",
       "    <tr>\n",
       "      <th>PRHCT</th>\n",
       "      <td>0.023304</td>\n",
       "    </tr>\n",
       "    <tr>\n",
       "      <th>BMI</th>\n",
       "      <td>0.010078</td>\n",
       "    </tr>\n",
       "    <tr>\n",
       "      <th>HEIGHT</th>\n",
       "      <td>0.009841</td>\n",
       "    </tr>\n",
       "  </tbody>\n",
       "</table>\n",
       "</div>"
      ],
      "text/plain": [
       "                                0\n",
       "DOPERTOD                 0.986261\n",
       "PRPT                     0.984254\n",
       "HEP_LAPTHOR              0.948549\n",
       "CONCPT1                  0.921702\n",
       "HEP_CON_ABLATION_140101  0.869582\n",
       "HEP_PEAKCREAT            0.513916\n",
       "PRPTT                    0.368854\n",
       "OTHERCPT1                0.280833\n",
       "PRINR                    0.136598\n",
       "PRALBUM                  0.121875\n",
       "PRBUN                    0.119277\n",
       "PRALKPH                  0.077825\n",
       "PRBILI                   0.074322\n",
       "PRSODM                   0.036807\n",
       "PRCREAT                  0.029249\n",
       "PRPLATE                  0.026493\n",
       "PRWBC                    0.025351\n",
       "PRHCT                    0.023304\n",
       "BMI                      0.010078\n",
       "HEIGHT                   0.009841"
      ]
     },
     "execution_count": 34,
     "metadata": {},
     "output_type": "execute_result"
    }
   ],
   "source": [
    "pd.DataFrame((data.isnull().sum()/len(data)).sort_values(ascending=False)).head(20)"
   ]
  },
  {
   "cell_type": "code",
   "execution_count": null,
   "metadata": {},
   "outputs": [],
   "source": [
    "drop = ['PRPT']\n",
    "data.drop(drop, axis=1, inplace=True)"
   ]
  },
  {
   "cell_type": "code",
   "execution_count": null,
   "metadata": {},
   "outputs": [],
   "source": [
    "drop = ['HEP_PEAKCREAT']\n",
    "data.drop(drop, axis=1, inplace=True)"
   ]
  },
  {
   "cell_type": "code",
   "execution_count": null,
   "metadata": {},
   "outputs": [],
   "source": [
    "drop = ['OUPNEUMO', 'CDARREST', 'CDMI', 'SUPINFEC', 'WNDINFD', 'ORGSPCSSI', 'URNINFEC', 'OTHDVT', 'PULEMBOL', 'RENAINSF', 'OPRENAFL', 'DEHIS', 'REINTUB', 'FAILWEAN', 'CNSCVA', 'OTHSYSEP', 'OTHBLEED', 'OTHSESHOCK', 'DOPERTOD']\n",
    "data.drop(drop, axis=1, inplace=True)"
   ]
  },
  {
   "cell_type": "code",
   "execution_count": null,
   "metadata": {},
   "outputs": [],
   "source": [
    "num_cols = []\n",
    "for col in data.columns:\n",
    "    if len(data[col].unique()) > 100:\n",
    "        num_cols.append(col)"
   ]
  },
  {
   "cell_type": "code",
   "execution_count": null,
   "metadata": {},
   "outputs": [],
   "source": [
    "num_cols = ['AGE','HEIGHT','WEIGHT', 'BMI','OPTIME','PRSODM','PRBUN','PRCREAT','PRALBUM','PRBILI','PRALKPH','PRWBC','PRHCT','PRPLATE','PRPTT','PRINR','OPTIME']"
   ]
  },
  {
   "cell_type": "code",
   "execution_count": null,
   "metadata": {},
   "outputs": [],
   "source": [
    "cat_cols = list(set(data.columns) - set(num_cols) - set('COL_ANASTOMOTIC'))"
   ]
  },
  {
   "cell_type": "code",
   "execution_count": null,
   "metadata": {},
   "outputs": [],
   "source": [
    "for col in cat_cols:\n",
    "    data[col].fillna(value='Unknown', inplace=True)"
   ]
  },
  {
   "cell_type": "code",
   "execution_count": null,
   "metadata": {},
   "outputs": [],
   "source": [
    "num_imputer = SimpleImputer(strategy = 'median')\n",
    "\n",
    "# Imputation for numeric:\n",
    "for ncol in num_cols:\n",
    "    data[ncol] = num_imputer.fit_transform(data[ncol].values.reshape(-1, 1))"
   ]
  },
  {
   "cell_type": "code",
   "execution_count": null,
   "metadata": {},
   "outputs": [],
   "source": [
    "for col in num_cols:\n",
    "    data[col] = RobustScaler().fit_transform(data[col].values.reshape(-1,1))"
   ]
  },
  {
   "cell_type": "code",
   "execution_count": null,
   "metadata": {},
   "outputs": [],
   "source": [
    "le=LabelEncoder()\n",
    "for col in cat_cols:\n",
    "        data[col] = le.fit_transform(data[col].astype(str))"
   ]
  },
  {
   "cell_type": "code",
   "execution_count": null,
   "metadata": {},
   "outputs": [
    {
     "data": {
      "text/html": [
       "<div>\n",
       "<style scoped>\n",
       "    .dataframe tbody tr th:only-of-type {\n",
       "        vertical-align: middle;\n",
       "    }\n",
       "\n",
       "    .dataframe tbody tr th {\n",
       "        vertical-align: top;\n",
       "    }\n",
       "\n",
       "    .dataframe thead th {\n",
       "        text-align: right;\n",
       "    }\n",
       "</style>\n",
       "<table border=\"1\" class=\"dataframe\">\n",
       "  <thead>\n",
       "    <tr style=\"text-align: right;\">\n",
       "      <th></th>\n",
       "      <th>CASEID</th>\n",
       "      <th>PRNCPTX</th>\n",
       "      <th>CPT</th>\n",
       "      <th>CONCPT1</th>\n",
       "      <th>OTHERCPT1</th>\n",
       "      <th>OPERYR</th>\n",
       "      <th>SEX</th>\n",
       "      <th>AGE</th>\n",
       "      <th>HEIGHT</th>\n",
       "      <th>WEIGHT</th>\n",
       "      <th>...</th>\n",
       "      <th>HEP_APPROACH</th>\n",
       "      <th>HEP_DRAINS</th>\n",
       "      <th>HEP_VIRAL</th>\n",
       "      <th>HEP_BILELEAKAGE</th>\n",
       "      <th>HEP_CON_PARTRES</th>\n",
       "      <th>BMI</th>\n",
       "      <th>CHEMO</th>\n",
       "      <th>EMBO</th>\n",
       "      <th>INFU</th>\n",
       "      <th>ABLA</th>\n",
       "    </tr>\n",
       "  </thead>\n",
       "  <tbody>\n",
       "    <tr>\n",
       "      <th>0</th>\n",
       "      <td>7646</td>\n",
       "      <td>1</td>\n",
       "      <td>2</td>\n",
       "      <td>317</td>\n",
       "      <td>473</td>\n",
       "      <td>2</td>\n",
       "      <td>1</td>\n",
       "      <td>52.0</td>\n",
       "      <td>1.4986</td>\n",
       "      <td>60.781328</td>\n",
       "      <td>...</td>\n",
       "      <td>2</td>\n",
       "      <td>2</td>\n",
       "      <td>3</td>\n",
       "      <td>0</td>\n",
       "      <td>0</td>\n",
       "      <td>27.064420</td>\n",
       "      <td>0</td>\n",
       "      <td>0</td>\n",
       "      <td>0</td>\n",
       "      <td>0</td>\n",
       "    </tr>\n",
       "    <tr>\n",
       "      <th>1</th>\n",
       "      <td>7653</td>\n",
       "      <td>0</td>\n",
       "      <td>0</td>\n",
       "      <td>317</td>\n",
       "      <td>473</td>\n",
       "      <td>2</td>\n",
       "      <td>2</td>\n",
       "      <td>78.0</td>\n",
       "      <td>1.7272</td>\n",
       "      <td>110.676448</td>\n",
       "      <td>...</td>\n",
       "      <td>0</td>\n",
       "      <td>0</td>\n",
       "      <td>3</td>\n",
       "      <td>0</td>\n",
       "      <td>1</td>\n",
       "      <td>37.099662</td>\n",
       "      <td>0</td>\n",
       "      <td>0</td>\n",
       "      <td>0</td>\n",
       "      <td>0</td>\n",
       "    </tr>\n",
       "    <tr>\n",
       "      <th>2</th>\n",
       "      <td>7665</td>\n",
       "      <td>0</td>\n",
       "      <td>0</td>\n",
       "      <td>317</td>\n",
       "      <td>266</td>\n",
       "      <td>2</td>\n",
       "      <td>1</td>\n",
       "      <td>35.0</td>\n",
       "      <td>1.6510</td>\n",
       "      <td>64.410064</td>\n",
       "      <td>...</td>\n",
       "      <td>2</td>\n",
       "      <td>2</td>\n",
       "      <td>3</td>\n",
       "      <td>1</td>\n",
       "      <td>3</td>\n",
       "      <td>23.629775</td>\n",
       "      <td>0</td>\n",
       "      <td>0</td>\n",
       "      <td>0</td>\n",
       "      <td>0</td>\n",
       "    </tr>\n",
       "    <tr>\n",
       "      <th>3</th>\n",
       "      <td>7705</td>\n",
       "      <td>0</td>\n",
       "      <td>0</td>\n",
       "      <td>317</td>\n",
       "      <td>291</td>\n",
       "      <td>2</td>\n",
       "      <td>2</td>\n",
       "      <td>47.0</td>\n",
       "      <td>1.7272</td>\n",
       "      <td>59.874144</td>\n",
       "      <td>...</td>\n",
       "      <td>2</td>\n",
       "      <td>2</td>\n",
       "      <td>3</td>\n",
       "      <td>0</td>\n",
       "      <td>1</td>\n",
       "      <td>20.070309</td>\n",
       "      <td>0</td>\n",
       "      <td>0</td>\n",
       "      <td>0</td>\n",
       "      <td>0</td>\n",
       "    </tr>\n",
       "    <tr>\n",
       "      <th>4</th>\n",
       "      <td>7706</td>\n",
       "      <td>0</td>\n",
       "      <td>0</td>\n",
       "      <td>317</td>\n",
       "      <td>473</td>\n",
       "      <td>2</td>\n",
       "      <td>2</td>\n",
       "      <td>74.0</td>\n",
       "      <td>1.6510</td>\n",
       "      <td>71.667536</td>\n",
       "      <td>...</td>\n",
       "      <td>2</td>\n",
       "      <td>0</td>\n",
       "      <td>2</td>\n",
       "      <td>0</td>\n",
       "      <td>1</td>\n",
       "      <td>26.292285</td>\n",
       "      <td>0</td>\n",
       "      <td>0</td>\n",
       "      <td>0</td>\n",
       "      <td>0</td>\n",
       "    </tr>\n",
       "  </tbody>\n",
       "</table>\n",
       "<p>5 rows × 91 columns</p>\n",
       "</div>"
      ],
      "text/plain": [
       "   CASEID  PRNCPTX  CPT  CONCPT1  OTHERCPT1  OPERYR  SEX   AGE  HEIGHT  \\\n",
       "0    7646        1    2      317        473       2    1  52.0  1.4986   \n",
       "1    7653        0    0      317        473       2    2  78.0  1.7272   \n",
       "2    7665        0    0      317        266       2    1  35.0  1.6510   \n",
       "3    7705        0    0      317        291       2    2  47.0  1.7272   \n",
       "4    7706        0    0      317        473       2    2  74.0  1.6510   \n",
       "\n",
       "       WEIGHT  ...  HEP_APPROACH  HEP_DRAINS  HEP_VIRAL  HEP_BILELEAKAGE  \\\n",
       "0   60.781328  ...             2           2          3                0   \n",
       "1  110.676448  ...             0           0          3                0   \n",
       "2   64.410064  ...             2           2          3                1   \n",
       "3   59.874144  ...             2           2          3                0   \n",
       "4   71.667536  ...             2           0          2                0   \n",
       "\n",
       "   HEP_CON_PARTRES        BMI  CHEMO  EMBO  INFU  ABLA  \n",
       "0                0  27.064420      0     0     0     0  \n",
       "1                1  37.099662      0     0     0     0  \n",
       "2                3  23.629775      0     0     0     0  \n",
       "3                1  20.070309      0     0     0     0  \n",
       "4                1  26.292285      0     0     0     0  \n",
       "\n",
       "[5 rows x 91 columns]"
      ]
     },
     "execution_count": 55,
     "metadata": {},
     "output_type": "execute_result"
    }
   ],
   "source": [
    "data.head()"
   ]
  },
  {
   "cell_type": "code",
   "execution_count": null,
   "metadata": {},
   "outputs": [],
   "source": [
    "data.to_csv('clean_hep.csv')"
   ]
  },
  {
   "cell_type": "code",
   "execution_count": null,
   "metadata": {},
   "outputs": [],
   "source": [
    "hep_cols = []\n",
    "for col in data.columns:\n",
    "    if col.startswith('HEP'):\n",
    "        hep_cols.append(col)\n"
   ]
  },
  {
   "cell_type": "code",
   "execution_count": null,
   "metadata": {},
   "outputs": [
    {
     "data": {
      "text/plain": [
       "['HEP_NEOADJ',\n",
       " 'HEP_RECON',\n",
       " 'HEP_CON_OP_ABLATION',\n",
       " 'HEP_LIVERTEXT',\n",
       " 'HEP_PEAKCREAT',\n",
       " 'HEP_PRINGLE',\n",
       " 'HEP_CON_ABLATION_140101',\n",
       " 'HEP_BILIARYSTENT',\n",
       " 'HEP_LAPTHOR',\n",
       " 'HEP_APPROACH',\n",
       " 'HEP_DRAINS',\n",
       " 'HEP_VIRAL',\n",
       " 'HEP_BILELEAKAGE',\n",
       " 'HEP_CON_PARTRES']"
      ]
     },
     "execution_count": 59,
     "metadata": {},
     "output_type": "execute_result"
    }
   ],
   "source": [
    "hep_cols"
   ]
  },
  {
   "cell_type": "code",
   "execution_count": null,
   "metadata": {},
   "outputs": [],
   "source": []
  }
 ],
 "metadata": {
  "interpreter": {
   "hash": "916dbcbb3f70747c44a77c7bcd40155683ae19c65e1c03b4aa3499c5328201f1"
  },
  "kernelspec": {
   "display_name": "Python 3.9.5 64-bit",
   "name": "python3"
  },
  "language_info": {
   "codemirror_mode": {
    "name": "ipython",
    "version": 3
   },
   "file_extension": ".py",
   "mimetype": "text/x-python",
   "name": "python",
   "nbconvert_exporter": "python",
   "pygments_lexer": "ipython3",
   "version": "3.9.5"
  },
  "orig_nbformat": 4
 },
 "nbformat": 4,
 "nbformat_minor": 2
}
