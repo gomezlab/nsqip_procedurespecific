{
 "cells": [
  {
   "cell_type": "code",
   "execution_count": 1,
   "metadata": {},
   "outputs": [
    {
     "name": "stdout",
     "output_type": "stream",
     "text": [
      "WARNING:tensorflow:From /home/kchen/.local/lib/python3.9/site-packages/tensorflow/python/compat/v2_compat.py:101: disable_resource_variables (from tensorflow.python.ops.variable_scope) is deprecated and will be removed in a future version.\n",
      "Instructions for updating:\n",
      "non-resource variables are not supported in the long term\n"
     ]
    }
   ],
   "source": [
    "import numpy as np\n",
    "import pandas as pd\n",
    "from sklearn.metrics import confusion_matrix, roc_auc_score, roc_curve, accuracy_score, auc, precision_recall_curve\n",
    "from sklearn.model_selection import train_test_split\n",
    "import tensorflow as tf\n",
    "import shap\n",
    "tf.compat.v1.disable_v2_behavior()"
   ]
  },
  {
   "cell_type": "code",
   "execution_count": 2,
   "metadata": {},
   "outputs": [],
   "source": [
    "pd.options.display.max_rows = 20\n",
    "pd.options.display.max_columns = 200\n",
    "data = pd.read_csv('clean_hep.csv', index_col='CASEID')\n",
    "data = data.drop(['Unnamed: 0'], axis=1)"
   ]
  },
  {
   "cell_type": "code",
   "execution_count": 3,
   "metadata": {},
   "outputs": [
    {
     "data": {
      "text/plain": [
       "Index(['PRNCPTX', 'CPT', 'CONCPT1', 'OTHERCPT1', 'OPERYR', 'SEX', 'AGE',\n",
       "       'HEIGHT', 'WEIGHT', 'RACE_NEW', 'ETHNICITY_HISPANIC', 'TRANST',\n",
       "       'WNDCLAS', 'ASACLAS', 'DIABETES', 'SMOKE', 'DYSPNEA', 'FNSTATUS2',\n",
       "       'VENTILAT', 'HXCOPD', 'ASCITES', 'HXCHF', 'HYPERMED', 'RENAFAIL',\n",
       "       'DIALYSIS', 'STEROID', 'WTLOSS', 'BLEEDDIS', 'TRANSFUS', 'PRSEPIS',\n",
       "       'PRSODM', 'PRBUN', 'PRCREAT', 'PRALBUM', 'PRBILI', 'PRALKPH', 'PRWBC',\n",
       "       'PRHCT', 'PRPLATE', 'PRPTT', 'PRINR', 'SEPSHOCKPATOS', 'SSSIPATOS',\n",
       "       'DSSIPATOS', 'OSSIPATOS', 'PNAPATOS', 'VENTPATOS', 'UTIPATOS',\n",
       "       'SEPSISPATOS', 'SEPSHOCKPATOS.1', 'OPTIME', 'OTHBLEED.1', 'HEP_NEOADJ',\n",
       "       'HEP_RECON', 'HEP_CON_OP_ABLATION', 'HEP_LIVERTEXT', 'HEP_PRINGLE',\n",
       "       'HEP_CON_ABLATION_140101', 'HEP_BILIARYSTENT', 'HEP_LAPTHOR',\n",
       "       'HEP_APPROACH', 'HEP_DRAINS', 'HEP_VIRAL', 'HEP_BILELEAKAGE',\n",
       "       'HEP_CON_PARTRES', 'BMI', 'CHEMO', 'EMBO', 'INFU', 'ABLA'],\n",
       "      dtype='object')"
      ]
     },
     "execution_count": 3,
     "metadata": {},
     "output_type": "execute_result"
    }
   ],
   "source": [
    "data.columns"
   ]
  },
  {
   "cell_type": "code",
   "execution_count": 4,
   "metadata": {},
   "outputs": [],
   "source": [
    "y_names=['HEP_BILELEAKAGE']"
   ]
  },
  {
   "cell_type": "code",
   "execution_count": 5,
   "metadata": {},
   "outputs": [],
   "source": [
    "cat = ['HEP_CON_OP_ABLATION',\n",
    " 'HEP_PRINGLE',\n",
    " 'HEP_APPROACH',\n",
    " 'HEP_CON_ABLATION_140101',\n",
    " 'HEP_VIRAL',\n",
    " 'HEP_RECON',\n",
    " 'HEP_LIVERTEXT',\n",
    " 'HEP_NEOADJ',\n",
    " 'HEP_BILIARYSTENT',\n",
    " 'HEP_CON_PARTRES',\n",
    " 'HEP_DRAINS',\n",
    " 'CHEMO',\n",
    " 'EMBO',\n",
    " 'INFU',\n",
    " 'ABLA'\n",
    "            ]\n",
    "cont = []\n",
    "features = cat + cont + y_names\n",
    "data = data[features]"
   ]
  },
  {
   "cell_type": "code",
   "execution_count": 6,
   "metadata": {},
   "outputs": [],
   "source": [
    "columns = {'Concurrent ablation':'HEP_CON_OP_ABLATION',\n",
    " 'Pringle maneuver':'HEP_PRINGLE',\n",
    " 'Approach':'HEP_APPROACH',\n",
    " 'Type of ablation':'HEP_CON_ABLATION_140101',\n",
    " 'Viral hepatitis':'HEP_VIRAL',\n",
    " 'Biliary reconstruction':'HEP_RECON',\n",
    " 'Liver texture':'HEP_LIVERTEXT',\n",
    " 'Neoadjuvant therapy':'HEP_NEOADJ',\n",
    " 'Biliary stent':'HEP_BILIARYSTENT',\n",
    "  '# of concurrent resections':'HEP_CON_PARTRES',\n",
    " 'Use of drain':'HEP_DRAINS',\n",
    " 'Neoadjuvant chemotherapy':'CHEMO',\n",
    " 'Neoadjuvant chemo-embolization':'EMBO',\n",
    " 'Neoadjuvant chemo-infusion':'INFU',\n",
    " 'Neoadjuvant ablation':'ABLA',}\n",
    "col = {value : key for key, value in columns.items()}\n",
    "data.rename(columns=col, errors='raise', inplace=True)"
   ]
  },
  {
   "cell_type": "code",
   "execution_count": 7,
   "metadata": {},
   "outputs": [
    {
     "data": {
      "text/html": [
       "<div>\n",
       "<style scoped>\n",
       "    .dataframe tbody tr th:only-of-type {\n",
       "        vertical-align: middle;\n",
       "    }\n",
       "\n",
       "    .dataframe tbody tr th {\n",
       "        vertical-align: top;\n",
       "    }\n",
       "\n",
       "    .dataframe thead th {\n",
       "        text-align: right;\n",
       "    }\n",
       "</style>\n",
       "<table border=\"1\" class=\"dataframe\">\n",
       "  <thead>\n",
       "    <tr style=\"text-align: right;\">\n",
       "      <th></th>\n",
       "      <th>Concurrent ablation</th>\n",
       "      <th>Pringle maneuver</th>\n",
       "      <th>Approach</th>\n",
       "      <th>Type of ablation</th>\n",
       "      <th>Viral hepatitis</th>\n",
       "      <th>Biliary reconstruction</th>\n",
       "      <th>Liver texture</th>\n",
       "      <th>Neoadjuvant therapy</th>\n",
       "      <th>Biliary stent</th>\n",
       "      <th># of concurrent resections</th>\n",
       "      <th>Use of drain</th>\n",
       "      <th>Neoadjuvant chemotherapy</th>\n",
       "      <th>Neoadjuvant chemo-embolization</th>\n",
       "      <th>Neoadjuvant chemo-infusion</th>\n",
       "      <th>Neoadjuvant ablation</th>\n",
       "      <th>HEP_BILELEAKAGE</th>\n",
       "    </tr>\n",
       "    <tr>\n",
       "      <th>CASEID</th>\n",
       "      <th></th>\n",
       "      <th></th>\n",
       "      <th></th>\n",
       "      <th></th>\n",
       "      <th></th>\n",
       "      <th></th>\n",
       "      <th></th>\n",
       "      <th></th>\n",
       "      <th></th>\n",
       "      <th></th>\n",
       "      <th></th>\n",
       "      <th></th>\n",
       "      <th></th>\n",
       "      <th></th>\n",
       "      <th></th>\n",
       "      <th></th>\n",
       "    </tr>\n",
       "  </thead>\n",
       "  <tbody>\n",
       "    <tr>\n",
       "      <th>7646</th>\n",
       "      <td>0</td>\n",
       "      <td>0</td>\n",
       "      <td>2</td>\n",
       "      <td>5</td>\n",
       "      <td>3</td>\n",
       "      <td>0</td>\n",
       "      <td>5</td>\n",
       "      <td>0</td>\n",
       "      <td>0</td>\n",
       "      <td>0</td>\n",
       "      <td>2</td>\n",
       "      <td>0</td>\n",
       "      <td>0</td>\n",
       "      <td>0</td>\n",
       "      <td>0</td>\n",
       "      <td>0</td>\n",
       "    </tr>\n",
       "    <tr>\n",
       "      <th>7653</th>\n",
       "      <td>0</td>\n",
       "      <td>1</td>\n",
       "      <td>0</td>\n",
       "      <td>5</td>\n",
       "      <td>3</td>\n",
       "      <td>0</td>\n",
       "      <td>2</td>\n",
       "      <td>0</td>\n",
       "      <td>0</td>\n",
       "      <td>1</td>\n",
       "      <td>0</td>\n",
       "      <td>0</td>\n",
       "      <td>0</td>\n",
       "      <td>0</td>\n",
       "      <td>0</td>\n",
       "      <td>0</td>\n",
       "    </tr>\n",
       "    <tr>\n",
       "      <th>7665</th>\n",
       "      <td>2</td>\n",
       "      <td>1</td>\n",
       "      <td>2</td>\n",
       "      <td>4</td>\n",
       "      <td>3</td>\n",
       "      <td>0</td>\n",
       "      <td>5</td>\n",
       "      <td>0</td>\n",
       "      <td>0</td>\n",
       "      <td>3</td>\n",
       "      <td>2</td>\n",
       "      <td>0</td>\n",
       "      <td>0</td>\n",
       "      <td>0</td>\n",
       "      <td>0</td>\n",
       "      <td>1</td>\n",
       "    </tr>\n",
       "    <tr>\n",
       "      <th>7705</th>\n",
       "      <td>0</td>\n",
       "      <td>1</td>\n",
       "      <td>2</td>\n",
       "      <td>5</td>\n",
       "      <td>3</td>\n",
       "      <td>0</td>\n",
       "      <td>5</td>\n",
       "      <td>0</td>\n",
       "      <td>0</td>\n",
       "      <td>1</td>\n",
       "      <td>2</td>\n",
       "      <td>0</td>\n",
       "      <td>0</td>\n",
       "      <td>0</td>\n",
       "      <td>0</td>\n",
       "      <td>0</td>\n",
       "    </tr>\n",
       "    <tr>\n",
       "      <th>7706</th>\n",
       "      <td>0</td>\n",
       "      <td>1</td>\n",
       "      <td>2</td>\n",
       "      <td>5</td>\n",
       "      <td>2</td>\n",
       "      <td>0</td>\n",
       "      <td>0</td>\n",
       "      <td>0</td>\n",
       "      <td>0</td>\n",
       "      <td>1</td>\n",
       "      <td>0</td>\n",
       "      <td>0</td>\n",
       "      <td>0</td>\n",
       "      <td>0</td>\n",
       "      <td>0</td>\n",
       "      <td>0</td>\n",
       "    </tr>\n",
       "  </tbody>\n",
       "</table>\n",
       "</div>"
      ],
      "text/plain": [
       "        Concurrent ablation  Pringle maneuver  Approach  Type of ablation  \\\n",
       "CASEID                                                                      \n",
       "7646                      0                 0         2                 5   \n",
       "7653                      0                 1         0                 5   \n",
       "7665                      2                 1         2                 4   \n",
       "7705                      0                 1         2                 5   \n",
       "7706                      0                 1         2                 5   \n",
       "\n",
       "        Viral hepatitis  Biliary reconstruction  Liver texture  \\\n",
       "CASEID                                                           \n",
       "7646                  3                       0              5   \n",
       "7653                  3                       0              2   \n",
       "7665                  3                       0              5   \n",
       "7705                  3                       0              5   \n",
       "7706                  2                       0              0   \n",
       "\n",
       "        Neoadjuvant therapy  Biliary stent  # of concurrent resections  \\\n",
       "CASEID                                                                   \n",
       "7646                      0              0                           0   \n",
       "7653                      0              0                           1   \n",
       "7665                      0              0                           3   \n",
       "7705                      0              0                           1   \n",
       "7706                      0              0                           1   \n",
       "\n",
       "        Use of drain  Neoadjuvant chemotherapy  \\\n",
       "CASEID                                           \n",
       "7646               2                         0   \n",
       "7653               0                         0   \n",
       "7665               2                         0   \n",
       "7705               2                         0   \n",
       "7706               0                         0   \n",
       "\n",
       "        Neoadjuvant chemo-embolization  Neoadjuvant chemo-infusion  \\\n",
       "CASEID                                                               \n",
       "7646                                 0                           0   \n",
       "7653                                 0                           0   \n",
       "7665                                 0                           0   \n",
       "7705                                 0                           0   \n",
       "7706                                 0                           0   \n",
       "\n",
       "        Neoadjuvant ablation  HEP_BILELEAKAGE  \n",
       "CASEID                                         \n",
       "7646                       0                0  \n",
       "7653                       0                0  \n",
       "7665                       0                1  \n",
       "7705                       0                0  \n",
       "7706                       0                0  "
      ]
     },
     "execution_count": 7,
     "metadata": {},
     "output_type": "execute_result"
    }
   ],
   "source": [
    "data.head()"
   ]
  },
  {
   "cell_type": "code",
   "execution_count": 9,
   "metadata": {},
   "outputs": [],
   "source": [
    "y = data['HEP_BILELEAKAGE']\n",
    "X = data.drop(['HEP_BILELEAKAGE'], axis=1)"
   ]
  },
  {
   "cell_type": "code",
   "execution_count": 10,
   "metadata": {},
   "outputs": [],
   "source": [
    "X_train, X_valid, y_train, y_valid = train_test_split(X, y, train_size=0.8, test_size=0.2, random_state=0)"
   ]
  },
  {
   "cell_type": "code",
   "execution_count": 10,
   "metadata": {},
   "outputs": [
    {
     "name": "stdout",
     "output_type": "stream",
     "text": [
      "WARNING:tensorflow:From /home/kchen/.local/lib/python3.9/site-packages/keras/layers/normalization/batch_normalization.py:520: _colocate_with (from tensorflow.python.framework.ops) is deprecated and will be removed in a future version.\n",
      "Instructions for updating:\n",
      "Colocations handled automatically by placer.\n",
      "Train on 20322 samples, validate on 5081 samples\n",
      "Epoch 1/200\n",
      "19968/20322 [============================>.] - ETA: 0s - loss: 0.4501 - Sensitivity: 0.1647 - tn: 16440.0000 - auc: 0.5090 - prc: 0.0422"
     ]
    },
    {
     "name": "stderr",
     "output_type": "stream",
     "text": [
      "`Model.state_updates` will be removed in a future version. This property should not be used in TensorFlow 2.0, as `updates` are applied automatically.\n"
     ]
    },
    {
     "name": "stdout",
     "output_type": "stream",
     "text": [
      "20322/20322 [==============================] - 1s 67us/sample - loss: 0.4462 - Sensitivity: 0.1638 - tn: 16774.0000 - auc: 0.5093 - prc: 0.0420 - val_loss: 0.4815 - val_Sensitivity: 0.0406 - val_tn: 4855.0000 - val_auc: 0.6677 - val_prc: 0.0890\n",
      "Epoch 2/200\n",
      "20322/20322 [==============================] - 0s 17us/sample - loss: 0.2363 - Sensitivity: 0.0377 - tn: 19207.0000 - auc: 0.5351 - prc: 0.0476 - val_loss: 0.3024 - val_Sensitivity: 0.0051 - val_tn: 4883.0000 - val_auc: 0.6343 - val_prc: 0.0810\n",
      "Epoch 3/200\n",
      "20322/20322 [==============================] - 0s 17us/sample - loss: 0.2247 - Sensitivity: 0.0494 - tn: 19298.0000 - auc: 0.5548 - prc: 0.0560 - val_loss: 0.2403 - val_Sensitivity: 0.0102 - val_tn: 4878.0000 - val_auc: 0.6354 - val_prc: 0.0873\n",
      "Epoch 4/200\n",
      "20322/20322 [==============================] - 0s 17us/sample - loss: 0.2145 - Sensitivity: 0.0533 - tn: 19319.0000 - auc: 0.5870 - prc: 0.0628 - val_loss: 0.2190 - val_Sensitivity: 0.0051 - val_tn: 4881.0000 - val_auc: 0.6318 - val_prc: 0.0828\n",
      "Epoch 5/200\n",
      "20322/20322 [==============================] - 0s 18us/sample - loss: 0.2077 - Sensitivity: 0.0403 - tn: 19341.0000 - auc: 0.5998 - prc: 0.0638 - val_loss: 0.2080 - val_Sensitivity: 0.0305 - val_tn: 4859.0000 - val_auc: 0.6372 - val_prc: 0.0883\n",
      "Epoch 6/200\n",
      "20322/20322 [==============================] - 0s 17us/sample - loss: 0.2095 - Sensitivity: 0.0455 - tn: 19362.0000 - auc: 0.5869 - prc: 0.0602 - val_loss: 0.2087 - val_Sensitivity: 0.0355 - val_tn: 4851.0000 - val_auc: 0.6368 - val_prc: 0.0880\n",
      "Epoch 7/200\n",
      "20322/20322 [==============================] - 0s 17us/sample - loss: 0.2062 - Sensitivity: 0.0312 - tn: 19375.0000 - auc: 0.5951 - prc: 0.0582 - val_loss: 0.2082 - val_Sensitivity: 0.0558 - val_tn: 4823.0000 - val_auc: 0.6409 - val_prc: 0.0894\n",
      "Epoch 8/200\n",
      "20322/20322 [==============================] - 0s 18us/sample - loss: 0.1990 - Sensitivity: 0.0351 - tn: 19375.0000 - auc: 0.6161 - prc: 0.0677 - val_loss: 0.2154 - val_Sensitivity: 0.0914 - val_tn: 4785.0000 - val_auc: 0.6386 - val_prc: 0.0922\n",
      "Epoch 9/200\n",
      "20322/20322 [==============================] - 0s 17us/sample - loss: 0.1996 - Sensitivity: 0.0338 - tn: 19382.0000 - auc: 0.6004 - prc: 0.0676 - val_loss: 0.2144 - val_Sensitivity: 0.1015 - val_tn: 4774.0000 - val_auc: 0.6385 - val_prc: 0.0948\n",
      "Epoch 10/200\n",
      "20322/20322 [==============================] - 0s 17us/sample - loss: 0.2004 - Sensitivity: 0.0247 - tn: 19401.0000 - auc: 0.5961 - prc: 0.0558 - val_loss: 0.2076 - val_Sensitivity: 0.1015 - val_tn: 4769.0000 - val_auc: 0.6472 - val_prc: 0.0886\n",
      "Epoch 11/200\n",
      "20322/20322 [==============================] - 0s 17us/sample - loss: 0.1915 - Sensitivity: 0.0364 - tn: 19390.0000 - auc: 0.6178 - prc: 0.0668 - val_loss: 0.2002 - val_Sensitivity: 0.0457 - val_tn: 4831.0000 - val_auc: 0.6408 - val_prc: 0.0901\n",
      "Epoch 12/200\n",
      "20322/20322 [==============================] - 0s 17us/sample - loss: 0.1935 - Sensitivity: 0.0286 - tn: 19408.0000 - auc: 0.6070 - prc: 0.0609 - val_loss: 0.2085 - val_Sensitivity: 0.0508 - val_tn: 4828.0000 - val_auc: 0.6413 - val_prc: 0.0898\n",
      "Epoch 13/200\n",
      "20322/20322 [==============================] - 0s 18us/sample - loss: 0.1867 - Sensitivity: 0.0247 - tn: 19431.0000 - auc: 0.6269 - prc: 0.0690 - val_loss: 0.2193 - val_Sensitivity: 0.0964 - val_tn: 4774.0000 - val_auc: 0.6408 - val_prc: 0.0896\n",
      "Epoch 14/200\n",
      "20322/20322 [==============================] - 0s 17us/sample - loss: 0.1869 - Sensitivity: 0.0169 - tn: 19421.0000 - auc: 0.6247 - prc: 0.0648 - val_loss: 0.2116 - val_Sensitivity: 0.0761 - val_tn: 4794.0000 - val_auc: 0.6455 - val_prc: 0.0899\n",
      "Epoch 15/200\n",
      "20322/20322 [==============================] - 0s 16us/sample - loss: 0.1833 - Sensitivity: 0.0338 - tn: 19455.0000 - auc: 0.6296 - prc: 0.0726 - val_loss: 0.2216 - val_Sensitivity: 0.1117 - val_tn: 4766.0000 - val_auc: 0.6453 - val_prc: 0.0887\n",
      "Epoch 16/200\n",
      "20322/20322 [==============================] - 0s 18us/sample - loss: 0.1814 - Sensitivity: 0.0182 - tn: 19458.0000 - auc: 0.6393 - prc: 0.0676 - val_loss: 0.2145 - val_Sensitivity: 0.0558 - val_tn: 4822.0000 - val_auc: 0.6436 - val_prc: 0.0873\n",
      "Epoch 17/200\n",
      "20322/20322 [==============================] - 0s 19us/sample - loss: 0.1788 - Sensitivity: 0.0143 - tn: 19470.0000 - auc: 0.6331 - prc: 0.0696 - val_loss: 0.2068 - val_Sensitivity: 0.0457 - val_tn: 4854.0000 - val_auc: 0.6449 - val_prc: 0.0900\n",
      "Epoch 18/200\n",
      "20322/20322 [==============================] - 0s 19us/sample - loss: 0.1739 - Sensitivity: 0.0169 - tn: 19465.0000 - auc: 0.6481 - prc: 0.0716 - val_loss: 0.2100 - val_Sensitivity: 0.0406 - val_tn: 4858.0000 - val_auc: 0.6434 - val_prc: 0.0887\n",
      "Epoch 19/200\n",
      "20322/20322 [==============================] - 0s 19us/sample - loss: 0.1725 - Sensitivity: 0.0104 - tn: 19488.0000 - auc: 0.6608 - prc: 0.0751 - val_loss: 0.2092 - val_Sensitivity: 0.0457 - val_tn: 4856.0000 - val_auc: 0.6440 - val_prc: 0.0889\n",
      "Epoch 20/200\n",
      "20322/20322 [==============================] - 0s 19us/sample - loss: 0.1707 - Sensitivity: 0.0117 - tn: 19498.0000 - auc: 0.6651 - prc: 0.0741 - val_loss: 0.2084 - val_Sensitivity: 0.0457 - val_tn: 4855.0000 - val_auc: 0.6475 - val_prc: 0.0946\n",
      "Epoch 21/200\n",
      "20322/20322 [==============================] - 1s 26us/sample - loss: 0.1730 - Sensitivity: 0.0169 - tn: 19493.0000 - auc: 0.6532 - prc: 0.0745 - val_loss: 0.2133 - val_Sensitivity: 0.0305 - val_tn: 4860.0000 - val_auc: 0.6474 - val_prc: 0.0886\n"
     ]
    },
    {
     "data": {
      "text/plain": [
       "<keras.callbacks.History at 0x7fa973d95b20>"
      ]
     },
     "execution_count": 10,
     "metadata": {},
     "output_type": "execute_result"
    }
   ],
   "source": [
    "input_shape = [X.shape[1]]\n",
    "model4 = tf.keras.models.Sequential()\n",
    "model4.add(tf.keras.layers.Flatten(input_shape=input_shape))\n",
    "model4.add(tf.keras.layers.BatchNormalization())\n",
    "for _ in range(2):\n",
    "    model4.add(tf.keras.layers.Dense(1000))\n",
    "    model4.add(tf.keras.layers.BatchNormalization())\n",
    "    model4.add(tf.keras.layers.Dropout(0.8))\n",
    "    model4.add(tf.keras.layers.Activation(\"relu\"))\n",
    "model4.add(tf.keras.layers.Dense(1, activation=\"sigmoid\"))\n",
    "\n",
    "opt = tf.keras.optimizers.Adam(learning_rate=3e-4)\n",
    "\n",
    "metrics = [tf.keras.metrics.Recall(name='Sensitivity'), tf.keras.metrics.TrueNegatives(name='tn'), tf.keras.metrics.AUC(name='auc'), tf.keras.metrics.AUC(name='prc', curve='PR')]\n",
    "\n",
    "model4.compile(\n",
    "    optimizer=opt,\n",
    "    loss=tf.keras.losses.BinaryCrossentropy(from_logits=False),\n",
    "    metrics=metrics,)\n",
    "\n",
    "early_stopping = tf.keras.callbacks.EarlyStopping(\n",
    "    patience=10,\n",
    "    min_delta=1e-6,\n",
    "    restore_best_weights=True,)\n",
    "model4.fit(X_train, y_train,\n",
    "    validation_data=(X_valid, y_valid),\n",
    "    batch_size=512,\n",
    "    epochs=200,\n",
    "    callbacks=[early_stopping])\n",
    "\n"
   ]
  },
  {
   "cell_type": "code",
   "execution_count": 11,
   "metadata": {},
   "outputs": [
    {
     "name": "stderr",
     "output_type": "stream",
     "text": [
      "keras is no longer supported, please use tf.keras instead.\n"
     ]
    },
    {
     "name": "stdout",
     "output_type": "stream",
     "text": [
      "WARNING:tensorflow:From /home/kchen/.local/lib/python3.9/site-packages/shap/explainers/tf_utils.py:28: The name tf.keras.backend.get_session is deprecated. Please use tf.compat.v1.keras.backend.get_session instead.\n",
      "\n"
     ]
    },
    {
     "data": {
      "image/png": "[encoded data removed]",
      "text/plain": [
       "<Figure size 576x540 with 1 Axes>"
      ]
     },
     "metadata": {
      "needs_background": "light"
     },
     "output_type": "display_data"
    }
   ],
   "source": [
    "import shap\n",
    "tf.config.list_physical_devices('GPU')\n",
    "explainer = shap.DeepExplainer(model4, X_train.sample(n=5000))\n",
    "shap_values = explainer.shap_values(X_valid.sample(n=5000).values)\n",
    "shap.summary_plot(shap_values, X_valid.sample(n=5000))"
   ]
  },
  {
   "cell_type": "code",
   "execution_count": 12,
   "metadata": {},
   "outputs": [
    {
     "data": {
      "text/html": [
       "<div>\n",
       "<style scoped>\n",
       "    .dataframe tbody tr th:only-of-type {\n",
       "        vertical-align: middle;\n",
       "    }\n",
       "\n",
       "    .dataframe tbody tr th {\n",
       "        vertical-align: top;\n",
       "    }\n",
       "\n",
       "    .dataframe thead th {\n",
       "        text-align: right;\n",
       "    }\n",
       "</style>\n",
       "<table border=\"1\" class=\"dataframe\">\n",
       "  <thead>\n",
       "    <tr style=\"text-align: right;\">\n",
       "      <th></th>\n",
       "      <th>col_name</th>\n",
       "      <th>feature_importance_vals</th>\n",
       "    </tr>\n",
       "  </thead>\n",
       "  <tbody>\n",
       "    <tr>\n",
       "      <th>5</th>\n",
       "      <td>Biliary reconstruction</td>\n",
       "      <td>0.027105</td>\n",
       "    </tr>\n",
       "    <tr>\n",
       "      <th>10</th>\n",
       "      <td>Use of drain</td>\n",
       "      <td>0.026326</td>\n",
       "    </tr>\n",
       "    <tr>\n",
       "      <th>1</th>\n",
       "      <td>Pringle maneuver</td>\n",
       "      <td>0.017309</td>\n",
       "    </tr>\n",
       "    <tr>\n",
       "      <th>8</th>\n",
       "      <td>Biliary stent</td>\n",
       "      <td>0.016111</td>\n",
       "    </tr>\n",
       "    <tr>\n",
       "      <th>3</th>\n",
       "      <td>Type of ablation</td>\n",
       "      <td>0.014046</td>\n",
       "    </tr>\n",
       "    <tr>\n",
       "      <th>2</th>\n",
       "      <td>Approach</td>\n",
       "      <td>0.013875</td>\n",
       "    </tr>\n",
       "    <tr>\n",
       "      <th>9</th>\n",
       "      <td># of concurrent resections</td>\n",
       "      <td>0.009265</td>\n",
       "    </tr>\n",
       "    <tr>\n",
       "      <th>4</th>\n",
       "      <td>Viral hepatitis</td>\n",
       "      <td>0.007257</td>\n",
       "    </tr>\n",
       "    <tr>\n",
       "      <th>12</th>\n",
       "      <td>Neoadjuvant chemo-embolization</td>\n",
       "      <td>0.006943</td>\n",
       "    </tr>\n",
       "    <tr>\n",
       "      <th>7</th>\n",
       "      <td>Neoadjuvant therapy</td>\n",
       "      <td>0.006747</td>\n",
       "    </tr>\n",
       "  </tbody>\n",
       "</table>\n",
       "</div>"
      ],
      "text/plain": [
       "                          col_name  feature_importance_vals\n",
       "5           Biliary reconstruction                 0.027105\n",
       "10                    Use of drain                 0.026326\n",
       "1                 Pringle maneuver                 0.017309\n",
       "8                    Biliary stent                 0.016111\n",
       "3                 Type of ablation                 0.014046\n",
       "2                         Approach                 0.013875\n",
       "9       # of concurrent resections                 0.009265\n",
       "4                  Viral hepatitis                 0.007257\n",
       "12  Neoadjuvant chemo-embolization                 0.006943\n",
       "7              Neoadjuvant therapy                 0.006747"
      ]
     },
     "execution_count": 12,
     "metadata": {},
     "output_type": "execute_result"
    }
   ],
   "source": [
    "shap_values[0].shape\n",
    "vals = np.abs(shap_values[0]).mean(0)\n",
    "feature_names = X_train.columns\n",
    "feature_importance = pd.DataFrame(list(zip(feature_names, vals)),\n",
    "                                  columns=['col_name','feature_importance_vals'])\n",
    "feature_importance.sort_values(by=['feature_importance_vals'],\n",
    "                               ascending=False, inplace=True)\n",
    "feature_importance.head(10)"
   ]
  },
  {
   "cell_type": "code",
   "execution_count": 13,
   "metadata": {},
   "outputs": [],
   "source": [
    "feature_importance.to_excel('shap_hep.xlsx')"
   ]
  },
  {
   "cell_type": "markdown",
   "metadata": {},
   "source": [
    "mapping = {'PAN_JAUNDICE':'Jaundice', 'PAN_BILIARYSTENT':'Biliary stent', 'PAN_CHEMO':'Chemotherapy', 'PAN_RADIO':'Radiation therapy', 'PAN_INTRA_ANTIBIOTICS':'Antibiotic',  'PAN_DUCTSIZE':'Duct size', 'PAN_GLANDTEXT':'Gland texture', 'PAN_RECONSTRUCTION':'Reconstruction',  'PAN_DRAINS':'Drains', 'PAN_DRAINS_TYPE':'Drain location', 'PAN_DRAINSYS_TYPE':'Drain type', 'PAN_DRAINSYS_SUCTN':'Drain suction', 'PAN_RESECTION':'Vascular resection','PAN_AMYLASE_POD1':'Drain amylase (POD1)'}\n"
   ]
  },
  {
   "cell_type": "code",
   "execution_count": 11,
   "metadata": {},
   "outputs": [
    {
     "name": "stderr",
     "output_type": "stream",
     "text": [
      "lbfgs failed to converge (status=1):\n",
      "STOP: TOTAL NO. of ITERATIONS REACHED LIMIT.\n",
      "\n",
      "Increase the number of iterations (max_iter) or scale the data as shown in:\n",
      "    https://scikit-learn.org/stable/modules/preprocessing.html\n",
      "Please also refer to the documentation for alternative solver options:\n",
      "    https://scikit-learn.org/stable/modules/linear_model.html#logistic-regression\n"
     ]
    },
    {
     "data": {
      "text/plain": [
       "LogisticRegression()"
      ]
     },
     "execution_count": 11,
     "metadata": {},
     "output_type": "execute_result"
    }
   ],
   "source": [
    "from sklearn.linear_model import LogisticRegression\n",
    "lr = LogisticRegression()\n",
    "lr.fit(X_train, y_train)\n"
   ]
  },
  {
   "cell_type": "code",
   "execution_count": 12,
   "metadata": {},
   "outputs": [],
   "source": [
    "coef = lr.coef_\n",
    "coef.shape\n",
    "ors = np.exp(coef)\n",
    "ors = ors.squeeze()"
   ]
  },
  {
   "cell_type": "markdown",
   "metadata": {},
   "source": [
    "or_df = pd.DataFrame(ors, columns = X_train.columns)"
   ]
  },
  {
   "cell_type": "code",
   "execution_count": 14,
   "metadata": {},
   "outputs": [],
   "source": [
    "or_df = pd.DataFrame(list(zip(X_train.columns, ors)),columns=['col_name','odds ratio'])"
   ]
  },
  {
   "cell_type": "code",
   "execution_count": null,
   "metadata": {},
   "outputs": [],
   "source": [
    "or_df['diff'] = abs(1 - or_df['odds ratio'])\n",
    "or_df.sort_values(by='diff', ascending=False).to_excel('ors_hep.xlsx')"
   ]
  }
 ],
 "metadata": {
  "interpreter": {
   "hash": "916dbcbb3f70747c44a77c7bcd40155683ae19c65e1c03b4aa3499c5328201f1"
  },
  "kernelspec": {
   "display_name": "Python 3.9.5 64-bit",
   "name": "python3"
  },
  "language_info": {
   "codemirror_mode": {
    "name": "ipython",
    "version": 3
   },
   "file_extension": ".py",
   "mimetype": "text/x-python",
   "name": "python",
   "nbconvert_exporter": "python",
   "pygments_lexer": "ipython3",
   "version": "3.9.5"
  },
  "orig_nbformat": 4
 },
 "nbformat": 4,
 "nbformat_minor": 2
}
