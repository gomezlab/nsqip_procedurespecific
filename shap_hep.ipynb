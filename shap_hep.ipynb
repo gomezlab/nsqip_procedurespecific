{
 "cells": [
  {
   "cell_type": "code",
   "execution_count": 30,
   "metadata": {},
   "outputs": [],
   "source": [
    "import numpy as np\n",
    "import pandas as pd\n",
    "from sklearn.metrics import confusion_matrix, roc_auc_score, roc_curve, accuracy_score, auc, precision_recall_curve\n",
    "from sklearn.model_selection import train_test_split\n",
    "import tensorflow as tf\n",
    "import shap\n",
    "tf.compat.v1.disable_v2_behavior()"
   ]
  },
  {
   "cell_type": "code",
   "execution_count": 31,
   "metadata": {},
   "outputs": [],
   "source": [
    "pd.options.display.max_rows = 20\n",
    "pd.options.display.max_columns = 200\n",
    "data = pd.read_csv('clean_hep.csv', index_col='CASEID')\n",
    "data = data.drop(['Unnamed: 0'], axis=1)"
   ]
  },
  {
   "cell_type": "code",
   "execution_count": 32,
   "metadata": {},
   "outputs": [
    {
     "data": {
      "text/plain": [
       "Index(['PRNCPTX', 'CPT', 'CONCPT1', 'OTHERCPT1', 'OPERYR', 'SEX', 'AGE',\n",
       "       'HEIGHT', 'WEIGHT', 'RACE_NEW', 'ETHNICITY_HISPANIC', 'TRANST',\n",
       "       'WNDCLAS', 'ASACLAS', 'DIABETES', 'SMOKE', 'DYSPNEA', 'FNSTATUS2',\n",
       "       'VENTILAT', 'HXCOPD', 'ASCITES', 'HXCHF', 'HYPERMED', 'RENAFAIL',\n",
       "       'DIALYSIS', 'STEROID', 'WTLOSS', 'BLEEDDIS', 'TRANSFUS', 'PRSEPIS',\n",
       "       'PRSODM', 'PRBUN', 'PRCREAT', 'PRALBUM', 'PRBILI', 'PRALKPH', 'PRWBC',\n",
       "       'PRHCT', 'PRPLATE', 'PRPTT', 'PRINR', 'SEPSHOCKPATOS', 'SSSIPATOS',\n",
       "       'DSSIPATOS', 'OSSIPATOS', 'PNAPATOS', 'VENTPATOS', 'UTIPATOS',\n",
       "       'SEPSISPATOS', 'SEPSHOCKPATOS.1', 'OPTIME', 'OTHBLEED.1', 'HEP_NEOADJ',\n",
       "       'HEP_RECON', 'HEP_CON_OP_ABLATION', 'HEP_LIVERTEXT', 'HEP_PRINGLE',\n",
       "       'HEP_CON_ABLATION_140101', 'HEP_BILIARYSTENT', 'HEP_LAPTHOR',\n",
       "       'HEP_APPROACH', 'HEP_DRAINS', 'HEP_VIRAL', 'HEP_BILELEAKAGE',\n",
       "       'HEP_CON_PARTRES', 'BMI', 'CHEMO', 'EMBO', 'INFU', 'ABLA'],\n",
       "      dtype='object')"
      ]
     },
     "execution_count": 32,
     "metadata": {},
     "output_type": "execute_result"
    }
   ],
   "source": [
    "data.columns"
   ]
  },
  {
   "cell_type": "code",
   "execution_count": 34,
   "metadata": {},
   "outputs": [],
   "source": [
    "y_names=['HEP_BILELEAKAGE']"
   ]
  },
  {
   "cell_type": "code",
   "execution_count": 35,
   "metadata": {},
   "outputs": [],
   "source": [
    "cat = ['HEP_CON_OP_ABLATION',\n",
    " 'HEP_PRINGLE',\n",
    " 'HEP_APPROACH',\n",
    " 'HEP_CON_ABLATION_140101',\n",
    " 'HEP_VIRAL',\n",
    " 'HEP_RECON',\n",
    " 'HEP_LIVERTEXT',\n",
    " 'HEP_NEOADJ',\n",
    " 'HEP_BILIARYSTENT',\n",
    " 'HEP_CON_PARTRES',\n",
    " 'HEP_DRAINS',\n",
    " 'CHEMO',\n",
    " 'EMBO',\n",
    " 'INFU',\n",
    " 'ABLA'\n",
    "            ]\n",
    "cont = []"
   ]
  },
  {
   "cell_type": "code",
   "execution_count": 36,
   "metadata": {},
   "outputs": [],
   "source": [
    "features = cat + cont + y_names"
   ]
  },
  {
   "cell_type": "code",
   "execution_count": 37,
   "metadata": {},
   "outputs": [],
   "source": [
    "data = data[features]"
   ]
  },
  {
   "cell_type": "code",
   "execution_count": 38,
   "metadata": {},
   "outputs": [],
   "source": [
    "columns = {'Concurrent ablation':'HEP_CON_OP_ABLATION',\n",
    " 'Pringle maneuver':'HEP_PRINGLE',\n",
    " 'Approach':'HEP_APPROACH',\n",
    " 'Type of ablation':'HEP_CON_ABLATION_140101',\n",
    " 'Viral hepatitis':'HEP_VIRAL',\n",
    " 'Biliary reconstruction':'HEP_RECON',\n",
    " 'Liver texture':'HEP_LIVERTEXT',\n",
    " 'Neoadjuvant therapy':'HEP_NEOADJ',\n",
    " 'Biliary stent':'HEP_BILIARYSTENT',\n",
    "  '# of concurrent resections':'HEP_CON_PARTRES',\n",
    " 'Use of drain':'HEP_DRAINS',\n",
    " 'Neoadjuvant chemotherapy':'CHEMO',\n",
    " 'Neoadjuvant chemo-embolization':'EMBO',\n",
    " 'Neoadjuvant chemo-infusion':'INFU',\n",
    " 'Neoadjuvant ablation':'ABLA',}"
   ]
  },
  {
   "cell_type": "code",
   "execution_count": 39,
   "metadata": {},
   "outputs": [],
   "source": [
    "col = {value : key for key, value in columns.items()}"
   ]
  },
  {
   "cell_type": "code",
   "execution_count": 40,
   "metadata": {},
   "outputs": [],
   "source": [
    "data.rename(columns=col, errors='raise', inplace=True)"
   ]
  },
  {
   "cell_type": "code",
   "execution_count": 41,
   "metadata": {},
   "outputs": [
    {
     "data": {
      "text/html": [
       "<div>\n",
       "<style scoped>\n",
       "    .dataframe tbody tr th:only-of-type {\n",
       "        vertical-align: middle;\n",
       "    }\n",
       "\n",
       "    .dataframe tbody tr th {\n",
       "        vertical-align: top;\n",
       "    }\n",
       "\n",
       "    .dataframe thead th {\n",
       "        text-align: right;\n",
       "    }\n",
       "</style>\n",
       "<table border=\"1\" class=\"dataframe\">\n",
       "  <thead>\n",
       "    <tr style=\"text-align: right;\">\n",
       "      <th></th>\n",
       "      <th>Concurrent ablation</th>\n",
       "      <th>Pringle maneuver</th>\n",
       "      <th>Approach</th>\n",
       "      <th>Type of ablation</th>\n",
       "      <th>Viral hepatitis</th>\n",
       "      <th>Biliary reconstruction</th>\n",
       "      <th>Liver texture</th>\n",
       "      <th>Neoadjuvant therapy</th>\n",
       "      <th>Biliary stent</th>\n",
       "      <th># of concurrent resections</th>\n",
       "      <th>Use of drain</th>\n",
       "      <th>Neoadjuvant chemotherapy</th>\n",
       "      <th>Neoadjuvant chemo-embolization</th>\n",
       "      <th>Neoadjuvant chemo-infusion</th>\n",
       "      <th>Neoadjuvant ablation</th>\n",
       "      <th>HEP_BILELEAKAGE</th>\n",
       "    </tr>\n",
       "    <tr>\n",
       "      <th>CASEID</th>\n",
       "      <th></th>\n",
       "      <th></th>\n",
       "      <th></th>\n",
       "      <th></th>\n",
       "      <th></th>\n",
       "      <th></th>\n",
       "      <th></th>\n",
       "      <th></th>\n",
       "      <th></th>\n",
       "      <th></th>\n",
       "      <th></th>\n",
       "      <th></th>\n",
       "      <th></th>\n",
       "      <th></th>\n",
       "      <th></th>\n",
       "      <th></th>\n",
       "    </tr>\n",
       "  </thead>\n",
       "  <tbody>\n",
       "    <tr>\n",
       "      <th>7646</th>\n",
       "      <td>0</td>\n",
       "      <td>0</td>\n",
       "      <td>2</td>\n",
       "      <td>5</td>\n",
       "      <td>3</td>\n",
       "      <td>0</td>\n",
       "      <td>5</td>\n",
       "      <td>0</td>\n",
       "      <td>0</td>\n",
       "      <td>0</td>\n",
       "      <td>2</td>\n",
       "      <td>0</td>\n",
       "      <td>0</td>\n",
       "      <td>0</td>\n",
       "      <td>0</td>\n",
       "      <td>0</td>\n",
       "    </tr>\n",
       "    <tr>\n",
       "      <th>7653</th>\n",
       "      <td>0</td>\n",
       "      <td>1</td>\n",
       "      <td>0</td>\n",
       "      <td>5</td>\n",
       "      <td>3</td>\n",
       "      <td>0</td>\n",
       "      <td>2</td>\n",
       "      <td>0</td>\n",
       "      <td>0</td>\n",
       "      <td>1</td>\n",
       "      <td>0</td>\n",
       "      <td>0</td>\n",
       "      <td>0</td>\n",
       "      <td>0</td>\n",
       "      <td>0</td>\n",
       "      <td>0</td>\n",
       "    </tr>\n",
       "    <tr>\n",
       "      <th>7665</th>\n",
       "      <td>2</td>\n",
       "      <td>1</td>\n",
       "      <td>2</td>\n",
       "      <td>4</td>\n",
       "      <td>3</td>\n",
       "      <td>0</td>\n",
       "      <td>5</td>\n",
       "      <td>0</td>\n",
       "      <td>0</td>\n",
       "      <td>3</td>\n",
       "      <td>2</td>\n",
       "      <td>0</td>\n",
       "      <td>0</td>\n",
       "      <td>0</td>\n",
       "      <td>0</td>\n",
       "      <td>1</td>\n",
       "    </tr>\n",
       "    <tr>\n",
       "      <th>7705</th>\n",
       "      <td>0</td>\n",
       "      <td>1</td>\n",
       "      <td>2</td>\n",
       "      <td>5</td>\n",
       "      <td>3</td>\n",
       "      <td>0</td>\n",
       "      <td>5</td>\n",
       "      <td>0</td>\n",
       "      <td>0</td>\n",
       "      <td>1</td>\n",
       "      <td>2</td>\n",
       "      <td>0</td>\n",
       "      <td>0</td>\n",
       "      <td>0</td>\n",
       "      <td>0</td>\n",
       "      <td>0</td>\n",
       "    </tr>\n",
       "    <tr>\n",
       "      <th>7706</th>\n",
       "      <td>0</td>\n",
       "      <td>1</td>\n",
       "      <td>2</td>\n",
       "      <td>5</td>\n",
       "      <td>2</td>\n",
       "      <td>0</td>\n",
       "      <td>0</td>\n",
       "      <td>0</td>\n",
       "      <td>0</td>\n",
       "      <td>1</td>\n",
       "      <td>0</td>\n",
       "      <td>0</td>\n",
       "      <td>0</td>\n",
       "      <td>0</td>\n",
       "      <td>0</td>\n",
       "      <td>0</td>\n",
       "    </tr>\n",
       "  </tbody>\n",
       "</table>\n",
       "</div>"
      ],
      "text/plain": [
       "        Concurrent ablation  Pringle maneuver  Approach  Type of ablation  \\\n",
       "CASEID                                                                      \n",
       "7646                      0                 0         2                 5   \n",
       "7653                      0                 1         0                 5   \n",
       "7665                      2                 1         2                 4   \n",
       "7705                      0                 1         2                 5   \n",
       "7706                      0                 1         2                 5   \n",
       "\n",
       "        Viral hepatitis  Biliary reconstruction  Liver texture  \\\n",
       "CASEID                                                           \n",
       "7646                  3                       0              5   \n",
       "7653                  3                       0              2   \n",
       "7665                  3                       0              5   \n",
       "7705                  3                       0              5   \n",
       "7706                  2                       0              0   \n",
       "\n",
       "        Neoadjuvant therapy  Biliary stent  # of concurrent resections  \\\n",
       "CASEID                                                                   \n",
       "7646                      0              0                           0   \n",
       "7653                      0              0                           1   \n",
       "7665                      0              0                           3   \n",
       "7705                      0              0                           1   \n",
       "7706                      0              0                           1   \n",
       "\n",
       "        Use of drain  Neoadjuvant chemotherapy  \\\n",
       "CASEID                                           \n",
       "7646               2                         0   \n",
       "7653               0                         0   \n",
       "7665               2                         0   \n",
       "7705               2                         0   \n",
       "7706               0                         0   \n",
       "\n",
       "        Neoadjuvant chemo-embolization  Neoadjuvant chemo-infusion  \\\n",
       "CASEID                                                               \n",
       "7646                                 0                           0   \n",
       "7653                                 0                           0   \n",
       "7665                                 0                           0   \n",
       "7705                                 0                           0   \n",
       "7706                                 0                           0   \n",
       "\n",
       "        Neoadjuvant ablation  HEP_BILELEAKAGE  \n",
       "CASEID                                         \n",
       "7646                       0                0  \n",
       "7653                       0                0  \n",
       "7665                       0                1  \n",
       "7705                       0                0  \n",
       "7706                       0                0  "
      ]
     },
     "execution_count": 41,
     "metadata": {},
     "output_type": "execute_result"
    }
   ],
   "source": [
    "data.head()"
   ]
  },
  {
   "cell_type": "code",
   "execution_count": 45,
   "metadata": {},
   "outputs": [],
   "source": [
    "y = data['HEP_BILELEAKAGE']\n",
    "X = data.drop(['HEP_BILELEAKAGE'], axis=1)"
   ]
  },
  {
   "cell_type": "code",
   "execution_count": 46,
   "metadata": {},
   "outputs": [],
   "source": [
    "X_train, X_valid, y_train, y_valid = train_test_split(X, y, train_size=0.8, test_size=0.2, random_state=0)"
   ]
  },
  {
   "cell_type": "code",
   "execution_count": 47,
   "metadata": {},
   "outputs": [
    {
     "name": "stdout",
     "output_type": "stream",
     "text": [
      "Train on 20322 samples, validate on 5081 samples\n",
      "Epoch 1/200\n",
      "20322/20322 [==============================] - 1s 35us/sample - loss: 0.7229 - Sensitivity: 0.3771 - tn: 13590.0000 - auc: 0.5365 - prc: 0.0470 - val_loss: 0.5770 - val_Sensitivity: 0.1015 - val_tn: 4791.0000 - val_auc: 0.6322 - val_prc: 0.0894\n",
      "Epoch 2/200\n",
      "20322/20322 [==============================] - 0s 10us/sample - loss: 0.3073 - Sensitivity: 0.0975 - tn: 18362.0000 - auc: 0.5143 - prc: 0.0438 - val_loss: 0.4605 - val_Sensitivity: 0.0102 - val_tn: 4881.0000 - val_auc: 0.6261 - val_prc: 0.0899\n",
      "Epoch 3/200\n",
      "20322/20322 [==============================] - 0s 10us/sample - loss: 0.2386 - Sensitivity: 0.0533 - tn: 19106.0000 - auc: 0.5281 - prc: 0.0480 - val_loss: 0.3922 - val_Sensitivity: 0.0203 - val_tn: 4862.0000 - val_auc: 0.6413 - val_prc: 0.0937\n",
      "Epoch 4/200\n",
      "20322/20322 [==============================] - 0s 11us/sample - loss: 0.2248 - Sensitivity: 0.0429 - tn: 19240.0000 - auc: 0.5505 - prc: 0.0522 - val_loss: 0.3280 - val_Sensitivity: 0.0102 - val_tn: 4881.0000 - val_auc: 0.6477 - val_prc: 0.0889\n",
      "Epoch 5/200\n",
      "20322/20322 [==============================] - 0s 9us/sample - loss: 0.2185 - Sensitivity: 0.0403 - tn: 19266.0000 - auc: 0.5764 - prc: 0.0523 - val_loss: 0.2798 - val_Sensitivity: 0.0051 - val_tn: 4884.0000 - val_auc: 0.6442 - val_prc: 0.0898\n",
      "Epoch 6/200\n",
      "20322/20322 [==============================] - 0s 10us/sample - loss: 0.2147 - Sensitivity: 0.0364 - tn: 19320.0000 - auc: 0.5647 - prc: 0.0574 - val_loss: 0.2524 - val_Sensitivity: 0.0051 - val_tn: 4884.0000 - val_auc: 0.6436 - val_prc: 0.0879\n",
      "Epoch 7/200\n",
      "20322/20322 [==============================] - 0s 10us/sample - loss: 0.2104 - Sensitivity: 0.0468 - tn: 19310.0000 - auc: 0.5943 - prc: 0.0644 - val_loss: 0.2311 - val_Sensitivity: 0.0051 - val_tn: 4884.0000 - val_auc: 0.6455 - val_prc: 0.0882\n",
      "Epoch 8/200\n",
      "20322/20322 [==============================] - 0s 10us/sample - loss: 0.2145 - Sensitivity: 0.0286 - tn: 19348.0000 - auc: 0.5702 - prc: 0.0527 - val_loss: 0.2165 - val_Sensitivity: 0.0051 - val_tn: 4884.0000 - val_auc: 0.6453 - val_prc: 0.0874\n",
      "Epoch 9/200\n",
      "20322/20322 [==============================] - 0s 11us/sample - loss: 0.2104 - Sensitivity: 0.0325 - tn: 19353.0000 - auc: 0.5821 - prc: 0.0542 - val_loss: 0.2110 - val_Sensitivity: 0.0051 - val_tn: 4881.0000 - val_auc: 0.6446 - val_prc: 0.0890\n",
      "Epoch 10/200\n",
      "20322/20322 [==============================] - 0s 10us/sample - loss: 0.2080 - Sensitivity: 0.0403 - tn: 19332.0000 - auc: 0.5954 - prc: 0.0574 - val_loss: 0.2110 - val_Sensitivity: 0.0203 - val_tn: 4875.0000 - val_auc: 0.6457 - val_prc: 0.0876\n",
      "Epoch 11/200\n",
      "20322/20322 [==============================] - 0s 9us/sample - loss: 0.1967 - Sensitivity: 0.0299 - tn: 19382.0000 - auc: 0.6224 - prc: 0.0656 - val_loss: 0.2015 - val_Sensitivity: 0.0203 - val_tn: 4873.0000 - val_auc: 0.6453 - val_prc: 0.0895\n",
      "Epoch 12/200\n",
      "20322/20322 [==============================] - 0s 10us/sample - loss: 0.2069 - Sensitivity: 0.0299 - tn: 19367.0000 - auc: 0.5831 - prc: 0.0569 - val_loss: 0.1994 - val_Sensitivity: 0.0203 - val_tn: 4871.0000 - val_auc: 0.6478 - val_prc: 0.0949\n",
      "Epoch 13/200\n",
      "20322/20322 [==============================] - 0s 9us/sample - loss: 0.1990 - Sensitivity: 0.0312 - tn: 19373.0000 - auc: 0.6133 - prc: 0.0627 - val_loss: 0.2019 - val_Sensitivity: 0.0254 - val_tn: 4852.0000 - val_auc: 0.6479 - val_prc: 0.0992\n",
      "Epoch 14/200\n",
      "20322/20322 [==============================] - 0s 9us/sample - loss: 0.2003 - Sensitivity: 0.0299 - tn: 19372.0000 - auc: 0.6083 - prc: 0.0606 - val_loss: 0.2032 - val_Sensitivity: 0.0254 - val_tn: 4846.0000 - val_auc: 0.6488 - val_prc: 0.0937\n",
      "Epoch 15/200\n",
      "20322/20322 [==============================] - 0s 10us/sample - loss: 0.1986 - Sensitivity: 0.0429 - tn: 19377.0000 - auc: 0.6087 - prc: 0.0646 - val_loss: 0.1971 - val_Sensitivity: 0.0254 - val_tn: 4861.0000 - val_auc: 0.6474 - val_prc: 0.0994\n",
      "Epoch 16/200\n",
      "20322/20322 [==============================] - 0s 10us/sample - loss: 0.1932 - Sensitivity: 0.0208 - tn: 19421.0000 - auc: 0.6252 - prc: 0.0616 - val_loss: 0.2016 - val_Sensitivity: 0.0457 - val_tn: 4833.0000 - val_auc: 0.6448 - val_prc: 0.0965\n",
      "Epoch 17/200\n",
      "20322/20322 [==============================] - 0s 10us/sample - loss: 0.1958 - Sensitivity: 0.0260 - tn: 19393.0000 - auc: 0.6091 - prc: 0.0613 - val_loss: 0.2048 - val_Sensitivity: 0.0508 - val_tn: 4830.0000 - val_auc: 0.6462 - val_prc: 0.0944\n",
      "Epoch 18/200\n",
      "20322/20322 [==============================] - 0s 19us/sample - loss: 0.1924 - Sensitivity: 0.0221 - tn: 19401.0000 - auc: 0.6294 - prc: 0.0661 - val_loss: 0.1996 - val_Sensitivity: 0.0508 - val_tn: 4847.0000 - val_auc: 0.6447 - val_prc: 0.0903\n"
     ]
    },
    {
     "data": {
      "text/plain": [
       "<keras.callbacks.History at 0x7f1810693c70>"
      ]
     },
     "execution_count": 47,
     "metadata": {},
     "output_type": "execute_result"
    }
   ],
   "source": [
    "input_shape = [X.shape[1]]\n",
    "model4 = tf.keras.models.Sequential()\n",
    "model4.add(tf.keras.layers.Flatten(input_shape=input_shape))\n",
    "model4.add(tf.keras.layers.BatchNormalization())\n",
    "for _ in range(2):\n",
    "    model4.add(tf.keras.layers.Dense(1000))\n",
    "    model4.add(tf.keras.layers.BatchNormalization())\n",
    "    model4.add(tf.keras.layers.Dropout(0.8))\n",
    "    model4.add(tf.keras.layers.Activation(\"relu\"))\n",
    "model4.add(tf.keras.layers.Dense(1, activation=\"sigmoid\"))\n",
    "\n",
    "opt = tf.keras.optimizers.Adam(learning_rate=3e-4)\n",
    "\n",
    "metrics = [tf.keras.metrics.Recall(name='Sensitivity'), tf.keras.metrics.TrueNegatives(name='tn'), tf.keras.metrics.AUC(name='auc'), tf.keras.metrics.AUC(name='prc', curve='PR')]\n",
    "\n",
    "model4.compile(\n",
    "    optimizer=opt,\n",
    "    loss=tf.keras.losses.BinaryCrossentropy(from_logits=False),\n",
    "    metrics=metrics,)\n",
    "\n",
    "early_stopping = tf.keras.callbacks.EarlyStopping(\n",
    "    patience=3,\n",
    "    min_delta=0.0001,\n",
    "    restore_best_weights=True,)\n",
    "model4.fit(X_train, y_train,\n",
    "    validation_data=(X_valid, y_valid),\n",
    "    batch_size=1024,\n",
    "    epochs=200,\n",
    "    callbacks=[early_stopping])\n",
    "\n"
   ]
  },
  {
   "cell_type": "code",
   "execution_count": 48,
   "metadata": {},
   "outputs": [
    {
     "data": {
      "image/png": "[encoded data removed]",
      "text/plain": [
       "<Figure size 576x540 with 1 Axes>"
      ]
     },
     "metadata": {
      "needs_background": "light"
     },
     "output_type": "display_data"
    }
   ],
   "source": [
    "\n",
    "import shap\n",
    "tf.config.list_physical_devices('GPU')\n",
    "explainer = shap.DeepExplainer(model4, X_train.sample(n=5000))\n",
    "shap_values = explainer.shap_values(X_valid.sample(n=5000).values)\n",
    "shap.summary_plot(shap_values, X_valid.sample(n=5000))"
   ]
  }
 ],
 "metadata": {
  "interpreter": {
   "hash": "916dbcbb3f70747c44a77c7bcd40155683ae19c65e1c03b4aa3499c5328201f1"
  },
  "kernelspec": {
   "display_name": "Python 3.9.5 64-bit",
   "name": "python3"
  },
  "language_info": {
   "codemirror_mode": {
    "name": "ipython",
    "version": 3
   },
   "file_extension": ".py",
   "mimetype": "text/x-python",
   "name": "python",
   "nbconvert_exporter": "python",
   "pygments_lexer": "ipython3",
   "version": "3.9.5"
  },
  "orig_nbformat": 4
 },
 "nbformat": 4,
 "nbformat_minor": 2
}
